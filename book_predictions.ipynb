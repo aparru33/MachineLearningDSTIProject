{
 "cells": [
  {
   "cell_type": "markdown",
   "id": "c6e24210",
   "metadata": {},
   "source": [
    "# Books recommendation system"
   ]
  },
  {
   "cell_type": "markdown",
   "id": "c545966e",
   "metadata": {},
   "source": [
    "Recommender systems are common in our daily lives, being used by companies like Amazon to suggest products to purchase and by streaming services to recommend movies or TV shows to watch. In this project  we will build a book recommendation system  to provide personalized book suggestions to our users.\n",
    "\n",
    "After a brief introduction to recommendation systems, we will export the cleaned and explored data from our previous Jupyter notebook and begin building our model.\n",
    "\n",
    "A recommendation system is a type of information filtering system that suggests the most relevant items to a particular user or customer. There are various types of recommendation systems, including collaborative filtering, content-based systems, and knowledge-based recommendation systems. These systems utilize different techniques to analyze user data and generate personalized recommendations based on factors such as user preferences, behavior, and past interactions.\n",
    "\n",
    "Collaborative filtering: generates recommendations based on the interests of similar users. This method requires historical activity data for the users. For this project we will be using users' past book rating. Collaborative filtering algorithms can be user-based or item-based. User-based algorithms recommend items to a user based on the preferences of similar users, while item-based algorithms recommend items based on the past ratings of similar items by the user.\n",
    "   * Baseline Estimates: are used in collaborative filtering to give as a baseline prediction for the user-item interaction (like ratin. The baseline estimate can be calculated as follows:\n",
    "       Baseline estimate = Global mean rating + User bias + Item bias\n",
    "   * K-Nearest Neighbors (KNN) is one  of the basic  algorithms used in collaborative filtering algorithm. The way the algorithm work by computing the K-nearest neighbors of a given user or item based on their past rating and then using their ratings to predict the rating of an unrated item or to generate a list of recommended items. This approach could be simple and effective but has some limitation like scaling to large dataset. To address these challenges and improve recommendation other collaborative filtering algorithm have been developed, such as Singular Value Decomposition (SVD) base on matrix factorization.\n",
    "\n",
    "   * Singular Value Decomposition (SVD) is a popular matrix factorization algorithm used in recommendation systems. It decomposes the user-item rating matrix into three matrices that capture the underlying structure of the data. SVD has proved to be effective in many recommendation applications and  was one of the main algorithms used by the winning team of the Netflix Prize competition. However, This algrothim also have it's limitaions. SVS suffer r form scalability problem because a facortizaing of large matrices need large amount of computational resources.\n",
    "\n",
    "Content-based systems: suggest similar items based on a particular item metadata. The general idea behind these recommender systems is that if a person liked a particular item, they will also like an item that is similar to it. However, the only metadata we have about the books in our dataset is the title, author, and country, which is very limited. A good metadata for content-based systems would be the genres and  summary the the book, but unfortunately, we do not have that information. Additionally, this method is computationally expensive, which further limits its use. For these reasons, we will only use collaborative filtering in our book recommendation system."
   ]
  },
  {
   "cell_type": "markdown",
   "id": "65e8f753",
   "metadata": {},
   "source": [
    "# Loading the data"
   ]
  },
  {
   "cell_type": "code",
   "execution_count": 1,
   "id": "cdbc6941",
   "metadata": {},
   "outputs": [],
   "source": [
    "import pandas as pd\n",
    "import numpy as np"
   ]
  },
  {
   "cell_type": "code",
   "execution_count": 2,
   "id": "8a2dded8",
   "metadata": {},
   "outputs": [],
   "source": [
    "path=\"./dataset/\"\n",
    "file=\"final_dataset.csv\"\n",
    "users_csv=\"cleaned_users.csv\"\n",
    "books_csv=\"cleaned_books.csv\"\n",
    "ratings_csv=\"cleaned_ratings.csv\""
   ]
  },
  {
   "cell_type": "code",
   "execution_count": 3,
   "id": "f9db7fae",
   "metadata": {
    "scrolled": true
   },
   "outputs": [
    {
     "data": {
      "text/plain": "248251"
     },
     "execution_count": 3,
     "metadata": {},
     "output_type": "execute_result"
    }
   ],
   "source": [
    "books = pd.read_csv(path+books_csv, sep=\";\",on_bad_lines='warn', encoding=\"latin-1\")\n",
    "books.bookId.max()"
   ]
  },
  {
   "cell_type": "markdown",
   "id": "56beb2d9",
   "metadata": {},
   "source": [
    "## Building the model"
   ]
  },
  {
   "cell_type": "markdown",
   "id": "ddb810d0",
   "metadata": {},
   "source": [
    "We use the machine learning library `surprise` to build our recommender system. It's a library specialised in recommender system.  Unfortunately, we could not features such a user  age or the location. Because as only 4 features are supported: `user`, `item`, `rating` and `timestamp` to buidl recommender system. The age and location could have been usefull to better determine the similitude between two users or items in the case of algorithm using similitude like KNN, ."
   ]
  },
  {
   "cell_type": "markdown",
   "id": "158b2563",
   "metadata": {},
   "source": [
    "We load the data into the data structure of the surprise library. For memory concern, we reduce the data to user having rated more than 5 books and book that have  more than 30 ratings."
   ]
  },
  {
   "cell_type": "code",
   "execution_count": 4,
   "id": "9d1d2133",
   "metadata": {},
   "outputs": [
    {
     "data": {
      "text/plain": "806"
     },
     "execution_count": 4,
     "metadata": {},
     "output_type": "execute_result"
    }
   ],
   "source": [
    "# Loads Pandas dataframe\n",
    "from surprise import Dataset\n",
    "from surprise import Reader\n",
    "#we reduce the size of the dataset by removing the user that rated less than 5 books and books\n",
    "#that have been rated less than 30 times\n",
    "df = pd.read_csv(path+file, sep=\";\",on_bad_lines='warn', encoding=\"latin-1\")\n",
    "df=df[df.userID.isin(df.userID.value_counts()[df.userID.value_counts()>5].index)][['userID','bookId','bookRating']]\n",
    "df=df[df.bookId.isin(df.bookId.value_counts()[df.bookId.value_counts()>30].index)][['userID','bookId','bookRating']]\n",
    "data = Dataset.load_from_df(df[['userID','bookId','bookRating']], Reader(line_format='user item rating', sep=\";\",rating_scale=(1, 10)))\n",
    "len(df.bookId.unique())"
   ]
  },
  {
   "cell_type": "code",
   "execution_count": 5,
   "id": "50d8afab",
   "metadata": {},
   "outputs": [
    {
     "data": {
      "text/plain": "   user_id  item_id  rating timestamp\n0       99       97     8.0      None\n1       99      102    10.0      None\n2       99      103     3.0      None\n3      114      119    10.0      None\n4      114      115     9.0      None",
      "text/html": "<div>\n<style scoped>\n    .dataframe tbody tr th:only-of-type {\n        vertical-align: middle;\n    }\n\n    .dataframe tbody tr th {\n        vertical-align: top;\n    }\n\n    .dataframe thead th {\n        text-align: right;\n    }\n</style>\n<table border=\"1\" class=\"dataframe\">\n  <thead>\n    <tr style=\"text-align: right;\">\n      <th></th>\n      <th>user_id</th>\n      <th>item_id</th>\n      <th>rating</th>\n      <th>timestamp</th>\n    </tr>\n  </thead>\n  <tbody>\n    <tr>\n      <th>0</th>\n      <td>99</td>\n      <td>97</td>\n      <td>8.0</td>\n      <td>None</td>\n    </tr>\n    <tr>\n      <th>1</th>\n      <td>99</td>\n      <td>102</td>\n      <td>10.0</td>\n      <td>None</td>\n    </tr>\n    <tr>\n      <th>2</th>\n      <td>99</td>\n      <td>103</td>\n      <td>3.0</td>\n      <td>None</td>\n    </tr>\n    <tr>\n      <th>3</th>\n      <td>114</td>\n      <td>119</td>\n      <td>10.0</td>\n      <td>None</td>\n    </tr>\n    <tr>\n      <th>4</th>\n      <td>114</td>\n      <td>115</td>\n      <td>9.0</td>\n      <td>None</td>\n    </tr>\n  </tbody>\n</table>\n</div>"
     },
     "execution_count": 5,
     "metadata": {},
     "output_type": "execute_result"
    }
   ],
   "source": [
    "##to see what is in the built in data of surprise\n",
    "d=pd.DataFrame(data.__dict__['raw_ratings'], columns=['user_id','item_id','rating','timestamp'])\n",
    "d.head()"
   ]
  },
  {
   "cell_type": "markdown",
   "id": "02bfdcd1",
   "metadata": {},
   "source": [
    "We will benchmark the different models using cross-validation after setting the seed of the random number generator for reproducible experiments. The performance of the models  will be measured using  Root Mean Square Error (RMSE)."
   ]
  },
  {
   "cell_type": "code",
   "execution_count": 6,
   "id": "bff64d68",
   "metadata": {},
   "outputs": [],
   "source": [
    "import random\n",
    "import numpy as np\n",
    "\n",
    "my_seed = 42\n",
    "random.seed(my_seed)\n",
    "np.random.seed(my_seed)"
   ]
  },
  {
   "cell_type": "code",
   "execution_count": 7,
   "id": "9be2acac",
   "metadata": {},
   "outputs": [
    {
     "data": {
      "text/plain": "               test_rmse  fit_time  test_time\nAlgorithm                                    \nSVD             1.592888  0.541810   0.114190\nBaselineOnly    1.594112  0.092994   0.041002\nSVDpp           1.604308  1.433597   0.303401\nKNNBaseline     1.688640  2.986839   0.887618\nCoClustering    1.709618  1.762398   0.040801\nKNNWithMeans    1.755192  1.298805   0.585795\nKNNWithZScore   1.760181  1.339193   0.618800\nKNNBasic        1.778996  1.274200   0.701051\nSlopeOne        1.862809  0.111399   0.128400",
      "text/html": "<div>\n<style scoped>\n    .dataframe tbody tr th:only-of-type {\n        vertical-align: middle;\n    }\n\n    .dataframe tbody tr th {\n        vertical-align: top;\n    }\n\n    .dataframe thead th {\n        text-align: right;\n    }\n</style>\n<table border=\"1\" class=\"dataframe\">\n  <thead>\n    <tr style=\"text-align: right;\">\n      <th></th>\n      <th>test_rmse</th>\n      <th>fit_time</th>\n      <th>test_time</th>\n    </tr>\n    <tr>\n      <th>Algorithm</th>\n      <th></th>\n      <th></th>\n      <th></th>\n    </tr>\n  </thead>\n  <tbody>\n    <tr>\n      <th>SVD</th>\n      <td>1.592888</td>\n      <td>0.541810</td>\n      <td>0.114190</td>\n    </tr>\n    <tr>\n      <th>BaselineOnly</th>\n      <td>1.594112</td>\n      <td>0.092994</td>\n      <td>0.041002</td>\n    </tr>\n    <tr>\n      <th>SVDpp</th>\n      <td>1.604308</td>\n      <td>1.433597</td>\n      <td>0.303401</td>\n    </tr>\n    <tr>\n      <th>KNNBaseline</th>\n      <td>1.688640</td>\n      <td>2.986839</td>\n      <td>0.887618</td>\n    </tr>\n    <tr>\n      <th>CoClustering</th>\n      <td>1.709618</td>\n      <td>1.762398</td>\n      <td>0.040801</td>\n    </tr>\n    <tr>\n      <th>KNNWithMeans</th>\n      <td>1.755192</td>\n      <td>1.298805</td>\n      <td>0.585795</td>\n    </tr>\n    <tr>\n      <th>KNNWithZScore</th>\n      <td>1.760181</td>\n      <td>1.339193</td>\n      <td>0.618800</td>\n    </tr>\n    <tr>\n      <th>KNNBasic</th>\n      <td>1.778996</td>\n      <td>1.274200</td>\n      <td>0.701051</td>\n    </tr>\n    <tr>\n      <th>SlopeOne</th>\n      <td>1.862809</td>\n      <td>0.111399</td>\n      <td>0.128400</td>\n    </tr>\n  </tbody>\n</table>\n</div>"
     },
     "execution_count": 7,
     "metadata": {},
     "output_type": "execute_result"
    }
   ],
   "source": [
    "from surprise import SVD\n",
    "from surprise import SVDpp\n",
    "from surprise import SlopeOne\n",
    "from surprise import KNNBaseline\n",
    "from surprise import KNNBasic\n",
    "from surprise import KNNWithMeans\n",
    "from surprise import KNNWithZScore\n",
    "from surprise import BaselineOnly\n",
    "from surprise import CoClustering\n",
    "from surprise.model_selection import cross_validate\n",
    "benchmark = []\n",
    "# Iterate over all algorithms\n",
    "for algorithm in [SVD(verbose =False), SVDpp(verbose =False), SlopeOne(), KNNBaseline(verbose =False), KNNBasic(verbose =False), KNNWithMeans(verbose =False), KNNWithZScore(verbose =False), BaselineOnly(verbose =False), CoClustering(verbose =False)]:\n",
    "    # Perform cross validation\n",
    "    results = cross_validate(algorithm, data, measures=['RMSE'], cv=5, verbose=False)\n",
    "    \n",
    "    # Get results & append algorithm name\n",
    "    tmp = pd.DataFrame.from_dict(results).mean(axis=0)\n",
    "    tmp = pd.concat([tmp,pd.Series([str(algorithm).split(' ')[0].split('.')[-1]], index=['Algorithm'])])\n",
    "    benchmark.append(tmp)\n",
    "    \n",
    "pd.DataFrame(benchmark).set_index('Algorithm').sort_values('test_rmse')    "
   ]
  },
  {
   "cell_type": "markdown",
   "id": "34537c50",
   "metadata": {},
   "source": [
    "BaselineOnly and SVD give us the lowest rmse error,  although BaselineOnly also give us the best time, so it' is one of this two we should use. As KNNBseline can be configured by using similitude we also futher test it with both user_based and item_based configuration.\n",
    "We will be using the `GridSearchCv` to find the best hyperparameters values for the selected models."
   ]
  },
  {
   "cell_type": "markdown",
   "id": "baee501b",
   "metadata": {},
   "source": [
    "## Hyper tuning of BaseLineOnly"
   ]
  },
  {
   "cell_type": "code",
   "execution_count": 8,
   "id": "2affe701",
   "metadata": {
    "scrolled": false
   },
   "outputs": [
    {
     "name": "stdout",
     "output_type": "stream",
     "text": [
      "1.5611580885598726\n",
      "{'bsl_options': {'method': 'als', 'n_epochs': 25, 'reg_u': 4, 'reg_i': 10}}\n"
     ]
    }
   ],
   "source": [
    "from surprise.model_selection import GridSearchCV\n",
    "bsl_options = {\"method\": [\"als\"], \"n_epochs\": [10,15,20,25 ], \"reg_u\": [4,5,10,15,20], \"reg_i\": [5,10,15,20]}\n",
    "param_grid={\"bsl_options\":bsl_options}\n",
    "gs = GridSearchCV(BaselineOnly, param_grid, measures=[\"rmse\", \"mae\"], cv=5,n_jobs =2, joblib_verbose=0)\n",
    "gs.fit(data)\n",
    "\n",
    "print(gs.best_score[\"rmse\"])\n",
    "best_param_bsl=gs.best_params[\"rmse\"]\n",
    "print(best_param_bsl)"
   ]
  },
  {
   "cell_type": "markdown",
   "id": "8e9879a0",
   "metadata": {},
   "source": [
    "## Hyper tuning of SVD"
   ]
  },
  {
   "cell_type": "code",
   "execution_count": 9,
   "id": "9c06818c",
   "metadata": {
    "scrolled": false
   },
   "outputs": [
    {
     "name": "stdout",
     "output_type": "stream",
     "text": [
      "1.5707800133023588\n",
      "{'n_epochs': 30, 'lr_all': 0.01, 'reg_all': 0.4}\n"
     ]
    }
   ],
   "source": [
    "param_grid = {\"n_epochs\": [15,20,25,30],\"lr_all\": [0.004,0.008,0.01,0.02],\"reg_all\": [0,0.02,0.4,0.5, 0.6]}\n",
    "gs = GridSearchCV(SVD, param_grid, measures=[\"rmse\", \"mae\"], cv=5,n_jobs =2, joblib_verbose=0)\n",
    "gs.fit(data)\n",
    "\n",
    "print(gs.best_score[\"rmse\"])\n",
    "best_param_svd=gs.best_params[\"rmse\"]\n",
    "print(best_param_svd)"
   ]
  },
  {
   "cell_type": "markdown",
   "id": "5fdea681",
   "metadata": {},
   "source": [
    "# Training of the model"
   ]
  },
  {
   "cell_type": "markdown",
   "id": "a05f6074",
   "metadata": {},
   "source": [
    "The benchmark and the tunning of the model show that the best model is the `BaseLineOnly` with the Alternating Least Squares procedure configured with `25` iterations, `reg_u=4` and `reg_i=10`."
   ]
  },
  {
   "cell_type": "code",
   "execution_count": 10,
   "id": "79da9099",
   "metadata": {},
   "outputs": [
    {
     "data": {
      "text/plain": "<surprise.prediction_algorithms.baseline_only.BaselineOnly at 0x1a1bebb0df0>"
     },
     "execution_count": 10,
     "metadata": {},
     "output_type": "execute_result"
    }
   ],
   "source": [
    "from surprise.model_selection import train_test_split\n",
    "from surprise import accuracy\n",
    "bsl_options= best_param_bsl[\"bsl_options\"]\n",
    "trainset_bsl, testset_bsl = train_test_split(data, test_size=0.25)\n",
    "#trainset_bsl = data.build_full_trainset()\n",
    "algo_bsl = BaselineOnly(bsl_options=bsl_options,verbose =False)\n",
    "algo_bsl.fit(trainset_bsl)"
   ]
  },
  {
   "cell_type": "code",
   "execution_count": 11,
   "id": "3e3e53ad",
   "metadata": {},
   "outputs": [
    {
     "data": {
      "text/plain": "<surprise.prediction_algorithms.matrix_factorization.SVD at 0x1a1e71d59d0>"
     },
     "execution_count": 11,
     "metadata": {},
     "output_type": "execute_result"
    }
   ],
   "source": [
    "trainset_svd, testset_svd = train_test_split(data, test_size=0.25)\n",
    "#trainset_svd = data.build_full_trainset()\n",
    "algo_svd=SVD(n_epochs= best_param_svd.get(\"n_epochs\"), lr_all= best_param_svd.get(\"lr_all\")\n",
    "             , reg_all= best_param_svd.get(\"reg_all\"))\n",
    "algo_svd.fit(trainset_svd)"
   ]
  },
  {
   "cell_type": "markdown",
   "source": [],
   "metadata": {
    "collapsed": false
   }
  },
  {
   "cell_type": "markdown",
   "source": [
    "# Evaluation of the model"
   ],
   "metadata": {
    "collapsed": false
   }
  },
  {
   "cell_type": "markdown",
   "id": "c74296f3",
   "metadata": {},
   "source": [
    "To get the 5 best recommendation for each user we could use the function `get_top_n` provided by surprise QA section of documentation:"
   ]
  },
  {
   "cell_type": "code",
   "execution_count": 14,
   "id": "9742af8f",
   "metadata": {},
   "outputs": [],
   "source": [
    "from collections import defaultdict\n",
    "\n",
    "def get_top_n(predictions, n=10):\n",
    "    \"\"\"Return the top-N recommendation for each user from a set of predictions.\n",
    "\n",
    "    Args:\n",
    "        predictions(list of Prediction objects): The list of predictions, as\n",
    "            returned by the test method of an algorithm.\n",
    "        n(int): The number of recommendation to output for each user. Default\n",
    "            is 10.\n",
    "\n",
    "    Returns:\n",
    "    A dict where keys are user (raw) ids and values are lists of tuples:\n",
    "        [(raw item id, rating estimation), ...] of size n.\n",
    "    \"\"\"\n",
    "\n",
    "    # First map the predictions to each user.\n",
    "    top_n = defaultdict(list)\n",
    "    for uid, iid, true_r, est, _ in predictions:\n",
    "        top_n[uid].append((iid, est))\n",
    "\n",
    "    # Then sort the predictions for each user and retrieve the k highest ones.\n",
    "    for uid, user_ratings in top_n.items():\n",
    "        user_ratings.sort(key=lambda x: x[1], reverse=True)\n",
    "        top_n[uid] = user_ratings[:n]\n",
    "\n",
    "    return top_n"
   ]
  },
  {
   "cell_type": "code",
   "execution_count": 15,
   "id": "ea94c02f",
   "metadata": {},
   "outputs": [],
   "source": [
    "def get_top_n_by_algo(algo,trainset,k):\n",
    "    testset = trainset.build_anti_testset()\n",
    "    predictions = algo.test(testset)\n",
    "    return predictions,get_top_n(predictions, n=k)"
   ]
  },
  {
   "cell_type": "code",
   "execution_count": 16,
   "id": "0ab1493f",
   "metadata": {},
   "outputs": [],
   "source": [
    "prediction_bsl,top_n_bsl = get_top_n_by_algo(algo_bsl,trainset_bsl,5)"
   ]
  },
  {
   "cell_type": "code",
   "execution_count": 17,
   "id": "934aa86c",
   "metadata": {},
   "outputs": [],
   "source": [
    "prediction_svd,top_n_svd = get_top_n_by_algo(algo_svd,trainset_svd,5)"
   ]
  },
  {
   "cell_type": "code",
   "execution_count": 18,
   "id": "608a4a49",
   "metadata": {},
   "outputs": [],
   "source": [
    "def count_occ(reco,i):\n",
    "    if i in reco:reco[i]=reco.get(i)+1\n",
    "    else: reco[i]=1\n",
    "\n",
    "def count_books_recommended(rcd):\n",
    "    reco={}\n",
    "    [ [count_occ(reco,title[0]) for title in v]  for k,v in rcd.items()]\n",
    "    return reco"
   ]
  },
  {
   "cell_type": "code",
   "execution_count": 19,
   "id": "1751b090",
   "metadata": {},
   "outputs": [],
   "source": [
    "recommended_books_bsl=count_books_recommended(top_n_bsl)"
   ]
  },
  {
   "cell_type": "code",
   "execution_count": 20,
   "id": "e0d41afd",
   "metadata": {},
   "outputs": [],
   "source": [
    "recommended_books_svd=count_books_recommended(top_n_svd)"
   ]
  },
  {
   "cell_type": "code",
   "execution_count": 21,
   "id": "4a381ac6",
   "metadata": {},
   "outputs": [],
   "source": [
    "get_book_by_id=lambda id_b:books.loc[books.bookId==id_b][\"bookTitle\"].iloc[0]"
   ]
  },
  {
   "cell_type": "code",
   "execution_count": 22,
   "id": "afe354ee",
   "metadata": {},
   "outputs": [],
   "source": [
    "def get_recommendation_by_id(id_u,top_n):\n",
    "    print(\"The recommendation for user\",id_u, \"are:\\n\")\n",
    "    [print(get_book_by_id(iid),\"with a rating of\",r,\"\\n\") for (iid, r) in top_n[id_u]]"
   ]
  },
  {
   "cell_type": "code",
   "execution_count": 23,
   "id": "dfa7d421",
   "metadata": {},
   "outputs": [],
   "source": [
    "def get_list_book_recommended(recommended_books):\n",
    "    print(\" book title |\",\"nb recommended\")\n",
    "    [ print(get_book_by_id(k),v) for k,v in recommended_books.items()]"
   ]
  },
  {
   "cell_type": "code",
   "execution_count": 24,
   "id": "b8b48e1e",
   "metadata": {},
   "outputs": [
    {
     "name": "stdout",
     "output_type": "stream",
     "text": [
      "The baseline model has recommended a total of 20 distinct books\n",
      "The SVD model has recommended a total of 38 distinct books\n"
     ]
    }
   ],
   "source": [
    "print(\"The baseline model has recommended a total of\",len(recommended_books_bsl), \"distinct books\")\n",
    "print(\"The SVD model has recommended a total of\",len(recommended_books_svd), \"distinct books\")"
   ]
  },
  {
   "cell_type": "code",
   "execution_count": 25,
   "id": "4ecdbe38",
   "metadata": {},
   "outputs": [
    {
     "name": "stdout",
     "output_type": "stream",
     "text": [
      "books recommended with baseline\n",
      " book title | nb recommended\n",
      "The Return of the King (The Lord of the Rings, Part 3) 7789\n",
      "The Two Towers (The Lord of the Rings, Part 2) 7808\n",
      "Harry Potter and the Goblet of Fire (Book 4) 7718\n",
      "Ender's Game (Ender Wiggins Saga (Paperback)) 7818\n",
      "The Two Towers (The Lord of the Rings, Part 2) 7871\n",
      "The Little Prince 354\n",
      "To Kill a Mockingbird 43\n",
      "Harry Potter and the Prisoner of Azkaban (Book 3) 53\n",
      "LONESOME DOVE 41\n",
      "The Neverending Story 36\n",
      "1984 27\n",
      "The Hobbit : The Enchanting Prelude to The Lord of the Rings 31\n",
      "Girl with a Pearl Earring 1\n",
      "The Poisonwood Bible: A Novel 1\n",
      "Roses Are Red 1\n",
      "Harry Potter and the Order of the Phoenix (Book 5) 29\n",
      "Dune (Remembering Tomorrow) 12\n",
      "Siddhartha 6\n",
      "Bridge to Terabithia 5\n",
      "Anne of Green Gables (Anne of Green Gables Novels (Paperback)) 1\n"
     ]
    }
   ],
   "source": [
    "print(\"books recommended with baseline\")\n",
    "get_list_book_recommended(recommended_books_bsl)"
   ]
  },
  {
   "cell_type": "code",
   "execution_count": 26,
   "id": "a8d50c73",
   "metadata": {
    "scrolled": true
   },
   "outputs": [
    {
     "name": "stdout",
     "output_type": "stream",
     "text": [
      "books recommended with svd\n",
      " book title | nb recommended\n",
      "The Two Towers (The Lord of the Rings, Part 2) 7865\n",
      "The Return of the King (The Lord of the Rings, Part 3) 7832\n",
      "The Princess Bride: S Morgenstern's Classic Tale of True Love and High Adventure 7849\n",
      "Griffin & Sabine: An Extraordinary Correspondence 4428\n",
      "The Secret Garden 1873\n",
      "Dune (Remembering Tomorrow) 2177\n",
      "The Two Towers (The Lord of the Rings, Part 2) 3640\n",
      "Interpreter of Maladies 2302\n",
      "Where the Red Fern Grows 227\n",
      "The Little Prince 221\n",
      "The Return of the King (The Lord of The Rings, Part 3) 237\n",
      "Pride and Prejudice 1\n",
      "LONESOME DOVE 40\n",
      "The Fellowship of the Ring (The Lord of the Rings, Part 1) 301\n",
      "84 Charing Cross Road 449\n",
      "The Hobbit: or There and Back Again 12\n",
      "A Fine Balance 1\n",
      "Charlotte's Web (Trophy Newbery) 30\n",
      "Harry Potter and the Sorcerer's Stone (Harry Potter (Paperback)) 6\n",
      "The Fellowship of the Ring (The Lord of the Rings, Part 1) 25\n",
      "Ender's Game (Ender Wiggins Saga (Paperback)) 2\n",
      "To Kill a Mockingbird 6\n",
      "The Curious Incident of the Dog in the Night-Time (Vintage Contemporaries) 1\n",
      "The Subtle Knife (His Dark Materials, Book 2) 2\n",
      "Harry Potter and the Order of the Phoenix (Book 5) 6\n",
      "The Hobbit : The Enchanting Prelude to The Lord of the Rings 8\n",
      "Outlander 3\n",
      "Cryptonomicon 5\n",
      "Harry Potter and the Sorcerer's Stone (Book 1) 1\n",
      "The Fountainhead 1\n",
      "Holes (Yearling Newbery) 1\n",
      "Blindness (Harvest Book) 2\n",
      "The Neverending Story 6\n",
      "Voyager 1\n",
      "Anne of Green Gables (Anne of Green Gables Novels (Paperback)) 1\n",
      "A Confederacy of Dunces 1\n",
      "Seabiscuit: An American Legend 1\n",
      "Illusions: The Adventures of a Reluctant Messiah 1\n"
     ]
    }
   ],
   "source": [
    "print(\"books recommended with svd\")\n",
    "get_list_book_recommended(recommended_books_svd)"
   ]
  },
  {
   "cell_type": "markdown",
   "id": "2ba76169",
   "metadata": {},
   "source": [
    "Example of recommendation for the user 229331:"
   ]
  },
  {
   "cell_type": "code",
   "execution_count": 27,
   "id": "e646e79a",
   "metadata": {
    "scrolled": true
   },
   "outputs": [
    {
     "name": "stdout",
     "output_type": "stream",
     "text": [
      "The recommendation for user 229331 are:\n",
      "\n",
      "The Two Towers (The Lord of the Rings, Part 2) with a rating of 8.946971523007504 \n",
      "\n",
      "The Princess Bride: S Morgenstern's Classic Tale of True Love and High Adventure with a rating of 8.912677442788986 \n",
      "\n",
      "The Return of the King (The Lord of the Rings, Part 3) with a rating of 8.884388857160687 \n",
      "\n",
      "The Two Towers (The Lord of the Rings, Part 2) with a rating of 8.799335788212733 \n",
      "\n",
      "Griffin & Sabine: An Extraordinary Correspondence with a rating of 8.795541721928933 \n",
      "\n"
     ]
    }
   ],
   "source": [
    "get_recommendation_by_id(229331,top_n_svd)"
   ]
  },
  {
   "cell_type": "markdown",
   "id": "0125b888",
   "metadata": {},
   "source": [
    "We observe that on all the 806 books the svd model has recommended 43 books, 20 more that the baseline model so it has more versality than the baseline model. Nonetheless, this show one weakness in this kind of algorithm: it's always a minority of books that are recommended and books with few ratings can't be recommended hence all users are given more or less the same books. The only downside of SVD is its computing time that is longer"
   ]
  },
  {
   "cell_type": "markdown",
   "id": "df53f9e8",
   "metadata": {},
   "source": [
    "Finally, we measure the accuracy of the ratings we have get"
   ]
  },
  {
   "cell_type": "code",
   "execution_count": 28,
   "id": "d287e26d",
   "metadata": {},
   "outputs": [],
   "source": [
    "def get_metrics(predict):\n",
    "    accuracy.rmse(predict)\n",
    "    accuracy.mse(predict)\n",
    "    accuracy.mae(predict)"
   ]
  },
  {
   "cell_type": "code",
   "execution_count": 29,
   "id": "c7885730",
   "metadata": {},
   "outputs": [
    {
     "name": "stdout",
     "output_type": "stream",
     "text": [
      "metrics for baseline\n",
      "RMSE: 0.6882\n",
      "MSE: 0.4737\n",
      "MAE:  0.5333\n"
     ]
    }
   ],
   "source": [
    "print(\"metrics for baseline\")\n",
    "get_metrics(prediction_bsl)"
   ]
  },
  {
   "cell_type": "code",
   "execution_count": 30,
   "id": "71e485c4",
   "metadata": {},
   "outputs": [
    {
     "name": "stdout",
     "output_type": "stream",
     "text": [
      "metrics for SVD\n",
      "RMSE: 0.6634\n",
      "MSE: 0.4401\n",
      "MAE:  0.5189\n"
     ]
    }
   ],
   "source": [
    "print(\"metrics for SVD\")\n",
    "get_metrics(prediction_svd)"
   ]
  },
  {
   "cell_type": "markdown",
   "id": "f5b2b746",
   "metadata": {},
   "source": [
    "For book recommender system an RMSE of around 1.0 or lower might be considered good. We could assume  that the two proposed  recommender system are efficient. The SVD is a little bit more efficient but it is also more interesting because more different books are recommended. So this this algorithm that we choose to use although it's 5 times slower than baseline so that choice can be debatable: if we need a fast answer by the recommender system, baseline wil be a better choice.\n",
    "We are going  also to evaluate  the recall and precision at k which are also  commonly used to metrics for recommender systems. especially when the task involve  top-k recommended items.\n",
    "\n",
    "\n",
    "\n",
    "The FAQ of the surprise library give this implementation:"
   ]
  },
  {
   "cell_type": "code",
   "execution_count": 33,
   "id": "ab42e1f2",
   "metadata": {},
   "outputs": [],
   "source": [
    "from collections import defaultdict\n",
    "from surprise.model_selection import KFold\n",
    "\n",
    "def precision_recall_at_k(predictions, k=5, threshold=7):\n",
    "    \"\"\"Return precision and recall at k metrics for each user\"\"\"\n",
    "    # First map the predictions to each user.\n",
    "    user_est_true = defaultdict(list)\n",
    "    for uid, _, true_r, est, _ in predictions:\n",
    "        user_est_true[uid].append((est, true_r))\n",
    "\n",
    "    precisions = dict()\n",
    "    recalls = dict()\n",
    "    for uid, user_ratings in user_est_true.items():\n",
    "        # Sort user ratings by estimated value\n",
    "        user_ratings.sort(key=lambda x: x[0], reverse=True)\n",
    "        # Number of relevant items\n",
    "        n_rel = sum((true_r >= threshold) for (_, true_r) in user_ratings)\n",
    "        # Number of recommended items in top k\n",
    "        n_rec_k = sum((est >= threshold) for (est, _) in user_ratings[:k])\n",
    "        # Number of relevant and recommended items in top k\n",
    "        n_rel_and_rec_k = sum(\n",
    "            ((true_r >= threshold) and (est >= threshold))\n",
    "            for (est, true_r) in user_ratings[:k]\n",
    "        )\n",
    "        # Precision@K: Proportion of recommended items that are relevant\n",
    "        # When n_rec_k is 0, Precision is undefined. We here set it to 0.\n",
    "        precisions[uid] = n_rel_and_rec_k / n_rec_k if n_rec_k != 0 else 0\n",
    "        # Recall@K: Proportion of relevant items that are recommended\n",
    "        # When n_rel is 0, Recall is undefined. We here set it to 0.\n",
    "        recalls[uid] = n_rel_and_rec_k / n_rel if n_rel != 0 else 0\n",
    "    return precisions, recalls"
   ]
  },
  {
   "cell_type": "markdown",
   "id": "c32a404d",
   "metadata": {},
   "source": [
    "We are now choosing wich book ratings we should recommend and how many."
   ]
  },
  {
   "cell_type": "code",
   "execution_count": 34,
   "id": "e0a63766",
   "metadata": {},
   "outputs": [],
   "source": [
    "def get_recall_precision_F1(algo,k,t):\n",
    "    kf = KFold(n_splits=k)\n",
    "    mean_prec=0.\n",
    "    mean_recall=0.\n",
    "    i=0\n",
    "    for trainset, testset in kf.split(data):\n",
    "        algo.fit(trainset)\n",
    "        predictions = algo.test(testset)\n",
    "        precisions, recalls = precision_recall_at_k(predictions, k=k, threshold=t)\n",
    "        # Precision and recall can then be averaged over all users\n",
    "        p=sum(prec for prec in precisions.values()) / len(precisions)\n",
    "        r=sum(rec for rec in recalls.values()) / len(recalls)\n",
    "        mean_prec+=p\n",
    "        mean_recall+=r\n",
    "        i+=1\n",
    "    mean_prec, mean_recall=mean_prec/k,mean_recall/k\n",
    "    return mean_prec, mean_recall,2*mean_recall*mean_prec/(mean_recall+mean_prec)"
   ]
  },
  {
   "cell_type": "code",
   "execution_count": 35,
   "id": "58365e75",
   "metadata": {},
   "outputs": [],
   "source": [
    "def get_f1_data_k(algo,t):\n",
    "    k_array,prec_array,recall_array,f1_array=[],[],[],[]\n",
    "    for i in np.arange(2,16):\n",
    "        k_array.append(i)\n",
    "        result=get_recall_precision_F1(algo,i,t)\n",
    "        prec_array.append(result[0])\n",
    "        recall_array.append(result[1])\n",
    "        f1_array.append(result[2])\n",
    "    return k_array,prec_array,recall_array,f1_array"
   ]
  },
  {
   "cell_type": "code",
   "execution_count": 46,
   "id": "57fbbed0",
   "metadata": {},
   "outputs": [],
   "source": [
    "\n",
    "k_array,prec_array,recall_array,f1_array=get_f1_data_k(algo_svd,7)\n"
   ]
  },
  {
   "cell_type": "code",
   "execution_count": 54,
   "outputs": [
    {
     "name": "stdout",
     "output_type": "stream",
     "text": [
      "Precision for the threshold t=7: 76%\n"
     ]
    }
   ],
   "source": [
    "print(F'Precision for the threshold t=7: {round(prec_array[5]*100)}%')"
   ],
   "metadata": {
    "collapsed": false,
    "pycharm": {
     "name": "#%%\n"
    }
   }
  },
  {
   "cell_type": "code",
   "execution_count": 56,
   "outputs": [
    {
     "name": "stdout",
     "output_type": "stream",
     "text": [
      "Recall for the threshold t=7: 79%\n"
     ]
    }
   ],
   "source": [
    "print(F'Recall for the threshold t=7: {round(recall_array[5]*100)}%')"
   ],
   "metadata": {
    "collapsed": false,
    "pycharm": {
     "name": "#%%\n"
    }
   }
  },
  {
   "cell_type": "code",
   "execution_count": 52,
   "outputs": [
    {
     "name": "stdout",
     "output_type": "stream",
     "text": [
      "F1 score for the threshold t=7: 78%\n"
     ]
    }
   ],
   "source": [
    "print(F'F1 score for the threshold t=7: {round(f1_array[5]*100)}%')"
   ],
   "metadata": {
    "collapsed": false,
    "pycharm": {
     "name": "#%%\n"
    }
   }
  },
  {
   "cell_type": "code",
   "execution_count": 47,
   "outputs": [
    {
     "data": {
      "text/plain": "<Figure size 432x288 with 1 Axes>",
      "image/png": "[encoded data removed]"
     },
     "metadata": {
      "needs_background": "light"
     },
     "output_type": "display_data"
    }
   ],
   "source": [
    "import matplotlib.pyplot as plt\n",
    "\n",
    "\n",
    "\n",
    "plt.plot(k_array,f1_array)\n",
    "plt.ylabel(\"F1 score\")\n",
    "plt.xlabel(\"Number of recommendation\")\n",
    "plt.title(\"F1 score of the SVD algorithm by Number of recommendation\")\n",
    "plt.show()"
   ],
   "metadata": {
    "collapsed": false,
    "pycharm": {
     "name": "#%%\n"
    }
   }
  },
  {
   "cell_type": "markdown",
   "source": [
    "The plot above shows that the `F1_score` peaks when 7 books are  recommended and there is relatively little variation as the score is always between 77% and 78% after 7 books. So  7 look like an optimal number of books to recommend as we don’t want to recommend too many books as a user usually consider only the first books recommended."
   ],
   "metadata": {
    "collapsed": false
   }
  },
  {
   "cell_type": "code",
   "execution_count": 36,
   "outputs": [],
   "source": [
    "def get_f1_data_t(algo,k):\n",
    "    r_array,prec_array,recall_array,f1_array=[],[],[],[]\n",
    "    for r in np.arange(2,11):\n",
    "        r_array.append(r)\n",
    "        result=get_recall_precision_F1(algo,k,r)\n",
    "        prec_array.append(result[0])\n",
    "        recall_array.append(result[1])\n",
    "        f1_array.append(result[2])\n",
    "    return r_array,prec_array,recall_array,f1_array"
   ],
   "metadata": {
    "collapsed": false,
    "pycharm": {
     "name": "#%%\n"
    }
   }
  },
  {
   "cell_type": "code",
   "execution_count": 57,
   "outputs": [],
   "source": [
    "\n",
    "r_array,prec_array,recall_array,f1_array=get_f1_data_t(algo_svd,7)\n",
    "\n"
   ],
   "metadata": {
    "collapsed": false,
    "pycharm": {
     "name": "#%%\n"
    }
   }
  },
  {
   "cell_type": "code",
   "execution_count": 58,
   "outputs": [
    {
     "data": {
      "text/plain": "<Figure size 432x288 with 1 Axes>",
      "image/png": "[encoded data removed]"
     },
     "metadata": {
      "needs_background": "light"
     },
     "output_type": "display_data"
    }
   ],
   "source": [
    "import matplotlib.pyplot as plt\n",
    "\n",
    "plt.plot(r_array,f1_array)\n",
    "plt.ylabel(\"F1 score\")\n",
    "plt.xlabel(\"Rating threshold\")\n",
    "plt.title(\"F1 score of the SVD algorithm by rating threshold\")\n",
    "plt.show()"
   ],
   "metadata": {
    "collapsed": false,
    "pycharm": {
     "name": "#%%\n"
    }
   }
  },
  {
   "cell_type": "markdown",
   "id": "71b831c9",
   "metadata": {},
   "source": [
    "We observe that the `F1_score` decreases as the rating threshold increases, which is expected since we are strict with the rating of the book to recommend it become  difficult to respect the condition. The curve drop significantly after a threshold of 7. Since the book ratings of 5 and 6 are a low to be recommended, We should keep 7 as threshold even if a `F1_score` of 78% not high."
   ]
  },
  {
   "cell_type": "markdown",
   "id": "fdbbd1f1",
   "metadata": {},
   "source": [
    "Our evaluation of the model reveals a precision of 76%, a recall of 79%, and an F1 score of 78%, which is an average performance and consistent with the results obtained with the RMSE. While this model is acceptable for our current needs, we admit that it may not be suitable for other fields, such as healthcare. Therefore, we recommend further exploration and experimentation to develop a more  accurate model."
   ]
  },
  {
   "cell_type": "markdown",
   "id": "47ea99b5",
   "metadata": {},
   "source": [
    "This machine learning problem has shown us two limits of recommender system of recommender systems that are developed using Python: memory constraints and computational resource.\n",
    "These limitations explain why graph database are frequently used in the domain of recommendation. With graph database is easier to find similar items or users as the algorithm just need to go from node to node based on relationship and we don't store useless information in memory only the relevant data."
   ]
  },
  {
   "cell_type": "markdown",
   "source": [
    "# Save the model"
   ],
   "metadata": {
    "collapsed": false
   }
  },
  {
   "cell_type": "markdown",
   "source": [
    "After training and evaluating our models, we will save the trained model in a pickle file for future use. Storing the trained model allows us to reuse it later without having to retrain the model from scratch."
   ],
   "metadata": {
    "collapsed": false
   }
  },
  {
   "cell_type": "code",
   "execution_count": 59,
   "outputs": [],
   "source": [
    "import pickle\n",
    "\n",
    "\n",
    "filename = \"model/svd_model.pickle\"\n",
    "\n",
    "# save model\n",
    "pickle.dump(algo_svd, open(filename, \"wb\"))"
   ],
   "metadata": {
    "collapsed": false,
    "pycharm": {
     "name": "#%%\n"
    }
   }
  },
  {
   "cell_type": "markdown",
   "id": "9394bb90",
   "metadata": {
    "pycharm": {
     "name": "#%% md\n"
    }
   },
   "source": [
    "# Reference:\n",
    "\n",
    "* [\"Hands on recommendation systems with Python\" by Rounak Banik](https://www.oreilly.com/library/view/hands-on-recommendation-systems/9781788993753/)\n",
    "\n",
    "* [\"Graph-Powered Machine Learning\" by Alessandro Negro](https://www.oreilly.com/library/view/graph-powered-machine-learning/9781617295645/)\n",
    "\n",
    "* [Build a Recommendation Engine With Collaborative Filtering](https://realpython.com/build-recommendation-engine-collaborative-filtering/)\n",
    "\n",
    "* [FAQ — Surprise 1 documentation](https://surprise.readthedocs.io/en/stable/FAQ.html)"
   ]
  }
 ],
 "metadata": {
  "kernelspec": {
   "name": "python3",
   "language": "python",
   "display_name": "Python 3 (ipykernel)"
  },
  "language_info": {
   "codemirror_mode": {
    "name": "ipython",
    "version": 3
   },
   "file_extension": ".py",
   "mimetype": "text/x-python",
   "name": "python",
   "nbconvert_exporter": "python",
   "pygments_lexer": "ipython3",
   "version": "3.10.8"
  }
 },
 "nbformat": 4,
 "nbformat_minor": 5
}