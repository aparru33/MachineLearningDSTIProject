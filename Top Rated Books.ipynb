{
 "cells": [
  {
   "cell_type": "markdown",
   "source": [
    "# Top Rated Books\n",
    "\n",
    "Inspired by IMDB Top 250 Movie chart, we present a simple recommendation system where books in the dataset are ranked according to a certain rating metric.\n",
    "\n",
    "This model could inspire users to select a next book to read from a list of the best books, especially new users."
   ],
   "metadata": {
    "collapsed": false
   }
  },
  {
   "cell_type": "code",
   "execution_count": 14,
   "outputs": [],
   "source": [
    "import pandas as pd\n",
    "import seaborn as  sns"
   ],
   "metadata": {
    "collapsed": false,
    "pycharm": {
     "name": "#%%\n"
    }
   }
  },
  {
   "cell_type": "code",
   "execution_count": 2,
   "outputs": [],
   "source": [
    "df = pd.read_csv('./dataset/final_dataset.csv')"
   ],
   "metadata": {
    "collapsed": false,
    "pycharm": {
     "name": "#%%\n"
    }
   }
  },
  {
   "cell_type": "code",
   "execution_count": 3,
   "metadata": {
    "collapsed": true
   },
   "outputs": [
    {
     "data": {
      "text/plain": "   Unnamed: 0  userID  Age     city    state country AgeCategory        ISBN  \\\n0           0       8   35  timmins  ontario  canada       18-35  0002005018   \n1          14       8   35  timmins  ontario  canada       18-35  1881320189   \n2          11       8   35  timmins  ontario  canada       18-35  1552041778   \n3          13       8   35  timmins  ontario  canada       18-35  1575663937   \n4          10       8   35  timmins  ontario  canada       18-35  0887841740   \n\n   bookRating                                          bookTitle  \\\n0         5.0                                       Clara Callan   \n1         7.0                      Goodbye to the Buttermilk Sky   \n2         5.0                                           Jane Doe   \n3         6.0  More Cunning Than Man: A Social History of Rat...   \n4         5.0                                 The Middle Stories   \n\n             bookAuthor  yearOfPublication                    publisher  \n0  Richard Bruce Wright             2001.0        HarperFlamingo Canada  \n1          Julia Oliver             1994.0               River City Pub  \n2          R. J. Kaiser             1999.0                   Mira Books  \n3    Robert Hendrickson             1999.0  Kensington Publishing Corp.  \n4           Sheila Heti             2004.0        House of Anansi Press  ",
      "text/html": "<div>\n<style scoped>\n    .dataframe tbody tr th:only-of-type {\n        vertical-align: middle;\n    }\n\n    .dataframe tbody tr th {\n        vertical-align: top;\n    }\n\n    .dataframe thead th {\n        text-align: right;\n    }\n</style>\n<table border=\"1\" class=\"dataframe\">\n  <thead>\n    <tr style=\"text-align: right;\">\n      <th></th>\n      <th>Unnamed: 0</th>\n      <th>userID</th>\n      <th>Age</th>\n      <th>city</th>\n      <th>state</th>\n      <th>country</th>\n      <th>AgeCategory</th>\n      <th>ISBN</th>\n      <th>bookRating</th>\n      <th>bookTitle</th>\n      <th>bookAuthor</th>\n      <th>yearOfPublication</th>\n      <th>publisher</th>\n    </tr>\n  </thead>\n  <tbody>\n    <tr>\n      <th>0</th>\n      <td>0</td>\n      <td>8</td>\n      <td>35</td>\n      <td>timmins</td>\n      <td>ontario</td>\n      <td>canada</td>\n      <td>18-35</td>\n      <td>0002005018</td>\n      <td>5.0</td>\n      <td>Clara Callan</td>\n      <td>Richard Bruce Wright</td>\n      <td>2001.0</td>\n      <td>HarperFlamingo Canada</td>\n    </tr>\n    <tr>\n      <th>1</th>\n      <td>14</td>\n      <td>8</td>\n      <td>35</td>\n      <td>timmins</td>\n      <td>ontario</td>\n      <td>canada</td>\n      <td>18-35</td>\n      <td>1881320189</td>\n      <td>7.0</td>\n      <td>Goodbye to the Buttermilk Sky</td>\n      <td>Julia Oliver</td>\n      <td>1994.0</td>\n      <td>River City Pub</td>\n    </tr>\n    <tr>\n      <th>2</th>\n      <td>11</td>\n      <td>8</td>\n      <td>35</td>\n      <td>timmins</td>\n      <td>ontario</td>\n      <td>canada</td>\n      <td>18-35</td>\n      <td>1552041778</td>\n      <td>5.0</td>\n      <td>Jane Doe</td>\n      <td>R. J. Kaiser</td>\n      <td>1999.0</td>\n      <td>Mira Books</td>\n    </tr>\n    <tr>\n      <th>3</th>\n      <td>13</td>\n      <td>8</td>\n      <td>35</td>\n      <td>timmins</td>\n      <td>ontario</td>\n      <td>canada</td>\n      <td>18-35</td>\n      <td>1575663937</td>\n      <td>6.0</td>\n      <td>More Cunning Than Man: A Social History of Rat...</td>\n      <td>Robert Hendrickson</td>\n      <td>1999.0</td>\n      <td>Kensington Publishing Corp.</td>\n    </tr>\n    <tr>\n      <th>4</th>\n      <td>10</td>\n      <td>8</td>\n      <td>35</td>\n      <td>timmins</td>\n      <td>ontario</td>\n      <td>canada</td>\n      <td>18-35</td>\n      <td>0887841740</td>\n      <td>5.0</td>\n      <td>The Middle Stories</td>\n      <td>Sheila Heti</td>\n      <td>2004.0</td>\n      <td>House of Anansi Press</td>\n    </tr>\n  </tbody>\n</table>\n</div>"
     },
     "execution_count": 3,
     "metadata": {},
     "output_type": "execute_result"
    }
   ],
   "source": [
    "df.head()"
   ]
  },
  {
   "cell_type": "code",
   "execution_count": 6,
   "outputs": [],
   "source": [
    "ndf = df.groupby('bookTitle').agg(\n",
    "    {\n",
    "        'userID':'size',\n",
    "        'bookRating': 'mean'\n",
    "    }\n",
    ").reset_index()"
   ],
   "metadata": {
    "collapsed": false,
    "pycharm": {
     "name": "#%%\n"
    }
   }
  },
  {
   "cell_type": "code",
   "execution_count": 7,
   "outputs": [
    {
     "data": {
      "text/plain": "                                           bookTitle  userID  bookRating\n0   A Light in the Storm: The Civil War Diary of ...       1         9.0\n1   Ask Lily (Young Women of Faith: Lily Series, ...       1         8.0\n2                  Boule De Suif (Penguin Classics)\"       1         7.0\n3   Civil Disobedience\" and \"Reading\" (Penguin Cl...       1         9.0\n4                                       Dark Justice       1        10.0",
      "text/html": "<div>\n<style scoped>\n    .dataframe tbody tr th:only-of-type {\n        vertical-align: middle;\n    }\n\n    .dataframe tbody tr th {\n        vertical-align: top;\n    }\n\n    .dataframe thead th {\n        text-align: right;\n    }\n</style>\n<table border=\"1\" class=\"dataframe\">\n  <thead>\n    <tr style=\"text-align: right;\">\n      <th></th>\n      <th>bookTitle</th>\n      <th>userID</th>\n      <th>bookRating</th>\n    </tr>\n  </thead>\n  <tbody>\n    <tr>\n      <th>0</th>\n      <td>A Light in the Storm: The Civil War Diary of ...</td>\n      <td>1</td>\n      <td>9.0</td>\n    </tr>\n    <tr>\n      <th>1</th>\n      <td>Ask Lily (Young Women of Faith: Lily Series, ...</td>\n      <td>1</td>\n      <td>8.0</td>\n    </tr>\n    <tr>\n      <th>2</th>\n      <td>Boule De Suif (Penguin Classics)\"</td>\n      <td>1</td>\n      <td>7.0</td>\n    </tr>\n    <tr>\n      <th>3</th>\n      <td>Civil Disobedience\" and \"Reading\" (Penguin Cl...</td>\n      <td>1</td>\n      <td>9.0</td>\n    </tr>\n    <tr>\n      <th>4</th>\n      <td>Dark Justice</td>\n      <td>1</td>\n      <td>10.0</td>\n    </tr>\n  </tbody>\n</table>\n</div>"
     },
     "execution_count": 7,
     "metadata": {},
     "output_type": "execute_result"
    }
   ],
   "source": [
    "ndf.head()"
   ],
   "metadata": {
    "collapsed": false,
    "pycharm": {
     "name": "#%%\n"
    }
   }
  },
  {
   "cell_type": "code",
   "execution_count": 19,
   "outputs": [
    {
     "data": {
      "text/plain": "count    135573.000000\nmean          2.823792\nstd           9.087405\nmin           1.000000\n25%           1.000000\n50%           1.000000\n75%           2.000000\nmax         707.000000\nName: ratingCount, dtype: float64"
     },
     "execution_count": 19,
     "metadata": {},
     "output_type": "execute_result"
    }
   ],
   "source": [
    "ndf['ratingCount'].describe() #.describle()"
   ],
   "metadata": {
    "collapsed": false,
    "pycharm": {
     "name": "#%%\n"
    }
   }
  },
  {
   "cell_type": "code",
   "execution_count": 9,
   "outputs": [],
   "source": [
    "ndf.rename({'userID':'ratingCount', 'bookRating':'ratingAverage'}, axis=1, inplace=True)"
   ],
   "metadata": {
    "collapsed": false,
    "pycharm": {
     "name": "#%%\n"
    }
   }
  },
  {
   "cell_type": "code",
   "execution_count": 20,
   "outputs": [
    {
     "data": {
      "text/plain": "<AxesSubplot:ylabel='ratingCount'>"
     },
     "execution_count": 20,
     "metadata": {},
     "output_type": "execute_result"
    },
    {
     "data": {
      "text/plain": "<Figure size 432x288 with 1 Axes>",
      "image/png": "[encoded data removed]"
     },
     "metadata": {
      "needs_background": "light"
     },
     "output_type": "display_data"
    }
   ],
   "source": [
    "sns.boxplot(y=ndf['ratingCount'])"
   ],
   "metadata": {
    "collapsed": false,
    "pycharm": {
     "name": "#%%\n"
    }
   }
  },
  {
   "cell_type": "code",
   "execution_count": 21,
   "outputs": [],
   "source": [
    "#the min  number of review by book\n",
    "m = 40"
   ],
   "metadata": {
    "collapsed": false,
    "pycharm": {
     "name": "#%%\n"
    }
   }
  },
  {
   "cell_type": "code",
   "execution_count": 23,
   "outputs": [
    {
     "data": {
      "text/plain": "7.624345009534258"
     },
     "execution_count": 23,
     "metadata": {},
     "output_type": "execute_result"
    }
   ],
   "source": [
    "# Calculate average review for all books\n",
    "C = df['bookRating'].mean()\n",
    "C"
   ],
   "metadata": {
    "collapsed": false,
    "pycharm": {
     "name": "#%%\n"
    }
   }
  },
  {
   "cell_type": "code",
   "execution_count": 22,
   "outputs": [],
   "source": [
    "#Only consider the books with more than m review\n",
    "books = ndf[ndf.ratingCount >= m]"
   ],
   "metadata": {
    "collapsed": false,
    "pycharm": {
     "name": "#%%\n"
    }
   }
  },
  {
   "cell_type": "code",
   "execution_count": 25,
   "outputs": [],
   "source": [
    "# Function to compute the IMDB weighted rating for each movie\n",
    "#https://github.com/PacktPublishing/Hands-On-Recommendation-Systems-with-Python/blob/master/Chapter3/Simple%20Recommender.ipynb\n",
    "def weighted_rating(row, m=m, C=C):\n",
    "    v = row['ratingCount']\n",
    "    R = row['ratingAverage']\n",
    "    # Compute the weighted score\n",
    "    return (v/(v+m) * R) + (m/(m+v) * C)"
   ],
   "metadata": {
    "collapsed": false,
    "pycharm": {
     "name": "#%%\n"
    }
   }
  },
  {
   "cell_type": "code",
   "execution_count": 26,
   "outputs": [],
   "source": [
    "ndf['score'] = ndf.apply(weighted_rating, axis=1)"
   ],
   "metadata": {
    "collapsed": false,
    "pycharm": {
     "name": "#%%\n"
    }
   }
  },
  {
   "cell_type": "code",
   "execution_count": 27,
   "outputs": [],
   "source": [
    "\n",
    "#Sort books in descending order of their scores\n",
    "ndf.sort_values('score', ascending=False, inplace=True)"
   ],
   "metadata": {
    "collapsed": false,
    "pycharm": {
     "name": "#%%\n"
    }
   }
  },
  {
   "cell_type": "code",
   "execution_count": 31,
   "outputs": [],
   "source": [
    "ndf.reset_index(drop=True, inplace=True)"
   ],
   "metadata": {
    "collapsed": false,
    "pycharm": {
     "name": "#%%\n"
    }
   }
  },
  {
   "cell_type": "code",
   "execution_count": 32,
   "outputs": [
    {
     "data": {
      "text/plain": "                                                bookTitle  ratingCount  \\\n0          The Two Towers (The Lord of the Rings, Part 2)          135   \n1            Harry Potter and the Goblet of Fire (Book 4)          242   \n2       Harry Potter and the Prisoner of Azkaban (Book 3)          274   \n3       The Return of the King (The Lord of the Rings,...          101   \n4       Harry Potter and the Order of the Phoenix (Boo...          211   \n...                                                   ...          ...   \n135568                    The Sexual Life of Catherine M.           22   \n135569                                          4 Blondes           52   \n135570                                       Four Blondes           65   \n135571                                       Isle of Dogs          106   \n135572                                        Wild Animus          581   \n\n        ratingAverage     score  \n0            9.333333  8.942707  \n1            9.107438  8.897070  \n2            9.040146  8.859789  \n3            9.297030  8.822509  \n4            9.047393  8.820613  \n...               ...       ...  \n135568       4.818182  6.628610  \n135569       5.653846  6.510585  \n135570       5.353846  6.218798  \n135571       5.433962  6.034067  \n135572       4.390706  4.598992  \n\n[135573 rows x 4 columns]",
      "text/html": "<div>\n<style scoped>\n    .dataframe tbody tr th:only-of-type {\n        vertical-align: middle;\n    }\n\n    .dataframe tbody tr th {\n        vertical-align: top;\n    }\n\n    .dataframe thead th {\n        text-align: right;\n    }\n</style>\n<table border=\"1\" class=\"dataframe\">\n  <thead>\n    <tr style=\"text-align: right;\">\n      <th></th>\n      <th>bookTitle</th>\n      <th>ratingCount</th>\n      <th>ratingAverage</th>\n      <th>score</th>\n    </tr>\n  </thead>\n  <tbody>\n    <tr>\n      <th>0</th>\n      <td>The Two Towers (The Lord of the Rings, Part 2)</td>\n      <td>135</td>\n      <td>9.333333</td>\n      <td>8.942707</td>\n    </tr>\n    <tr>\n      <th>1</th>\n      <td>Harry Potter and the Goblet of Fire (Book 4)</td>\n      <td>242</td>\n      <td>9.107438</td>\n      <td>8.897070</td>\n    </tr>\n    <tr>\n      <th>2</th>\n      <td>Harry Potter and the Prisoner of Azkaban (Book 3)</td>\n      <td>274</td>\n      <td>9.040146</td>\n      <td>8.859789</td>\n    </tr>\n    <tr>\n      <th>3</th>\n      <td>The Return of the King (The Lord of the Rings,...</td>\n      <td>101</td>\n      <td>9.297030</td>\n      <td>8.822509</td>\n    </tr>\n    <tr>\n      <th>4</th>\n      <td>Harry Potter and the Order of the Phoenix (Boo...</td>\n      <td>211</td>\n      <td>9.047393</td>\n      <td>8.820613</td>\n    </tr>\n    <tr>\n      <th>...</th>\n      <td>...</td>\n      <td>...</td>\n      <td>...</td>\n      <td>...</td>\n    </tr>\n    <tr>\n      <th>135568</th>\n      <td>The Sexual Life of Catherine M.</td>\n      <td>22</td>\n      <td>4.818182</td>\n      <td>6.628610</td>\n    </tr>\n    <tr>\n      <th>135569</th>\n      <td>4 Blondes</td>\n      <td>52</td>\n      <td>5.653846</td>\n      <td>6.510585</td>\n    </tr>\n    <tr>\n      <th>135570</th>\n      <td>Four Blondes</td>\n      <td>65</td>\n      <td>5.353846</td>\n      <td>6.218798</td>\n    </tr>\n    <tr>\n      <th>135571</th>\n      <td>Isle of Dogs</td>\n      <td>106</td>\n      <td>5.433962</td>\n      <td>6.034067</td>\n    </tr>\n    <tr>\n      <th>135572</th>\n      <td>Wild Animus</td>\n      <td>581</td>\n      <td>4.390706</td>\n      <td>4.598992</td>\n    </tr>\n  </tbody>\n</table>\n<p>135573 rows × 4 columns</p>\n</div>"
     },
     "execution_count": 32,
     "metadata": {},
     "output_type": "execute_result"
    }
   ],
   "source": [
    "ndf"
   ],
   "metadata": {
    "collapsed": false,
    "pycharm": {
     "name": "#%%\n"
    }
   }
  },
  {
   "cell_type": "markdown",
   "source": [
    "we can notice that some of best selling books like Harry Potter, the lord of the rings, the little  Prince in the top of the recommded list\n"
   ],
   "metadata": {
    "collapsed": false
   }
  },
  {
   "cell_type": "code",
   "execution_count": null,
   "outputs": [],
   "source": [],
   "metadata": {
    "collapsed": false,
    "pycharm": {
     "name": "#%%\n"
    }
   }
  },
  {
   "cell_type": "code",
   "execution_count": null,
   "outputs": [],
   "source": [],
   "metadata": {
    "collapsed": false,
    "pycharm": {
     "name": "#%%\n"
    }
   }
  }
 ],
 "metadata": {
  "kernelspec": {
   "display_name": "Python 3",
   "language": "python",
   "name": "python3"
  },
  "language_info": {
   "codemirror_mode": {
    "name": "ipython",
    "version": 2
   },
   "file_extension": ".py",
   "mimetype": "text/x-python",
   "name": "python",
   "nbconvert_exporter": "python",
   "pygments_lexer": "ipython2",
   "version": "2.7.6"
  }
 },
 "nbformat": 4,
 "nbformat_minor": 0
}