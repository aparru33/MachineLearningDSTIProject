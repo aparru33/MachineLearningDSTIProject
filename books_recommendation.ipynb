{
 "cells": [
  {
   "cell_type": "markdown",
   "id": "c601210e",
   "metadata": {},
   "source": [
    "# Books EDA and recommendation system"
   ]
  },
  {
   "cell_type": "markdown",
   "id": "97ff8289",
   "metadata": {},
   "source": [
    "Finding a dataset with reasonnable size and data about user is not common. It's why I have chosen the data at https://www.kaggle.com/datasets/saurabhbagchi/books-dataset.\n",
    "A said in the Acknowledgements part of this page, the data was collected by Cai-Nicolas Ziegler in 2004. The original links is http://www2.informatik.uni-freiburg.de/~cziegler/BX/.\n",
    "The data is a litle old but it provides a good dataset for training. The usability score on Kaggle is 10.0 which is fairly good. Other datasets with user ratings were too voluminous like this one https://www.kaggle.com/datasets/bahramjannesarr/goodreads-book-datasets-10m, the usability was bad or the source was not provided."
   ]
  },
  {
   "cell_type": "markdown",
   "id": "b5609a1d",
   "metadata": {},
   "source": [
    "This notebook is divided in two parts. The first is an EDA about the books and teh second is a recommendations system. "
   ]
  },
  {
   "cell_type": "markdown",
   "id": "8cc68a19",
   "metadata": {},
   "source": [
    "## Setup the environment"
   ]
  },
  {
   "cell_type": "markdown",
   "id": "0b84044e",
   "metadata": {},
   "source": [
    "An environment was created for this project. The python version is 3.10.8 as seen below"
   ]
  },
  {
   "cell_type": "code",
   "execution_count": 1,
   "id": "89a3b7c6",
   "metadata": {},
   "outputs": [
    {
     "name": "stdout",
     "output_type": "stream",
     "text": [
      "mlProject\n"
     ]
    }
   ],
   "source": [
    "!echo %CONDA_DEFAULT_ENV%"
   ]
  },
  {
   "cell_type": "code",
   "execution_count": 14,
   "id": "c78726df",
   "metadata": {},
   "outputs": [
    {
     "name": "stdout",
     "output_type": "stream",
     "text": [
      "Python 3.10.8\n"
     ]
    }
   ],
   "source": [
    "!python --version"
   ]
  },
  {
   "cell_type": "code",
   "execution_count": 15,
   "id": "8f4f6ee6",
   "metadata": {},
   "outputs": [
    {
     "name": "stdout",
     "output_type": "stream",
     "text": [
      "Name: pandas\n",
      "Version: 1.5.2\n",
      "Summary: Powerful data structures for data analysis, time series, and statistics\n",
      "Home-page: https://pandas.pydata.org\n",
      "Author: The Pandas Development Team\n",
      "Author-email: pandas-dev@python.org\n",
      "License: BSD-3-Clause\n",
      "Location: c:\\users\\adrie\\anaconda3\\envs\\mlproject\\lib\\site-packages\n",
      "Requires: numpy, python-dateutil, pytz\n",
      "Required-by: seaborn\n"
     ]
    }
   ],
   "source": [
    "!pip show pandas"
   ]
  },
  {
   "cell_type": "markdown",
   "id": "0a7cc686",
   "metadata": {},
   "source": [
    "To use linear algebra we import numpy and to process the data we import pandas"
   ]
  },
  {
   "cell_type": "code",
   "execution_count": 1,
   "id": "299cf73c",
   "metadata": {},
   "outputs": [],
   "source": [
    "import numpy as np # linear algebra\n",
    "import pandas as pd # data processing"
   ]
  },
  {
   "cell_type": "markdown",
   "id": "ccdd5a2c",
   "metadata": {},
   "source": [
    "To get and manipulate file, we import the os package"
   ]
  },
  {
   "cell_type": "code",
   "execution_count": 2,
   "id": "e717bad3",
   "metadata": {},
   "outputs": [],
   "source": [
    "import os"
   ]
  },
  {
   "cell_type": "markdown",
   "id": "88e032eb",
   "metadata": {},
   "source": [
    "To visualize data we install an import matplotlib and to improv visualization we use seaborn"
   ]
  },
  {
   "cell_type": "code",
   "execution_count": 3,
   "id": "12a6cd87",
   "metadata": {},
   "outputs": [],
   "source": [
    "import pandas as pd\n",
    "import matplotlib.pyplot as plt\n",
    "import seaborn as sns"
   ]
  },
  {
   "cell_type": "markdown",
   "id": "2a3b6c6e",
   "metadata": {},
   "source": [
    "## Loading the data"
   ]
  },
  {
   "cell_type": "code",
   "execution_count": 4,
   "id": "2021fe99",
   "metadata": {},
   "outputs": [],
   "source": [
    "#path and file name\n",
    "files_path=\"D:/Workspace_Python/MLProject/dataset/books_data/\"\n",
    "books_csv=\"books.csv\"\n",
    "users_csv=\"users.csv\"\n",
    "ratings_csv=\"ratings.csv\""
   ]
  },
  {
   "cell_type": "code",
   "execution_count": 5,
   "id": "e1cbe111",
   "metadata": {
    "scrolled": true
   },
   "outputs": [
    {
     "name": "stderr",
     "output_type": "stream",
     "text": [
      "C:\\Users\\adrie\\AppData\\Local\\Temp\\ipykernel_16336\\4244541532.py:1: DtypeWarning: Columns (3) have mixed types. Specify dtype option on import or set low_memory=False.\n",
      "  books = pd.read_csv(files_path+books_csv, sep=\";\",on_bad_lines='warn', encoding=\"latin-1\")\n"
     ]
    }
   ],
   "source": [
    "books = pd.read_csv(files_path+books_csv, sep=\";\",on_bad_lines='warn', encoding=\"latin-1\")\n",
    "books.columns = ['ISBN', 'bookTitle', 'bookAuthor', 'yearOfPublication', 'publisher', \n",
    "                 'imageUrlS', 'imageUrlM', 'imageUrlL']"
   ]
  },
  {
   "cell_type": "markdown",
   "id": "23021be1",
   "metadata": {},
   "source": [
    "As we can see, some lines were skipped because they have too many fields. We should see if this data can be cleanned so we can used them. As we doesn't have many rows in error and the files are readable with tools like Notepad++ or Excel, we can do it manually. If it wasn't the case we should have wrote a custom reader to store the line in error.\n",
    "When looking at the file we can see the presence of \"&amp;\" string which can create unexpected columns du to the semicolon. To correct that, we remplace \"&amp;\"  by \"&\"\n",
    "By rerunning the read_csv function, we still have some errors:\n",
    "\n",
    "Skipping line 43667: expected 8 fields, saw 10\n",
    "\n",
    "Skipping line 144058: expected 8 fields, saw 9\n",
    "Skipping line 180189: expected 8 fields, saw 9\n",
    "\n",
    "Skipping line 209388: expected 8 fields, saw 9\n",
    "Skipping line 227933: expected 8 fields, saw 10\n",
    "Skipping line 261529: expected 8 fields, saw 9\n",
    "\n",
    "Again this result of title containing both \" \\\" \" and \" ; \". As we have only 6 rows affected, we correct them manually by replacing \" \\\" \" by \" ' \" then \" ; \" by \" , \" if necessary.\n",
    "Rerunning the above cell and check if all lines are loaded:"
   ]
  },
  {
   "cell_type": "code",
   "execution_count": 42,
   "id": "c3b81f6d",
   "metadata": {},
   "outputs": [
    {
     "data": {
      "text/plain": [
       "(271379, 8)"
      ]
     },
     "execution_count": 42,
     "metadata": {},
     "output_type": "execute_result"
    }
   ],
   "source": [
    "books.shape"
   ]
  },
  {
   "cell_type": "markdown",
   "id": "ae111fdb",
   "metadata": {},
   "source": [
    "The number of rows and columns in the dataFram is the same than the file, so far so good.\n",
    "We can now explore the data"
   ]
  },
  {
   "cell_type": "markdown",
   "id": "ac9f77b6",
   "metadata": {},
   "source": [
    "## Search of inconsistency in the data"
   ]
  },
  {
   "cell_type": "markdown",
   "id": "1a602f4c",
   "metadata": {},
   "source": [
    "### Cleaning of the books dataset"
   ]
  },
  {
   "cell_type": "code",
   "execution_count": 32,
   "id": "89c86c07",
   "metadata": {
    "scrolled": true
   },
   "outputs": [
    {
     "data": {
      "text/html": [
       "<div>\n",
       "<style scoped>\n",
       "    .dataframe tbody tr th:only-of-type {\n",
       "        vertical-align: middle;\n",
       "    }\n",
       "\n",
       "    .dataframe tbody tr th {\n",
       "        vertical-align: top;\n",
       "    }\n",
       "\n",
       "    .dataframe thead th {\n",
       "        text-align: right;\n",
       "    }\n",
       "</style>\n",
       "<table border=\"1\" class=\"dataframe\">\n",
       "  <thead>\n",
       "    <tr style=\"text-align: right;\">\n",
       "      <th></th>\n",
       "      <th>ISBN</th>\n",
       "      <th>bookTitle</th>\n",
       "      <th>bookAuthor</th>\n",
       "      <th>yearOfPublication</th>\n",
       "      <th>publisher</th>\n",
       "      <th>imageUrlS</th>\n",
       "      <th>imageUrlM</th>\n",
       "      <th>imageUrlL</th>\n",
       "    </tr>\n",
       "  </thead>\n",
       "  <tbody>\n",
       "    <tr>\n",
       "      <th>0</th>\n",
       "      <td>0195153448</td>\n",
       "      <td>Classical Mythology</td>\n",
       "      <td>Mark P. O. Morford</td>\n",
       "      <td>2002</td>\n",
       "      <td>Oxford University Press</td>\n",
       "      <td>http://images.amazon.com/images/P/0195153448.0...</td>\n",
       "      <td>http://images.amazon.com/images/P/0195153448.0...</td>\n",
       "      <td>http://images.amazon.com/images/P/0195153448.0...</td>\n",
       "    </tr>\n",
       "    <tr>\n",
       "      <th>1</th>\n",
       "      <td>0002005018</td>\n",
       "      <td>Clara Callan</td>\n",
       "      <td>Richard Bruce Wright</td>\n",
       "      <td>2001</td>\n",
       "      <td>HarperFlamingo Canada</td>\n",
       "      <td>http://images.amazon.com/images/P/0002005018.0...</td>\n",
       "      <td>http://images.amazon.com/images/P/0002005018.0...</td>\n",
       "      <td>http://images.amazon.com/images/P/0002005018.0...</td>\n",
       "    </tr>\n",
       "    <tr>\n",
       "      <th>2</th>\n",
       "      <td>0060973129</td>\n",
       "      <td>Decision in Normandy</td>\n",
       "      <td>Carlo D'Este</td>\n",
       "      <td>1991</td>\n",
       "      <td>HarperPerennial</td>\n",
       "      <td>http://images.amazon.com/images/P/0060973129.0...</td>\n",
       "      <td>http://images.amazon.com/images/P/0060973129.0...</td>\n",
       "      <td>http://images.amazon.com/images/P/0060973129.0...</td>\n",
       "    </tr>\n",
       "    <tr>\n",
       "      <th>3</th>\n",
       "      <td>0374157065</td>\n",
       "      <td>Flu: The Story of the Great Influenza Pandemic...</td>\n",
       "      <td>Gina Bari Kolata</td>\n",
       "      <td>1999</td>\n",
       "      <td>Farrar Straus Giroux</td>\n",
       "      <td>http://images.amazon.com/images/P/0374157065.0...</td>\n",
       "      <td>http://images.amazon.com/images/P/0374157065.0...</td>\n",
       "      <td>http://images.amazon.com/images/P/0374157065.0...</td>\n",
       "    </tr>\n",
       "    <tr>\n",
       "      <th>4</th>\n",
       "      <td>0393045218</td>\n",
       "      <td>The Mummies of Urumchi</td>\n",
       "      <td>E. J. W. Barber</td>\n",
       "      <td>1999</td>\n",
       "      <td>W. W. Norton &amp; Company</td>\n",
       "      <td>http://images.amazon.com/images/P/0393045218.0...</td>\n",
       "      <td>http://images.amazon.com/images/P/0393045218.0...</td>\n",
       "      <td>http://images.amazon.com/images/P/0393045218.0...</td>\n",
       "    </tr>\n",
       "  </tbody>\n",
       "</table>\n",
       "</div>"
      ],
      "text/plain": [
       "         ISBN                                          bookTitle  \\\n",
       "0  0195153448                                Classical Mythology   \n",
       "1  0002005018                                       Clara Callan   \n",
       "2  0060973129                               Decision in Normandy   \n",
       "3  0374157065  Flu: The Story of the Great Influenza Pandemic...   \n",
       "4  0393045218                             The Mummies of Urumchi   \n",
       "\n",
       "             bookAuthor yearOfPublication                publisher  \\\n",
       "0    Mark P. O. Morford              2002  Oxford University Press   \n",
       "1  Richard Bruce Wright              2001    HarperFlamingo Canada   \n",
       "2          Carlo D'Este              1991          HarperPerennial   \n",
       "3      Gina Bari Kolata              1999     Farrar Straus Giroux   \n",
       "4       E. J. W. Barber              1999   W. W. Norton & Company   \n",
       "\n",
       "                                           imageUrlS  \\\n",
       "0  http://images.amazon.com/images/P/0195153448.0...   \n",
       "1  http://images.amazon.com/images/P/0002005018.0...   \n",
       "2  http://images.amazon.com/images/P/0060973129.0...   \n",
       "3  http://images.amazon.com/images/P/0374157065.0...   \n",
       "4  http://images.amazon.com/images/P/0393045218.0...   \n",
       "\n",
       "                                           imageUrlM  \\\n",
       "0  http://images.amazon.com/images/P/0195153448.0...   \n",
       "1  http://images.amazon.com/images/P/0002005018.0...   \n",
       "2  http://images.amazon.com/images/P/0060973129.0...   \n",
       "3  http://images.amazon.com/images/P/0374157065.0...   \n",
       "4  http://images.amazon.com/images/P/0393045218.0...   \n",
       "\n",
       "                                           imageUrlL  \n",
       "0  http://images.amazon.com/images/P/0195153448.0...  \n",
       "1  http://images.amazon.com/images/P/0002005018.0...  \n",
       "2  http://images.amazon.com/images/P/0060973129.0...  \n",
       "3  http://images.amazon.com/images/P/0374157065.0...  \n",
       "4  http://images.amazon.com/images/P/0393045218.0...  "
      ]
     },
     "execution_count": 32,
     "metadata": {},
     "output_type": "execute_result"
    }
   ],
   "source": [
    "books.head()"
   ]
  },
  {
   "cell_type": "markdown",
   "id": "220bdba0",
   "metadata": {},
   "source": [
    "We observe that the three last columns are URL of image so we can discard them as they don't contain useful data. "
   ]
  },
  {
   "cell_type": "code",
   "execution_count": 6,
   "id": "f3f9379d",
   "metadata": {},
   "outputs": [
    {
     "data": {
      "text/html": [
       "<div>\n",
       "<style scoped>\n",
       "    .dataframe tbody tr th:only-of-type {\n",
       "        vertical-align: middle;\n",
       "    }\n",
       "\n",
       "    .dataframe tbody tr th {\n",
       "        vertical-align: top;\n",
       "    }\n",
       "\n",
       "    .dataframe thead th {\n",
       "        text-align: right;\n",
       "    }\n",
       "</style>\n",
       "<table border=\"1\" class=\"dataframe\">\n",
       "  <thead>\n",
       "    <tr style=\"text-align: right;\">\n",
       "      <th></th>\n",
       "      <th>ISBN</th>\n",
       "      <th>bookTitle</th>\n",
       "      <th>bookAuthor</th>\n",
       "      <th>yearOfPublication</th>\n",
       "      <th>publisher</th>\n",
       "    </tr>\n",
       "  </thead>\n",
       "  <tbody>\n",
       "    <tr>\n",
       "      <th>0</th>\n",
       "      <td>0195153448</td>\n",
       "      <td>Classical Mythology</td>\n",
       "      <td>Mark P. O. Morford</td>\n",
       "      <td>2002</td>\n",
       "      <td>Oxford University Press</td>\n",
       "    </tr>\n",
       "    <tr>\n",
       "      <th>1</th>\n",
       "      <td>0002005018</td>\n",
       "      <td>Clara Callan</td>\n",
       "      <td>Richard Bruce Wright</td>\n",
       "      <td>2001</td>\n",
       "      <td>HarperFlamingo Canada</td>\n",
       "    </tr>\n",
       "    <tr>\n",
       "      <th>2</th>\n",
       "      <td>0060973129</td>\n",
       "      <td>Decision in Normandy</td>\n",
       "      <td>Carlo D'Este</td>\n",
       "      <td>1991</td>\n",
       "      <td>HarperPerennial</td>\n",
       "    </tr>\n",
       "    <tr>\n",
       "      <th>3</th>\n",
       "      <td>0374157065</td>\n",
       "      <td>Flu: The Story of the Great Influenza Pandemic...</td>\n",
       "      <td>Gina Bari Kolata</td>\n",
       "      <td>1999</td>\n",
       "      <td>Farrar Straus Giroux</td>\n",
       "    </tr>\n",
       "    <tr>\n",
       "      <th>4</th>\n",
       "      <td>0393045218</td>\n",
       "      <td>The Mummies of Urumchi</td>\n",
       "      <td>E. J. W. Barber</td>\n",
       "      <td>1999</td>\n",
       "      <td>W. W. Norton &amp; Company</td>\n",
       "    </tr>\n",
       "  </tbody>\n",
       "</table>\n",
       "</div>"
      ],
      "text/plain": [
       "         ISBN                                          bookTitle  \\\n",
       "0  0195153448                                Classical Mythology   \n",
       "1  0002005018                                       Clara Callan   \n",
       "2  0060973129                               Decision in Normandy   \n",
       "3  0374157065  Flu: The Story of the Great Influenza Pandemic...   \n",
       "4  0393045218                             The Mummies of Urumchi   \n",
       "\n",
       "             bookAuthor yearOfPublication                publisher  \n",
       "0    Mark P. O. Morford              2002  Oxford University Press  \n",
       "1  Richard Bruce Wright              2001    HarperFlamingo Canada  \n",
       "2          Carlo D'Este              1991          HarperPerennial  \n",
       "3      Gina Bari Kolata              1999     Farrar Straus Giroux  \n",
       "4       E. J. W. Barber              1999   W. W. Norton & Company  "
      ]
     },
     "execution_count": 6,
     "metadata": {},
     "output_type": "execute_result"
    }
   ],
   "source": [
    "books=books.drop(['imageUrlS','imageUrlM','imageUrlL'], axis=1)\n",
    "books.head()"
   ]
  },
  {
   "cell_type": "markdown",
   "id": "e885f06f",
   "metadata": {},
   "source": [
    "The column yearOfPublication should contain only year and be convertible to integer. We check if it's the case"
   ]
  },
  {
   "cell_type": "code",
   "execution_count": 7,
   "id": "2e04690b",
   "metadata": {},
   "outputs": [
    {
     "data": {
      "text/plain": [
       "array([2002, 2001, 1991, 1999, 2000, 1993, 1996, 1988, 2004, 1998, 1994,\n",
       "       2003, 1997, 1983, 1979, 1995, 1982, 1985, 1992, 1986, 1978, 1980,\n",
       "       1952, 1987, 1990, 1981, 1989, 1984, 0, 1968, 1961, 1958, 1974,\n",
       "       1976, 1971, 1977, 1975, 1965, 1941, 1970, 1962, 1973, 1972, 1960,\n",
       "       1966, 1920, 1956, 1959, 1953, 1951, 1942, 1963, 1964, 1969, 1954,\n",
       "       1950, 1967, 2005, 1957, 1940, 1937, 1955, 1946, 1936, 1930, 2011,\n",
       "       1925, 1948, 1943, 1947, 1945, 1923, 2020, 1939, 1926, 1938, 2030,\n",
       "       1911, 1904, 1949, 1932, 1928, 1929, 1927, 1931, 1914, 2050, 1934,\n",
       "       1910, 1933, 1902, 1924, 1921, 1900, 2038, 2026, 1944, 1917, 1901,\n",
       "       2010, 1908, 1906, 1935, 1806, 2021, '1999', '2002', '2001', '2000',\n",
       "       '1996', '1992', '1995', '2004', '2003', '1990', '1994', '1986',\n",
       "       '1989', '1981', '1993', '1983', '1982', '1976', '1991', '1977',\n",
       "       '1998', '0', '1997', '1974', '1968', '1987', '1984', '1988',\n",
       "       '1963', '1956', '1970', '1985', '1978', '1973', '1980', '1979',\n",
       "       '1975', '1969', '1961', '1965', '1939', '1958', '1950', '1953',\n",
       "       '1966', '1971', '1959', '1972', '1955', '1957', '1945', '1960',\n",
       "       '1967', '1932', '1924', '1964', '2012', '1911', '1927', '1948',\n",
       "       '1962', '2006', '1952', '1940', '1951', '1931', '1954', '2005',\n",
       "       '1930', '1941', '1944', 'DK Publishing Inc', '1943', '1938',\n",
       "       '1900', '1942', '1923', '1920', '1933', 'Gallimard', '1909',\n",
       "       '1946', '2008', '1378', '2030', '1936', '1947', '2011', '2020',\n",
       "       '1919', '1949', '1922', '1897', '2024', '1376', '1926', '2037'],\n",
       "      dtype=object)"
      ]
     },
     "execution_count": 7,
     "metadata": {},
     "output_type": "execute_result"
    }
   ],
   "source": [
    "books[\"yearOfPublication\"].unique()"
   ]
  },
  {
   "cell_type": "markdown",
   "id": "bc13a42c",
   "metadata": {},
   "source": [
    "We observe that some date are instead publishers. We retrieve this observations:"
   ]
  },
  {
   "cell_type": "code",
   "execution_count": 24,
   "id": "763ebc92",
   "metadata": {},
   "outputs": [
    {
     "data": {
      "text/html": [
       "<div>\n",
       "<style scoped>\n",
       "    .dataframe tbody tr th:only-of-type {\n",
       "        vertical-align: middle;\n",
       "    }\n",
       "\n",
       "    .dataframe tbody tr th {\n",
       "        vertical-align: top;\n",
       "    }\n",
       "\n",
       "    .dataframe thead th {\n",
       "        text-align: right;\n",
       "    }\n",
       "</style>\n",
       "<table border=\"1\" class=\"dataframe\">\n",
       "  <thead>\n",
       "    <tr style=\"text-align: right;\">\n",
       "      <th></th>\n",
       "      <th>ISBN</th>\n",
       "      <th>bookTitle</th>\n",
       "      <th>bookAuthor</th>\n",
       "      <th>yearOfPublication</th>\n",
       "      <th>publisher</th>\n",
       "    </tr>\n",
       "  </thead>\n",
       "  <tbody>\n",
       "    <tr>\n",
       "      <th>209550</th>\n",
       "      <td>078946697X</td>\n",
       "      <td>DK Readers: Creating the X-Men, How It All Beg...</td>\n",
       "      <td>2000</td>\n",
       "      <td>DK Publishing Inc</td>\n",
       "      <td>http://images.amazon.com/images/P/078946697X.0...</td>\n",
       "    </tr>\n",
       "    <tr>\n",
       "      <th>220744</th>\n",
       "      <td>2070426769</td>\n",
       "      <td>Peuple du ciel, suivi de 'Les Bergers\\\";Jean-M...</td>\n",
       "      <td>2003</td>\n",
       "      <td>Gallimard</td>\n",
       "      <td>http://images.amazon.com/images/P/2070426769.0...</td>\n",
       "    </tr>\n",
       "    <tr>\n",
       "      <th>221691</th>\n",
       "      <td>0789466953</td>\n",
       "      <td>DK Readers: Creating the X-Men, How Comic Book...</td>\n",
       "      <td>2000</td>\n",
       "      <td>DK Publishing Inc</td>\n",
       "      <td>http://images.amazon.com/images/P/0789466953.0...</td>\n",
       "    </tr>\n",
       "  </tbody>\n",
       "</table>\n",
       "</div>"
      ],
      "text/plain": [
       "              ISBN                                          bookTitle  \\\n",
       "209550  078946697X  DK Readers: Creating the X-Men, How It All Beg...   \n",
       "220744  2070426769  Peuple du ciel, suivi de 'Les Bergers\\\";Jean-M...   \n",
       "221691  0789466953  DK Readers: Creating the X-Men, How Comic Book...   \n",
       "\n",
       "       bookAuthor  yearOfPublication  \\\n",
       "209550       2000  DK Publishing Inc   \n",
       "220744       2003          Gallimard   \n",
       "221691       2000  DK Publishing Inc   \n",
       "\n",
       "                                                publisher  \n",
       "209550  http://images.amazon.com/images/P/078946697X.0...  \n",
       "220744  http://images.amazon.com/images/P/2070426769.0...  \n",
       "221691  http://images.amazon.com/images/P/0789466953.0...  "
      ]
     },
     "execution_count": 24,
     "metadata": {},
     "output_type": "execute_result"
    }
   ],
   "source": [
    "bad_rows=books[(books[\"yearOfPublication\"]=='DK Publishing Inc') | (books[\"yearOfPublication\"] == 'Gallimard')]\n",
    "bad_rows"
   ]
  },
  {
   "cell_type": "markdown",
   "id": "fe104e94",
   "metadata": {},
   "source": [
    "The book title seems to contain the book author. We clean this rows."
   ]
  },
  {
   "cell_type": "code",
   "execution_count": 25,
   "id": "cb9c1d4b",
   "metadata": {
    "scrolled": false
   },
   "outputs": [
    {
     "name": "stderr",
     "output_type": "stream",
     "text": [
      "C:\\Users\\adrie\\AppData\\Local\\Temp\\ipykernel_16336\\1544933059.py:1: SettingWithCopyWarning: \n",
      "A value is trying to be set on a copy of a slice from a DataFrame.\n",
      "Try using .loc[row_indexer,col_indexer] = value instead\n",
      "\n",
      "See the caveats in the documentation: https://pandas.pydata.org/pandas-docs/stable/user_guide/indexing.html#returning-a-view-versus-a-copy\n",
      "  bad_rows[['realBookTitle','realBookAuthor']]=bad_rows.bookTitle.str.split('\\\\\\\\\";',expand=True)\n",
      "C:\\Users\\adrie\\AppData\\Local\\Temp\\ipykernel_16336\\1544933059.py:1: SettingWithCopyWarning: \n",
      "A value is trying to be set on a copy of a slice from a DataFrame.\n",
      "Try using .loc[row_indexer,col_indexer] = value instead\n",
      "\n",
      "See the caveats in the documentation: https://pandas.pydata.org/pandas-docs/stable/user_guide/indexing.html#returning-a-view-versus-a-copy\n",
      "  bad_rows[['realBookTitle','realBookAuthor']]=bad_rows.bookTitle.str.split('\\\\\\\\\";',expand=True)\n"
     ]
    },
    {
     "data": {
      "text/html": [
       "<div>\n",
       "<style scoped>\n",
       "    .dataframe tbody tr th:only-of-type {\n",
       "        vertical-align: middle;\n",
       "    }\n",
       "\n",
       "    .dataframe tbody tr th {\n",
       "        vertical-align: top;\n",
       "    }\n",
       "\n",
       "    .dataframe thead th {\n",
       "        text-align: right;\n",
       "    }\n",
       "</style>\n",
       "<table border=\"1\" class=\"dataframe\">\n",
       "  <thead>\n",
       "    <tr style=\"text-align: right;\">\n",
       "      <th></th>\n",
       "      <th>ISBN</th>\n",
       "      <th>bookTitle</th>\n",
       "      <th>bookAuthor</th>\n",
       "      <th>yearOfPublication</th>\n",
       "      <th>publisher</th>\n",
       "      <th>realBookTitle</th>\n",
       "      <th>realBookAuthor</th>\n",
       "    </tr>\n",
       "  </thead>\n",
       "  <tbody>\n",
       "    <tr>\n",
       "      <th>209550</th>\n",
       "      <td>078946697X</td>\n",
       "      <td>DK Readers: Creating the X-Men, How It All Beg...</td>\n",
       "      <td>2000</td>\n",
       "      <td>DK Publishing Inc</td>\n",
       "      <td>http://images.amazon.com/images/P/078946697X.0...</td>\n",
       "      <td>DK Readers: Creating the X-Men, How It All Beg...</td>\n",
       "      <td>Michael Teitelbaum\"</td>\n",
       "    </tr>\n",
       "    <tr>\n",
       "      <th>220744</th>\n",
       "      <td>2070426769</td>\n",
       "      <td>Peuple du ciel, suivi de 'Les Bergers\\\";Jean-M...</td>\n",
       "      <td>2003</td>\n",
       "      <td>Gallimard</td>\n",
       "      <td>http://images.amazon.com/images/P/2070426769.0...</td>\n",
       "      <td>Peuple du ciel, suivi de 'Les Bergers</td>\n",
       "      <td>Jean-Marie Gustave Le ClÃ?Â©zio\"</td>\n",
       "    </tr>\n",
       "    <tr>\n",
       "      <th>221691</th>\n",
       "      <td>0789466953</td>\n",
       "      <td>DK Readers: Creating the X-Men, How Comic Book...</td>\n",
       "      <td>2000</td>\n",
       "      <td>DK Publishing Inc</td>\n",
       "      <td>http://images.amazon.com/images/P/0789466953.0...</td>\n",
       "      <td>DK Readers: Creating the X-Men, How Comic Book...</td>\n",
       "      <td>James Buckley\"</td>\n",
       "    </tr>\n",
       "  </tbody>\n",
       "</table>\n",
       "</div>"
      ],
      "text/plain": [
       "              ISBN                                          bookTitle  \\\n",
       "209550  078946697X  DK Readers: Creating the X-Men, How It All Beg...   \n",
       "220744  2070426769  Peuple du ciel, suivi de 'Les Bergers\\\";Jean-M...   \n",
       "221691  0789466953  DK Readers: Creating the X-Men, How Comic Book...   \n",
       "\n",
       "       bookAuthor  yearOfPublication  \\\n",
       "209550       2000  DK Publishing Inc   \n",
       "220744       2003          Gallimard   \n",
       "221691       2000  DK Publishing Inc   \n",
       "\n",
       "                                                publisher  \\\n",
       "209550  http://images.amazon.com/images/P/078946697X.0...   \n",
       "220744  http://images.amazon.com/images/P/2070426769.0...   \n",
       "221691  http://images.amazon.com/images/P/0789466953.0...   \n",
       "\n",
       "                                            realBookTitle  \\\n",
       "209550  DK Readers: Creating the X-Men, How It All Beg...   \n",
       "220744              Peuple du ciel, suivi de 'Les Bergers   \n",
       "221691  DK Readers: Creating the X-Men, How Comic Book...   \n",
       "\n",
       "                          realBookAuthor  \n",
       "209550               Michael Teitelbaum\"  \n",
       "220744  Jean-Marie Gustave Le ClÃ?Â©zio\"  \n",
       "221691                    James Buckley\"  "
      ]
     },
     "execution_count": 25,
     "metadata": {},
     "output_type": "execute_result"
    }
   ],
   "source": [
    "bad_rows[['realBookTitle','realBookAuthor']]=bad_rows.bookTitle.str.split('\\\\\\\\\";',expand=True)\n",
    "bad_rows"
   ]
  },
  {
   "cell_type": "raw",
   "id": "8bb84998",
   "metadata": {},
   "source": [
    "We are now able to correct the bad lines in the dataframe"
   ]
  },
  {
   "cell_type": "code",
   "execution_count": 26,
   "id": "2af7091e",
   "metadata": {
    "scrolled": true
   },
   "outputs": [
    {
     "data": {
      "text/html": [
       "<div>\n",
       "<style scoped>\n",
       "    .dataframe tbody tr th:only-of-type {\n",
       "        vertical-align: middle;\n",
       "    }\n",
       "\n",
       "    .dataframe tbody tr th {\n",
       "        vertical-align: top;\n",
       "    }\n",
       "\n",
       "    .dataframe thead th {\n",
       "        text-align: right;\n",
       "    }\n",
       "</style>\n",
       "<table border=\"1\" class=\"dataframe\">\n",
       "  <thead>\n",
       "    <tr style=\"text-align: right;\">\n",
       "      <th></th>\n",
       "      <th>ISBN</th>\n",
       "      <th>bookTitle</th>\n",
       "      <th>bookAuthor</th>\n",
       "      <th>yearOfPublication</th>\n",
       "      <th>publisher</th>\n",
       "    </tr>\n",
       "  </thead>\n",
       "  <tbody>\n",
       "    <tr>\n",
       "      <th>209550</th>\n",
       "      <td>078946697X</td>\n",
       "      <td>DK Readers: Creating the X-Men, How It All Beg...</td>\n",
       "      <td>Michael Teitelbaum\"</td>\n",
       "      <td>2000</td>\n",
       "      <td>DK Publishing Inc</td>\n",
       "    </tr>\n",
       "    <tr>\n",
       "      <th>220744</th>\n",
       "      <td>2070426769</td>\n",
       "      <td>Peuple du ciel, suivi de 'Les Bergers</td>\n",
       "      <td>Jean-Marie Gustave Le ClÃ?Â©zio\"</td>\n",
       "      <td>2003</td>\n",
       "      <td>Gallimard</td>\n",
       "    </tr>\n",
       "    <tr>\n",
       "      <th>221691</th>\n",
       "      <td>0789466953</td>\n",
       "      <td>DK Readers: Creating the X-Men, How Comic Book...</td>\n",
       "      <td>James Buckley\"</td>\n",
       "      <td>2000</td>\n",
       "      <td>DK Publishing Inc</td>\n",
       "    </tr>\n",
       "  </tbody>\n",
       "</table>\n",
       "</div>"
      ],
      "text/plain": [
       "              ISBN                                          bookTitle  \\\n",
       "209550  078946697X  DK Readers: Creating the X-Men, How It All Beg...   \n",
       "220744  2070426769              Peuple du ciel, suivi de 'Les Bergers   \n",
       "221691  0789466953  DK Readers: Creating the X-Men, How Comic Book...   \n",
       "\n",
       "                              bookAuthor yearOfPublication          publisher  \n",
       "209550               Michael Teitelbaum\"              2000  DK Publishing Inc  \n",
       "220744  Jean-Marie Gustave Le ClÃ?Â©zio\"              2003          Gallimard  \n",
       "221691                    James Buckley\"              2000  DK Publishing Inc  "
      ]
     },
     "execution_count": 26,
     "metadata": {},
     "output_type": "execute_result"
    }
   ],
   "source": [
    "lst=[]\n",
    "for i in bad_rows.index:\n",
    "    lst.append(i)\n",
    "    books.loc[i,\"publisher\"]=bad_rows.loc[i,\"yearOfPublication\"]\n",
    "    books.loc[i,\"yearOfPublication\"]=bad_rows.loc[i,\"bookAuthor\"]\n",
    "    books.loc[i,\"bookAuthor\"]=bad_rows.loc[i,\"realBookAuthor\"]\n",
    "    books.loc[i,\"bookTitle\"]=bad_rows.loc[i,\"realBookTitle\"]\n",
    "books.loc[lst]"
   ]
  },
  {
   "cell_type": "code",
   "execution_count": 27,
   "id": "46707876",
   "metadata": {},
   "outputs": [],
   "source": [
    "books[\"bookAuthor\"]=books[\"bookAuthor\"].str.replace('\"',\"'\")"
   ]
  },
  {
   "cell_type": "code",
   "execution_count": 28,
   "id": "62bc4e89",
   "metadata": {
    "scrolled": true
   },
   "outputs": [
    {
     "name": "stderr",
     "output_type": "stream",
     "text": [
      "C:\\Users\\adrie\\AppData\\Local\\Temp\\ipykernel_16336\\1141391955.py:1: FutureWarning: The default value of regex will change from True to False in a future version.\n",
      "  books[\"bookAuthor\"]=books[\"bookAuthor\"].str.replace(r'\\\\',\"\")\n"
     ]
    }
   ],
   "source": [
    "books[\"bookAuthor\"]=books[\"bookAuthor\"].str.replace(r'\\\\',\"\")"
   ]
  },
  {
   "cell_type": "markdown",
   "id": "f0c7ce83",
   "metadata": {},
   "source": [
    "Some rows has quote or double quote at the end of bookAuthor or bookTitle that doesn't close another quote. We remove them."
   ]
  },
  {
   "cell_type": "code",
   "execution_count": 29,
   "id": "6a36131c",
   "metadata": {},
   "outputs": [
    {
     "data": {
      "text/html": [
       "<div>\n",
       "<style scoped>\n",
       "    .dataframe tbody tr th:only-of-type {\n",
       "        vertical-align: middle;\n",
       "    }\n",
       "\n",
       "    .dataframe tbody tr th {\n",
       "        vertical-align: top;\n",
       "    }\n",
       "\n",
       "    .dataframe thead th {\n",
       "        text-align: right;\n",
       "    }\n",
       "</style>\n",
       "<table border=\"1\" class=\"dataframe\">\n",
       "  <thead>\n",
       "    <tr style=\"text-align: right;\">\n",
       "      <th></th>\n",
       "      <th>ISBN</th>\n",
       "      <th>bookTitle</th>\n",
       "      <th>bookAuthor</th>\n",
       "      <th>yearOfPublication</th>\n",
       "      <th>publisher</th>\n",
       "    </tr>\n",
       "  </thead>\n",
       "  <tbody>\n",
       "    <tr>\n",
       "      <th>98288</th>\n",
       "      <td>0416652700</td>\n",
       "      <td>The Pooh cook book: inspired by \\Winnie-the-Po...</td>\n",
       "      <td>;Katie Stewart'</td>\n",
       "      <td>1971</td>\n",
       "      <td>Methuen</td>\n",
       "    </tr>\n",
       "    <tr>\n",
       "      <th>112280</th>\n",
       "      <td>1853114103</td>\n",
       "      <td>Lord Have Mercy</td>\n",
       "      <td>'Ron''</td>\n",
       "      <td>2001</td>\n",
       "      <td>Canterbury Press</td>\n",
       "    </tr>\n",
       "    <tr>\n",
       "      <th>117995</th>\n",
       "      <td>0786881364</td>\n",
       "      <td>A Simple Program : A Contemporary Translation ...</td>\n",
       "      <td>J 'j''</td>\n",
       "      <td>1996</td>\n",
       "      <td>Hyperion</td>\n",
       "    </tr>\n",
       "    <tr>\n",
       "      <th>209550</th>\n",
       "      <td>078946697X</td>\n",
       "      <td>DK Readers: Creating the X-Men, How It All Beg...</td>\n",
       "      <td>Michael Teitelbaum'</td>\n",
       "      <td>2000</td>\n",
       "      <td>DK Publishing Inc</td>\n",
       "    </tr>\n",
       "    <tr>\n",
       "      <th>220744</th>\n",
       "      <td>2070426769</td>\n",
       "      <td>Peuple du ciel, suivi de 'Les Bergers</td>\n",
       "      <td>Jean-Marie Gustave Le ClÃ?Â©zio'</td>\n",
       "      <td>2003</td>\n",
       "      <td>Gallimard</td>\n",
       "    </tr>\n",
       "    <tr>\n",
       "      <th>221691</th>\n",
       "      <td>0789466953</td>\n",
       "      <td>DK Readers: Creating the X-Men, How Comic Book...</td>\n",
       "      <td>James Buckley'</td>\n",
       "      <td>2000</td>\n",
       "      <td>DK Publishing Inc</td>\n",
       "    </tr>\n",
       "    <tr>\n",
       "      <th>223761</th>\n",
       "      <td>1895455243</td>\n",
       "      <td>Finger Food (Company's Coming Pint Size)</td>\n",
       "      <td>Jean Pare'</td>\n",
       "      <td>1993</td>\n",
       "      <td>Company's Coming Publishing</td>\n",
       "    </tr>\n",
       "    <tr>\n",
       "      <th>245727</th>\n",
       "      <td>0961364920</td>\n",
       "      <td>A Timeless Place: Lett's Set a Spell at the Co...</td>\n",
       "      <td>Sandra 'Sandy Lynn' Lett'</td>\n",
       "      <td>2001</td>\n",
       "      <td>Transformations</td>\n",
       "    </tr>\n",
       "  </tbody>\n",
       "</table>\n",
       "</div>"
      ],
      "text/plain": [
       "              ISBN                                          bookTitle  \\\n",
       "98288   0416652700  The Pooh cook book: inspired by \\Winnie-the-Po...   \n",
       "112280  1853114103                                    Lord Have Mercy   \n",
       "117995  0786881364  A Simple Program : A Contemporary Translation ...   \n",
       "209550  078946697X  DK Readers: Creating the X-Men, How It All Beg...   \n",
       "220744  2070426769              Peuple du ciel, suivi de 'Les Bergers   \n",
       "221691  0789466953  DK Readers: Creating the X-Men, How Comic Book...   \n",
       "223761  1895455243           Finger Food (Company's Coming Pint Size)   \n",
       "245727  0961364920  A Timeless Place: Lett's Set a Spell at the Co...   \n",
       "\n",
       "                              bookAuthor yearOfPublication  \\\n",
       "98288                    ;Katie Stewart'              1971   \n",
       "112280                            'Ron''              2001   \n",
       "117995                            J 'j''              1996   \n",
       "209550               Michael Teitelbaum'              2000   \n",
       "220744  Jean-Marie Gustave Le ClÃ?Â©zio'              2003   \n",
       "221691                    James Buckley'              2000   \n",
       "223761                        Jean Pare'              1993   \n",
       "245727         Sandra 'Sandy Lynn' Lett'              2001   \n",
       "\n",
       "                          publisher  \n",
       "98288                       Methuen  \n",
       "112280             Canterbury Press  \n",
       "117995                     Hyperion  \n",
       "209550            DK Publishing Inc  \n",
       "220744                    Gallimard  \n",
       "221691            DK Publishing Inc  \n",
       "223761  Company's Coming Publishing  \n",
       "245727              Transformations  "
      ]
     },
     "execution_count": 29,
     "metadata": {},
     "output_type": "execute_result"
    }
   ],
   "source": [
    "books[books[\"bookAuthor\"].str.endswith(\"'\",na=False) & books[\"bookAuthor\"].str.count(\"'\")%2==1]"
   ]
  },
  {
   "cell_type": "code",
   "execution_count": 30,
   "id": "7b87763f",
   "metadata": {},
   "outputs": [],
   "source": [
    "condition=books[\"bookAuthor\"].str.endswith(\"'\",na=False) & books[\"bookAuthor\"].str.count(\"'\")%2==1\n",
    "books.loc[condition,\"bookAuthor\"]=books.loc[condition,\"bookAuthor\"].str.rstrip(\"'\")"
   ]
  },
  {
   "cell_type": "code",
   "execution_count": 31,
   "id": "2e311502",
   "metadata": {},
   "outputs": [
    {
     "data": {
      "text/html": [
       "<div>\n",
       "<style scoped>\n",
       "    .dataframe tbody tr th:only-of-type {\n",
       "        vertical-align: middle;\n",
       "    }\n",
       "\n",
       "    .dataframe tbody tr th {\n",
       "        vertical-align: top;\n",
       "    }\n",
       "\n",
       "    .dataframe thead th {\n",
       "        text-align: right;\n",
       "    }\n",
       "</style>\n",
       "<table border=\"1\" class=\"dataframe\">\n",
       "  <thead>\n",
       "    <tr style=\"text-align: right;\">\n",
       "      <th></th>\n",
       "      <th>ISBN</th>\n",
       "      <th>bookTitle</th>\n",
       "      <th>bookAuthor</th>\n",
       "      <th>yearOfPublication</th>\n",
       "      <th>publisher</th>\n",
       "    </tr>\n",
       "  </thead>\n",
       "  <tbody>\n",
       "  </tbody>\n",
       "</table>\n",
       "</div>"
      ],
      "text/plain": [
       "Empty DataFrame\n",
       "Columns: [ISBN, bookTitle, bookAuthor, yearOfPublication, publisher]\n",
       "Index: []"
      ]
     },
     "execution_count": 31,
     "metadata": {},
     "output_type": "execute_result"
    }
   ],
   "source": [
    "books[books[\"bookAuthor\"].str.endswith('\"',na=False) & books[\"bookAuthor\"].str.count('\"')%2==1]"
   ]
  },
  {
   "cell_type": "code",
   "execution_count": 35,
   "id": "3d197506",
   "metadata": {},
   "outputs": [
    {
     "data": {
      "text/plain": [
       "Series([], Name: bookTitle, dtype: object)"
      ]
     },
     "execution_count": 35,
     "metadata": {},
     "output_type": "execute_result"
    }
   ],
   "source": [
    "condition=books[\"bookTitle\"].str.endswith(\"'\",na=False) & books[\"bookTitle\"].str.count(\"'\")%2==1\n",
    "books.loc[condition,\"bookTitle\"]"
   ]
  },
  {
   "cell_type": "code",
   "execution_count": 33,
   "id": "74cbc164",
   "metadata": {},
   "outputs": [],
   "source": [
    "books.loc[condition,\"bookTitle\"]=books.loc[condition,\"bookTitle\"].str.rstrip(\"'\")"
   ]
  },
  {
   "cell_type": "code",
   "execution_count": 36,
   "id": "a24adff6",
   "metadata": {},
   "outputs": [
    {
     "data": {
      "text/plain": [
       "Series([], Name: bookTitle, dtype: object)"
      ]
     },
     "execution_count": 36,
     "metadata": {},
     "output_type": "execute_result"
    }
   ],
   "source": [
    "books.loc[condition,\"bookTitle\"]"
   ]
  },
  {
   "cell_type": "code",
   "execution_count": 37,
   "id": "364fa75a",
   "metadata": {},
   "outputs": [],
   "source": [
    "condition=books[\"bookTitle\"].str.endswith('\"',na=False) & books[\"bookTitle\"].str.count('\"')%2==1\n",
    "books.loc[condition,\"bookTitle\"]=books.loc[condition,\"bookTitle\"].str.rstrip(\"'\")"
   ]
  },
  {
   "cell_type": "code",
   "execution_count": 38,
   "id": "01f88747",
   "metadata": {
    "scrolled": true
   },
   "outputs": [
    {
     "name": "stderr",
     "output_type": "stream",
     "text": [
      "C:\\Users\\adrie\\AppData\\Local\\Temp\\ipykernel_16336\\3008223896.py:1: FutureWarning: The default value of regex will change from True to False in a future version.\n",
      "  books[\"bookTitle\"]=books[\"bookTitle\"].str.replace(r'\\\\',\"\")\n"
     ]
    }
   ],
   "source": [
    "books[\"bookTitle\"]=books[\"bookTitle\"].str.replace(r'\\\\',\"\")"
   ]
  },
  {
   "cell_type": "markdown",
   "id": "94952f20",
   "metadata": {},
   "source": [
    "We transform the year in integer to better handle them"
   ]
  },
  {
   "cell_type": "code",
   "execution_count": 39,
   "id": "3c70c93b",
   "metadata": {},
   "outputs": [
    {
     "data": {
      "text/plain": [
       "array([2002, 2001, 1991, 1999, 2000, 1993, 1996, 1988, 2004, 1998, 1994,\n",
       "       2003, 1997, 1983, 1979, 1995, 1982, 1985, 1992, 1986, 1978, 1980,\n",
       "       1952, 1987, 1990, 1981, 1989, 1984, 0, 1968, 1961, 1958, 1974,\n",
       "       1976, 1971, 1977, 1975, 1965, 1941, 1970, 1962, 1973, 1972, 1960,\n",
       "       1966, 1920, 1956, 1959, 1953, 1951, 1942, 1963, 1964, 1969, 1954,\n",
       "       1950, 1967, 2005, 1957, 1940, 1937, 1955, 1946, 1936, 1930, 2011,\n",
       "       1925, 1948, 1943, 1947, 1945, 1923, 2020, 1939, 1926, 1938, 2030,\n",
       "       1911, 1904, 1949, 1932, 1928, 1929, 1927, 1931, 1914, 2050, 1934,\n",
       "       1910, 1933, 1902, 1924, 1921, 1900, 2038, 2026, 1944, 1917, 1901,\n",
       "       2010, 1908, 1906, 1935, 1806, 2021, '1999', '2002', '2001', '2000',\n",
       "       '1996', '1992', '1995', '2004', '2003', '1990', '1994', '1986',\n",
       "       '1989', '1981', '1993', '1983', '1982', '1976', '1991', '1977',\n",
       "       '1998', '0', '1997', '1974', '1968', '1987', '1984', '1988',\n",
       "       '1963', '1956', '1970', '1985', '1978', '1973', '1980', '1979',\n",
       "       '1975', '1969', '1961', '1965', '1939', '1958', '1950', '1953',\n",
       "       '1966', '1971', '1959', '1972', '1955', '1957', '1945', '1960',\n",
       "       '1967', '1932', '1924', '1964', '2012', '1911', '1927', '1948',\n",
       "       '1962', '2006', '1952', '1940', '1951', '1931', '1954', '2005',\n",
       "       '1930', '1941', '1944', '1943', '1938', '1900', '1942', '1923',\n",
       "       '1920', '1933', '1909', '1946', '2008', '1378', '2030', '1936',\n",
       "       '1947', '2011', '2020', '1919', '1949', '1922', '1897', '2024',\n",
       "       '1376', '1926', '2037'], dtype=object)"
      ]
     },
     "execution_count": 39,
     "metadata": {},
     "output_type": "execute_result"
    }
   ],
   "source": [
    "books.yearOfPublication.unique()"
   ]
  },
  {
   "cell_type": "code",
   "execution_count": 40,
   "id": "1f8111f3",
   "metadata": {},
   "outputs": [],
   "source": [
    "books.yearOfPublication=books.yearOfPublication.astype(\"int\")"
   ]
  },
  {
   "cell_type": "markdown",
   "id": "dfaeb5ef",
   "metadata": {},
   "source": [
    "We check the presence of null value in the dataFrame"
   ]
  },
  {
   "cell_type": "code",
   "execution_count": 41,
   "id": "320c5745",
   "metadata": {},
   "outputs": [
    {
     "data": {
      "text/html": [
       "<div>\n",
       "<style scoped>\n",
       "    .dataframe tbody tr th:only-of-type {\n",
       "        vertical-align: middle;\n",
       "    }\n",
       "\n",
       "    .dataframe tbody tr th {\n",
       "        vertical-align: top;\n",
       "    }\n",
       "\n",
       "    .dataframe thead th {\n",
       "        text-align: right;\n",
       "    }\n",
       "</style>\n",
       "<table border=\"1\" class=\"dataframe\">\n",
       "  <thead>\n",
       "    <tr style=\"text-align: right;\">\n",
       "      <th></th>\n",
       "      <th>ISBN</th>\n",
       "      <th>bookTitle</th>\n",
       "      <th>bookAuthor</th>\n",
       "      <th>yearOfPublication</th>\n",
       "      <th>publisher</th>\n",
       "    </tr>\n",
       "  </thead>\n",
       "  <tbody>\n",
       "  </tbody>\n",
       "</table>\n",
       "</div>"
      ],
      "text/plain": [
       "Empty DataFrame\n",
       "Columns: [ISBN, bookTitle, bookAuthor, yearOfPublication, publisher]\n",
       "Index: []"
      ]
     },
     "execution_count": 41,
     "metadata": {},
     "output_type": "execute_result"
    }
   ],
   "source": [
    "books[books.yearOfPublication.isna()]"
   ]
  },
  {
   "cell_type": "code",
   "execution_count": 42,
   "id": "1ab1287b",
   "metadata": {},
   "outputs": [
    {
     "data": {
      "text/html": [
       "<div>\n",
       "<style scoped>\n",
       "    .dataframe tbody tr th:only-of-type {\n",
       "        vertical-align: middle;\n",
       "    }\n",
       "\n",
       "    .dataframe tbody tr th {\n",
       "        vertical-align: top;\n",
       "    }\n",
       "\n",
       "    .dataframe thead th {\n",
       "        text-align: right;\n",
       "    }\n",
       "</style>\n",
       "<table border=\"1\" class=\"dataframe\">\n",
       "  <thead>\n",
       "    <tr style=\"text-align: right;\">\n",
       "      <th></th>\n",
       "      <th>ISBN</th>\n",
       "      <th>bookTitle</th>\n",
       "      <th>bookAuthor</th>\n",
       "      <th>yearOfPublication</th>\n",
       "      <th>publisher</th>\n",
       "    </tr>\n",
       "  </thead>\n",
       "  <tbody>\n",
       "  </tbody>\n",
       "</table>\n",
       "</div>"
      ],
      "text/plain": [
       "Empty DataFrame\n",
       "Columns: [ISBN, bookTitle, bookAuthor, yearOfPublication, publisher]\n",
       "Index: []"
      ]
     },
     "execution_count": 42,
     "metadata": {},
     "output_type": "execute_result"
    }
   ],
   "source": [
    "books[books.bookTitle.isna()]"
   ]
  },
  {
   "cell_type": "code",
   "execution_count": 43,
   "id": "a84d4f76",
   "metadata": {},
   "outputs": [
    {
     "data": {
      "text/html": [
       "<div>\n",
       "<style scoped>\n",
       "    .dataframe tbody tr th:only-of-type {\n",
       "        vertical-align: middle;\n",
       "    }\n",
       "\n",
       "    .dataframe tbody tr th {\n",
       "        vertical-align: top;\n",
       "    }\n",
       "\n",
       "    .dataframe thead th {\n",
       "        text-align: right;\n",
       "    }\n",
       "</style>\n",
       "<table border=\"1\" class=\"dataframe\">\n",
       "  <thead>\n",
       "    <tr style=\"text-align: right;\">\n",
       "      <th></th>\n",
       "      <th>ISBN</th>\n",
       "      <th>bookTitle</th>\n",
       "      <th>bookAuthor</th>\n",
       "      <th>yearOfPublication</th>\n",
       "      <th>publisher</th>\n",
       "    </tr>\n",
       "  </thead>\n",
       "  <tbody>\n",
       "    <tr>\n",
       "      <th>187700</th>\n",
       "      <td>9627982032</td>\n",
       "      <td>The Credit Suisse Guide to Managing Your Perso...</td>\n",
       "      <td>NaN</td>\n",
       "      <td>1995</td>\n",
       "      <td>Edinburgh Financial Publishing</td>\n",
       "    </tr>\n",
       "  </tbody>\n",
       "</table>\n",
       "</div>"
      ],
      "text/plain": [
       "              ISBN                                          bookTitle  \\\n",
       "187700  9627982032  The Credit Suisse Guide to Managing Your Perso...   \n",
       "\n",
       "       bookAuthor  yearOfPublication                       publisher  \n",
       "187700        NaN               1995  Edinburgh Financial Publishing  "
      ]
     },
     "execution_count": 43,
     "metadata": {},
     "output_type": "execute_result"
    }
   ],
   "source": [
    "books[books.bookAuthor.isna()]"
   ]
  },
  {
   "cell_type": "code",
   "execution_count": 44,
   "id": "4e582c44",
   "metadata": {},
   "outputs": [
    {
     "data": {
      "text/html": [
       "<div>\n",
       "<style scoped>\n",
       "    .dataframe tbody tr th:only-of-type {\n",
       "        vertical-align: middle;\n",
       "    }\n",
       "\n",
       "    .dataframe tbody tr th {\n",
       "        vertical-align: top;\n",
       "    }\n",
       "\n",
       "    .dataframe thead th {\n",
       "        text-align: right;\n",
       "    }\n",
       "</style>\n",
       "<table border=\"1\" class=\"dataframe\">\n",
       "  <thead>\n",
       "    <tr style=\"text-align: right;\">\n",
       "      <th></th>\n",
       "      <th>ISBN</th>\n",
       "      <th>bookTitle</th>\n",
       "      <th>bookAuthor</th>\n",
       "      <th>yearOfPublication</th>\n",
       "      <th>publisher</th>\n",
       "    </tr>\n",
       "  </thead>\n",
       "  <tbody>\n",
       "    <tr>\n",
       "      <th>128896</th>\n",
       "      <td>193169656X</td>\n",
       "      <td>Tyrant Moon</td>\n",
       "      <td>Elaine Corvidae</td>\n",
       "      <td>2002</td>\n",
       "      <td>NaN</td>\n",
       "    </tr>\n",
       "    <tr>\n",
       "      <th>129043</th>\n",
       "      <td>1931696993</td>\n",
       "      <td>Finders Keepers</td>\n",
       "      <td>Linnea Sinclair</td>\n",
       "      <td>2001</td>\n",
       "      <td>NaN</td>\n",
       "    </tr>\n",
       "  </tbody>\n",
       "</table>\n",
       "</div>"
      ],
      "text/plain": [
       "              ISBN        bookTitle       bookAuthor  yearOfPublication  \\\n",
       "128896  193169656X      Tyrant Moon  Elaine Corvidae               2002   \n",
       "129043  1931696993  Finders Keepers  Linnea Sinclair               2001   \n",
       "\n",
       "       publisher  \n",
       "128896       NaN  \n",
       "129043       NaN  "
      ]
     },
     "execution_count": 44,
     "metadata": {},
     "output_type": "execute_result"
    }
   ],
   "source": [
    "books[books.publisher.isna()]"
   ]
  },
  {
   "cell_type": "code",
   "execution_count": 45,
   "id": "fb79802b",
   "metadata": {},
   "outputs": [
    {
     "data": {
      "text/html": [
       "<div>\n",
       "<style scoped>\n",
       "    .dataframe tbody tr th:only-of-type {\n",
       "        vertical-align: middle;\n",
       "    }\n",
       "\n",
       "    .dataframe tbody tr th {\n",
       "        vertical-align: top;\n",
       "    }\n",
       "\n",
       "    .dataframe thead th {\n",
       "        text-align: right;\n",
       "    }\n",
       "</style>\n",
       "<table border=\"1\" class=\"dataframe\">\n",
       "  <thead>\n",
       "    <tr style=\"text-align: right;\">\n",
       "      <th></th>\n",
       "      <th>ISBN</th>\n",
       "      <th>bookTitle</th>\n",
       "      <th>bookAuthor</th>\n",
       "      <th>yearOfPublication</th>\n",
       "      <th>publisher</th>\n",
       "    </tr>\n",
       "  </thead>\n",
       "  <tbody>\n",
       "  </tbody>\n",
       "</table>\n",
       "</div>"
      ],
      "text/plain": [
       "Empty DataFrame\n",
       "Columns: [ISBN, bookTitle, bookAuthor, yearOfPublication, publisher]\n",
       "Index: []"
      ]
     },
     "execution_count": 45,
     "metadata": {},
     "output_type": "execute_result"
    }
   ],
   "source": [
    "books[books.ISBN.isna()]"
   ]
  },
  {
   "cell_type": "markdown",
   "id": "fabea24b",
   "metadata": {},
   "source": [
    "Only the columns bookAuthor and publisher have null value and very few. We decide to keep them as the information in these rows can still be useful. We always could delete them later."
   ]
  },
  {
   "cell_type": "markdown",
   "id": "0201c2a1",
   "metadata": {},
   "source": [
    "### Cleaning of the users dataset"
   ]
  },
  {
   "cell_type": "code",
   "execution_count": 67,
   "id": "d1776560",
   "metadata": {},
   "outputs": [],
   "source": [
    "users = pd.read_csv(files_path+users_csv, sep=';', on_bad_lines='warn', encoding=\"latin-1\")\n",
    "users.columns = ['userID', 'Location', 'Age']"
   ]
  },
  {
   "cell_type": "code",
   "execution_count": 60,
   "id": "9249734f",
   "metadata": {},
   "outputs": [
    {
     "data": {
      "text/plain": [
       "961"
      ]
     },
     "execution_count": 60,
     "metadata": {},
     "output_type": "execute_result"
    }
   ],
   "source": [
    "users[ (users.Age>118) | (users.Age<5) ].count()[0] \n",
    "#118 is the age of the oldest person nowadays, 5 is the regular age where children learn to read"
   ]
  },
  {
   "cell_type": "markdown",
   "id": "fdff6a8e",
   "metadata": {},
   "source": [
    "They are 960 users which have incoherent or irrelevant age. We update this values with nan value"
   ]
  },
  {
   "cell_type": "code",
   "execution_count": 68,
   "id": "6d9dbee4",
   "metadata": {},
   "outputs": [],
   "source": [
    "users.loc[ (users.Age>118) | (users.Age<5), 'Age'] = np.nan"
   ]
  },
  {
   "cell_type": "code",
   "execution_count": 49,
   "id": "f6621483",
   "metadata": {},
   "outputs": [
    {
     "data": {
      "text/plain": [
       "userID        int64\n",
       "Location     object\n",
       "Age         float64\n",
       "dtype: object"
      ]
     },
     "execution_count": 49,
     "metadata": {},
     "output_type": "execute_result"
    }
   ],
   "source": [
    "users.dtypes"
   ]
  },
  {
   "cell_type": "markdown",
   "id": "9a76a6f6",
   "metadata": {},
   "source": [
    "The column types are good so we change nothing."
   ]
  },
  {
   "cell_type": "code",
   "execution_count": 50,
   "id": "3085d6c4",
   "metadata": {},
   "outputs": [
    {
     "data": {
      "text/html": [
       "<div>\n",
       "<style scoped>\n",
       "    .dataframe tbody tr th:only-of-type {\n",
       "        vertical-align: middle;\n",
       "    }\n",
       "\n",
       "    .dataframe tbody tr th {\n",
       "        vertical-align: top;\n",
       "    }\n",
       "\n",
       "    .dataframe thead th {\n",
       "        text-align: right;\n",
       "    }\n",
       "</style>\n",
       "<table border=\"1\" class=\"dataframe\">\n",
       "  <thead>\n",
       "    <tr style=\"text-align: right;\">\n",
       "      <th></th>\n",
       "      <th>userID</th>\n",
       "      <th>Location</th>\n",
       "      <th>Age</th>\n",
       "    </tr>\n",
       "  </thead>\n",
       "  <tbody>\n",
       "    <tr>\n",
       "      <th>267</th>\n",
       "      <td>268</td>\n",
       "      <td>århus, \\n/a\\\", denmark\"</td>\n",
       "      <td>NaN</td>\n",
       "    </tr>\n",
       "    <tr>\n",
       "      <th>1102</th>\n",
       "      <td>1103</td>\n",
       "      <td>kuala lumpur, \\n/a\\\", malaysia\"</td>\n",
       "      <td>NaN</td>\n",
       "    </tr>\n",
       "    <tr>\n",
       "      <th>1272</th>\n",
       "      <td>1273</td>\n",
       "      <td>valladolid, \\n/a\\\", spain\"</td>\n",
       "      <td>27.0</td>\n",
       "    </tr>\n",
       "    <tr>\n",
       "      <th>1305</th>\n",
       "      <td>1306</td>\n",
       "      <td>lisbon, \\n/a\\\",\"</td>\n",
       "      <td>41.0</td>\n",
       "    </tr>\n",
       "    <tr>\n",
       "      <th>1694</th>\n",
       "      <td>1695</td>\n",
       "      <td>london, \\n/a\\\", united kingdom\"</td>\n",
       "      <td>69.0</td>\n",
       "    </tr>\n",
       "    <tr>\n",
       "      <th>...</th>\n",
       "      <td>...</td>\n",
       "      <td>...</td>\n",
       "      <td>...</td>\n",
       "    </tr>\n",
       "    <tr>\n",
       "      <th>277747</th>\n",
       "      <td>277748</td>\n",
       "      <td>rimini, \\n/a\\\", italy\"</td>\n",
       "      <td>NaN</td>\n",
       "    </tr>\n",
       "    <tr>\n",
       "      <th>277859</th>\n",
       "      <td>277860</td>\n",
       "      <td>barcelona, \\n/a\\\", spain\"</td>\n",
       "      <td>25.0</td>\n",
       "    </tr>\n",
       "    <tr>\n",
       "      <th>278137</th>\n",
       "      <td>278138</td>\n",
       "      <td>oviedo, \\n/a\\\", spain\"</td>\n",
       "      <td>49.0</td>\n",
       "    </tr>\n",
       "    <tr>\n",
       "      <th>278342</th>\n",
       "      <td>278343</td>\n",
       "      <td>växjö, \\n/a\\\", sweden\"</td>\n",
       "      <td>NaN</td>\n",
       "    </tr>\n",
       "    <tr>\n",
       "      <th>278498</th>\n",
       "      <td>278499</td>\n",
       "      <td>brno, \\n/a\\\", czech republic\"</td>\n",
       "      <td>NaN</td>\n",
       "    </tr>\n",
       "  </tbody>\n",
       "</table>\n",
       "<p>681 rows × 3 columns</p>\n",
       "</div>"
      ],
      "text/plain": [
       "        userID                         Location   Age\n",
       "267        268          århus, \\n/a\\\", denmark\"   NaN\n",
       "1102      1103  kuala lumpur, \\n/a\\\", malaysia\"   NaN\n",
       "1272      1273       valladolid, \\n/a\\\", spain\"  27.0\n",
       "1305      1306                 lisbon, \\n/a\\\",\"  41.0\n",
       "1694      1695  london, \\n/a\\\", united kingdom\"  69.0\n",
       "...        ...                              ...   ...\n",
       "277747  277748           rimini, \\n/a\\\", italy\"   NaN\n",
       "277859  277860        barcelona, \\n/a\\\", spain\"  25.0\n",
       "278137  278138           oviedo, \\n/a\\\", spain\"  49.0\n",
       "278342  278343           växjö, \\n/a\\\", sweden\"   NaN\n",
       "278498  278499    brno, \\n/a\\\", czech republic\"   NaN\n",
       "\n",
       "[681 rows x 3 columns]"
      ]
     },
     "execution_count": 50,
     "metadata": {},
     "output_type": "execute_result"
    }
   ],
   "source": [
    "users[users.Location.str.contains('\"')]"
   ]
  },
  {
   "cell_type": "markdown",
   "id": "47dd1a55",
   "metadata": {},
   "source": [
    "We can do the same operation done for books"
   ]
  },
  {
   "cell_type": "code",
   "execution_count": 69,
   "id": "be33c416",
   "metadata": {},
   "outputs": [
    {
     "name": "stderr",
     "output_type": "stream",
     "text": [
      "C:\\Users\\adrie\\AppData\\Local\\Temp\\ipykernel_16336\\1594432378.py:2: FutureWarning: The default value of regex will change from True to False in a future version.\n",
      "  users[\"Location\"]=users[\"Location\"].str.replace(r'\\\\',\"\")\n"
     ]
    }
   ],
   "source": [
    "users[\"Location\"]=users[\"Location\"].str.replace('\"',\"'\")\n",
    "users[\"Location\"]=users[\"Location\"].str.replace(r'\\\\',\"\")"
   ]
  },
  {
   "cell_type": "code",
   "execution_count": 79,
   "id": "1ad195e9",
   "metadata": {},
   "outputs": [],
   "source": [
    "users[\"Location\"]=users[\"Location\"].str.replace(\"n/a'\",\"n/a\")\n",
    "users[\"Location\"]=users[\"Location\"].str.replace(\"'n/a\",\"n/a\")"
   ]
  },
  {
   "cell_type": "code",
   "execution_count": 81,
   "id": "600da588",
   "metadata": {},
   "outputs": [],
   "source": [
    "condition=users[\"Location\"].str.endswith(\"'\",na=False) & users[\"Location\"].str.count(\"'\")%2==1\n",
    "users.loc[condition,\"Location\"]=users.loc[condition,\"Location\"].str.rstrip(\"'\")"
   ]
  },
  {
   "cell_type": "code",
   "execution_count": 84,
   "id": "9ced6dec",
   "metadata": {},
   "outputs": [
    {
     "data": {
      "text/html": [
       "<div>\n",
       "<style scoped>\n",
       "    .dataframe tbody tr th:only-of-type {\n",
       "        vertical-align: middle;\n",
       "    }\n",
       "\n",
       "    .dataframe tbody tr th {\n",
       "        vertical-align: top;\n",
       "    }\n",
       "\n",
       "    .dataframe thead th {\n",
       "        text-align: right;\n",
       "    }\n",
       "</style>\n",
       "<table border=\"1\" class=\"dataframe\">\n",
       "  <thead>\n",
       "    <tr style=\"text-align: right;\">\n",
       "      <th></th>\n",
       "      <th>userID</th>\n",
       "      <th>Location</th>\n",
       "      <th>Age</th>\n",
       "    </tr>\n",
       "  </thead>\n",
       "  <tbody>\n",
       "    <tr>\n",
       "      <th>244250</th>\n",
       "      <td>244251</td>\n",
       "      <td>alexandria'., 'alexandria'., egypt'</td>\n",
       "      <td>44.0</td>\n",
       "    </tr>\n",
       "    <tr>\n",
       "      <th>80169</th>\n",
       "      <td>80170</td>\n",
       "      <td>athens, ano liosia', greece'</td>\n",
       "      <td>16.0</td>\n",
       "    </tr>\n",
       "    <tr>\n",
       "      <th>10276</th>\n",
       "      <td>10277</td>\n",
       "      <td>düsseldorf, na', germany'</td>\n",
       "      <td>NaN</td>\n",
       "    </tr>\n",
       "    <tr>\n",
       "      <th>158161</th>\n",
       "      <td>158162</td>\n",
       "      <td>holbæk, n/j', denmark'</td>\n",
       "      <td>NaN</td>\n",
       "    </tr>\n",
       "    <tr>\n",
       "      <th>119745</th>\n",
       "      <td>119746</td>\n",
       "      <td>kartoum, n/s', sudan'</td>\n",
       "      <td>28.0</td>\n",
       "    </tr>\n",
       "    <tr>\n",
       "      <th>69341</th>\n",
       "      <td>69342</td>\n",
       "      <td>kocaeli, na'., turkey'</td>\n",
       "      <td>NaN</td>\n",
       "    </tr>\n",
       "    <tr>\n",
       "      <th>197600</th>\n",
       "      <td>197601</td>\n",
       "      <td>ljubljana, na', slovenia'</td>\n",
       "      <td>NaN</td>\n",
       "    </tr>\n",
       "    <tr>\n",
       "      <th>72128</th>\n",
       "      <td>72129</td>\n",
       "      <td>lleida, catalunya', spain'</td>\n",
       "      <td>21.0</td>\n",
       "    </tr>\n",
       "    <tr>\n",
       "      <th>72592</th>\n",
       "      <td>72593</td>\n",
       "      <td>lujan de cuyo, mendoza/argentina', argentina'</td>\n",
       "      <td>25.0</td>\n",
       "    </tr>\n",
       "    <tr>\n",
       "      <th>252668</th>\n",
       "      <td>252669</td>\n",
       "      <td>manchester, na', united kingdom'</td>\n",
       "      <td>NaN</td>\n",
       "    </tr>\n",
       "    <tr>\n",
       "      <th>243467</th>\n",
       "      <td>243468</td>\n",
       "      <td>santa maria da feira, na', portugal'</td>\n",
       "      <td>NaN</td>\n",
       "    </tr>\n",
       "    <tr>\n",
       "      <th>11976</th>\n",
       "      <td>11977</td>\n",
       "      <td>sesimbra, n/s', portugal'</td>\n",
       "      <td>37.0</td>\n",
       "    </tr>\n",
       "    <tr>\n",
       "      <th>219010</th>\n",
       "      <td>219011</td>\n",
       "      <td>tehran, a/n', iran'</td>\n",
       "      <td>19.0</td>\n",
       "    </tr>\n",
       "    <tr>\n",
       "      <th>92529</th>\n",
       "      <td>92530</td>\n",
       "      <td>tehran, g/d', iran'</td>\n",
       "      <td>19.0</td>\n",
       "    </tr>\n",
       "    <tr>\n",
       "      <th>87233</th>\n",
       "      <td>87234</td>\n",
       "      <td>tehran, i/t', iran'</td>\n",
       "      <td>15.0</td>\n",
       "    </tr>\n",
       "    <tr>\n",
       "      <th>234724</th>\n",
       "      <td>234725</td>\n",
       "      <td>tehran, n/'a, iran'</td>\n",
       "      <td>23.0</td>\n",
       "    </tr>\n",
       "  </tbody>\n",
       "</table>\n",
       "</div>"
      ],
      "text/plain": [
       "        userID                                       Location   Age\n",
       "244250  244251            alexandria'., 'alexandria'., egypt'  44.0\n",
       "80169    80170                   athens, ano liosia', greece'  16.0\n",
       "10276    10277                      düsseldorf, na', germany'   NaN\n",
       "158161  158162                         holbæk, n/j', denmark'   NaN\n",
       "119745  119746                          kartoum, n/s', sudan'  28.0\n",
       "69341    69342                         kocaeli, na'., turkey'   NaN\n",
       "197600  197601                      ljubljana, na', slovenia'   NaN\n",
       "72128    72129                     lleida, catalunya', spain'  21.0\n",
       "72592    72593  lujan de cuyo, mendoza/argentina', argentina'  25.0\n",
       "252668  252669               manchester, na', united kingdom'   NaN\n",
       "243467  243468           santa maria da feira, na', portugal'   NaN\n",
       "11976    11977                      sesimbra, n/s', portugal'  37.0\n",
       "219010  219011                            tehran, a/n', iran'  19.0\n",
       "92529    92530                            tehran, g/d', iran'  19.0\n",
       "87233    87234                            tehran, i/t', iran'  15.0\n",
       "234724  234725                            tehran, n/'a, iran'  23.0"
      ]
     },
     "execution_count": 84,
     "metadata": {},
     "output_type": "execute_result"
    }
   ],
   "source": [
    "users[users.Location.str.contains(\"'\")].sort_values(by=\"Location\")"
   ]
  },
  {
   "cell_type": "markdown",
   "id": "ec477e97",
   "metadata": {},
   "source": [
    "We observe we can remove all the remaining quote in the column Location as all are irrelevant."
   ]
  },
  {
   "cell_type": "code",
   "execution_count": 85,
   "id": "cf49c9da",
   "metadata": {},
   "outputs": [],
   "source": [
    "users[\"Location\"]=users[\"Location\"].str.replace(\"'\",\"\")"
   ]
  },
  {
   "cell_type": "code",
   "execution_count": 86,
   "id": "5b3dc583",
   "metadata": {},
   "outputs": [
    {
     "data": {
      "text/html": [
       "<div>\n",
       "<style scoped>\n",
       "    .dataframe tbody tr th:only-of-type {\n",
       "        vertical-align: middle;\n",
       "    }\n",
       "\n",
       "    .dataframe tbody tr th {\n",
       "        vertical-align: top;\n",
       "    }\n",
       "\n",
       "    .dataframe thead th {\n",
       "        text-align: right;\n",
       "    }\n",
       "</style>\n",
       "<table border=\"1\" class=\"dataframe\">\n",
       "  <thead>\n",
       "    <tr style=\"text-align: right;\">\n",
       "      <th></th>\n",
       "      <th>userID</th>\n",
       "      <th>Location</th>\n",
       "      <th>Age</th>\n",
       "    </tr>\n",
       "  </thead>\n",
       "  <tbody>\n",
       "  </tbody>\n",
       "</table>\n",
       "</div>"
      ],
      "text/plain": [
       "Empty DataFrame\n",
       "Columns: [userID, Location, Age]\n",
       "Index: []"
      ]
     },
     "execution_count": 86,
     "metadata": {},
     "output_type": "execute_result"
    }
   ],
   "source": [
    "users[users.Location.str.contains(\"'\")]"
   ]
  },
  {
   "cell_type": "markdown",
   "id": "fef7cab7",
   "metadata": {},
   "source": [
    "The users datafram is now clean, we apply the same process to the ratings dataset"
   ]
  },
  {
   "cell_type": "markdown",
   "id": "afdd1132",
   "metadata": {},
   "source": [
    "### Cleaning the ratings dataset"
   ]
  },
  {
   "cell_type": "code",
   "execution_count": 179,
   "id": "e54897c3",
   "metadata": {},
   "outputs": [],
   "source": [
    "ratings = pd.read_csv(files_path+ratings_csv, sep=';',  on_bad_lines='warn', encoding=\"latin-1\")\n",
    "ratings.columns = ['userID', 'ISBN', 'bookRating']"
   ]
  },
  {
   "cell_type": "code",
   "execution_count": 88,
   "id": "40b572f5",
   "metadata": {},
   "outputs": [
    {
     "data": {
      "text/html": [
       "<div>\n",
       "<style scoped>\n",
       "    .dataframe tbody tr th:only-of-type {\n",
       "        vertical-align: middle;\n",
       "    }\n",
       "\n",
       "    .dataframe tbody tr th {\n",
       "        vertical-align: top;\n",
       "    }\n",
       "\n",
       "    .dataframe thead th {\n",
       "        text-align: right;\n",
       "    }\n",
       "</style>\n",
       "<table border=\"1\" class=\"dataframe\">\n",
       "  <thead>\n",
       "    <tr style=\"text-align: right;\">\n",
       "      <th></th>\n",
       "      <th>userID</th>\n",
       "      <th>ISBN</th>\n",
       "      <th>bookRating</th>\n",
       "    </tr>\n",
       "  </thead>\n",
       "  <tbody>\n",
       "    <tr>\n",
       "      <th>0</th>\n",
       "      <td>276725</td>\n",
       "      <td>034545104X</td>\n",
       "      <td>0</td>\n",
       "    </tr>\n",
       "    <tr>\n",
       "      <th>1</th>\n",
       "      <td>276726</td>\n",
       "      <td>0155061224</td>\n",
       "      <td>5</td>\n",
       "    </tr>\n",
       "    <tr>\n",
       "      <th>2</th>\n",
       "      <td>276727</td>\n",
       "      <td>0446520802</td>\n",
       "      <td>0</td>\n",
       "    </tr>\n",
       "    <tr>\n",
       "      <th>3</th>\n",
       "      <td>276729</td>\n",
       "      <td>052165615X</td>\n",
       "      <td>3</td>\n",
       "    </tr>\n",
       "    <tr>\n",
       "      <th>4</th>\n",
       "      <td>276729</td>\n",
       "      <td>0521795028</td>\n",
       "      <td>6</td>\n",
       "    </tr>\n",
       "  </tbody>\n",
       "</table>\n",
       "</div>"
      ],
      "text/plain": [
       "   userID        ISBN  bookRating\n",
       "0  276725  034545104X           0\n",
       "1  276726  0155061224           5\n",
       "2  276727  0446520802           0\n",
       "3  276729  052165615X           3\n",
       "4  276729  0521795028           6"
      ]
     },
     "execution_count": 88,
     "metadata": {},
     "output_type": "execute_result"
    }
   ],
   "source": [
    "ratings.head()"
   ]
  },
  {
   "cell_type": "code",
   "execution_count": 90,
   "id": "54cb5036",
   "metadata": {},
   "outputs": [
    {
     "data": {
      "text/plain": [
       "array([ 0,  5,  3,  6,  8,  7, 10,  9,  4,  1,  2], dtype=int64)"
      ]
     },
     "execution_count": 90,
     "metadata": {},
     "output_type": "execute_result"
    }
   ],
   "source": [
    "ratings.bookRating.unique()"
   ]
  },
  {
   "cell_type": "markdown",
   "id": "4467b1cd",
   "metadata": {},
   "source": [
    "The bookRating column has value between 0 and 10 as expected so nothing to do with this column"
   ]
  },
  {
   "cell_type": "code",
   "execution_count": 115,
   "id": "98de70a1",
   "metadata": {},
   "outputs": [
    {
     "name": "stdout",
     "output_type": "stream",
     "text": [
      "all good for userID\n",
      "all good for ISBN\n",
      "all good for bookRating\n"
     ]
    },
    {
     "data": {
      "text/plain": [
       "[None, None, None]"
      ]
     },
     "execution_count": 115,
     "metadata": {},
     "output_type": "execute_result"
    }
   ],
   "source": [
    "[print(\"userID as na value\") if ratings[ratings[x].isna()].shape[0]!=0 else print(f\"all good for {x}\")  for x in ratings.columns] "
   ]
  },
  {
   "cell_type": "markdown",
   "id": "e29d01c4",
   "metadata": {},
   "source": [
    "None of the columns have na value"
   ]
  },
  {
   "cell_type": "code",
   "execution_count": 117,
   "id": "ef4b41c7",
   "metadata": {},
   "outputs": [
    {
     "data": {
      "text/plain": [
       "userID         int64\n",
       "ISBN          object\n",
       "bookRating     int64\n",
       "dtype: object"
      ]
     },
     "execution_count": 117,
     "metadata": {},
     "output_type": "execute_result"
    }
   ],
   "source": [
    "ratings.dtypes"
   ]
  },
  {
   "cell_type": "markdown",
   "id": "fa41d244",
   "metadata": {},
   "source": [
    "All userID are integers so they aren't format problem for this feature"
   ]
  },
  {
   "cell_type": "code",
   "execution_count": 180,
   "id": "9a22887a",
   "metadata": {},
   "outputs": [
    {
     "data": {
      "text/html": [
       "<div>\n",
       "<style scoped>\n",
       "    .dataframe tbody tr th:only-of-type {\n",
       "        vertical-align: middle;\n",
       "    }\n",
       "\n",
       "    .dataframe tbody tr th {\n",
       "        vertical-align: top;\n",
       "    }\n",
       "\n",
       "    .dataframe thead th {\n",
       "        text-align: right;\n",
       "    }\n",
       "</style>\n",
       "<table border=\"1\" class=\"dataframe\">\n",
       "  <thead>\n",
       "    <tr style=\"text-align: right;\">\n",
       "      <th></th>\n",
       "      <th>userID</th>\n",
       "      <th>ISBN</th>\n",
       "      <th>bookRating</th>\n",
       "    </tr>\n",
       "  </thead>\n",
       "  <tbody>\n",
       "    <tr>\n",
       "      <th>21687</th>\n",
       "      <td>4377</td>\n",
       "      <td>\\0210000010\"</td>\n",
       "      <td>8</td>\n",
       "    </tr>\n",
       "    <tr>\n",
       "      <th>45327</th>\n",
       "      <td>11676</td>\n",
       "      <td>\\0432534220\\\"\"</td>\n",
       "      <td>6</td>\n",
       "    </tr>\n",
       "    <tr>\n",
       "      <th>45328</th>\n",
       "      <td>11676</td>\n",
       "      <td>\\2842053052\\\"\"</td>\n",
       "      <td>7</td>\n",
       "    </tr>\n",
       "    <tr>\n",
       "      <th>183260</th>\n",
       "      <td>39821</td>\n",
       "      <td>\\0432534220\\\"\"</td>\n",
       "      <td>6</td>\n",
       "    </tr>\n",
       "    <tr>\n",
       "      <th>210091</th>\n",
       "      <td>48821</td>\n",
       "      <td>\\8804501367\\\"\"</td>\n",
       "      <td>0</td>\n",
       "    </tr>\n",
       "    <tr>\n",
       "      <th>531936</th>\n",
       "      <td>128375</td>\n",
       "      <td>\\2842053052\\\"\"</td>\n",
       "      <td>0</td>\n",
       "    </tr>\n",
       "    <tr>\n",
       "      <th>663235</th>\n",
       "      <td>160867</td>\n",
       "      <td>\\0094749809\"</td>\n",
       "      <td>7</td>\n",
       "    </tr>\n",
       "    <tr>\n",
       "      <th>824820</th>\n",
       "      <td>199138</td>\n",
       "      <td>\\0432534220\\\"\"</td>\n",
       "      <td>8</td>\n",
       "    </tr>\n",
       "    <tr>\n",
       "      <th>877347</th>\n",
       "      <td>212647</td>\n",
       "      <td>\\8804520159\\\"\"</td>\n",
       "      <td>7</td>\n",
       "    </tr>\n",
       "    <tr>\n",
       "      <th>941677</th>\n",
       "      <td>227945</td>\n",
       "      <td>\\9170010242\\\"\"</td>\n",
       "      <td>10</td>\n",
       "    </tr>\n",
       "    <tr>\n",
       "      <th>1134130</th>\n",
       "      <td>272392</td>\n",
       "      <td>\\0679751521\"</td>\n",
       "      <td>8</td>\n",
       "    </tr>\n",
       "    <tr>\n",
       "      <th>1145174</th>\n",
       "      <td>275414</td>\n",
       "      <td>\\8887517452\\\"\"</td>\n",
       "      <td>10</td>\n",
       "    </tr>\n",
       "    <tr>\n",
       "      <th>1145175</th>\n",
       "      <td>275414</td>\n",
       "      <td>\\8888809228\\\"\"</td>\n",
       "      <td>5</td>\n",
       "    </tr>\n",
       "    <tr>\n",
       "      <th>1148549</th>\n",
       "      <td>276331</td>\n",
       "      <td>\\0432534220\"</td>\n",
       "      <td>9</td>\n",
       "    </tr>\n",
       "  </tbody>\n",
       "</table>\n",
       "</div>"
      ],
      "text/plain": [
       "         userID            ISBN  bookRating\n",
       "21687      4377    \\0210000010\"           8\n",
       "45327     11676  \\0432534220\\\"\"           6\n",
       "45328     11676  \\2842053052\\\"\"           7\n",
       "183260    39821  \\0432534220\\\"\"           6\n",
       "210091    48821  \\8804501367\\\"\"           0\n",
       "531936   128375  \\2842053052\\\"\"           0\n",
       "663235   160867    \\0094749809\"           7\n",
       "824820   199138  \\0432534220\\\"\"           8\n",
       "877347   212647  \\8804520159\\\"\"           7\n",
       "941677   227945  \\9170010242\\\"\"          10\n",
       "1134130  272392    \\0679751521\"           8\n",
       "1145174  275414  \\8887517452\\\"\"          10\n",
       "1145175  275414  \\8888809228\\\"\"           5\n",
       "1148549  276331    \\0432534220\"           9"
      ]
     },
     "execution_count": 180,
     "metadata": {},
     "output_type": "execute_result"
    }
   ],
   "source": [
    "condition=(ratings[\"ISBN\"].str.contains('\"') ) | (ratings[\"ISBN\"].str.contains(r'\\\\') ) \n",
    "bad_isbn=ratings.loc[condition]\n",
    "bad_isbn"
   ]
  },
  {
   "cell_type": "markdown",
   "id": "b3926ace",
   "metadata": {},
   "source": [
    "As for the previous dataset, we observe error of quoting on some observation. They still represente accurate data hence we choose to clean them in orer to keep them."
   ]
  },
  {
   "cell_type": "code",
   "execution_count": 181,
   "id": "8ea03701",
   "metadata": {},
   "outputs": [
    {
     "name": "stderr",
     "output_type": "stream",
     "text": [
      "C:\\Users\\adrie\\AppData\\Local\\Temp\\ipykernel_16336\\2125878562.py:1: SettingWithCopyWarning: \n",
      "A value is trying to be set on a copy of a slice from a DataFrame.\n",
      "Try using .loc[row_indexer,col_indexer] = value instead\n",
      "\n",
      "See the caveats in the documentation: https://pandas.pydata.org/pandas-docs/stable/user_guide/indexing.html#returning-a-view-versus-a-copy\n",
      "  bad_isbn[\"ISBN\"]=bad_isbn[\"ISBN\"].str.replace('\"',\"\")\n",
      "C:\\Users\\adrie\\AppData\\Local\\Temp\\ipykernel_16336\\2125878562.py:2: SettingWithCopyWarning: \n",
      "A value is trying to be set on a copy of a slice from a DataFrame.\n",
      "Try using .loc[row_indexer,col_indexer] = value instead\n",
      "\n",
      "See the caveats in the documentation: https://pandas.pydata.org/pandas-docs/stable/user_guide/indexing.html#returning-a-view-versus-a-copy\n",
      "  bad_isbn[\"ISBN\"]=bad_isbn[\"ISBN\"].str.replace('\\\\',\"\",regex=True)\n"
     ]
    },
    {
     "data": {
      "text/html": [
       "<div>\n",
       "<style scoped>\n",
       "    .dataframe tbody tr th:only-of-type {\n",
       "        vertical-align: middle;\n",
       "    }\n",
       "\n",
       "    .dataframe tbody tr th {\n",
       "        vertical-align: top;\n",
       "    }\n",
       "\n",
       "    .dataframe thead th {\n",
       "        text-align: right;\n",
       "    }\n",
       "</style>\n",
       "<table border=\"1\" class=\"dataframe\">\n",
       "  <thead>\n",
       "    <tr style=\"text-align: right;\">\n",
       "      <th></th>\n",
       "      <th>userID</th>\n",
       "      <th>ISBN</th>\n",
       "      <th>bookRating</th>\n",
       "    </tr>\n",
       "  </thead>\n",
       "  <tbody>\n",
       "    <tr>\n",
       "      <th>21687</th>\n",
       "      <td>4377</td>\n",
       "      <td>0210000010</td>\n",
       "      <td>8</td>\n",
       "    </tr>\n",
       "    <tr>\n",
       "      <th>45327</th>\n",
       "      <td>11676</td>\n",
       "      <td>0432534220</td>\n",
       "      <td>6</td>\n",
       "    </tr>\n",
       "    <tr>\n",
       "      <th>45328</th>\n",
       "      <td>11676</td>\n",
       "      <td>2842053052</td>\n",
       "      <td>7</td>\n",
       "    </tr>\n",
       "    <tr>\n",
       "      <th>183260</th>\n",
       "      <td>39821</td>\n",
       "      <td>0432534220</td>\n",
       "      <td>6</td>\n",
       "    </tr>\n",
       "    <tr>\n",
       "      <th>210091</th>\n",
       "      <td>48821</td>\n",
       "      <td>8804501367</td>\n",
       "      <td>0</td>\n",
       "    </tr>\n",
       "    <tr>\n",
       "      <th>531936</th>\n",
       "      <td>128375</td>\n",
       "      <td>2842053052</td>\n",
       "      <td>0</td>\n",
       "    </tr>\n",
       "    <tr>\n",
       "      <th>663235</th>\n",
       "      <td>160867</td>\n",
       "      <td>0094749809</td>\n",
       "      <td>7</td>\n",
       "    </tr>\n",
       "    <tr>\n",
       "      <th>824820</th>\n",
       "      <td>199138</td>\n",
       "      <td>0432534220</td>\n",
       "      <td>8</td>\n",
       "    </tr>\n",
       "    <tr>\n",
       "      <th>877347</th>\n",
       "      <td>212647</td>\n",
       "      <td>8804520159</td>\n",
       "      <td>7</td>\n",
       "    </tr>\n",
       "    <tr>\n",
       "      <th>941677</th>\n",
       "      <td>227945</td>\n",
       "      <td>9170010242</td>\n",
       "      <td>10</td>\n",
       "    </tr>\n",
       "    <tr>\n",
       "      <th>1134130</th>\n",
       "      <td>272392</td>\n",
       "      <td>0679751521</td>\n",
       "      <td>8</td>\n",
       "    </tr>\n",
       "    <tr>\n",
       "      <th>1145174</th>\n",
       "      <td>275414</td>\n",
       "      <td>8887517452</td>\n",
       "      <td>10</td>\n",
       "    </tr>\n",
       "    <tr>\n",
       "      <th>1145175</th>\n",
       "      <td>275414</td>\n",
       "      <td>8888809228</td>\n",
       "      <td>5</td>\n",
       "    </tr>\n",
       "    <tr>\n",
       "      <th>1148549</th>\n",
       "      <td>276331</td>\n",
       "      <td>0432534220</td>\n",
       "      <td>9</td>\n",
       "    </tr>\n",
       "  </tbody>\n",
       "</table>\n",
       "</div>"
      ],
      "text/plain": [
       "         userID        ISBN  bookRating\n",
       "21687      4377  0210000010           8\n",
       "45327     11676  0432534220           6\n",
       "45328     11676  2842053052           7\n",
       "183260    39821  0432534220           6\n",
       "210091    48821  8804501367           0\n",
       "531936   128375  2842053052           0\n",
       "663235   160867  0094749809           7\n",
       "824820   199138  0432534220           8\n",
       "877347   212647  8804520159           7\n",
       "941677   227945  9170010242          10\n",
       "1134130  272392  0679751521           8\n",
       "1145174  275414  8887517452          10\n",
       "1145175  275414  8888809228           5\n",
       "1148549  276331  0432534220           9"
      ]
     },
     "execution_count": 181,
     "metadata": {},
     "output_type": "execute_result"
    }
   ],
   "source": [
    "bad_isbn[\"ISBN\"]=bad_isbn[\"ISBN\"].str.replace('\"',\"\")\n",
    "bad_isbn[\"ISBN\"]=bad_isbn[\"ISBN\"].str.replace('\\\\',\"\",regex=True)\n",
    "bad_isbn"
   ]
  },
  {
   "cell_type": "code",
   "execution_count": 182,
   "id": "c9cb26b1",
   "metadata": {},
   "outputs": [],
   "source": [
    "ratings.update(bad_isbn)"
   ]
  },
  {
   "cell_type": "code",
   "execution_count": 184,
   "id": "81289c90",
   "metadata": {},
   "outputs": [
    {
     "data": {
      "text/html": [
       "<div>\n",
       "<style scoped>\n",
       "    .dataframe tbody tr th:only-of-type {\n",
       "        vertical-align: middle;\n",
       "    }\n",
       "\n",
       "    .dataframe tbody tr th {\n",
       "        vertical-align: top;\n",
       "    }\n",
       "\n",
       "    .dataframe thead th {\n",
       "        text-align: right;\n",
       "    }\n",
       "</style>\n",
       "<table border=\"1\" class=\"dataframe\">\n",
       "  <thead>\n",
       "    <tr style=\"text-align: right;\">\n",
       "      <th></th>\n",
       "      <th>userID</th>\n",
       "      <th>ISBN</th>\n",
       "      <th>bookRating</th>\n",
       "    </tr>\n",
       "  </thead>\n",
       "  <tbody>\n",
       "  </tbody>\n",
       "</table>\n",
       "</div>"
      ],
      "text/plain": [
       "Empty DataFrame\n",
       "Columns: [userID, ISBN, bookRating]\n",
       "Index: []"
      ]
     },
     "execution_count": 184,
     "metadata": {},
     "output_type": "execute_result"
    }
   ],
   "source": [
    "condition=(ratings[\"ISBN\"].str.contains('\"') ) | (ratings[\"ISBN\"].str.contains(r'\\\\') ) \n",
    "ratings[condition]"
   ]
  },
  {
   "cell_type": "markdown",
   "id": "61d05e36",
   "metadata": {},
   "source": [
    "All data are now cleaned. We pass to the analysis part."
   ]
  },
  {
   "cell_type": "markdown",
   "id": "8aa77d91",
   "metadata": {},
   "source": [
    "## EDA"
   ]
  },
  {
   "cell_type": "code",
   "execution_count": null,
   "id": "68d5111e",
   "metadata": {},
   "outputs": [],
   "source": []
  },
  {
   "cell_type": "markdown",
   "id": "71cc3ad8",
   "metadata": {},
   "source": [
    "## Recommendation system"
   ]
  }
 ],
 "metadata": {
  "kernelspec": {
   "display_name": "mlProject",
   "language": "python",
   "name": "mlproject"
  },
  "language_info": {
   "codemirror_mode": {
    "name": "ipython",
    "version": 3
   },
   "file_extension": ".py",
   "mimetype": "text/x-python",
   "name": "python",
   "nbconvert_exporter": "python",
   "pygments_lexer": "ipython3",
   "version": "3.10.8"
  }
 },
 "nbformat": 4,
 "nbformat_minor": 5
}
