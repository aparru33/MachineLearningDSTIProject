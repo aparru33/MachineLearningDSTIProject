{
 "cells": [
  {
   "cell_type": "markdown",
   "id": "c601210e",
   "metadata": {},
   "source": [
    "# Books EDA and recommendation system"
   ]
  },
  {
   "cell_type": "markdown",
   "id": "97ff8289",
   "metadata": {},
   "source": [
    "Finding a dataset with reasonnable size and data about user is not common. It's why I have chosen the data at https://www.kaggle.com/datasets/saurabhbagchi/books-dataset.\n",
    "A said in the Acknowledgements part of this page, the data was collected by Cai-Nicolas Ziegler in 2004. The original links is http://www2.informatik.uni-freiburg.de/~cziegler/BX/.\n",
    "The data is a litle old but it provides a good dataset for training. The usability score on Kaggle is 10.0 which is the maximum. Other datasets with user ratings were too voluminous like https://www.kaggle.com/datasets/bahramjannesarr/goodreads-book-datasets-10m and https://www.kaggle.com/datasets/ruchi798/bookcrossing-dataset, the usability was bad or the source was not provided.\n",
    "The dataset contains 278 858 anonymized users with demographic information providing 1 149 780 ratings about 271 379 books."
   ]
  },
  {
   "cell_type": "markdown",
   "id": "b5609a1d",
   "metadata": {},
   "source": [
    "This notebook is divided in two parts. The first is an EDA about the books and the second is a recommendations system. "
   ]
  },
  {
   "cell_type": "markdown",
   "id": "8cc68a19",
   "metadata": {},
   "source": [
    "## Setup the environment"
   ]
  },
  {
   "cell_type": "markdown",
   "id": "0b84044e",
   "metadata": {},
   "source": [
    "An environment was created for this project. The python version is 3.10.8 as seen below"
   ]
  },
  {
   "cell_type": "code",
   "execution_count": 1,
   "id": "89a3b7c6",
   "metadata": {},
   "outputs": [
    {
     "name": "stdout",
     "output_type": "stream",
     "text": [
      "mlProject\n"
     ]
    }
   ],
   "source": [
    "!echo %CONDA_DEFAULT_ENV%"
   ]
  },
  {
   "cell_type": "code",
   "execution_count": 2,
   "id": "c78726df",
   "metadata": {},
   "outputs": [
    {
     "name": "stdout",
     "output_type": "stream",
     "text": [
      "Python 3.10.8\n"
     ]
    }
   ],
   "source": [
    "!python --version"
   ]
  },
  {
   "cell_type": "code",
   "execution_count": 3,
   "id": "8f4f6ee6",
   "metadata": {},
   "outputs": [
    {
     "name": "stdout",
     "output_type": "stream",
     "text": [
      "Name: pandas\n",
      "Version: 1.5.2\n",
      "Summary: Powerful data structures for data analysis, time series, and statistics\n",
      "Home-page: https://pandas.pydata.org\n",
      "Author: The Pandas Development Team\n",
      "Author-email: pandas-dev@python.org\n",
      "License: BSD-3-Clause\n",
      "Location: c:\\users\\adrie\\anaconda3\\envs\\mlproject\\lib\\site-packages\n",
      "Requires: numpy, python-dateutil, pytz\n",
      "Required-by: seaborn\n"
     ]
    }
   ],
   "source": [
    "!pip show pandas"
   ]
  },
  {
   "cell_type": "markdown",
   "id": "0a7cc686",
   "metadata": {},
   "source": [
    "To use linear algebra we import numpy and to process the data we import pandas"
   ]
  },
  {
   "cell_type": "code",
   "execution_count": 43,
   "id": "299cf73c",
   "metadata": {},
   "outputs": [],
   "source": [
    "import numpy as np # linear algebra\n",
    "import pandas as pd # data processing"
   ]
  },
  {
   "cell_type": "markdown",
   "id": "ccdd5a2c",
   "metadata": {},
   "source": [
    "To get and manipulate file, we import the os package"
   ]
  },
  {
   "cell_type": "code",
   "execution_count": 44,
   "id": "e717bad3",
   "metadata": {},
   "outputs": [],
   "source": [
    "import os"
   ]
  },
  {
   "cell_type": "markdown",
   "id": "88e032eb",
   "metadata": {},
   "source": [
    "To visualize data we install an import matplotlib and to improv visualization we use seaborn"
   ]
  },
  {
   "cell_type": "code",
   "execution_count": 45,
   "id": "932b316d",
   "metadata": {},
   "outputs": [
    {
     "name": "stdout",
     "output_type": "stream",
     "text": [
      "Requirement already satisfied: wordcloud in c:\\users\\adrie\\anaconda3\\envs\\mlproject\\lib\\site-packages (1.8.2.2)\n",
      "Requirement already satisfied: pillow in c:\\users\\adrie\\anaconda3\\envs\\mlproject\\lib\\site-packages (from wordcloud) (9.4.0)\n",
      "Requirement already satisfied: numpy>=1.6.1 in c:\\users\\adrie\\anaconda3\\envs\\mlproject\\lib\\site-packages (from wordcloud) (1.24.1)\n",
      "Requirement already satisfied: matplotlib in c:\\users\\adrie\\anaconda3\\envs\\mlproject\\lib\\site-packages (from wordcloud) (3.6.2)\n",
      "Requirement already satisfied: packaging>=20.0 in c:\\users\\adrie\\anaconda3\\envs\\mlproject\\lib\\site-packages (from matplotlib->wordcloud) (22.0)\n",
      "Requirement already satisfied: pyparsing>=2.2.1 in c:\\users\\adrie\\anaconda3\\envs\\mlproject\\lib\\site-packages (from matplotlib->wordcloud) (3.0.9)\n",
      "Requirement already satisfied: cycler>=0.10 in c:\\users\\adrie\\anaconda3\\envs\\mlproject\\lib\\site-packages (from matplotlib->wordcloud) (0.11.0)\n",
      "Requirement already satisfied: kiwisolver>=1.0.1 in c:\\users\\adrie\\anaconda3\\envs\\mlproject\\lib\\site-packages (from matplotlib->wordcloud) (1.4.4)\n",
      "Requirement already satisfied: python-dateutil>=2.7 in c:\\users\\adrie\\anaconda3\\envs\\mlproject\\lib\\site-packages (from matplotlib->wordcloud) (2.8.2)\n",
      "Requirement already satisfied: fonttools>=4.22.0 in c:\\users\\adrie\\anaconda3\\envs\\mlproject\\lib\\site-packages (from matplotlib->wordcloud) (4.38.0)\n",
      "Requirement already satisfied: contourpy>=1.0.1 in c:\\users\\adrie\\anaconda3\\envs\\mlproject\\lib\\site-packages (from matplotlib->wordcloud) (1.0.6)\n",
      "Requirement already satisfied: six>=1.5 in c:\\users\\adrie\\anaconda3\\envs\\mlproject\\lib\\site-packages (from python-dateutil>=2.7->matplotlib->wordcloud) (1.16.0)\n"
     ]
    }
   ],
   "source": [
    "!pip install wordcloud"
   ]
  },
  {
   "cell_type": "code",
   "execution_count": 46,
   "id": "12a6cd87",
   "metadata": {},
   "outputs": [],
   "source": [
    "import pandas as pd\n",
    "import matplotlib.pyplot as plt\n",
    "import seaborn as sns\n",
    "from wordcloud import WordCloud,STOPWORDS"
   ]
  },
  {
   "cell_type": "markdown",
   "id": "2a3b6c6e",
   "metadata": {},
   "source": [
    "## Loading and cleaning the data"
   ]
  },
  {
   "cell_type": "code",
   "execution_count": 47,
   "id": "2021fe99",
   "metadata": {},
   "outputs": [],
   "source": [
    "#path and file name\n",
    "files_path=\"D:/Workspace_Python/MLProject/dataset/books_data/\"\n",
    "#files_path=\"C:/Users/adrie/Workspace_Python/dataset/books_data/\"\n",
    "books_csv=\"books.csv\"\n",
    "users_csv=\"users.csv\"\n",
    "ratings_csv=\"ratings.csv\""
   ]
  },
  {
   "cell_type": "code",
   "execution_count": 48,
   "id": "e1cbe111",
   "metadata": {
    "scrolled": true
   },
   "outputs": [
    {
     "name": "stderr",
     "output_type": "stream",
     "text": [
      "C:\\Users\\adrie\\AppData\\Local\\Temp\\ipykernel_26296\\4244541532.py:1: DtypeWarning: Columns (3) have mixed types. Specify dtype option on import or set low_memory=False.\n",
      "  books = pd.read_csv(files_path+books_csv, sep=\";\",on_bad_lines='warn', encoding=\"latin-1\")\n"
     ]
    }
   ],
   "source": [
    "books = pd.read_csv(files_path+books_csv, sep=\";\",on_bad_lines='warn', encoding=\"latin-1\")\n",
    "books.columns = ['ISBN', 'bookTitle', 'bookAuthor', 'yearOfPublication', 'publisher', \n",
    "                 'imageUrlS', 'imageUrlM', 'imageUrlL']"
   ]
  },
  {
   "cell_type": "markdown",
   "id": "23021be1",
   "metadata": {},
   "source": [
    "As we can see, some lines were skipped because they have too many fields. We should see if this data can be cleanned so we can used them. As we doesn't have many rows in error and the files are readable with tools like Notepad++ or Excel, we can do it manually. If it wasn't the case we should have wrote a custom reader to store the line in error.\n",
    "When looking at the file we can see the presence of \"`&amp;`\"  string which can create unexpected columns du to the semicolon. To correct that, we remplace \"`&amp;`\"  by \"&\"\n",
    "By rerunning the read_csv function, we still have some errors:\n",
    "\n",
    "Skipping line 43667: expected 8 fields, saw 10\n",
    "\n",
    "Skipping line 144058: expected 8 fields, saw 9\n",
    "Skipping line 180189: expected 8 fields, saw 9\n",
    "\n",
    "Skipping line 209388: expected 8 fields, saw 9\n",
    "Skipping line 227933: expected 8 fields, saw 10\n",
    "Skipping line 261529: expected 8 fields, saw 9\n",
    "\n",
    "Again this result of title containing both \" \\\" \" and \" ; \". As we have only 6 rows affected, we correct them manually by replacing \" \\\" \" by \" ' \" then \" ; \" by \" , \" if necessary.\n",
    "Rerunning the above cell and check if all lines are loaded:"
   ]
  },
  {
   "cell_type": "code",
   "execution_count": 49,
   "id": "c3b81f6d",
   "metadata": {},
   "outputs": [
    {
     "data": {
      "text/plain": [
       "(271379, 8)"
      ]
     },
     "execution_count": 49,
     "metadata": {},
     "output_type": "execute_result"
    }
   ],
   "source": [
    "books.shape"
   ]
  },
  {
   "cell_type": "markdown",
   "id": "ae111fdb",
   "metadata": {},
   "source": [
    "The number of rows and columns in the dataFram is the same than the file, so far so good.\n",
    "We can now explore the data"
   ]
  },
  {
   "cell_type": "markdown",
   "id": "ac9f77b6",
   "metadata": {},
   "source": [
    "## Search of inconsistency in the data"
   ]
  },
  {
   "cell_type": "markdown",
   "id": "1a602f4c",
   "metadata": {},
   "source": [
    "### Cleaning of the books dataset"
   ]
  },
  {
   "cell_type": "code",
   "execution_count": 50,
   "id": "89c86c07",
   "metadata": {
    "scrolled": false
   },
   "outputs": [
    {
     "data": {
      "text/html": [
       "<div>\n",
       "<style scoped>\n",
       "    .dataframe tbody tr th:only-of-type {\n",
       "        vertical-align: middle;\n",
       "    }\n",
       "\n",
       "    .dataframe tbody tr th {\n",
       "        vertical-align: top;\n",
       "    }\n",
       "\n",
       "    .dataframe thead th {\n",
       "        text-align: right;\n",
       "    }\n",
       "</style>\n",
       "<table border=\"1\" class=\"dataframe\">\n",
       "  <thead>\n",
       "    <tr style=\"text-align: right;\">\n",
       "      <th></th>\n",
       "      <th>ISBN</th>\n",
       "      <th>bookTitle</th>\n",
       "      <th>bookAuthor</th>\n",
       "      <th>yearOfPublication</th>\n",
       "      <th>publisher</th>\n",
       "      <th>imageUrlS</th>\n",
       "      <th>imageUrlM</th>\n",
       "      <th>imageUrlL</th>\n",
       "    </tr>\n",
       "  </thead>\n",
       "  <tbody>\n",
       "    <tr>\n",
       "      <th>0</th>\n",
       "      <td>0195153448</td>\n",
       "      <td>Classical Mythology</td>\n",
       "      <td>Mark P. O. Morford</td>\n",
       "      <td>2002</td>\n",
       "      <td>Oxford University Press</td>\n",
       "      <td>http://images.amazon.com/images/P/0195153448.0...</td>\n",
       "      <td>http://images.amazon.com/images/P/0195153448.0...</td>\n",
       "      <td>http://images.amazon.com/images/P/0195153448.0...</td>\n",
       "    </tr>\n",
       "    <tr>\n",
       "      <th>1</th>\n",
       "      <td>0002005018</td>\n",
       "      <td>Clara Callan</td>\n",
       "      <td>Richard Bruce Wright</td>\n",
       "      <td>2001</td>\n",
       "      <td>HarperFlamingo Canada</td>\n",
       "      <td>http://images.amazon.com/images/P/0002005018.0...</td>\n",
       "      <td>http://images.amazon.com/images/P/0002005018.0...</td>\n",
       "      <td>http://images.amazon.com/images/P/0002005018.0...</td>\n",
       "    </tr>\n",
       "    <tr>\n",
       "      <th>2</th>\n",
       "      <td>0060973129</td>\n",
       "      <td>Decision in Normandy</td>\n",
       "      <td>Carlo D'Este</td>\n",
       "      <td>1991</td>\n",
       "      <td>HarperPerennial</td>\n",
       "      <td>http://images.amazon.com/images/P/0060973129.0...</td>\n",
       "      <td>http://images.amazon.com/images/P/0060973129.0...</td>\n",
       "      <td>http://images.amazon.com/images/P/0060973129.0...</td>\n",
       "    </tr>\n",
       "    <tr>\n",
       "      <th>3</th>\n",
       "      <td>0374157065</td>\n",
       "      <td>Flu: The Story of the Great Influenza Pandemic...</td>\n",
       "      <td>Gina Bari Kolata</td>\n",
       "      <td>1999</td>\n",
       "      <td>Farrar Straus Giroux</td>\n",
       "      <td>http://images.amazon.com/images/P/0374157065.0...</td>\n",
       "      <td>http://images.amazon.com/images/P/0374157065.0...</td>\n",
       "      <td>http://images.amazon.com/images/P/0374157065.0...</td>\n",
       "    </tr>\n",
       "    <tr>\n",
       "      <th>4</th>\n",
       "      <td>0393045218</td>\n",
       "      <td>The Mummies of Urumchi</td>\n",
       "      <td>E. J. W. Barber</td>\n",
       "      <td>1999</td>\n",
       "      <td>W. W. Norton &amp; Company</td>\n",
       "      <td>http://images.amazon.com/images/P/0393045218.0...</td>\n",
       "      <td>http://images.amazon.com/images/P/0393045218.0...</td>\n",
       "      <td>http://images.amazon.com/images/P/0393045218.0...</td>\n",
       "    </tr>\n",
       "  </tbody>\n",
       "</table>\n",
       "</div>"
      ],
      "text/plain": [
       "         ISBN                                          bookTitle  \\\n",
       "0  0195153448                                Classical Mythology   \n",
       "1  0002005018                                       Clara Callan   \n",
       "2  0060973129                               Decision in Normandy   \n",
       "3  0374157065  Flu: The Story of the Great Influenza Pandemic...   \n",
       "4  0393045218                             The Mummies of Urumchi   \n",
       "\n",
       "             bookAuthor yearOfPublication                publisher  \\\n",
       "0    Mark P. O. Morford              2002  Oxford University Press   \n",
       "1  Richard Bruce Wright              2001    HarperFlamingo Canada   \n",
       "2          Carlo D'Este              1991          HarperPerennial   \n",
       "3      Gina Bari Kolata              1999     Farrar Straus Giroux   \n",
       "4       E. J. W. Barber              1999   W. W. Norton & Company   \n",
       "\n",
       "                                           imageUrlS  \\\n",
       "0  http://images.amazon.com/images/P/0195153448.0...   \n",
       "1  http://images.amazon.com/images/P/0002005018.0...   \n",
       "2  http://images.amazon.com/images/P/0060973129.0...   \n",
       "3  http://images.amazon.com/images/P/0374157065.0...   \n",
       "4  http://images.amazon.com/images/P/0393045218.0...   \n",
       "\n",
       "                                           imageUrlM  \\\n",
       "0  http://images.amazon.com/images/P/0195153448.0...   \n",
       "1  http://images.amazon.com/images/P/0002005018.0...   \n",
       "2  http://images.amazon.com/images/P/0060973129.0...   \n",
       "3  http://images.amazon.com/images/P/0374157065.0...   \n",
       "4  http://images.amazon.com/images/P/0393045218.0...   \n",
       "\n",
       "                                           imageUrlL  \n",
       "0  http://images.amazon.com/images/P/0195153448.0...  \n",
       "1  http://images.amazon.com/images/P/0002005018.0...  \n",
       "2  http://images.amazon.com/images/P/0060973129.0...  \n",
       "3  http://images.amazon.com/images/P/0374157065.0...  \n",
       "4  http://images.amazon.com/images/P/0393045218.0...  "
      ]
     },
     "execution_count": 50,
     "metadata": {},
     "output_type": "execute_result"
    }
   ],
   "source": [
    "books.head()"
   ]
  },
  {
   "cell_type": "markdown",
   "id": "220bdba0",
   "metadata": {},
   "source": [
    "We observe that the three last columns are URL of image so we can discard them as they don't contain useful data as we don't need to load image only print the title of the book to give recommentation (altough it could be useful for an web application, so in that case we would have kept those columns)"
   ]
  },
  {
   "cell_type": "code",
   "execution_count": 51,
   "id": "f3f9379d",
   "metadata": {},
   "outputs": [
    {
     "data": {
      "text/html": [
       "<div>\n",
       "<style scoped>\n",
       "    .dataframe tbody tr th:only-of-type {\n",
       "        vertical-align: middle;\n",
       "    }\n",
       "\n",
       "    .dataframe tbody tr th {\n",
       "        vertical-align: top;\n",
       "    }\n",
       "\n",
       "    .dataframe thead th {\n",
       "        text-align: right;\n",
       "    }\n",
       "</style>\n",
       "<table border=\"1\" class=\"dataframe\">\n",
       "  <thead>\n",
       "    <tr style=\"text-align: right;\">\n",
       "      <th></th>\n",
       "      <th>ISBN</th>\n",
       "      <th>bookTitle</th>\n",
       "      <th>bookAuthor</th>\n",
       "      <th>yearOfPublication</th>\n",
       "      <th>publisher</th>\n",
       "    </tr>\n",
       "  </thead>\n",
       "  <tbody>\n",
       "    <tr>\n",
       "      <th>0</th>\n",
       "      <td>0195153448</td>\n",
       "      <td>Classical Mythology</td>\n",
       "      <td>Mark P. O. Morford</td>\n",
       "      <td>2002</td>\n",
       "      <td>Oxford University Press</td>\n",
       "    </tr>\n",
       "    <tr>\n",
       "      <th>1</th>\n",
       "      <td>0002005018</td>\n",
       "      <td>Clara Callan</td>\n",
       "      <td>Richard Bruce Wright</td>\n",
       "      <td>2001</td>\n",
       "      <td>HarperFlamingo Canada</td>\n",
       "    </tr>\n",
       "    <tr>\n",
       "      <th>2</th>\n",
       "      <td>0060973129</td>\n",
       "      <td>Decision in Normandy</td>\n",
       "      <td>Carlo D'Este</td>\n",
       "      <td>1991</td>\n",
       "      <td>HarperPerennial</td>\n",
       "    </tr>\n",
       "    <tr>\n",
       "      <th>3</th>\n",
       "      <td>0374157065</td>\n",
       "      <td>Flu: The Story of the Great Influenza Pandemic...</td>\n",
       "      <td>Gina Bari Kolata</td>\n",
       "      <td>1999</td>\n",
       "      <td>Farrar Straus Giroux</td>\n",
       "    </tr>\n",
       "    <tr>\n",
       "      <th>4</th>\n",
       "      <td>0393045218</td>\n",
       "      <td>The Mummies of Urumchi</td>\n",
       "      <td>E. J. W. Barber</td>\n",
       "      <td>1999</td>\n",
       "      <td>W. W. Norton &amp; Company</td>\n",
       "    </tr>\n",
       "  </tbody>\n",
       "</table>\n",
       "</div>"
      ],
      "text/plain": [
       "         ISBN                                          bookTitle  \\\n",
       "0  0195153448                                Classical Mythology   \n",
       "1  0002005018                                       Clara Callan   \n",
       "2  0060973129                               Decision in Normandy   \n",
       "3  0374157065  Flu: The Story of the Great Influenza Pandemic...   \n",
       "4  0393045218                             The Mummies of Urumchi   \n",
       "\n",
       "             bookAuthor yearOfPublication                publisher  \n",
       "0    Mark P. O. Morford              2002  Oxford University Press  \n",
       "1  Richard Bruce Wright              2001    HarperFlamingo Canada  \n",
       "2          Carlo D'Este              1991          HarperPerennial  \n",
       "3      Gina Bari Kolata              1999     Farrar Straus Giroux  \n",
       "4       E. J. W. Barber              1999   W. W. Norton & Company  "
      ]
     },
     "execution_count": 51,
     "metadata": {},
     "output_type": "execute_result"
    }
   ],
   "source": [
    "books=books.drop(['imageUrlS','imageUrlM','imageUrlL'], axis=1)\n",
    "books.head()"
   ]
  },
  {
   "cell_type": "markdown",
   "id": "e885f06f",
   "metadata": {},
   "source": [
    "The dataframe has 5 columns remaining. The ISBN allow to uniquely identify each book.\n",
    "The column yearOfPublication should contain only year and be convertible to integer. We check if it's the case"
   ]
  },
  {
   "cell_type": "code",
   "execution_count": 52,
   "id": "2e04690b",
   "metadata": {},
   "outputs": [
    {
     "data": {
      "text/plain": [
       "array([2002, 2001, 1991, 1999, 2000, 1993, 1996, 1988, 2004, 1998, 1994,\n",
       "       2003, 1997, 1983, 1979, 1995, 1982, 1985, 1992, 1986, 1978, 1980,\n",
       "       1952, 1987, 1990, 1981, 1989, 1984, 0, 1968, 1961, 1958, 1974,\n",
       "       1976, 1971, 1977, 1975, 1965, 1941, 1970, 1962, 1973, 1972, 1960,\n",
       "       1966, 1920, 1956, 1959, 1953, 1951, 1942, 1963, 1964, 1969, 1954,\n",
       "       1950, 1967, 2005, 1957, 1940, 1937, 1955, 1946, 1936, 1930, 2011,\n",
       "       1925, 1948, 1943, 1947, 1945, 1923, 2020, 1939, 1926, 1938, 2030,\n",
       "       1911, 1904, 1949, 1932, 1928, 1929, 1927, 1931, 1914, 2050, 1934,\n",
       "       1910, 1933, 1902, 1924, 1921, 1900, 2038, 2026, 1944, 1917, 1901,\n",
       "       2010, 1908, 1906, 1935, 1806, 2021, '1999', '2002', '2001', '2000',\n",
       "       '1996', '1992', '1995', '2004', '2003', '1990', '1994', '1986',\n",
       "       '1989', '1981', '1993', '1983', '1982', '1976', '1991', '1977',\n",
       "       '1998', '0', '1997', '1974', '1968', '1987', '1984', '1988',\n",
       "       '1963', '1956', '1970', '1985', '1978', '1973', '1980', '1979',\n",
       "       '1975', '1969', '1961', '1965', '1939', '1958', '1950', '1953',\n",
       "       '1966', '1971', '1959', '1972', '1955', '1957', '1945', '1960',\n",
       "       '1967', '1932', '1924', '1964', '2012', '1911', '1927', '1948',\n",
       "       '1962', '2006', '1952', '1940', '1951', '1931', '1954', '2005',\n",
       "       '1930', '1941', '1944', 'DK Publishing Inc', '1943', '1938',\n",
       "       '1900', '1942', '1923', '1920', '1933', 'Gallimard', '1909',\n",
       "       '1946', '2008', '1378', '2030', '1936', '1947', '2011', '2020',\n",
       "       '1919', '1949', '1922', '1897', '2024', '1376', '1926', '2037'],\n",
       "      dtype=object)"
      ]
     },
     "execution_count": 52,
     "metadata": {},
     "output_type": "execute_result"
    }
   ],
   "source": [
    "books[\"yearOfPublication\"].unique()"
   ]
  },
  {
   "cell_type": "markdown",
   "id": "bc13a42c",
   "metadata": {},
   "source": [
    "We observe that some date are instead publishers. We retrieve this observations:"
   ]
  },
  {
   "cell_type": "code",
   "execution_count": 53,
   "id": "763ebc92",
   "metadata": {},
   "outputs": [
    {
     "data": {
      "text/html": [
       "<div>\n",
       "<style scoped>\n",
       "    .dataframe tbody tr th:only-of-type {\n",
       "        vertical-align: middle;\n",
       "    }\n",
       "\n",
       "    .dataframe tbody tr th {\n",
       "        vertical-align: top;\n",
       "    }\n",
       "\n",
       "    .dataframe thead th {\n",
       "        text-align: right;\n",
       "    }\n",
       "</style>\n",
       "<table border=\"1\" class=\"dataframe\">\n",
       "  <thead>\n",
       "    <tr style=\"text-align: right;\">\n",
       "      <th></th>\n",
       "      <th>ISBN</th>\n",
       "      <th>bookTitle</th>\n",
       "      <th>bookAuthor</th>\n",
       "      <th>yearOfPublication</th>\n",
       "      <th>publisher</th>\n",
       "    </tr>\n",
       "  </thead>\n",
       "  <tbody>\n",
       "    <tr>\n",
       "      <th>209550</th>\n",
       "      <td>078946697X</td>\n",
       "      <td>DK Readers: Creating the X-Men, How It All Beg...</td>\n",
       "      <td>2000</td>\n",
       "      <td>DK Publishing Inc</td>\n",
       "      <td>http://images.amazon.com/images/P/078946697X.0...</td>\n",
       "    </tr>\n",
       "    <tr>\n",
       "      <th>220744</th>\n",
       "      <td>2070426769</td>\n",
       "      <td>Peuple du ciel, suivi de 'Les Bergers\\\";Jean-M...</td>\n",
       "      <td>2003</td>\n",
       "      <td>Gallimard</td>\n",
       "      <td>http://images.amazon.com/images/P/2070426769.0...</td>\n",
       "    </tr>\n",
       "    <tr>\n",
       "      <th>221691</th>\n",
       "      <td>0789466953</td>\n",
       "      <td>DK Readers: Creating the X-Men, How Comic Book...</td>\n",
       "      <td>2000</td>\n",
       "      <td>DK Publishing Inc</td>\n",
       "      <td>http://images.amazon.com/images/P/0789466953.0...</td>\n",
       "    </tr>\n",
       "  </tbody>\n",
       "</table>\n",
       "</div>"
      ],
      "text/plain": [
       "              ISBN                                          bookTitle  \\\n",
       "209550  078946697X  DK Readers: Creating the X-Men, How It All Beg...   \n",
       "220744  2070426769  Peuple du ciel, suivi de 'Les Bergers\\\";Jean-M...   \n",
       "221691  0789466953  DK Readers: Creating the X-Men, How Comic Book...   \n",
       "\n",
       "       bookAuthor  yearOfPublication  \\\n",
       "209550       2000  DK Publishing Inc   \n",
       "220744       2003          Gallimard   \n",
       "221691       2000  DK Publishing Inc   \n",
       "\n",
       "                                                publisher  \n",
       "209550  http://images.amazon.com/images/P/078946697X.0...  \n",
       "220744  http://images.amazon.com/images/P/2070426769.0...  \n",
       "221691  http://images.amazon.com/images/P/0789466953.0...  "
      ]
     },
     "execution_count": 53,
     "metadata": {},
     "output_type": "execute_result"
    }
   ],
   "source": [
    "bad_rows=books[(books[\"yearOfPublication\"]=='DK Publishing Inc') | (books[\"yearOfPublication\"] == 'Gallimard')]\n",
    "bad_rows"
   ]
  },
  {
   "cell_type": "markdown",
   "id": "fe104e94",
   "metadata": {},
   "source": [
    "The book title seems to contain the book author. We clean this rows."
   ]
  },
  {
   "cell_type": "code",
   "execution_count": 54,
   "id": "cb9c1d4b",
   "metadata": {
    "scrolled": false
   },
   "outputs": [
    {
     "name": "stderr",
     "output_type": "stream",
     "text": [
      "C:\\Users\\adrie\\AppData\\Local\\Temp\\ipykernel_26296\\1544933059.py:1: SettingWithCopyWarning: \n",
      "A value is trying to be set on a copy of a slice from a DataFrame.\n",
      "Try using .loc[row_indexer,col_indexer] = value instead\n",
      "\n",
      "See the caveats in the documentation: https://pandas.pydata.org/pandas-docs/stable/user_guide/indexing.html#returning-a-view-versus-a-copy\n",
      "  bad_rows[['realBookTitle','realBookAuthor']]=bad_rows.bookTitle.str.split('\\\\\\\\\";',expand=True)\n",
      "C:\\Users\\adrie\\AppData\\Local\\Temp\\ipykernel_26296\\1544933059.py:1: SettingWithCopyWarning: \n",
      "A value is trying to be set on a copy of a slice from a DataFrame.\n",
      "Try using .loc[row_indexer,col_indexer] = value instead\n",
      "\n",
      "See the caveats in the documentation: https://pandas.pydata.org/pandas-docs/stable/user_guide/indexing.html#returning-a-view-versus-a-copy\n",
      "  bad_rows[['realBookTitle','realBookAuthor']]=bad_rows.bookTitle.str.split('\\\\\\\\\";',expand=True)\n"
     ]
    },
    {
     "data": {
      "text/html": [
       "<div>\n",
       "<style scoped>\n",
       "    .dataframe tbody tr th:only-of-type {\n",
       "        vertical-align: middle;\n",
       "    }\n",
       "\n",
       "    .dataframe tbody tr th {\n",
       "        vertical-align: top;\n",
       "    }\n",
       "\n",
       "    .dataframe thead th {\n",
       "        text-align: right;\n",
       "    }\n",
       "</style>\n",
       "<table border=\"1\" class=\"dataframe\">\n",
       "  <thead>\n",
       "    <tr style=\"text-align: right;\">\n",
       "      <th></th>\n",
       "      <th>ISBN</th>\n",
       "      <th>bookTitle</th>\n",
       "      <th>bookAuthor</th>\n",
       "      <th>yearOfPublication</th>\n",
       "      <th>publisher</th>\n",
       "      <th>realBookTitle</th>\n",
       "      <th>realBookAuthor</th>\n",
       "    </tr>\n",
       "  </thead>\n",
       "  <tbody>\n",
       "    <tr>\n",
       "      <th>209550</th>\n",
       "      <td>078946697X</td>\n",
       "      <td>DK Readers: Creating the X-Men, How It All Beg...</td>\n",
       "      <td>2000</td>\n",
       "      <td>DK Publishing Inc</td>\n",
       "      <td>http://images.amazon.com/images/P/078946697X.0...</td>\n",
       "      <td>DK Readers: Creating the X-Men, How It All Beg...</td>\n",
       "      <td>Michael Teitelbaum\"</td>\n",
       "    </tr>\n",
       "    <tr>\n",
       "      <th>220744</th>\n",
       "      <td>2070426769</td>\n",
       "      <td>Peuple du ciel, suivi de 'Les Bergers\\\";Jean-M...</td>\n",
       "      <td>2003</td>\n",
       "      <td>Gallimard</td>\n",
       "      <td>http://images.amazon.com/images/P/2070426769.0...</td>\n",
       "      <td>Peuple du ciel, suivi de 'Les Bergers</td>\n",
       "      <td>Jean-Marie Gustave Le ClÃ?Â©zio\"</td>\n",
       "    </tr>\n",
       "    <tr>\n",
       "      <th>221691</th>\n",
       "      <td>0789466953</td>\n",
       "      <td>DK Readers: Creating the X-Men, How Comic Book...</td>\n",
       "      <td>2000</td>\n",
       "      <td>DK Publishing Inc</td>\n",
       "      <td>http://images.amazon.com/images/P/0789466953.0...</td>\n",
       "      <td>DK Readers: Creating the X-Men, How Comic Book...</td>\n",
       "      <td>James Buckley\"</td>\n",
       "    </tr>\n",
       "  </tbody>\n",
       "</table>\n",
       "</div>"
      ],
      "text/plain": [
       "              ISBN                                          bookTitle  \\\n",
       "209550  078946697X  DK Readers: Creating the X-Men, How It All Beg...   \n",
       "220744  2070426769  Peuple du ciel, suivi de 'Les Bergers\\\";Jean-M...   \n",
       "221691  0789466953  DK Readers: Creating the X-Men, How Comic Book...   \n",
       "\n",
       "       bookAuthor  yearOfPublication  \\\n",
       "209550       2000  DK Publishing Inc   \n",
       "220744       2003          Gallimard   \n",
       "221691       2000  DK Publishing Inc   \n",
       "\n",
       "                                                publisher  \\\n",
       "209550  http://images.amazon.com/images/P/078946697X.0...   \n",
       "220744  http://images.amazon.com/images/P/2070426769.0...   \n",
       "221691  http://images.amazon.com/images/P/0789466953.0...   \n",
       "\n",
       "                                            realBookTitle  \\\n",
       "209550  DK Readers: Creating the X-Men, How It All Beg...   \n",
       "220744              Peuple du ciel, suivi de 'Les Bergers   \n",
       "221691  DK Readers: Creating the X-Men, How Comic Book...   \n",
       "\n",
       "                          realBookAuthor  \n",
       "209550               Michael Teitelbaum\"  \n",
       "220744  Jean-Marie Gustave Le ClÃ?Â©zio\"  \n",
       "221691                    James Buckley\"  "
      ]
     },
     "execution_count": 54,
     "metadata": {},
     "output_type": "execute_result"
    }
   ],
   "source": [
    "bad_rows[['realBookTitle','realBookAuthor']]=bad_rows.bookTitle.str.split('\\\\\\\\\";',expand=True)\n",
    "bad_rows"
   ]
  },
  {
   "cell_type": "raw",
   "id": "8bb84998",
   "metadata": {},
   "source": [
    "We are now able to correct the bad lines in the dataframe"
   ]
  },
  {
   "cell_type": "code",
   "execution_count": 55,
   "id": "2af7091e",
   "metadata": {
    "scrolled": true
   },
   "outputs": [
    {
     "data": {
      "text/html": [
       "<div>\n",
       "<style scoped>\n",
       "    .dataframe tbody tr th:only-of-type {\n",
       "        vertical-align: middle;\n",
       "    }\n",
       "\n",
       "    .dataframe tbody tr th {\n",
       "        vertical-align: top;\n",
       "    }\n",
       "\n",
       "    .dataframe thead th {\n",
       "        text-align: right;\n",
       "    }\n",
       "</style>\n",
       "<table border=\"1\" class=\"dataframe\">\n",
       "  <thead>\n",
       "    <tr style=\"text-align: right;\">\n",
       "      <th></th>\n",
       "      <th>ISBN</th>\n",
       "      <th>bookTitle</th>\n",
       "      <th>bookAuthor</th>\n",
       "      <th>yearOfPublication</th>\n",
       "      <th>publisher</th>\n",
       "    </tr>\n",
       "  </thead>\n",
       "  <tbody>\n",
       "    <tr>\n",
       "      <th>209550</th>\n",
       "      <td>078946697X</td>\n",
       "      <td>DK Readers: Creating the X-Men, How It All Beg...</td>\n",
       "      <td>Michael Teitelbaum\"</td>\n",
       "      <td>2000</td>\n",
       "      <td>DK Publishing Inc</td>\n",
       "    </tr>\n",
       "    <tr>\n",
       "      <th>220744</th>\n",
       "      <td>2070426769</td>\n",
       "      <td>Peuple du ciel, suivi de 'Les Bergers</td>\n",
       "      <td>Jean-Marie Gustave Le ClÃ?Â©zio\"</td>\n",
       "      <td>2003</td>\n",
       "      <td>Gallimard</td>\n",
       "    </tr>\n",
       "    <tr>\n",
       "      <th>221691</th>\n",
       "      <td>0789466953</td>\n",
       "      <td>DK Readers: Creating the X-Men, How Comic Book...</td>\n",
       "      <td>James Buckley\"</td>\n",
       "      <td>2000</td>\n",
       "      <td>DK Publishing Inc</td>\n",
       "    </tr>\n",
       "  </tbody>\n",
       "</table>\n",
       "</div>"
      ],
      "text/plain": [
       "              ISBN                                          bookTitle  \\\n",
       "209550  078946697X  DK Readers: Creating the X-Men, How It All Beg...   \n",
       "220744  2070426769              Peuple du ciel, suivi de 'Les Bergers   \n",
       "221691  0789466953  DK Readers: Creating the X-Men, How Comic Book...   \n",
       "\n",
       "                              bookAuthor yearOfPublication          publisher  \n",
       "209550               Michael Teitelbaum\"              2000  DK Publishing Inc  \n",
       "220744  Jean-Marie Gustave Le ClÃ?Â©zio\"              2003          Gallimard  \n",
       "221691                    James Buckley\"              2000  DK Publishing Inc  "
      ]
     },
     "execution_count": 55,
     "metadata": {},
     "output_type": "execute_result"
    }
   ],
   "source": [
    "lst=[]\n",
    "for i in bad_rows.index:\n",
    "    lst.append(i)\n",
    "    books.loc[i,\"publisher\"]=bad_rows.loc[i,\"yearOfPublication\"]\n",
    "    books.loc[i,\"yearOfPublication\"]=bad_rows.loc[i,\"bookAuthor\"]\n",
    "    books.loc[i,\"bookAuthor\"]=bad_rows.loc[i,\"realBookAuthor\"]\n",
    "    books.loc[i,\"bookTitle\"]=bad_rows.loc[i,\"realBookTitle\"]\n",
    "books.loc[lst]"
   ]
  },
  {
   "cell_type": "code",
   "execution_count": 56,
   "id": "46707876",
   "metadata": {},
   "outputs": [],
   "source": [
    "books[\"bookAuthor\"]=books[\"bookAuthor\"].str.replace('\"',\"'\")"
   ]
  },
  {
   "cell_type": "code",
   "execution_count": 57,
   "id": "62bc4e89",
   "metadata": {
    "scrolled": true
   },
   "outputs": [
    {
     "name": "stderr",
     "output_type": "stream",
     "text": [
      "C:\\Users\\adrie\\AppData\\Local\\Temp\\ipykernel_26296\\1141391955.py:1: FutureWarning: The default value of regex will change from True to False in a future version.\n",
      "  books[\"bookAuthor\"]=books[\"bookAuthor\"].str.replace(r'\\\\',\"\")\n"
     ]
    }
   ],
   "source": [
    "books[\"bookAuthor\"]=books[\"bookAuthor\"].str.replace(r'\\\\',\"\")"
   ]
  },
  {
   "cell_type": "markdown",
   "id": "f0c7ce83",
   "metadata": {},
   "source": [
    "Some rows has quote or double quote at the end of bookAuthor or bookTitle that doesn't close another quote. We remove them."
   ]
  },
  {
   "cell_type": "code",
   "execution_count": 58,
   "id": "6a36131c",
   "metadata": {},
   "outputs": [
    {
     "data": {
      "text/html": [
       "<div>\n",
       "<style scoped>\n",
       "    .dataframe tbody tr th:only-of-type {\n",
       "        vertical-align: middle;\n",
       "    }\n",
       "\n",
       "    .dataframe tbody tr th {\n",
       "        vertical-align: top;\n",
       "    }\n",
       "\n",
       "    .dataframe thead th {\n",
       "        text-align: right;\n",
       "    }\n",
       "</style>\n",
       "<table border=\"1\" class=\"dataframe\">\n",
       "  <thead>\n",
       "    <tr style=\"text-align: right;\">\n",
       "      <th></th>\n",
       "      <th>ISBN</th>\n",
       "      <th>bookTitle</th>\n",
       "      <th>bookAuthor</th>\n",
       "      <th>yearOfPublication</th>\n",
       "      <th>publisher</th>\n",
       "    </tr>\n",
       "  </thead>\n",
       "  <tbody>\n",
       "    <tr>\n",
       "      <th>98288</th>\n",
       "      <td>0416652700</td>\n",
       "      <td>The Pooh cook book: inspired by \\Winnie-the-Po...</td>\n",
       "      <td>;Katie Stewart'</td>\n",
       "      <td>1971</td>\n",
       "      <td>Methuen</td>\n",
       "    </tr>\n",
       "    <tr>\n",
       "      <th>112280</th>\n",
       "      <td>1853114103</td>\n",
       "      <td>Lord Have Mercy</td>\n",
       "      <td>'Ron''</td>\n",
       "      <td>2001</td>\n",
       "      <td>Canterbury Press</td>\n",
       "    </tr>\n",
       "    <tr>\n",
       "      <th>117995</th>\n",
       "      <td>0786881364</td>\n",
       "      <td>A Simple Program : A Contemporary Translation ...</td>\n",
       "      <td>J 'j''</td>\n",
       "      <td>1996</td>\n",
       "      <td>Hyperion</td>\n",
       "    </tr>\n",
       "    <tr>\n",
       "      <th>209550</th>\n",
       "      <td>078946697X</td>\n",
       "      <td>DK Readers: Creating the X-Men, How It All Beg...</td>\n",
       "      <td>Michael Teitelbaum'</td>\n",
       "      <td>2000</td>\n",
       "      <td>DK Publishing Inc</td>\n",
       "    </tr>\n",
       "    <tr>\n",
       "      <th>220744</th>\n",
       "      <td>2070426769</td>\n",
       "      <td>Peuple du ciel, suivi de 'Les Bergers</td>\n",
       "      <td>Jean-Marie Gustave Le ClÃ?Â©zio'</td>\n",
       "      <td>2003</td>\n",
       "      <td>Gallimard</td>\n",
       "    </tr>\n",
       "    <tr>\n",
       "      <th>221691</th>\n",
       "      <td>0789466953</td>\n",
       "      <td>DK Readers: Creating the X-Men, How Comic Book...</td>\n",
       "      <td>James Buckley'</td>\n",
       "      <td>2000</td>\n",
       "      <td>DK Publishing Inc</td>\n",
       "    </tr>\n",
       "    <tr>\n",
       "      <th>223761</th>\n",
       "      <td>1895455243</td>\n",
       "      <td>Finger Food (Company's Coming Pint Size)</td>\n",
       "      <td>Jean Pare'</td>\n",
       "      <td>1993</td>\n",
       "      <td>Company's Coming Publishing</td>\n",
       "    </tr>\n",
       "    <tr>\n",
       "      <th>245727</th>\n",
       "      <td>0961364920</td>\n",
       "      <td>A Timeless Place: Lett's Set a Spell at the Co...</td>\n",
       "      <td>Sandra 'Sandy Lynn' Lett'</td>\n",
       "      <td>2001</td>\n",
       "      <td>Transformations</td>\n",
       "    </tr>\n",
       "  </tbody>\n",
       "</table>\n",
       "</div>"
      ],
      "text/plain": [
       "              ISBN                                          bookTitle  \\\n",
       "98288   0416652700  The Pooh cook book: inspired by \\Winnie-the-Po...   \n",
       "112280  1853114103                                    Lord Have Mercy   \n",
       "117995  0786881364  A Simple Program : A Contemporary Translation ...   \n",
       "209550  078946697X  DK Readers: Creating the X-Men, How It All Beg...   \n",
       "220744  2070426769              Peuple du ciel, suivi de 'Les Bergers   \n",
       "221691  0789466953  DK Readers: Creating the X-Men, How Comic Book...   \n",
       "223761  1895455243           Finger Food (Company's Coming Pint Size)   \n",
       "245727  0961364920  A Timeless Place: Lett's Set a Spell at the Co...   \n",
       "\n",
       "                              bookAuthor yearOfPublication  \\\n",
       "98288                    ;Katie Stewart'              1971   \n",
       "112280                            'Ron''              2001   \n",
       "117995                            J 'j''              1996   \n",
       "209550               Michael Teitelbaum'              2000   \n",
       "220744  Jean-Marie Gustave Le ClÃ?Â©zio'              2003   \n",
       "221691                    James Buckley'              2000   \n",
       "223761                        Jean Pare'              1993   \n",
       "245727         Sandra 'Sandy Lynn' Lett'              2001   \n",
       "\n",
       "                          publisher  \n",
       "98288                       Methuen  \n",
       "112280             Canterbury Press  \n",
       "117995                     Hyperion  \n",
       "209550            DK Publishing Inc  \n",
       "220744                    Gallimard  \n",
       "221691            DK Publishing Inc  \n",
       "223761  Company's Coming Publishing  \n",
       "245727              Transformations  "
      ]
     },
     "execution_count": 58,
     "metadata": {},
     "output_type": "execute_result"
    }
   ],
   "source": [
    "books[books[\"bookAuthor\"].str.endswith(\"'\",na=False) & books[\"bookAuthor\"].str.count(\"'\")%2==1]"
   ]
  },
  {
   "cell_type": "code",
   "execution_count": 59,
   "id": "7b87763f",
   "metadata": {},
   "outputs": [],
   "source": [
    "condition=books[\"bookAuthor\"].str.endswith(\"'\",na=False) & books[\"bookAuthor\"].str.count(\"'\")%2==1\n",
    "books.loc[condition,\"bookAuthor\"]=books.loc[condition,\"bookAuthor\"].str.rstrip(\"'\")"
   ]
  },
  {
   "cell_type": "code",
   "execution_count": 60,
   "id": "2e311502",
   "metadata": {},
   "outputs": [
    {
     "data": {
      "text/html": [
       "<div>\n",
       "<style scoped>\n",
       "    .dataframe tbody tr th:only-of-type {\n",
       "        vertical-align: middle;\n",
       "    }\n",
       "\n",
       "    .dataframe tbody tr th {\n",
       "        vertical-align: top;\n",
       "    }\n",
       "\n",
       "    .dataframe thead th {\n",
       "        text-align: right;\n",
       "    }\n",
       "</style>\n",
       "<table border=\"1\" class=\"dataframe\">\n",
       "  <thead>\n",
       "    <tr style=\"text-align: right;\">\n",
       "      <th></th>\n",
       "      <th>ISBN</th>\n",
       "      <th>bookTitle</th>\n",
       "      <th>bookAuthor</th>\n",
       "      <th>yearOfPublication</th>\n",
       "      <th>publisher</th>\n",
       "    </tr>\n",
       "  </thead>\n",
       "  <tbody>\n",
       "  </tbody>\n",
       "</table>\n",
       "</div>"
      ],
      "text/plain": [
       "Empty DataFrame\n",
       "Columns: [ISBN, bookTitle, bookAuthor, yearOfPublication, publisher]\n",
       "Index: []"
      ]
     },
     "execution_count": 60,
     "metadata": {},
     "output_type": "execute_result"
    }
   ],
   "source": [
    "books[books[\"bookAuthor\"].str.endswith('\"',na=False) & books[\"bookAuthor\"].str.count('\"')%2==1]"
   ]
  },
  {
   "cell_type": "code",
   "execution_count": 61,
   "id": "3d197506",
   "metadata": {},
   "outputs": [
    {
     "data": {
      "text/plain": [
       "9345      The Way You Wear Your Hat: Frank Sinatra and t...\n",
       "11311                             All over but the Shoutin'\n",
       "18282                                           Dottor Niu'\n",
       "24169                                You Gotta Keep Dancin'\n",
       "43366                             All over but the Shoutin'\n",
       "57506                             All Over but the Shoutin'\n",
       "63728     The Way You Wear Your Hat: Frank Sinatra and t...\n",
       "70940                                      Love Everlastin'\n",
       "103821                                          Everlastin'\n",
       "113807    Kevin Myers: From the Irish Times Column 'an I...\n",
       "117516        Charles Darwin's 'The Life of Erasmus Darwin'\n",
       "120239                                      Cause cÃ?Â©leb'\n",
       "133467                                    Like I Was Sayin'\n",
       "140451                    Garri Potter i filosofskii kamen'\n",
       "155287                                       Freaky Dancin'\n",
       "182933                            All Over but the Shoutin'\n",
       "193709                                 Frog Went A-Courtin'\n",
       "218943                                  California Dreamin'\n",
       "226542                                Un tour sur le bolid'\n",
       "229685                                          Bon Marche'\n",
       "230888    Angels Dance & Angels Die : The Tragic Romance...\n",
       "232657                                 Frog Went A-Courtin'\n",
       "237664                                   The Art of Mackin'\n",
       "251554                                 Frog Went a-Courtin'\n",
       "Name: bookTitle, dtype: object"
      ]
     },
     "execution_count": 61,
     "metadata": {},
     "output_type": "execute_result"
    }
   ],
   "source": [
    "condition=books[\"bookTitle\"].str.endswith(\"'\",na=False) & books[\"bookTitle\"].str.count(\"'\")%2==1\n",
    "books.loc[condition,\"bookTitle\"]"
   ]
  },
  {
   "cell_type": "code",
   "execution_count": 62,
   "id": "74cbc164",
   "metadata": {},
   "outputs": [],
   "source": [
    "books.loc[condition,\"bookTitle\"]=books.loc[condition,\"bookTitle\"].str.rstrip(\"'\")"
   ]
  },
  {
   "cell_type": "code",
   "execution_count": 63,
   "id": "a24adff6",
   "metadata": {},
   "outputs": [
    {
     "data": {
      "text/plain": [
       "9345      The Way You Wear Your Hat: Frank Sinatra and t...\n",
       "11311                              All over but the Shoutin\n",
       "18282                                            Dottor Niu\n",
       "24169                                 You Gotta Keep Dancin\n",
       "43366                              All over but the Shoutin\n",
       "57506                              All Over but the Shoutin\n",
       "63728     The Way You Wear Your Hat: Frank Sinatra and t...\n",
       "70940                                       Love Everlastin\n",
       "103821                                           Everlastin\n",
       "113807    Kevin Myers: From the Irish Times Column 'an I...\n",
       "117516         Charles Darwin's 'The Life of Erasmus Darwin\n",
       "120239                                       Cause cÃ?Â©leb\n",
       "133467                                     Like I Was Sayin\n",
       "140451                     Garri Potter i filosofskii kamen\n",
       "155287                                        Freaky Dancin\n",
       "182933                             All Over but the Shoutin\n",
       "193709                                  Frog Went A-Courtin\n",
       "218943                                   California Dreamin\n",
       "226542                                 Un tour sur le bolid\n",
       "229685                                           Bon Marche\n",
       "230888    Angels Dance & Angels Die : The Tragic Romance...\n",
       "232657                                  Frog Went A-Courtin\n",
       "237664                                    The Art of Mackin\n",
       "251554                                  Frog Went a-Courtin\n",
       "Name: bookTitle, dtype: object"
      ]
     },
     "execution_count": 63,
     "metadata": {},
     "output_type": "execute_result"
    }
   ],
   "source": [
    "books.loc[condition,\"bookTitle\"]"
   ]
  },
  {
   "cell_type": "code",
   "execution_count": 64,
   "id": "364fa75a",
   "metadata": {},
   "outputs": [],
   "source": [
    "condition=books[\"bookTitle\"].str.endswith('\"',na=False) & books[\"bookTitle\"].str.count('\"')%2==1\n",
    "books.loc[condition,\"bookTitle\"]=books.loc[condition,\"bookTitle\"].str.rstrip('\"')"
   ]
  },
  {
   "cell_type": "code",
   "execution_count": 65,
   "id": "01f88747",
   "metadata": {
    "scrolled": true
   },
   "outputs": [
    {
     "name": "stderr",
     "output_type": "stream",
     "text": [
      "C:\\Users\\adrie\\AppData\\Local\\Temp\\ipykernel_26296\\3008223896.py:1: FutureWarning: The default value of regex will change from True to False in a future version.\n",
      "  books[\"bookTitle\"]=books[\"bookTitle\"].str.replace(r'\\\\',\"\")\n"
     ]
    }
   ],
   "source": [
    "books[\"bookTitle\"]=books[\"bookTitle\"].str.replace(r'\\\\',\"\")"
   ]
  },
  {
   "cell_type": "markdown",
   "id": "f8f0e35e",
   "metadata": {},
   "source": [
    "We now remove the possible double double quote and double simple quote at the end of the titles:"
   ]
  },
  {
   "cell_type": "code",
   "execution_count": 66,
   "id": "670bc0d1",
   "metadata": {},
   "outputs": [],
   "source": [
    "books[\"bookTitle\"]=books[\"bookTitle\"].str.rstrip('\"\"')\n",
    "books[\"bookTitle\"]=books[\"bookTitle\"].str.rstrip(\"''\")"
   ]
  },
  {
   "cell_type": "markdown",
   "id": "94952f20",
   "metadata": {},
   "source": [
    "We transform the year in integer to better handle them"
   ]
  },
  {
   "cell_type": "code",
   "execution_count": 67,
   "id": "1f8111f3",
   "metadata": {},
   "outputs": [],
   "source": [
    "books.yearOfPublication=books.yearOfPublication.astype(\"int\")"
   ]
  },
  {
   "cell_type": "code",
   "execution_count": 68,
   "id": "938ea389",
   "metadata": {
    "scrolled": true
   },
   "outputs": [
    {
     "name": "stdout",
     "output_type": "stream",
     "text": [
      "[0, 1376, 1378, 1806, 1897, 1900, 1901, 1902, 1904, 1906, 1908, 1909, 1910, 1911, 1914, 1917, 1919, 1920, 1921, 1922, 1923, 1924, 1925, 1926, 1927, 1928, 1929, 1930, 1931, 1932, 1933, 1934, 1935, 1936, 1937, 1938, 1939, 1940, 1941, 1942, 1943, 1944, 1945, 1946, 1947, 1948, 1949, 1950, 1951, 1952, 1953, 1954, 1955, 1956, 1957, 1958, 1959, 1960, 1961, 1962, 1963, 1964, 1965, 1966, 1967, 1968, 1969, 1970, 1971, 1972, 1973, 1974, 1975, 1976, 1977, 1978, 1979, 1980, 1981, 1982, 1983, 1984, 1985, 1986, 1987, 1988, 1989, 1990, 1991, 1992, 1993, 1994, 1995, 1996, 1997, 1998, 1999, 2000, 2001, 2002, 2003, 2004, 2005, 2006, 2008, 2010, 2011, 2012, 2020, 2021, 2024, 2026, 2030, 2037, 2038, 2050]\n"
     ]
    }
   ],
   "source": [
    "print(sorted(books.yearOfPublication.unique()))"
   ]
  },
  {
   "cell_type": "markdown",
   "id": "c7ae4bb4",
   "metadata": {},
   "source": [
    "We observe a discontinuity in the year of publication after 2008. Also the dataset was made in summer 2004 so all books after 2005 are probably placeholder or data error. We replace the year of publication of this books with the mean after setting the value at nan so this rows doesn't affect the statistics of our data. The books of 2005 have good probability to be accurate as a planned publication to one year is common so we don't modify them but this can be discuss."
   ]
  },
  {
   "cell_type": "code",
   "execution_count": 69,
   "id": "3bf2a936",
   "metadata": {},
   "outputs": [],
   "source": [
    "books.loc[(books.yearOfPublication==0)|(books.yearOfPublication>2005) ,'yearOfPublication' ] = np.nan\n",
    "books.yearOfPublication = books.yearOfPublication.fillna(round(books.yearOfPublication.mean()))"
   ]
  },
  {
   "cell_type": "markdown",
   "id": "dfaeb5ef",
   "metadata": {},
   "source": [
    "We check the presence of null value in the dataFrame"
   ]
  },
  {
   "cell_type": "code",
   "execution_count": 70,
   "id": "320c5745",
   "metadata": {},
   "outputs": [
    {
     "data": {
      "text/html": [
       "<div>\n",
       "<style scoped>\n",
       "    .dataframe tbody tr th:only-of-type {\n",
       "        vertical-align: middle;\n",
       "    }\n",
       "\n",
       "    .dataframe tbody tr th {\n",
       "        vertical-align: top;\n",
       "    }\n",
       "\n",
       "    .dataframe thead th {\n",
       "        text-align: right;\n",
       "    }\n",
       "</style>\n",
       "<table border=\"1\" class=\"dataframe\">\n",
       "  <thead>\n",
       "    <tr style=\"text-align: right;\">\n",
       "      <th></th>\n",
       "      <th>ISBN</th>\n",
       "      <th>bookTitle</th>\n",
       "      <th>bookAuthor</th>\n",
       "      <th>yearOfPublication</th>\n",
       "      <th>publisher</th>\n",
       "    </tr>\n",
       "  </thead>\n",
       "  <tbody>\n",
       "  </tbody>\n",
       "</table>\n",
       "</div>"
      ],
      "text/plain": [
       "Empty DataFrame\n",
       "Columns: [ISBN, bookTitle, bookAuthor, yearOfPublication, publisher]\n",
       "Index: []"
      ]
     },
     "execution_count": 70,
     "metadata": {},
     "output_type": "execute_result"
    }
   ],
   "source": [
    "books[books.yearOfPublication.isna()]"
   ]
  },
  {
   "cell_type": "code",
   "execution_count": 71,
   "id": "1ab1287b",
   "metadata": {},
   "outputs": [
    {
     "data": {
      "text/html": [
       "<div>\n",
       "<style scoped>\n",
       "    .dataframe tbody tr th:only-of-type {\n",
       "        vertical-align: middle;\n",
       "    }\n",
       "\n",
       "    .dataframe tbody tr th {\n",
       "        vertical-align: top;\n",
       "    }\n",
       "\n",
       "    .dataframe thead th {\n",
       "        text-align: right;\n",
       "    }\n",
       "</style>\n",
       "<table border=\"1\" class=\"dataframe\">\n",
       "  <thead>\n",
       "    <tr style=\"text-align: right;\">\n",
       "      <th></th>\n",
       "      <th>ISBN</th>\n",
       "      <th>bookTitle</th>\n",
       "      <th>bookAuthor</th>\n",
       "      <th>yearOfPublication</th>\n",
       "      <th>publisher</th>\n",
       "    </tr>\n",
       "  </thead>\n",
       "  <tbody>\n",
       "  </tbody>\n",
       "</table>\n",
       "</div>"
      ],
      "text/plain": [
       "Empty DataFrame\n",
       "Columns: [ISBN, bookTitle, bookAuthor, yearOfPublication, publisher]\n",
       "Index: []"
      ]
     },
     "execution_count": 71,
     "metadata": {},
     "output_type": "execute_result"
    }
   ],
   "source": [
    "books[books.bookTitle.isna()]"
   ]
  },
  {
   "cell_type": "code",
   "execution_count": 72,
   "id": "a84d4f76",
   "metadata": {},
   "outputs": [
    {
     "data": {
      "text/html": [
       "<div>\n",
       "<style scoped>\n",
       "    .dataframe tbody tr th:only-of-type {\n",
       "        vertical-align: middle;\n",
       "    }\n",
       "\n",
       "    .dataframe tbody tr th {\n",
       "        vertical-align: top;\n",
       "    }\n",
       "\n",
       "    .dataframe thead th {\n",
       "        text-align: right;\n",
       "    }\n",
       "</style>\n",
       "<table border=\"1\" class=\"dataframe\">\n",
       "  <thead>\n",
       "    <tr style=\"text-align: right;\">\n",
       "      <th></th>\n",
       "      <th>ISBN</th>\n",
       "      <th>bookTitle</th>\n",
       "      <th>bookAuthor</th>\n",
       "      <th>yearOfPublication</th>\n",
       "      <th>publisher</th>\n",
       "    </tr>\n",
       "  </thead>\n",
       "  <tbody>\n",
       "    <tr>\n",
       "      <th>187700</th>\n",
       "      <td>9627982032</td>\n",
       "      <td>The Credit Suisse Guide to Managing Your Perso...</td>\n",
       "      <td>NaN</td>\n",
       "      <td>1995.0</td>\n",
       "      <td>Edinburgh Financial Publishing</td>\n",
       "    </tr>\n",
       "  </tbody>\n",
       "</table>\n",
       "</div>"
      ],
      "text/plain": [
       "              ISBN                                          bookTitle  \\\n",
       "187700  9627982032  The Credit Suisse Guide to Managing Your Perso...   \n",
       "\n",
       "       bookAuthor  yearOfPublication                       publisher  \n",
       "187700        NaN             1995.0  Edinburgh Financial Publishing  "
      ]
     },
     "execution_count": 72,
     "metadata": {},
     "output_type": "execute_result"
    }
   ],
   "source": [
    "books[books.bookAuthor.isna()]"
   ]
  },
  {
   "cell_type": "markdown",
   "id": "4fe298c5",
   "metadata": {},
   "source": [
    "Based oon the book title and the publisher, the author of the book seems to be Sophie Pyott, Larissa Anne Downe or both as the data are not the same on google books and goodread also the ISBN is not the same and for the same ISBN the bookAuthor is really NaN. In doubt we choose to not update this row. "
   ]
  },
  {
   "cell_type": "code",
   "execution_count": 73,
   "id": "4e582c44",
   "metadata": {},
   "outputs": [
    {
     "data": {
      "text/html": [
       "<div>\n",
       "<style scoped>\n",
       "    .dataframe tbody tr th:only-of-type {\n",
       "        vertical-align: middle;\n",
       "    }\n",
       "\n",
       "    .dataframe tbody tr th {\n",
       "        vertical-align: top;\n",
       "    }\n",
       "\n",
       "    .dataframe thead th {\n",
       "        text-align: right;\n",
       "    }\n",
       "</style>\n",
       "<table border=\"1\" class=\"dataframe\">\n",
       "  <thead>\n",
       "    <tr style=\"text-align: right;\">\n",
       "      <th></th>\n",
       "      <th>ISBN</th>\n",
       "      <th>bookTitle</th>\n",
       "      <th>bookAuthor</th>\n",
       "      <th>yearOfPublication</th>\n",
       "      <th>publisher</th>\n",
       "    </tr>\n",
       "  </thead>\n",
       "  <tbody>\n",
       "    <tr>\n",
       "      <th>128896</th>\n",
       "      <td>193169656X</td>\n",
       "      <td>Tyrant Moon</td>\n",
       "      <td>Elaine Corvidae</td>\n",
       "      <td>2002.0</td>\n",
       "      <td>NaN</td>\n",
       "    </tr>\n",
       "    <tr>\n",
       "      <th>129043</th>\n",
       "      <td>1931696993</td>\n",
       "      <td>Finders Keepers</td>\n",
       "      <td>Linnea Sinclair</td>\n",
       "      <td>2001.0</td>\n",
       "      <td>NaN</td>\n",
       "    </tr>\n",
       "  </tbody>\n",
       "</table>\n",
       "</div>"
      ],
      "text/plain": [
       "              ISBN        bookTitle       bookAuthor  yearOfPublication  \\\n",
       "128896  193169656X      Tyrant Moon  Elaine Corvidae             2002.0   \n",
       "129043  1931696993  Finders Keepers  Linnea Sinclair             2001.0   \n",
       "\n",
       "       publisher  \n",
       "128896       NaN  \n",
       "129043       NaN  "
      ]
     },
     "execution_count": 73,
     "metadata": {},
     "output_type": "execute_result"
    }
   ],
   "source": [
    "books[books.publisher.isna()]"
   ]
  },
  {
   "cell_type": "markdown",
   "id": "fa682008",
   "metadata": {},
   "source": [
    "The publisher can be find by searching the ISBN on online database (isbnsearch.org, amazon.com or google books) and filter by the year of publication. We find that this two books were publisher by\n",
    "Novelbooks Incorporated. We update this two rows with the found value."
   ]
  },
  {
   "cell_type": "code",
   "execution_count": 74,
   "id": "38e67456",
   "metadata": {},
   "outputs": [],
   "source": [
    "books.loc[books.ISBN=='193169656X','publisher']='Novelbooks Incorporated'\n",
    "books.loc[books.ISBN=='1931696993','publisher']='Novelbooks Incorporated'"
   ]
  },
  {
   "cell_type": "code",
   "execution_count": 75,
   "id": "fb79802b",
   "metadata": {
    "scrolled": true
   },
   "outputs": [
    {
     "data": {
      "text/html": [
       "<div>\n",
       "<style scoped>\n",
       "    .dataframe tbody tr th:only-of-type {\n",
       "        vertical-align: middle;\n",
       "    }\n",
       "\n",
       "    .dataframe tbody tr th {\n",
       "        vertical-align: top;\n",
       "    }\n",
       "\n",
       "    .dataframe thead th {\n",
       "        text-align: right;\n",
       "    }\n",
       "</style>\n",
       "<table border=\"1\" class=\"dataframe\">\n",
       "  <thead>\n",
       "    <tr style=\"text-align: right;\">\n",
       "      <th></th>\n",
       "      <th>ISBN</th>\n",
       "      <th>bookTitle</th>\n",
       "      <th>bookAuthor</th>\n",
       "      <th>yearOfPublication</th>\n",
       "      <th>publisher</th>\n",
       "    </tr>\n",
       "  </thead>\n",
       "  <tbody>\n",
       "  </tbody>\n",
       "</table>\n",
       "</div>"
      ],
      "text/plain": [
       "Empty DataFrame\n",
       "Columns: [ISBN, bookTitle, bookAuthor, yearOfPublication, publisher]\n",
       "Index: []"
      ]
     },
     "execution_count": 75,
     "metadata": {},
     "output_type": "execute_result"
    }
   ],
   "source": [
    "books[books.ISBN.isna()]"
   ]
  },
  {
   "cell_type": "code",
   "execution_count": 76,
   "id": "2b852eba",
   "metadata": {},
   "outputs": [
    {
     "data": {
      "text/plain": [
       "'Richard Bruce Wright'"
      ]
     },
     "execution_count": 76,
     "metadata": {},
     "output_type": "execute_result"
    }
   ],
   "source": [
    "books.iloc[1,2]"
   ]
  },
  {
   "cell_type": "markdown",
   "id": "fabea24b",
   "metadata": {},
   "source": [
    "Only the columns bookAuthor and publisher have null value and very few. We decide to keep them as the information in these rows can still be useful. We always could delete them later.\n",
    "We finally add a column bookID to assign an id to the title to be able to identify a book title with an integer as two same books may have different ISBN"
   ]
  },
  {
   "cell_type": "code",
   "execution_count": 77,
   "id": "fa253468",
   "metadata": {},
   "outputs": [
    {
     "data": {
      "text/html": [
       "<div>\n",
       "<style scoped>\n",
       "    .dataframe tbody tr th:only-of-type {\n",
       "        vertical-align: middle;\n",
       "    }\n",
       "\n",
       "    .dataframe tbody tr th {\n",
       "        vertical-align: top;\n",
       "    }\n",
       "\n",
       "    .dataframe thead th {\n",
       "        text-align: right;\n",
       "    }\n",
       "</style>\n",
       "<table border=\"1\" class=\"dataframe\">\n",
       "  <thead>\n",
       "    <tr style=\"text-align: right;\">\n",
       "      <th></th>\n",
       "      <th>ISBN</th>\n",
       "      <th>bookTitle</th>\n",
       "      <th>bookAuthor</th>\n",
       "      <th>yearOfPublication</th>\n",
       "      <th>publisher</th>\n",
       "      <th>bookId</th>\n",
       "    </tr>\n",
       "  </thead>\n",
       "  <tbody>\n",
       "  </tbody>\n",
       "</table>\n",
       "</div>"
      ],
      "text/plain": [
       "Empty DataFrame\n",
       "Columns: [ISBN, bookTitle, bookAuthor, yearOfPublication, publisher, bookId]\n",
       "Index: []"
      ]
     },
     "execution_count": 77,
     "metadata": {},
     "output_type": "execute_result"
    }
   ],
   "source": [
    "books[\"bookId\"]=-1\n",
    "dict_book_id={}\n",
    "book_id=[0]\n",
    "def inc():\n",
    "    book_id[0]+=1\n",
    "    return book_id\n",
    "def add_id_book(df,i):\n",
    "    c=(str(df.iloc[i,1]).casefold(),str(df.iloc[i,2]).casefold())\n",
    "    prev=dict_book_id.get(c,-2)\n",
    "    if prev==-2:\n",
    "        df.iloc[i,5]=inc()\n",
    "        dict_book_id[c]=book_id[0]\n",
    "    else:\n",
    "        df.iloc[i,5]=prev  \n",
    "[add_id_book(books,i) for i in range(books.shape[0])]\n",
    "books.loc[books.bookId==-1].sort_values(\"bookTitle\")"
   ]
  },
  {
   "cell_type": "code",
   "execution_count": 78,
   "id": "191393e8",
   "metadata": {},
   "outputs": [
    {
     "data": {
      "text/html": [
       "<div>\n",
       "<style scoped>\n",
       "    .dataframe tbody tr th:only-of-type {\n",
       "        vertical-align: middle;\n",
       "    }\n",
       "\n",
       "    .dataframe tbody tr th {\n",
       "        vertical-align: top;\n",
       "    }\n",
       "\n",
       "    .dataframe thead th {\n",
       "        text-align: right;\n",
       "    }\n",
       "</style>\n",
       "<table border=\"1\" class=\"dataframe\">\n",
       "  <thead>\n",
       "    <tr style=\"text-align: right;\">\n",
       "      <th></th>\n",
       "      <th>ISBN</th>\n",
       "      <th>bookTitle</th>\n",
       "      <th>bookAuthor</th>\n",
       "      <th>yearOfPublication</th>\n",
       "      <th>publisher</th>\n",
       "      <th>bookId</th>\n",
       "    </tr>\n",
       "  </thead>\n",
       "  <tbody>\n",
       "    <tr>\n",
       "      <th>0</th>\n",
       "      <td>0195153448</td>\n",
       "      <td>Classical Mythology</td>\n",
       "      <td>Mark P. O. Morford</td>\n",
       "      <td>2002.0</td>\n",
       "      <td>Oxford University Press</td>\n",
       "      <td>1</td>\n",
       "    </tr>\n",
       "    <tr>\n",
       "      <th>1</th>\n",
       "      <td>0002005018</td>\n",
       "      <td>Clara Callan</td>\n",
       "      <td>Richard Bruce Wright</td>\n",
       "      <td>2001.0</td>\n",
       "      <td>HarperFlamingo Canada</td>\n",
       "      <td>2</td>\n",
       "    </tr>\n",
       "    <tr>\n",
       "      <th>2</th>\n",
       "      <td>0060973129</td>\n",
       "      <td>Decision in Normandy</td>\n",
       "      <td>Carlo D'Este</td>\n",
       "      <td>1991.0</td>\n",
       "      <td>HarperPerennial</td>\n",
       "      <td>3</td>\n",
       "    </tr>\n",
       "    <tr>\n",
       "      <th>3</th>\n",
       "      <td>0374157065</td>\n",
       "      <td>Flu: The Story of the Great Influenza Pandemic...</td>\n",
       "      <td>Gina Bari Kolata</td>\n",
       "      <td>1999.0</td>\n",
       "      <td>Farrar Straus Giroux</td>\n",
       "      <td>4</td>\n",
       "    </tr>\n",
       "    <tr>\n",
       "      <th>4</th>\n",
       "      <td>0393045218</td>\n",
       "      <td>The Mummies of Urumchi</td>\n",
       "      <td>E. J. W. Barber</td>\n",
       "      <td>1999.0</td>\n",
       "      <td>W. W. Norton &amp; Company</td>\n",
       "      <td>5</td>\n",
       "    </tr>\n",
       "  </tbody>\n",
       "</table>\n",
       "</div>"
      ],
      "text/plain": [
       "         ISBN                                          bookTitle  \\\n",
       "0  0195153448                                Classical Mythology   \n",
       "1  0002005018                                       Clara Callan   \n",
       "2  0060973129                               Decision in Normandy   \n",
       "3  0374157065  Flu: The Story of the Great Influenza Pandemic...   \n",
       "4  0393045218                             The Mummies of Urumchi   \n",
       "\n",
       "             bookAuthor  yearOfPublication                publisher  bookId  \n",
       "0    Mark P. O. Morford             2002.0  Oxford University Press       1  \n",
       "1  Richard Bruce Wright             2001.0    HarperFlamingo Canada       2  \n",
       "2          Carlo D'Este             1991.0          HarperPerennial       3  \n",
       "3      Gina Bari Kolata             1999.0     Farrar Straus Giroux       4  \n",
       "4       E. J. W. Barber             1999.0   W. W. Norton & Company       5  "
      ]
     },
     "execution_count": 78,
     "metadata": {},
     "output_type": "execute_result"
    }
   ],
   "source": [
    "books.head()"
   ]
  },
  {
   "cell_type": "markdown",
   "id": "e9fd224b",
   "metadata": {},
   "source": [
    "We will need the cleaned book dataset for later so we export it in the csv format."
   ]
  },
  {
   "cell_type": "code",
   "execution_count": 79,
   "id": "406ac693",
   "metadata": {},
   "outputs": [],
   "source": [
    "books.to_csv('dataset/cleaned_books.csv',sep=';',index=False)"
   ]
  },
  {
   "cell_type": "markdown",
   "id": "0201c2a1",
   "metadata": {},
   "source": [
    "### Cleaning of the users dataset"
   ]
  },
  {
   "cell_type": "code",
   "execution_count": 80,
   "id": "d1776560",
   "metadata": {},
   "outputs": [],
   "source": [
    "users = pd.read_csv(files_path+users_csv, sep=';', on_bad_lines='warn', encoding=\"latin-1\",\n",
    "                   dtype={'Age':'Int32'})\n",
    "users.columns = ['userID', 'Location', 'Age']"
   ]
  },
  {
   "cell_type": "code",
   "execution_count": 81,
   "id": "9249734f",
   "metadata": {},
   "outputs": [
    {
     "data": {
      "text/plain": [
       "1255"
      ]
     },
     "execution_count": 81,
     "metadata": {},
     "output_type": "execute_result"
    }
   ],
   "source": [
    "users[ (users.Age>99) | (users.Age<5) ].count()[0] \n",
    "#118 is the age of the oldest person nowadays, 5 is the regular age where children learn to read"
   ]
  },
  {
   "cell_type": "markdown",
   "id": "fdff6a8e",
   "metadata": {},
   "source": [
    "They are 960 users which have incoherent or irrelevant age. We update this values with nan value"
   ]
  },
  {
   "cell_type": "code",
   "execution_count": 82,
   "id": "6d9dbee4",
   "metadata": {},
   "outputs": [],
   "source": [
    "users.loc[ (users.Age>99) | (users.Age<5), 'Age'] = np.nan"
   ]
  },
  {
   "cell_type": "markdown",
   "id": "fc6c6eaa",
   "metadata": {},
   "source": [
    "We update the nan age value with the average age."
   ]
  },
  {
   "cell_type": "code",
   "execution_count": 83,
   "id": "4a7eef3a",
   "metadata": {},
   "outputs": [],
   "source": [
    "users.Age = users.Age.fillna(round(users.Age.mean()))"
   ]
  },
  {
   "cell_type": "code",
   "execution_count": 84,
   "id": "f6621483",
   "metadata": {},
   "outputs": [
    {
     "data": {
      "text/plain": [
       "userID       int64\n",
       "Location    object\n",
       "Age          Int32\n",
       "dtype: object"
      ]
     },
     "execution_count": 84,
     "metadata": {},
     "output_type": "execute_result"
    }
   ],
   "source": [
    "users.dtypes"
   ]
  },
  {
   "cell_type": "markdown",
   "id": "9a76a6f6",
   "metadata": {},
   "source": [
    "The column types are good so we change nothing."
   ]
  },
  {
   "cell_type": "code",
   "execution_count": 85,
   "id": "3085d6c4",
   "metadata": {},
   "outputs": [
    {
     "data": {
      "text/html": [
       "<div>\n",
       "<style scoped>\n",
       "    .dataframe tbody tr th:only-of-type {\n",
       "        vertical-align: middle;\n",
       "    }\n",
       "\n",
       "    .dataframe tbody tr th {\n",
       "        vertical-align: top;\n",
       "    }\n",
       "\n",
       "    .dataframe thead th {\n",
       "        text-align: right;\n",
       "    }\n",
       "</style>\n",
       "<table border=\"1\" class=\"dataframe\">\n",
       "  <thead>\n",
       "    <tr style=\"text-align: right;\">\n",
       "      <th></th>\n",
       "      <th>userID</th>\n",
       "      <th>Location</th>\n",
       "      <th>Age</th>\n",
       "    </tr>\n",
       "  </thead>\n",
       "  <tbody>\n",
       "    <tr>\n",
       "      <th>267</th>\n",
       "      <td>268</td>\n",
       "      <td>århus, \\n/a\\\", denmark\"</td>\n",
       "      <td>35</td>\n",
       "    </tr>\n",
       "    <tr>\n",
       "      <th>1102</th>\n",
       "      <td>1103</td>\n",
       "      <td>kuala lumpur, \\n/a\\\", malaysia\"</td>\n",
       "      <td>35</td>\n",
       "    </tr>\n",
       "    <tr>\n",
       "      <th>1272</th>\n",
       "      <td>1273</td>\n",
       "      <td>valladolid, \\n/a\\\", spain\"</td>\n",
       "      <td>27</td>\n",
       "    </tr>\n",
       "    <tr>\n",
       "      <th>1305</th>\n",
       "      <td>1306</td>\n",
       "      <td>lisbon, \\n/a\\\",\"</td>\n",
       "      <td>41</td>\n",
       "    </tr>\n",
       "    <tr>\n",
       "      <th>1694</th>\n",
       "      <td>1695</td>\n",
       "      <td>london, \\n/a\\\", united kingdom\"</td>\n",
       "      <td>69</td>\n",
       "    </tr>\n",
       "    <tr>\n",
       "      <th>...</th>\n",
       "      <td>...</td>\n",
       "      <td>...</td>\n",
       "      <td>...</td>\n",
       "    </tr>\n",
       "    <tr>\n",
       "      <th>277747</th>\n",
       "      <td>277748</td>\n",
       "      <td>rimini, \\n/a\\\", italy\"</td>\n",
       "      <td>35</td>\n",
       "    </tr>\n",
       "    <tr>\n",
       "      <th>277859</th>\n",
       "      <td>277860</td>\n",
       "      <td>barcelona, \\n/a\\\", spain\"</td>\n",
       "      <td>25</td>\n",
       "    </tr>\n",
       "    <tr>\n",
       "      <th>278137</th>\n",
       "      <td>278138</td>\n",
       "      <td>oviedo, \\n/a\\\", spain\"</td>\n",
       "      <td>49</td>\n",
       "    </tr>\n",
       "    <tr>\n",
       "      <th>278342</th>\n",
       "      <td>278343</td>\n",
       "      <td>växjö, \\n/a\\\", sweden\"</td>\n",
       "      <td>35</td>\n",
       "    </tr>\n",
       "    <tr>\n",
       "      <th>278498</th>\n",
       "      <td>278499</td>\n",
       "      <td>brno, \\n/a\\\", czech republic\"</td>\n",
       "      <td>35</td>\n",
       "    </tr>\n",
       "  </tbody>\n",
       "</table>\n",
       "<p>681 rows × 3 columns</p>\n",
       "</div>"
      ],
      "text/plain": [
       "        userID                         Location  Age\n",
       "267        268          århus, \\n/a\\\", denmark\"   35\n",
       "1102      1103  kuala lumpur, \\n/a\\\", malaysia\"   35\n",
       "1272      1273       valladolid, \\n/a\\\", spain\"   27\n",
       "1305      1306                 lisbon, \\n/a\\\",\"   41\n",
       "1694      1695  london, \\n/a\\\", united kingdom\"   69\n",
       "...        ...                              ...  ...\n",
       "277747  277748           rimini, \\n/a\\\", italy\"   35\n",
       "277859  277860        barcelona, \\n/a\\\", spain\"   25\n",
       "278137  278138           oviedo, \\n/a\\\", spain\"   49\n",
       "278342  278343           växjö, \\n/a\\\", sweden\"   35\n",
       "278498  278499    brno, \\n/a\\\", czech republic\"   35\n",
       "\n",
       "[681 rows x 3 columns]"
      ]
     },
     "execution_count": 85,
     "metadata": {},
     "output_type": "execute_result"
    }
   ],
   "source": [
    "users[users.Location.str.contains('\"')]"
   ]
  },
  {
   "cell_type": "markdown",
   "id": "47dd1a55",
   "metadata": {},
   "source": [
    "We can do the same operation done for books"
   ]
  },
  {
   "cell_type": "code",
   "execution_count": 86,
   "id": "be33c416",
   "metadata": {},
   "outputs": [
    {
     "name": "stderr",
     "output_type": "stream",
     "text": [
      "C:\\Users\\adrie\\AppData\\Local\\Temp\\ipykernel_26296\\1594432378.py:2: FutureWarning: The default value of regex will change from True to False in a future version.\n",
      "  users[\"Location\"]=users[\"Location\"].str.replace(r'\\\\',\"\")\n"
     ]
    }
   ],
   "source": [
    "users[\"Location\"]=users[\"Location\"].str.replace('\"',\"'\")\n",
    "users[\"Location\"]=users[\"Location\"].str.replace(r'\\\\',\"\")"
   ]
  },
  {
   "cell_type": "code",
   "execution_count": 87,
   "id": "1ad195e9",
   "metadata": {},
   "outputs": [],
   "source": [
    "users[\"Location\"]=users[\"Location\"].str.replace(\"n/a'\",\"n/a\")\n",
    "users[\"Location\"]=users[\"Location\"].str.replace(\"'n/a\",\"n/a\")"
   ]
  },
  {
   "cell_type": "code",
   "execution_count": 88,
   "id": "600da588",
   "metadata": {},
   "outputs": [],
   "source": [
    "condition=users[\"Location\"].str.endswith(\"'\",na=False) & users[\"Location\"].str.count(\"'\")%2==1\n",
    "users.loc[condition,\"Location\"]=users.loc[condition,\"Location\"].str.rstrip(\"'\")"
   ]
  },
  {
   "cell_type": "code",
   "execution_count": 89,
   "id": "9ced6dec",
   "metadata": {},
   "outputs": [
    {
     "data": {
      "text/html": [
       "<div>\n",
       "<style scoped>\n",
       "    .dataframe tbody tr th:only-of-type {\n",
       "        vertical-align: middle;\n",
       "    }\n",
       "\n",
       "    .dataframe tbody tr th {\n",
       "        vertical-align: top;\n",
       "    }\n",
       "\n",
       "    .dataframe thead th {\n",
       "        text-align: right;\n",
       "    }\n",
       "</style>\n",
       "<table border=\"1\" class=\"dataframe\">\n",
       "  <thead>\n",
       "    <tr style=\"text-align: right;\">\n",
       "      <th></th>\n",
       "      <th>userID</th>\n",
       "      <th>Location</th>\n",
       "      <th>Age</th>\n",
       "    </tr>\n",
       "  </thead>\n",
       "  <tbody>\n",
       "    <tr>\n",
       "      <th>244250</th>\n",
       "      <td>244251</td>\n",
       "      <td>alexandria'., 'alexandria'., egypt'</td>\n",
       "      <td>44</td>\n",
       "    </tr>\n",
       "    <tr>\n",
       "      <th>80169</th>\n",
       "      <td>80170</td>\n",
       "      <td>athens, ano liosia', greece'</td>\n",
       "      <td>16</td>\n",
       "    </tr>\n",
       "    <tr>\n",
       "      <th>10276</th>\n",
       "      <td>10277</td>\n",
       "      <td>düsseldorf, na', germany'</td>\n",
       "      <td>35</td>\n",
       "    </tr>\n",
       "    <tr>\n",
       "      <th>158161</th>\n",
       "      <td>158162</td>\n",
       "      <td>holbæk, n/j', denmark'</td>\n",
       "      <td>35</td>\n",
       "    </tr>\n",
       "    <tr>\n",
       "      <th>119745</th>\n",
       "      <td>119746</td>\n",
       "      <td>kartoum, n/s', sudan'</td>\n",
       "      <td>28</td>\n",
       "    </tr>\n",
       "    <tr>\n",
       "      <th>69341</th>\n",
       "      <td>69342</td>\n",
       "      <td>kocaeli, na'., turkey'</td>\n",
       "      <td>35</td>\n",
       "    </tr>\n",
       "    <tr>\n",
       "      <th>197600</th>\n",
       "      <td>197601</td>\n",
       "      <td>ljubljana, na', slovenia'</td>\n",
       "      <td>35</td>\n",
       "    </tr>\n",
       "    <tr>\n",
       "      <th>72128</th>\n",
       "      <td>72129</td>\n",
       "      <td>lleida, catalunya', spain'</td>\n",
       "      <td>21</td>\n",
       "    </tr>\n",
       "    <tr>\n",
       "      <th>72592</th>\n",
       "      <td>72593</td>\n",
       "      <td>lujan de cuyo, mendoza/argentina', argentina'</td>\n",
       "      <td>25</td>\n",
       "    </tr>\n",
       "    <tr>\n",
       "      <th>252668</th>\n",
       "      <td>252669</td>\n",
       "      <td>manchester, na', united kingdom'</td>\n",
       "      <td>35</td>\n",
       "    </tr>\n",
       "    <tr>\n",
       "      <th>243467</th>\n",
       "      <td>243468</td>\n",
       "      <td>santa maria da feira, na', portugal'</td>\n",
       "      <td>35</td>\n",
       "    </tr>\n",
       "    <tr>\n",
       "      <th>11976</th>\n",
       "      <td>11977</td>\n",
       "      <td>sesimbra, n/s', portugal'</td>\n",
       "      <td>37</td>\n",
       "    </tr>\n",
       "    <tr>\n",
       "      <th>219010</th>\n",
       "      <td>219011</td>\n",
       "      <td>tehran, a/n', iran'</td>\n",
       "      <td>19</td>\n",
       "    </tr>\n",
       "    <tr>\n",
       "      <th>92529</th>\n",
       "      <td>92530</td>\n",
       "      <td>tehran, g/d', iran'</td>\n",
       "      <td>19</td>\n",
       "    </tr>\n",
       "    <tr>\n",
       "      <th>87233</th>\n",
       "      <td>87234</td>\n",
       "      <td>tehran, i/t', iran'</td>\n",
       "      <td>15</td>\n",
       "    </tr>\n",
       "    <tr>\n",
       "      <th>234724</th>\n",
       "      <td>234725</td>\n",
       "      <td>tehran, n/'a, iran'</td>\n",
       "      <td>23</td>\n",
       "    </tr>\n",
       "  </tbody>\n",
       "</table>\n",
       "</div>"
      ],
      "text/plain": [
       "        userID                                       Location  Age\n",
       "244250  244251            alexandria'., 'alexandria'., egypt'   44\n",
       "80169    80170                   athens, ano liosia', greece'   16\n",
       "10276    10277                      düsseldorf, na', germany'   35\n",
       "158161  158162                         holbæk, n/j', denmark'   35\n",
       "119745  119746                          kartoum, n/s', sudan'   28\n",
       "69341    69342                         kocaeli, na'., turkey'   35\n",
       "197600  197601                      ljubljana, na', slovenia'   35\n",
       "72128    72129                     lleida, catalunya', spain'   21\n",
       "72592    72593  lujan de cuyo, mendoza/argentina', argentina'   25\n",
       "252668  252669               manchester, na', united kingdom'   35\n",
       "243467  243468           santa maria da feira, na', portugal'   35\n",
       "11976    11977                      sesimbra, n/s', portugal'   37\n",
       "219010  219011                            tehran, a/n', iran'   19\n",
       "92529    92530                            tehran, g/d', iran'   19\n",
       "87233    87234                            tehran, i/t', iran'   15\n",
       "234724  234725                            tehran, n/'a, iran'   23"
      ]
     },
     "execution_count": 89,
     "metadata": {},
     "output_type": "execute_result"
    }
   ],
   "source": [
    "users[users.Location.str.contains(\"'\")].sort_values(by=\"Location\")"
   ]
  },
  {
   "cell_type": "markdown",
   "id": "ec477e97",
   "metadata": {},
   "source": [
    "We observe we can remove all the remaining quote in the column Location as all are irrelevant."
   ]
  },
  {
   "cell_type": "code",
   "execution_count": 90,
   "id": "cf49c9da",
   "metadata": {},
   "outputs": [],
   "source": [
    "users[\"Location\"]=users[\"Location\"].str.replace(\"'\",\"\")"
   ]
  },
  {
   "cell_type": "code",
   "execution_count": 91,
   "id": "5b3dc583",
   "metadata": {},
   "outputs": [
    {
     "data": {
      "text/html": [
       "<div>\n",
       "<style scoped>\n",
       "    .dataframe tbody tr th:only-of-type {\n",
       "        vertical-align: middle;\n",
       "    }\n",
       "\n",
       "    .dataframe tbody tr th {\n",
       "        vertical-align: top;\n",
       "    }\n",
       "\n",
       "    .dataframe thead th {\n",
       "        text-align: right;\n",
       "    }\n",
       "</style>\n",
       "<table border=\"1\" class=\"dataframe\">\n",
       "  <thead>\n",
       "    <tr style=\"text-align: right;\">\n",
       "      <th></th>\n",
       "      <th>userID</th>\n",
       "      <th>Location</th>\n",
       "      <th>Age</th>\n",
       "    </tr>\n",
       "  </thead>\n",
       "  <tbody>\n",
       "  </tbody>\n",
       "</table>\n",
       "</div>"
      ],
      "text/plain": [
       "Empty DataFrame\n",
       "Columns: [userID, Location, Age]\n",
       "Index: []"
      ]
     },
     "execution_count": 91,
     "metadata": {},
     "output_type": "execute_result"
    }
   ],
   "source": [
    "users[users.Location.str.contains(\"'\")]"
   ]
  },
  {
   "cell_type": "markdown",
   "id": "1d24418f",
   "metadata": {},
   "source": [
    "Now that the bad characters are cleaned, we can divide the column Location in 3 new columns 'city', state and country."
   ]
  },
  {
   "cell_type": "code",
   "execution_count": 92,
   "id": "406edfda",
   "metadata": {},
   "outputs": [
    {
     "data": {
      "text/html": [
       "<div>\n",
       "<style scoped>\n",
       "    .dataframe tbody tr th:only-of-type {\n",
       "        vertical-align: middle;\n",
       "    }\n",
       "\n",
       "    .dataframe tbody tr th {\n",
       "        vertical-align: top;\n",
       "    }\n",
       "\n",
       "    .dataframe thead th {\n",
       "        text-align: right;\n",
       "    }\n",
       "</style>\n",
       "<table border=\"1\" class=\"dataframe\">\n",
       "  <thead>\n",
       "    <tr style=\"text-align: right;\">\n",
       "      <th></th>\n",
       "      <th>userID</th>\n",
       "      <th>Location</th>\n",
       "      <th>Age</th>\n",
       "    </tr>\n",
       "  </thead>\n",
       "  <tbody>\n",
       "    <tr>\n",
       "      <th>435</th>\n",
       "      <td>436</td>\n",
       "      <td>ivanhoe, melbourne, victoria, australia</td>\n",
       "      <td>53</td>\n",
       "    </tr>\n",
       "    <tr>\n",
       "      <th>814</th>\n",
       "      <td>815</td>\n",
       "      <td>davis bay, sechelt, british columbia, canada</td>\n",
       "      <td>43</td>\n",
       "    </tr>\n",
       "    <tr>\n",
       "      <th>840</th>\n",
       "      <td>841</td>\n",
       "      <td>saint charles, mo, missouri, usa</td>\n",
       "      <td>24</td>\n",
       "    </tr>\n",
       "    <tr>\n",
       "      <th>956</th>\n",
       "      <td>957</td>\n",
       "      <td>santiago, santiago,metropolitana, chile</td>\n",
       "      <td>35</td>\n",
       "    </tr>\n",
       "    <tr>\n",
       "      <th>1459</th>\n",
       "      <td>1460</td>\n",
       "      <td>mansoura, dakahlia, mansoura, egypt</td>\n",
       "      <td>34</td>\n",
       "    </tr>\n",
       "    <tr>\n",
       "      <th>...</th>\n",
       "      <td>...</td>\n",
       "      <td>...</td>\n",
       "      <td>...</td>\n",
       "    </tr>\n",
       "    <tr>\n",
       "      <th>277717</th>\n",
       "      <td>277718</td>\n",
       "      <td>colorado springs, co 80901, colorado, usa</td>\n",
       "      <td>62</td>\n",
       "    </tr>\n",
       "    <tr>\n",
       "      <th>277753</th>\n",
       "      <td>277754</td>\n",
       "      <td>north bend,, oregon, usa</td>\n",
       "      <td>60</td>\n",
       "    </tr>\n",
       "    <tr>\n",
       "      <th>278028</th>\n",
       "      <td>278029</td>\n",
       "      <td>mansfield, nottinghamshire, england, united ki...</td>\n",
       "      <td>31</td>\n",
       "    </tr>\n",
       "    <tr>\n",
       "      <th>278214</th>\n",
       "      <td>278215</td>\n",
       "      <td>nelson, motueka, nz, new zealand</td>\n",
       "      <td>28</td>\n",
       "    </tr>\n",
       "    <tr>\n",
       "      <th>278808</th>\n",
       "      <td>278809</td>\n",
       "      <td>norfolk, england, england, united kingdom</td>\n",
       "      <td>49</td>\n",
       "    </tr>\n",
       "  </tbody>\n",
       "</table>\n",
       "<p>1508 rows × 3 columns</p>\n",
       "</div>"
      ],
      "text/plain": [
       "        userID                                           Location  Age\n",
       "435        436            ivanhoe, melbourne, victoria, australia   53\n",
       "814        815       davis bay, sechelt, british columbia, canada   43\n",
       "840        841                   saint charles, mo, missouri, usa   24\n",
       "956        957            santiago, santiago,metropolitana, chile   35\n",
       "1459      1460                mansoura, dakahlia, mansoura, egypt   34\n",
       "...        ...                                                ...  ...\n",
       "277717  277718          colorado springs, co 80901, colorado, usa   62\n",
       "277753  277754                           north bend,, oregon, usa   60\n",
       "278028  278029  mansfield, nottinghamshire, england, united ki...   31\n",
       "278214  278215                   nelson, motueka, nz, new zealand   28\n",
       "278808  278809          norfolk, england, england, united kingdom   49\n",
       "\n",
       "[1508 rows x 3 columns]"
      ]
     },
     "execution_count": 92,
     "metadata": {},
     "output_type": "execute_result"
    }
   ],
   "source": [
    "users.loc[users[\"Location\"].str.count(\",\")>2]"
   ]
  },
  {
   "cell_type": "markdown",
   "id": "3175cd72",
   "metadata": {},
   "source": [
    "1508 rows have incorrect location. The error is the city part. A regular split cant' be done if we dont what loose information, particularly the country."
   ]
  },
  {
   "cell_type": "code",
   "execution_count": 93,
   "id": "e01c654a",
   "metadata": {},
   "outputs": [],
   "source": [
    "users[\"city\"]=users.apply(lambda row: row[\"Location\"].split(',')[0],axis=1)\n",
    "users[\"state\"]=users.apply(lambda row: \n",
    "                           row[\"Location\"][row[\"Location\"].find(','):row[\"Location\"].rfind(',')],axis=1)\n",
    "users[\"country\"]=users.apply(lambda row: row[\"Location\"].split(',')[-1],axis=1)"
   ]
  },
  {
   "cell_type": "code",
   "execution_count": 94,
   "id": "0f6d9892",
   "metadata": {},
   "outputs": [
    {
     "data": {
      "text/html": [
       "<div>\n",
       "<style scoped>\n",
       "    .dataframe tbody tr th:only-of-type {\n",
       "        vertical-align: middle;\n",
       "    }\n",
       "\n",
       "    .dataframe tbody tr th {\n",
       "        vertical-align: top;\n",
       "    }\n",
       "\n",
       "    .dataframe thead th {\n",
       "        text-align: right;\n",
       "    }\n",
       "</style>\n",
       "<table border=\"1\" class=\"dataframe\">\n",
       "  <thead>\n",
       "    <tr style=\"text-align: right;\">\n",
       "      <th></th>\n",
       "      <th>userID</th>\n",
       "      <th>Location</th>\n",
       "      <th>Age</th>\n",
       "      <th>city</th>\n",
       "      <th>state</th>\n",
       "      <th>country</th>\n",
       "    </tr>\n",
       "  </thead>\n",
       "  <tbody>\n",
       "    <tr>\n",
       "      <th>435</th>\n",
       "      <td>436</td>\n",
       "      <td>ivanhoe, melbourne, victoria, australia</td>\n",
       "      <td>53</td>\n",
       "      <td>ivanhoe</td>\n",
       "      <td>melbourne, victoria</td>\n",
       "      <td>australia</td>\n",
       "    </tr>\n",
       "    <tr>\n",
       "      <th>814</th>\n",
       "      <td>815</td>\n",
       "      <td>davis bay, sechelt, british columbia, canada</td>\n",
       "      <td>43</td>\n",
       "      <td>davis bay</td>\n",
       "      <td>sechelt, british columbia</td>\n",
       "      <td>canada</td>\n",
       "    </tr>\n",
       "    <tr>\n",
       "      <th>840</th>\n",
       "      <td>841</td>\n",
       "      <td>saint charles, mo, missouri, usa</td>\n",
       "      <td>24</td>\n",
       "      <td>saint charles</td>\n",
       "      <td>mo, missouri</td>\n",
       "      <td>usa</td>\n",
       "    </tr>\n",
       "    <tr>\n",
       "      <th>956</th>\n",
       "      <td>957</td>\n",
       "      <td>santiago, santiago,metropolitana, chile</td>\n",
       "      <td>35</td>\n",
       "      <td>santiago</td>\n",
       "      <td>santiago,metropolitana</td>\n",
       "      <td>chile</td>\n",
       "    </tr>\n",
       "    <tr>\n",
       "      <th>1459</th>\n",
       "      <td>1460</td>\n",
       "      <td>mansoura, dakahlia, mansoura, egypt</td>\n",
       "      <td>34</td>\n",
       "      <td>mansoura</td>\n",
       "      <td>dakahlia, mansoura</td>\n",
       "      <td>egypt</td>\n",
       "    </tr>\n",
       "    <tr>\n",
       "      <th>...</th>\n",
       "      <td>...</td>\n",
       "      <td>...</td>\n",
       "      <td>...</td>\n",
       "      <td>...</td>\n",
       "      <td>...</td>\n",
       "      <td>...</td>\n",
       "    </tr>\n",
       "    <tr>\n",
       "      <th>277717</th>\n",
       "      <td>277718</td>\n",
       "      <td>colorado springs, co 80901, colorado, usa</td>\n",
       "      <td>62</td>\n",
       "      <td>colorado springs</td>\n",
       "      <td>co 80901, colorado</td>\n",
       "      <td>usa</td>\n",
       "    </tr>\n",
       "    <tr>\n",
       "      <th>277753</th>\n",
       "      <td>277754</td>\n",
       "      <td>north bend,, oregon, usa</td>\n",
       "      <td>60</td>\n",
       "      <td>north bend</td>\n",
       "      <td>, oregon</td>\n",
       "      <td>usa</td>\n",
       "    </tr>\n",
       "    <tr>\n",
       "      <th>278028</th>\n",
       "      <td>278029</td>\n",
       "      <td>mansfield, nottinghamshire, england, united ki...</td>\n",
       "      <td>31</td>\n",
       "      <td>mansfield</td>\n",
       "      <td>nottinghamshire, england</td>\n",
       "      <td>united kingdom</td>\n",
       "    </tr>\n",
       "    <tr>\n",
       "      <th>278214</th>\n",
       "      <td>278215</td>\n",
       "      <td>nelson, motueka, nz, new zealand</td>\n",
       "      <td>28</td>\n",
       "      <td>nelson</td>\n",
       "      <td>motueka, nz</td>\n",
       "      <td>new zealand</td>\n",
       "    </tr>\n",
       "    <tr>\n",
       "      <th>278808</th>\n",
       "      <td>278809</td>\n",
       "      <td>norfolk, england, england, united kingdom</td>\n",
       "      <td>49</td>\n",
       "      <td>norfolk</td>\n",
       "      <td>england, england</td>\n",
       "      <td>united kingdom</td>\n",
       "    </tr>\n",
       "  </tbody>\n",
       "</table>\n",
       "<p>1506 rows × 6 columns</p>\n",
       "</div>"
      ],
      "text/plain": [
       "        userID                                           Location  Age  \\\n",
       "435        436            ivanhoe, melbourne, victoria, australia   53   \n",
       "814        815       davis bay, sechelt, british columbia, canada   43   \n",
       "840        841                   saint charles, mo, missouri, usa   24   \n",
       "956        957            santiago, santiago,metropolitana, chile   35   \n",
       "1459      1460                mansoura, dakahlia, mansoura, egypt   34   \n",
       "...        ...                                                ...  ...   \n",
       "277717  277718          colorado springs, co 80901, colorado, usa   62   \n",
       "277753  277754                           north bend,, oregon, usa   60   \n",
       "278028  278029  mansfield, nottinghamshire, england, united ki...   31   \n",
       "278214  278215                   nelson, motueka, nz, new zealand   28   \n",
       "278808  278809          norfolk, england, england, united kingdom   49   \n",
       "\n",
       "                    city                      state         country  \n",
       "435              ivanhoe        melbourne, victoria       australia  \n",
       "814            davis bay  sechelt, british columbia          canada  \n",
       "840        saint charles               mo, missouri             usa  \n",
       "956             santiago     santiago,metropolitana           chile  \n",
       "1459            mansoura         dakahlia, mansoura           egypt  \n",
       "...                  ...                        ...             ...  \n",
       "277717  colorado springs         co 80901, colorado             usa  \n",
       "277753        north bend                   , oregon             usa  \n",
       "278028         mansfield   nottinghamshire, england  united kingdom  \n",
       "278214            nelson                motueka, nz     new zealand  \n",
       "278808           norfolk           england, england  united kingdom  \n",
       "\n",
       "[1506 rows x 6 columns]"
      ]
     },
     "execution_count": 94,
     "metadata": {},
     "output_type": "execute_result"
    }
   ],
   "source": [
    "users[\"state\"]=users[\"state\"].str.removeprefix(\", \")\n",
    "users[\"state\"]=users[\"state\"].str.removeprefix(\",\")\n",
    "users[\"state\"]=users[\"state\"].str.removeprefix(\" \")\n",
    "users[\"city\"]=users[\"city\"].str.strip(\" \")\n",
    "users[\"country\"]=users[\"country\"].str.strip(\" \")\n",
    "users.loc[users[\"state\"].str.contains(\",\")]"
   ]
  },
  {
   "cell_type": "markdown",
   "id": "9661d683",
   "metadata": {},
   "source": [
    "The state column is ambigus as some countries have specific mapping so the above output is acceptable"
   ]
  },
  {
   "cell_type": "code",
   "execution_count": 95,
   "id": "3c0da6bd",
   "metadata": {},
   "outputs": [
    {
     "data": {
      "text/html": [
       "<div>\n",
       "<style scoped>\n",
       "    .dataframe tbody tr th:only-of-type {\n",
       "        vertical-align: middle;\n",
       "    }\n",
       "\n",
       "    .dataframe tbody tr th {\n",
       "        vertical-align: top;\n",
       "    }\n",
       "\n",
       "    .dataframe thead th {\n",
       "        text-align: right;\n",
       "    }\n",
       "</style>\n",
       "<table border=\"1\" class=\"dataframe\">\n",
       "  <thead>\n",
       "    <tr style=\"text-align: right;\">\n",
       "      <th></th>\n",
       "      <th>userID</th>\n",
       "      <th>Age</th>\n",
       "      <th>city</th>\n",
       "      <th>state</th>\n",
       "      <th>country</th>\n",
       "    </tr>\n",
       "  </thead>\n",
       "  <tbody>\n",
       "    <tr>\n",
       "      <th>0</th>\n",
       "      <td>1</td>\n",
       "      <td>35</td>\n",
       "      <td>nyc</td>\n",
       "      <td>new york</td>\n",
       "      <td>usa</td>\n",
       "    </tr>\n",
       "    <tr>\n",
       "      <th>1</th>\n",
       "      <td>2</td>\n",
       "      <td>18</td>\n",
       "      <td>stockton</td>\n",
       "      <td>california</td>\n",
       "      <td>usa</td>\n",
       "    </tr>\n",
       "    <tr>\n",
       "      <th>2</th>\n",
       "      <td>3</td>\n",
       "      <td>35</td>\n",
       "      <td>moscow</td>\n",
       "      <td>yukon territory</td>\n",
       "      <td>russia</td>\n",
       "    </tr>\n",
       "    <tr>\n",
       "      <th>3</th>\n",
       "      <td>4</td>\n",
       "      <td>17</td>\n",
       "      <td>porto</td>\n",
       "      <td>v.n.gaia</td>\n",
       "      <td>portugal</td>\n",
       "    </tr>\n",
       "    <tr>\n",
       "      <th>4</th>\n",
       "      <td>5</td>\n",
       "      <td>35</td>\n",
       "      <td>farnborough</td>\n",
       "      <td>hants</td>\n",
       "      <td>united kingdom</td>\n",
       "    </tr>\n",
       "  </tbody>\n",
       "</table>\n",
       "</div>"
      ],
      "text/plain": [
       "   userID  Age         city            state         country\n",
       "0       1   35          nyc         new york             usa\n",
       "1       2   18     stockton       california             usa\n",
       "2       3   35       moscow  yukon territory          russia\n",
       "3       4   17        porto         v.n.gaia        portugal\n",
       "4       5   35  farnborough            hants  united kingdom"
      ]
     },
     "execution_count": 95,
     "metadata": {},
     "output_type": "execute_result"
    }
   ],
   "source": [
    "users=users.drop(\"Location\", axis=1)\n",
    "users.head()"
   ]
  },
  {
   "cell_type": "code",
   "execution_count": 96,
   "id": "b72a041e",
   "metadata": {},
   "outputs": [],
   "source": [
    "condition=users.state.str.startswith(',')\n",
    "users.loc[condition,\"state\"]=users.loc[condition,\"state\"].str.lstrip(',')\n",
    "condition=users.state.str.startswith(' ')\n",
    "users.loc[condition,\"state\"]=users.loc[condition,\"state\"].str.lstrip()"
   ]
  },
  {
   "cell_type": "code",
   "execution_count": 97,
   "id": "76b61fdb",
   "metadata": {},
   "outputs": [
    {
     "data": {
      "text/html": [
       "<div>\n",
       "<style scoped>\n",
       "    .dataframe tbody tr th:only-of-type {\n",
       "        vertical-align: middle;\n",
       "    }\n",
       "\n",
       "    .dataframe tbody tr th {\n",
       "        vertical-align: top;\n",
       "    }\n",
       "\n",
       "    .dataframe thead th {\n",
       "        text-align: right;\n",
       "    }\n",
       "</style>\n",
       "<table border=\"1\" class=\"dataframe\">\n",
       "  <thead>\n",
       "    <tr style=\"text-align: right;\">\n",
       "      <th></th>\n",
       "      <th>userID</th>\n",
       "      <th>Age</th>\n",
       "      <th>city</th>\n",
       "      <th>state</th>\n",
       "      <th>country</th>\n",
       "    </tr>\n",
       "  </thead>\n",
       "  <tbody>\n",
       "  </tbody>\n",
       "</table>\n",
       "</div>"
      ],
      "text/plain": [
       "Empty DataFrame\n",
       "Columns: [userID, Age, city, state, country]\n",
       "Index: []"
      ]
     },
     "execution_count": 97,
     "metadata": {},
     "output_type": "execute_result"
    }
   ],
   "source": [
    "condition=users.state.str.startswith(' ')\n",
    "users[condition]"
   ]
  },
  {
   "cell_type": "markdown",
   "id": "fef7cab7",
   "metadata": {},
   "source": [
    "The users datafram is now clean, we apply the same process to the ratings dataset"
   ]
  },
  {
   "cell_type": "code",
   "execution_count": 98,
   "id": "bdc7c4a9",
   "metadata": {},
   "outputs": [],
   "source": [
    "users.to_csv('dataset/cleaned_users.csv',sep=';',index=False)"
   ]
  },
  {
   "cell_type": "markdown",
   "id": "afdd1132",
   "metadata": {},
   "source": [
    "### Cleaning the ratings dataset"
   ]
  },
  {
   "cell_type": "code",
   "execution_count": 99,
   "id": "e54897c3",
   "metadata": {},
   "outputs": [],
   "source": [
    "ratings = pd.read_csv(files_path+ratings_csv, sep=';',  on_bad_lines='warn', encoding=\"latin-1\")\n",
    "ratings.columns = ['userID', 'ISBN', 'bookRating']"
   ]
  },
  {
   "cell_type": "code",
   "execution_count": 100,
   "id": "40b572f5",
   "metadata": {},
   "outputs": [
    {
     "data": {
      "text/html": [
       "<div>\n",
       "<style scoped>\n",
       "    .dataframe tbody tr th:only-of-type {\n",
       "        vertical-align: middle;\n",
       "    }\n",
       "\n",
       "    .dataframe tbody tr th {\n",
       "        vertical-align: top;\n",
       "    }\n",
       "\n",
       "    .dataframe thead th {\n",
       "        text-align: right;\n",
       "    }\n",
       "</style>\n",
       "<table border=\"1\" class=\"dataframe\">\n",
       "  <thead>\n",
       "    <tr style=\"text-align: right;\">\n",
       "      <th></th>\n",
       "      <th>userID</th>\n",
       "      <th>ISBN</th>\n",
       "      <th>bookRating</th>\n",
       "    </tr>\n",
       "  </thead>\n",
       "  <tbody>\n",
       "    <tr>\n",
       "      <th>0</th>\n",
       "      <td>276725</td>\n",
       "      <td>034545104X</td>\n",
       "      <td>0</td>\n",
       "    </tr>\n",
       "    <tr>\n",
       "      <th>1</th>\n",
       "      <td>276726</td>\n",
       "      <td>0155061224</td>\n",
       "      <td>5</td>\n",
       "    </tr>\n",
       "    <tr>\n",
       "      <th>2</th>\n",
       "      <td>276727</td>\n",
       "      <td>0446520802</td>\n",
       "      <td>0</td>\n",
       "    </tr>\n",
       "    <tr>\n",
       "      <th>3</th>\n",
       "      <td>276729</td>\n",
       "      <td>052165615X</td>\n",
       "      <td>3</td>\n",
       "    </tr>\n",
       "    <tr>\n",
       "      <th>4</th>\n",
       "      <td>276729</td>\n",
       "      <td>0521795028</td>\n",
       "      <td>6</td>\n",
       "    </tr>\n",
       "  </tbody>\n",
       "</table>\n",
       "</div>"
      ],
      "text/plain": [
       "   userID        ISBN  bookRating\n",
       "0  276725  034545104X           0\n",
       "1  276726  0155061224           5\n",
       "2  276727  0446520802           0\n",
       "3  276729  052165615X           3\n",
       "4  276729  0521795028           6"
      ]
     },
     "execution_count": 100,
     "metadata": {},
     "output_type": "execute_result"
    }
   ],
   "source": [
    "ratings.head()"
   ]
  },
  {
   "cell_type": "code",
   "execution_count": 101,
   "id": "54cb5036",
   "metadata": {},
   "outputs": [
    {
     "data": {
      "text/plain": [
       "array([ 0,  5,  3,  6,  8,  7, 10,  9,  4,  1,  2], dtype=int64)"
      ]
     },
     "execution_count": 101,
     "metadata": {},
     "output_type": "execute_result"
    }
   ],
   "source": [
    "ratings.bookRating.unique()"
   ]
  },
  {
   "cell_type": "markdown",
   "id": "4467b1cd",
   "metadata": {},
   "source": [
    "The bookRating column has value between 0 and 10 as expected so nothing to do with this column"
   ]
  },
  {
   "cell_type": "code",
   "execution_count": 102,
   "id": "98de70a1",
   "metadata": {},
   "outputs": [
    {
     "name": "stdout",
     "output_type": "stream",
     "text": [
      "all good for userID\n",
      "all good for ISBN\n",
      "all good for bookRating\n"
     ]
    },
    {
     "data": {
      "text/plain": [
       "[None, None, None]"
      ]
     },
     "execution_count": 102,
     "metadata": {},
     "output_type": "execute_result"
    }
   ],
   "source": [
    "[print(\"userID as na value\") if ratings[ratings[x].isna()].shape[0]!=0 else print(f\"all good for {x}\")  for x in ratings.columns] "
   ]
  },
  {
   "cell_type": "markdown",
   "id": "e29d01c4",
   "metadata": {},
   "source": [
    "None of the columns have na value"
   ]
  },
  {
   "cell_type": "code",
   "execution_count": 103,
   "id": "ef4b41c7",
   "metadata": {},
   "outputs": [
    {
     "data": {
      "text/plain": [
       "userID         int64\n",
       "ISBN          object\n",
       "bookRating     int64\n",
       "dtype: object"
      ]
     },
     "execution_count": 103,
     "metadata": {},
     "output_type": "execute_result"
    }
   ],
   "source": [
    "ratings.dtypes"
   ]
  },
  {
   "cell_type": "markdown",
   "id": "fa41d244",
   "metadata": {},
   "source": [
    "All userID are integers so they aren't format problem for this feature"
   ]
  },
  {
   "cell_type": "code",
   "execution_count": 104,
   "id": "9a22887a",
   "metadata": {},
   "outputs": [
    {
     "data": {
      "text/html": [
       "<div>\n",
       "<style scoped>\n",
       "    .dataframe tbody tr th:only-of-type {\n",
       "        vertical-align: middle;\n",
       "    }\n",
       "\n",
       "    .dataframe tbody tr th {\n",
       "        vertical-align: top;\n",
       "    }\n",
       "\n",
       "    .dataframe thead th {\n",
       "        text-align: right;\n",
       "    }\n",
       "</style>\n",
       "<table border=\"1\" class=\"dataframe\">\n",
       "  <thead>\n",
       "    <tr style=\"text-align: right;\">\n",
       "      <th></th>\n",
       "      <th>userID</th>\n",
       "      <th>ISBN</th>\n",
       "      <th>bookRating</th>\n",
       "    </tr>\n",
       "  </thead>\n",
       "  <tbody>\n",
       "    <tr>\n",
       "      <th>21687</th>\n",
       "      <td>4377</td>\n",
       "      <td>\\0210000010\"</td>\n",
       "      <td>8</td>\n",
       "    </tr>\n",
       "    <tr>\n",
       "      <th>45327</th>\n",
       "      <td>11676</td>\n",
       "      <td>\\0432534220\\\"\"</td>\n",
       "      <td>6</td>\n",
       "    </tr>\n",
       "    <tr>\n",
       "      <th>45328</th>\n",
       "      <td>11676</td>\n",
       "      <td>\\2842053052\\\"\"</td>\n",
       "      <td>7</td>\n",
       "    </tr>\n",
       "    <tr>\n",
       "      <th>183260</th>\n",
       "      <td>39821</td>\n",
       "      <td>\\0432534220\\\"\"</td>\n",
       "      <td>6</td>\n",
       "    </tr>\n",
       "    <tr>\n",
       "      <th>210091</th>\n",
       "      <td>48821</td>\n",
       "      <td>\\8804501367\\\"\"</td>\n",
       "      <td>0</td>\n",
       "    </tr>\n",
       "    <tr>\n",
       "      <th>531936</th>\n",
       "      <td>128375</td>\n",
       "      <td>\\2842053052\\\"\"</td>\n",
       "      <td>0</td>\n",
       "    </tr>\n",
       "    <tr>\n",
       "      <th>663235</th>\n",
       "      <td>160867</td>\n",
       "      <td>\\0094749809\"</td>\n",
       "      <td>7</td>\n",
       "    </tr>\n",
       "    <tr>\n",
       "      <th>824820</th>\n",
       "      <td>199138</td>\n",
       "      <td>\\0432534220\\\"\"</td>\n",
       "      <td>8</td>\n",
       "    </tr>\n",
       "    <tr>\n",
       "      <th>877347</th>\n",
       "      <td>212647</td>\n",
       "      <td>\\8804520159\\\"\"</td>\n",
       "      <td>7</td>\n",
       "    </tr>\n",
       "    <tr>\n",
       "      <th>941677</th>\n",
       "      <td>227945</td>\n",
       "      <td>\\9170010242\\\"\"</td>\n",
       "      <td>10</td>\n",
       "    </tr>\n",
       "    <tr>\n",
       "      <th>1134130</th>\n",
       "      <td>272392</td>\n",
       "      <td>\\0679751521\"</td>\n",
       "      <td>8</td>\n",
       "    </tr>\n",
       "    <tr>\n",
       "      <th>1145174</th>\n",
       "      <td>275414</td>\n",
       "      <td>\\8887517452\\\"\"</td>\n",
       "      <td>10</td>\n",
       "    </tr>\n",
       "    <tr>\n",
       "      <th>1145175</th>\n",
       "      <td>275414</td>\n",
       "      <td>\\8888809228\\\"\"</td>\n",
       "      <td>5</td>\n",
       "    </tr>\n",
       "    <tr>\n",
       "      <th>1148549</th>\n",
       "      <td>276331</td>\n",
       "      <td>\\0432534220\"</td>\n",
       "      <td>9</td>\n",
       "    </tr>\n",
       "  </tbody>\n",
       "</table>\n",
       "</div>"
      ],
      "text/plain": [
       "         userID            ISBN  bookRating\n",
       "21687      4377    \\0210000010\"           8\n",
       "45327     11676  \\0432534220\\\"\"           6\n",
       "45328     11676  \\2842053052\\\"\"           7\n",
       "183260    39821  \\0432534220\\\"\"           6\n",
       "210091    48821  \\8804501367\\\"\"           0\n",
       "531936   128375  \\2842053052\\\"\"           0\n",
       "663235   160867    \\0094749809\"           7\n",
       "824820   199138  \\0432534220\\\"\"           8\n",
       "877347   212647  \\8804520159\\\"\"           7\n",
       "941677   227945  \\9170010242\\\"\"          10\n",
       "1134130  272392    \\0679751521\"           8\n",
       "1145174  275414  \\8887517452\\\"\"          10\n",
       "1145175  275414  \\8888809228\\\"\"           5\n",
       "1148549  276331    \\0432534220\"           9"
      ]
     },
     "execution_count": 104,
     "metadata": {},
     "output_type": "execute_result"
    }
   ],
   "source": [
    "condition=(ratings[\"ISBN\"].str.contains('\"') ) | (ratings[\"ISBN\"].str.contains(r'\\\\') ) \n",
    "bad_isbn=ratings.loc[condition]\n",
    "bad_isbn"
   ]
  },
  {
   "cell_type": "markdown",
   "id": "b3926ace",
   "metadata": {},
   "source": [
    "As for the previous dataset, we observe error of quoting on some observation. They still represente accurate data hence we choose to clean them in order to keep them."
   ]
  },
  {
   "cell_type": "code",
   "execution_count": 105,
   "id": "8ea03701",
   "metadata": {},
   "outputs": [
    {
     "name": "stderr",
     "output_type": "stream",
     "text": [
      "C:\\Users\\adrie\\AppData\\Local\\Temp\\ipykernel_26296\\2125878562.py:1: SettingWithCopyWarning: \n",
      "A value is trying to be set on a copy of a slice from a DataFrame.\n",
      "Try using .loc[row_indexer,col_indexer] = value instead\n",
      "\n",
      "See the caveats in the documentation: https://pandas.pydata.org/pandas-docs/stable/user_guide/indexing.html#returning-a-view-versus-a-copy\n",
      "  bad_isbn[\"ISBN\"]=bad_isbn[\"ISBN\"].str.replace('\"',\"\")\n",
      "C:\\Users\\adrie\\AppData\\Local\\Temp\\ipykernel_26296\\2125878562.py:2: SettingWithCopyWarning: \n",
      "A value is trying to be set on a copy of a slice from a DataFrame.\n",
      "Try using .loc[row_indexer,col_indexer] = value instead\n",
      "\n",
      "See the caveats in the documentation: https://pandas.pydata.org/pandas-docs/stable/user_guide/indexing.html#returning-a-view-versus-a-copy\n",
      "  bad_isbn[\"ISBN\"]=bad_isbn[\"ISBN\"].str.replace('\\\\',\"\",regex=True)\n"
     ]
    },
    {
     "data": {
      "text/html": [
       "<div>\n",
       "<style scoped>\n",
       "    .dataframe tbody tr th:only-of-type {\n",
       "        vertical-align: middle;\n",
       "    }\n",
       "\n",
       "    .dataframe tbody tr th {\n",
       "        vertical-align: top;\n",
       "    }\n",
       "\n",
       "    .dataframe thead th {\n",
       "        text-align: right;\n",
       "    }\n",
       "</style>\n",
       "<table border=\"1\" class=\"dataframe\">\n",
       "  <thead>\n",
       "    <tr style=\"text-align: right;\">\n",
       "      <th></th>\n",
       "      <th>userID</th>\n",
       "      <th>ISBN</th>\n",
       "      <th>bookRating</th>\n",
       "    </tr>\n",
       "  </thead>\n",
       "  <tbody>\n",
       "    <tr>\n",
       "      <th>21687</th>\n",
       "      <td>4377</td>\n",
       "      <td>0210000010</td>\n",
       "      <td>8</td>\n",
       "    </tr>\n",
       "    <tr>\n",
       "      <th>45327</th>\n",
       "      <td>11676</td>\n",
       "      <td>0432534220</td>\n",
       "      <td>6</td>\n",
       "    </tr>\n",
       "    <tr>\n",
       "      <th>45328</th>\n",
       "      <td>11676</td>\n",
       "      <td>2842053052</td>\n",
       "      <td>7</td>\n",
       "    </tr>\n",
       "    <tr>\n",
       "      <th>183260</th>\n",
       "      <td>39821</td>\n",
       "      <td>0432534220</td>\n",
       "      <td>6</td>\n",
       "    </tr>\n",
       "    <tr>\n",
       "      <th>210091</th>\n",
       "      <td>48821</td>\n",
       "      <td>8804501367</td>\n",
       "      <td>0</td>\n",
       "    </tr>\n",
       "    <tr>\n",
       "      <th>531936</th>\n",
       "      <td>128375</td>\n",
       "      <td>2842053052</td>\n",
       "      <td>0</td>\n",
       "    </tr>\n",
       "    <tr>\n",
       "      <th>663235</th>\n",
       "      <td>160867</td>\n",
       "      <td>0094749809</td>\n",
       "      <td>7</td>\n",
       "    </tr>\n",
       "    <tr>\n",
       "      <th>824820</th>\n",
       "      <td>199138</td>\n",
       "      <td>0432534220</td>\n",
       "      <td>8</td>\n",
       "    </tr>\n",
       "    <tr>\n",
       "      <th>877347</th>\n",
       "      <td>212647</td>\n",
       "      <td>8804520159</td>\n",
       "      <td>7</td>\n",
       "    </tr>\n",
       "    <tr>\n",
       "      <th>941677</th>\n",
       "      <td>227945</td>\n",
       "      <td>9170010242</td>\n",
       "      <td>10</td>\n",
       "    </tr>\n",
       "    <tr>\n",
       "      <th>1134130</th>\n",
       "      <td>272392</td>\n",
       "      <td>0679751521</td>\n",
       "      <td>8</td>\n",
       "    </tr>\n",
       "    <tr>\n",
       "      <th>1145174</th>\n",
       "      <td>275414</td>\n",
       "      <td>8887517452</td>\n",
       "      <td>10</td>\n",
       "    </tr>\n",
       "    <tr>\n",
       "      <th>1145175</th>\n",
       "      <td>275414</td>\n",
       "      <td>8888809228</td>\n",
       "      <td>5</td>\n",
       "    </tr>\n",
       "    <tr>\n",
       "      <th>1148549</th>\n",
       "      <td>276331</td>\n",
       "      <td>0432534220</td>\n",
       "      <td>9</td>\n",
       "    </tr>\n",
       "  </tbody>\n",
       "</table>\n",
       "</div>"
      ],
      "text/plain": [
       "         userID        ISBN  bookRating\n",
       "21687      4377  0210000010           8\n",
       "45327     11676  0432534220           6\n",
       "45328     11676  2842053052           7\n",
       "183260    39821  0432534220           6\n",
       "210091    48821  8804501367           0\n",
       "531936   128375  2842053052           0\n",
       "663235   160867  0094749809           7\n",
       "824820   199138  0432534220           8\n",
       "877347   212647  8804520159           7\n",
       "941677   227945  9170010242          10\n",
       "1134130  272392  0679751521           8\n",
       "1145174  275414  8887517452          10\n",
       "1145175  275414  8888809228           5\n",
       "1148549  276331  0432534220           9"
      ]
     },
     "execution_count": 105,
     "metadata": {},
     "output_type": "execute_result"
    }
   ],
   "source": [
    "bad_isbn[\"ISBN\"]=bad_isbn[\"ISBN\"].str.replace('\"',\"\")\n",
    "bad_isbn[\"ISBN\"]=bad_isbn[\"ISBN\"].str.replace('\\\\',\"\",regex=True)\n",
    "bad_isbn"
   ]
  },
  {
   "cell_type": "code",
   "execution_count": 106,
   "id": "c9cb26b1",
   "metadata": {},
   "outputs": [],
   "source": [
    "ratings.update(bad_isbn)"
   ]
  },
  {
   "cell_type": "code",
   "execution_count": 107,
   "id": "81289c90",
   "metadata": {},
   "outputs": [
    {
     "data": {
      "text/html": [
       "<div>\n",
       "<style scoped>\n",
       "    .dataframe tbody tr th:only-of-type {\n",
       "        vertical-align: middle;\n",
       "    }\n",
       "\n",
       "    .dataframe tbody tr th {\n",
       "        vertical-align: top;\n",
       "    }\n",
       "\n",
       "    .dataframe thead th {\n",
       "        text-align: right;\n",
       "    }\n",
       "</style>\n",
       "<table border=\"1\" class=\"dataframe\">\n",
       "  <thead>\n",
       "    <tr style=\"text-align: right;\">\n",
       "      <th></th>\n",
       "      <th>userID</th>\n",
       "      <th>ISBN</th>\n",
       "      <th>bookRating</th>\n",
       "    </tr>\n",
       "  </thead>\n",
       "  <tbody>\n",
       "  </tbody>\n",
       "</table>\n",
       "</div>"
      ],
      "text/plain": [
       "Empty DataFrame\n",
       "Columns: [userID, ISBN, bookRating]\n",
       "Index: []"
      ]
     },
     "execution_count": 107,
     "metadata": {},
     "output_type": "execute_result"
    }
   ],
   "source": [
    "condition=(ratings[\"ISBN\"].str.contains('\"') ) | (ratings[\"ISBN\"].str.contains(r'\\\\') ) \n",
    "ratings[condition]"
   ]
  },
  {
   "cell_type": "markdown",
   "id": "61d05e36",
   "metadata": {},
   "source": [
    "All data are now cleaned. We pass to the analysis part."
   ]
  },
  {
   "cell_type": "code",
   "execution_count": 108,
   "id": "b41a4a21",
   "metadata": {},
   "outputs": [],
   "source": [
    "ratings.to_csv('dataset/cleaned_ratings.csv',sep=';',index=False)"
   ]
  },
  {
   "cell_type": "markdown",
   "id": "8aa77d91",
   "metadata": {},
   "source": [
    "## EDA"
   ]
  },
  {
   "cell_type": "code",
   "execution_count": 109,
   "id": "68d5111e",
   "metadata": {},
   "outputs": [
    {
     "data": {
      "text/plain": [
       "35"
      ]
     },
     "execution_count": 109,
     "metadata": {},
     "output_type": "execute_result"
    }
   ],
   "source": [
    "round(users.Age.mean())"
   ]
  },
  {
   "cell_type": "markdown",
   "id": "3cc9f530",
   "metadata": {},
   "source": [
    "The average age of the user is approximatively 35."
   ]
  },
  {
   "cell_type": "markdown",
   "id": "20ff8b5c",
   "metadata": {},
   "source": [
    "The distribution of ratings is:"
   ]
  },
  {
   "cell_type": "code",
   "execution_count": 110,
   "id": "7a6fa2c6",
   "metadata": {},
   "outputs": [
    {
     "data": {
      "image/png": "[encoded data removed]",
      "text/plain": [
       "<Figure size 640x480 with 1 Axes>"
      ]
     },
     "metadata": {},
     "output_type": "display_data"
    }
   ],
   "source": [
    "sns.countplot(x=\"bookRating\",data=ratings)\n",
    "plt.title(\"Rating distribution\")\n",
    "plt.show()"
   ]
  },
  {
   "cell_type": "markdown",
   "id": "bbb78ae0",
   "metadata": {},
   "source": [
    "We observe that the number of books rated 0 are really high. All those books are mainly books not rated as 0 is the implicit rating. Also those books will not be used for a recommmendation system as we dont have others features. We could also drop them once the EDA is done."
   ]
  },
  {
   "cell_type": "code",
   "execution_count": 111,
   "id": "f9334fc3",
   "metadata": {
    "scrolled": false
   },
   "outputs": [
    {
     "data": {
      "image/png": "[encoded data removed]",
      "text/plain": [
       "<Figure size 640x480 with 1 Axes>"
      ]
     },
     "metadata": {},
     "output_type": "display_data"
    }
   ],
   "source": [
    "sns.countplot(x=\"bookRating\", data=ratings[ratings[\"bookRating\"]!=0])\n",
    "plt.title(\"Explicit Rating Distribution\")\n",
    "plt.show()"
   ]
  },
  {
   "cell_type": "markdown",
   "id": "874c753a",
   "metadata": {},
   "source": [
    "Few books have less than 5 and 8 is the most represented rating so most user are happy with their books. It should also be easy to recommend good books to one user based on the liking of the others"
   ]
  },
  {
   "cell_type": "markdown",
   "id": "d7040f6f",
   "metadata": {},
   "source": [
    "### User dataset EDA"
   ]
  },
  {
   "cell_type": "code",
   "execution_count": 112,
   "id": "983656de",
   "metadata": {},
   "outputs": [
    {
     "data": {
      "image/png": "[encoded data removed]",
      "text/plain": [
       "<Figure size 2000x1600 with 1 Axes>"
      ]
     },
     "metadata": {},
     "output_type": "display_data"
    }
   ],
   "source": [
    "plt.figure(figsize=(20,16))\n",
    "sns.countplot(x=\"Age\", data=users)\n",
    "plt.title(\"Distribution of age users\", size=20)\n",
    "plt.show()"
   ]
  },
  {
   "cell_type": "markdown",
   "id": "5f9887ea",
   "metadata": {},
   "source": [
    "We observe a pic at 35 wich is logical as we have replaced all na and extremum values by 35 to preserve the mean of the dataset"
   ]
  },
  {
   "cell_type": "markdown",
   "id": "387716c4",
   "metadata": {},
   "source": [
    "If we remove the 35 value, we see a distribution narrow at the low age and descrising after 35. This is coherent with the public reading and ratings books. It's generally adolescent and adult that read and used application ratings. "
   ]
  },
  {
   "cell_type": "code",
   "execution_count": 113,
   "id": "462d7af4",
   "metadata": {
    "scrolled": true
   },
   "outputs": [
    {
     "data": {
      "text/html": [
       "<div>\n",
       "<style scoped>\n",
       "    .dataframe tbody tr th:only-of-type {\n",
       "        vertical-align: middle;\n",
       "    }\n",
       "\n",
       "    .dataframe tbody tr th {\n",
       "        vertical-align: top;\n",
       "    }\n",
       "\n",
       "    .dataframe thead th {\n",
       "        text-align: right;\n",
       "    }\n",
       "</style>\n",
       "<table border=\"1\" class=\"dataframe\">\n",
       "  <thead>\n",
       "    <tr style=\"text-align: right;\">\n",
       "      <th></th>\n",
       "      <th>userID</th>\n",
       "      <th>Age</th>\n",
       "      <th>city</th>\n",
       "      <th>state</th>\n",
       "      <th>country</th>\n",
       "      <th>AgeCategory</th>\n",
       "    </tr>\n",
       "  </thead>\n",
       "  <tbody>\n",
       "    <tr>\n",
       "      <th>0</th>\n",
       "      <td>1</td>\n",
       "      <td>35</td>\n",
       "      <td>nyc</td>\n",
       "      <td>new york</td>\n",
       "      <td>usa</td>\n",
       "      <td>18-35</td>\n",
       "    </tr>\n",
       "    <tr>\n",
       "      <th>1</th>\n",
       "      <td>2</td>\n",
       "      <td>18</td>\n",
       "      <td>stockton</td>\n",
       "      <td>california</td>\n",
       "      <td>usa</td>\n",
       "      <td>12-18</td>\n",
       "    </tr>\n",
       "    <tr>\n",
       "      <th>2</th>\n",
       "      <td>3</td>\n",
       "      <td>35</td>\n",
       "      <td>moscow</td>\n",
       "      <td>yukon territory</td>\n",
       "      <td>russia</td>\n",
       "      <td>18-35</td>\n",
       "    </tr>\n",
       "    <tr>\n",
       "      <th>3</th>\n",
       "      <td>4</td>\n",
       "      <td>17</td>\n",
       "      <td>porto</td>\n",
       "      <td>v.n.gaia</td>\n",
       "      <td>portugal</td>\n",
       "      <td>12-18</td>\n",
       "    </tr>\n",
       "    <tr>\n",
       "      <th>4</th>\n",
       "      <td>5</td>\n",
       "      <td>35</td>\n",
       "      <td>farnborough</td>\n",
       "      <td>hants</td>\n",
       "      <td>united kingdom</td>\n",
       "      <td>18-35</td>\n",
       "    </tr>\n",
       "    <tr>\n",
       "      <th>5</th>\n",
       "      <td>6</td>\n",
       "      <td>61</td>\n",
       "      <td>santa monica</td>\n",
       "      <td>california</td>\n",
       "      <td>usa</td>\n",
       "      <td>35-65</td>\n",
       "    </tr>\n",
       "    <tr>\n",
       "      <th>6</th>\n",
       "      <td>7</td>\n",
       "      <td>35</td>\n",
       "      <td>washington</td>\n",
       "      <td>dc</td>\n",
       "      <td>usa</td>\n",
       "      <td>18-35</td>\n",
       "    </tr>\n",
       "    <tr>\n",
       "      <th>7</th>\n",
       "      <td>8</td>\n",
       "      <td>35</td>\n",
       "      <td>timmins</td>\n",
       "      <td>ontario</td>\n",
       "      <td>canada</td>\n",
       "      <td>18-35</td>\n",
       "    </tr>\n",
       "    <tr>\n",
       "      <th>8</th>\n",
       "      <td>9</td>\n",
       "      <td>35</td>\n",
       "      <td>germantown</td>\n",
       "      <td>tennessee</td>\n",
       "      <td>usa</td>\n",
       "      <td>18-35</td>\n",
       "    </tr>\n",
       "    <tr>\n",
       "      <th>9</th>\n",
       "      <td>10</td>\n",
       "      <td>26</td>\n",
       "      <td>albacete</td>\n",
       "      <td>wisconsin</td>\n",
       "      <td>spain</td>\n",
       "      <td>18-35</td>\n",
       "    </tr>\n",
       "  </tbody>\n",
       "</table>\n",
       "</div>"
      ],
      "text/plain": [
       "   userID  Age          city            state         country AgeCategory\n",
       "0       1   35           nyc         new york             usa       18-35\n",
       "1       2   18      stockton       california             usa       12-18\n",
       "2       3   35        moscow  yukon territory          russia       18-35\n",
       "3       4   17         porto         v.n.gaia        portugal       12-18\n",
       "4       5   35   farnborough            hants  united kingdom       18-35\n",
       "5       6   61  santa monica       california             usa       35-65\n",
       "6       7   35    washington               dc             usa       18-35\n",
       "7       8   35       timmins          ontario          canada       18-35\n",
       "8       9   35    germantown        tennessee             usa       18-35\n",
       "9      10   26      albacete        wisconsin           spain       18-35"
      ]
     },
     "execution_count": 113,
     "metadata": {},
     "output_type": "execute_result"
    }
   ],
   "source": [
    "bins = [5, 12, 18, 35, 65, np.inf]\n",
    "names = ['5-12', '12-18', '18-35', '35-65','65+']\n",
    "users['AgeCategory'] = pd.cut(users['Age'], bins, labels=names)\n",
    "users.head(10)"
   ]
  },
  {
   "cell_type": "code",
   "execution_count": 114,
   "id": "c17f8ce5",
   "metadata": {},
   "outputs": [
    {
     "data": {
      "text/plain": [
       "AgeCategory\n",
       "18-35    195279\n",
       "35-65     64734\n",
       "12-18     14547\n",
       "65+        3714\n",
       "5-12        558\n",
       "dtype: int64"
      ]
     },
     "execution_count": 114,
     "metadata": {},
     "output_type": "execute_result"
    }
   ],
   "source": [
    "#ageRepartition=users[[\"userID\", \"AgeCategory\"]].groupby(\"AgeCategory\").count()\n",
    "ageRepartition=users[[\"userID\", \"AgeCategory\"]].value_counts(\"AgeCategory\")\n",
    "ageRepartition.columns=[\"count\"]\n",
    "ageRepartition.head(10)"
   ]
  },
  {
   "cell_type": "code",
   "execution_count": 115,
   "id": "d170d11c",
   "metadata": {
    "scrolled": true
   },
   "outputs": [
    {
     "data": {
      "image/png": "[encoded data removed]",
      "text/plain": [
       "<Figure size 640x480 with 1 Axes>"
      ]
     },
     "metadata": {},
     "output_type": "display_data"
    }
   ],
   "source": [
    "plt=ageRepartition.plot(kind=\"pie\",y=\"count\", autopct='%1.0f%%',title=\"Pie chart of the age repartition\")"
   ]
  },
  {
   "cell_type": "markdown",
   "id": "58d1bf8f",
   "metadata": {},
   "source": [
    "Even by removing the people of 35 years old, we see that the 18-35 category is the most represented."
   ]
  },
  {
   "cell_type": "code",
   "execution_count": 116,
   "id": "494a5866",
   "metadata": {},
   "outputs": [
    {
     "data": {
      "image/png": "[encoded data removed]",
      "text/plain": [
       "<Figure size 2000x1600 with 1 Axes>"
      ]
     },
     "metadata": {},
     "output_type": "display_data"
    }
   ],
   "source": [
    "import matplotlib.pyplot as plt\n",
    "plt.figure(figsize=(20,16))\n",
    "fig=sns.countplot(x=\"Age\", data=users[users.Age!=35])\n",
    "fig.set_xticks(range(0,90,10))\n",
    "plt.title(\"Distribution of age users\", size=15)\n",
    "plt.show()"
   ]
  },
  {
   "cell_type": "markdown",
   "id": "a0563e46",
   "metadata": {},
   "source": [
    "### Books dataset EDA"
   ]
  },
  {
   "cell_type": "markdown",
   "id": "8af23ed8",
   "metadata": {},
   "source": [
    "number of author publish per year"
   ]
  },
  {
   "cell_type": "code",
   "execution_count": 117,
   "id": "ada02ab8",
   "metadata": {
    "scrolled": true
   },
   "outputs": [],
   "source": [
    "df_author_per_year=books[books[\"yearOfPublication\"]>1900].groupby(\"yearOfPublication\", as_index=False)[[\"bookTitle\"]].count()\n",
    "df_author_per_year.columns=[\"year\",\"nbBooks\"]"
   ]
  },
  {
   "cell_type": "code",
   "execution_count": 118,
   "id": "93623903",
   "metadata": {},
   "outputs": [
    {
     "data": {
      "text/plain": [
       "<matplotlib.collections.PathCollection at 0x251b9ffbbb0>"
      ]
     },
     "execution_count": 118,
     "metadata": {},
     "output_type": "execute_result"
    },
    {
     "data": {
      "image/png": "[encoded data removed]",
      "text/plain": [
       "<Figure size 800x600 with 3 Axes>"
      ]
     },
     "metadata": {},
     "output_type": "display_data"
    }
   ],
   "source": [
    "fig=plt.figure(figsize=(8,6))\n",
    "ax1=plt.scatter(x=\"year\",y=\"nbBooks\",data=df_author_per_year,s=25)\n",
    "plt.title(\"Number of books per year\")\n",
    "ax_new=fig.add_axes([0.2, 0.65, 0.2, 0.2])\n",
    "zoom=df_author_per_year[df_author_per_year['year'].between(1992,2000)]\n",
    "plt.scatter(x=\"year\",y=\"nbBooks\",data=zoom ,s=5)\n",
    "\n",
    "ax_new2=fig.add_axes([0.2, 0.35, 0.2, 0.2])\n",
    "zoom2=df_author_per_year[df_author_per_year['year'].between(2000,2005)]\n",
    "plt.scatter(x=\"year\",y=\"nbBooks\",data=zoom2 ,s=5)\n"
   ]
  },
  {
   "cell_type": "markdown",
   "id": "54f57d8a",
   "metadata": {},
   "source": [
    "We observe that after 1960, the number of books edited is constantly increasing altough the years 1994 and 1999 are little descrepancies. \n",
    "We also see that the number of books edited decrease after 2002. It is logical for 2004 and after as the dataset was make in middle 2004."
   ]
  },
  {
   "cell_type": "markdown",
   "id": "eab3a7e2",
   "metadata": {},
   "source": [
    "The most edited author are:"
   ]
  },
  {
   "cell_type": "code",
   "execution_count": 119,
   "id": "96cf7461",
   "metadata": {},
   "outputs": [
    {
     "data": {
      "text/plain": [
       "Agatha Christie        632\n",
       "William Shakespeare    567\n",
       "Stephen King           524\n",
       "Ann M. Martin          423\n",
       "Carolyn Keene          373\n",
       "Francine Pascal        373\n",
       "Isaac Asimov           330\n",
       "Nora Roberts           315\n",
       "Barbara Cartland       307\n",
       "Charles Dickens        302\n",
       "Name: bookAuthor, dtype: int64"
      ]
     },
     "execution_count": 119,
     "metadata": {},
     "output_type": "execute_result"
    }
   ],
   "source": [
    "books[\"bookAuthor\"].value_counts().head(10)"
   ]
  },
  {
   "cell_type": "markdown",
   "id": "56d5bccc",
   "metadata": {},
   "source": [
    "Without surprise we observe that the most edited are classical author (Agatha Christie, William Shakespeare, Charles Dickens, Isaac Asimov as the father of modern SF)  edited for many years hence regularly republished. Carolyn Keene is the pseudonyme of various author and the others are prolific author of the second part of the twentieth century. Barbara Cartland is well know to be the most prolific author of all this century."
   ]
  },
  {
   "cell_type": "markdown",
   "id": "12d01343",
   "metadata": {},
   "source": [
    "### Merged DataFrame EDA"
   ]
  },
  {
   "cell_type": "markdown",
   "id": "880c41f6",
   "metadata": {},
   "source": [
    "We merge the three dataframes by using userID and ISBN as key and taking only the ratings different of 0. This also remove books that haven't been read by users."
   ]
  },
  {
   "cell_type": "code",
   "execution_count": 120,
   "id": "b785fe58",
   "metadata": {},
   "outputs": [
    {
     "data": {
      "text/plain": [
       "(383853, 13)"
      ]
     },
     "execution_count": 120,
     "metadata": {},
     "output_type": "execute_result"
    }
   ],
   "source": [
    "df_recommendation = pd.merge(users, ratings[ratings.bookRating != 0], on='userID')\n",
    "df_recommendation = pd.merge(df_recommendation, books, on='ISBN')\n",
    "df_recommendation.shape"
   ]
  },
  {
   "cell_type": "code",
   "execution_count": 121,
   "id": "f53836b3",
   "metadata": {},
   "outputs": [],
   "source": [
    "df_recommendation.sort_values(by=[\"userID\",\"bookTitle\",\"bookRating\"],inplace=True)"
   ]
  },
  {
   "cell_type": "markdown",
   "id": "4135a8f6",
   "metadata": {},
   "source": [
    " We also remove duplicate entries for the subset \"userID\" and \"bookTitle\". We keep the lowest rating."
   ]
  },
  {
   "cell_type": "code",
   "execution_count": 122,
   "id": "a36e5957",
   "metadata": {},
   "outputs": [],
   "source": [
    "df_recommendation.drop_duplicates(subset=[\"userID\",\"bookTitle\"], inplace=True)"
   ]
  },
  {
   "cell_type": "code",
   "execution_count": 123,
   "id": "0cc1c8fc",
   "metadata": {},
   "outputs": [
    {
     "data": {
      "text/plain": [
       "The Lovely Bones: A Novel                          707\n",
       "Wild Animus                                        581\n",
       "The Da Vinci Code                                  494\n",
       "The Secret Life of Bees                            402\n",
       "The Nanny Diaries: A Novel                         391\n",
       "The Red Tent (Bestselling Backlist)                383\n",
       "Bridget Jones's Diary                              367\n",
       "A Painted House                                    363\n",
       "Life of Pi                                         335\n",
       "Divine Secrets of the Ya-Ya Sisterhood: A Novel    323\n",
       "Name: bookTitle, dtype: int64"
      ]
     },
     "execution_count": 123,
     "metadata": {},
     "output_type": "execute_result"
    }
   ],
   "source": [
    "df_recommendation[\"bookTitle\"].value_counts().head(10)"
   ]
  },
  {
   "cell_type": "code",
   "execution_count": 124,
   "id": "ce9be5b9",
   "metadata": {},
   "outputs": [
    {
     "data": {
      "text/plain": [
       "Stephen King          4587\n",
       "Nora Roberts          2929\n",
       "John Grisham          2533\n",
       "James Patterson       2369\n",
       "J. K. Rowling         1729\n",
       "Mary Higgins Clark    1670\n",
       "Janet Evanovich       1487\n",
       "Dean R. Koontz        1470\n",
       "Anne Rice             1241\n",
       "Sue Grafton           1234\n",
       "Name: bookAuthor, dtype: int64"
      ]
     },
     "execution_count": 124,
     "metadata": {},
     "output_type": "execute_result"
    }
   ],
   "source": [
    "most_read_author=df_recommendation[\"bookAuthor\"].value_counts()\n",
    "most_read_author.head(10)"
   ]
  },
  {
   "cell_type": "markdown",
   "id": "24562324",
   "metadata": {},
   "source": [
    "The most read author is Stephen King. It's interesting to see he's the only author from the ten most edited author of the book dataset to be in this list."
   ]
  },
  {
   "cell_type": "markdown",
   "id": "298fa624",
   "metadata": {},
   "source": [
    "Number of book read and rated by users.\n",
    "We start by removing books with ratings equals to 0."
   ]
  },
  {
   "cell_type": "code",
   "execution_count": 125,
   "id": "c21f95ee",
   "metadata": {},
   "outputs": [
    {
     "data": {
      "text/plain": [
       "count    68093.000000\n",
       "mean         5.622164\n",
       "std         40.944815\n",
       "min          1.000000\n",
       "25%          1.000000\n",
       "50%          1.000000\n",
       "75%          3.000000\n",
       "max       6695.000000\n",
       "Name: userID, dtype: float64"
      ]
     },
     "execution_count": 125,
     "metadata": {},
     "output_type": "execute_result"
    }
   ],
   "source": [
    "df_recommendation[\"userID\"].value_counts().describe()"
   ]
  },
  {
   "cell_type": "code",
   "execution_count": 126,
   "id": "1ee9e5a6",
   "metadata": {},
   "outputs": [
    {
     "data": {
      "text/plain": [
       "11676     6695\n",
       "98391     5652\n",
       "189835    1826\n",
       "153662    1821\n",
       "23902     1170\n",
       "Name: userID, dtype: int64"
      ]
     },
     "execution_count": 126,
     "metadata": {},
     "output_type": "execute_result"
    }
   ],
   "source": [
    "df_recommendation[\"userID\"].value_counts().head()"
   ]
  },
  {
   "cell_type": "code",
   "execution_count": 127,
   "id": "4ddef516",
   "metadata": {},
   "outputs": [
    {
     "data": {
      "text/html": [
       "<div>\n",
       "<style scoped>\n",
       "    .dataframe tbody tr th:only-of-type {\n",
       "        vertical-align: middle;\n",
       "    }\n",
       "\n",
       "    .dataframe tbody tr th {\n",
       "        vertical-align: top;\n",
       "    }\n",
       "\n",
       "    .dataframe thead th {\n",
       "        text-align: right;\n",
       "    }\n",
       "</style>\n",
       "<table border=\"1\" class=\"dataframe\">\n",
       "  <thead>\n",
       "    <tr style=\"text-align: right;\">\n",
       "      <th></th>\n",
       "      <th>userID</th>\n",
       "      <th>Age</th>\n",
       "      <th>city</th>\n",
       "      <th>state</th>\n",
       "      <th>country</th>\n",
       "      <th>AgeCategory</th>\n",
       "      <th>ISBN</th>\n",
       "      <th>bookRating</th>\n",
       "      <th>bookTitle</th>\n",
       "      <th>bookAuthor</th>\n",
       "      <th>yearOfPublication</th>\n",
       "      <th>publisher</th>\n",
       "      <th>bookId</th>\n",
       "    </tr>\n",
       "  </thead>\n",
       "  <tbody>\n",
       "    <tr>\n",
       "      <th>183563</th>\n",
       "      <td>23902</td>\n",
       "      <td>35</td>\n",
       "      <td>london</td>\n",
       "      <td>england</td>\n",
       "      <td>united kingdom</td>\n",
       "      <td>18-35</td>\n",
       "      <td>0600387682</td>\n",
       "      <td>7.0</td>\n",
       "      <td>100 years of the Wimbledon tennis championships</td>\n",
       "      <td>James Medlycott</td>\n",
       "      <td>1977.0</td>\n",
       "      <td>Hamlyn</td>\n",
       "      <td>39923</td>\n",
       "    </tr>\n",
       "    <tr>\n",
       "      <th>184111</th>\n",
       "      <td>23902</td>\n",
       "      <td>35</td>\n",
       "      <td>london</td>\n",
       "      <td>england</td>\n",
       "      <td>united kingdom</td>\n",
       "      <td>18-35</td>\n",
       "      <td>1565990455</td>\n",
       "      <td>6.0</td>\n",
       "      <td>1st Corinthians (Enduring Word Commentary)</td>\n",
       "      <td>David Guzik</td>\n",
       "      <td>2001.0</td>\n",
       "      <td>Enduring Word Media</td>\n",
       "      <td>40072</td>\n",
       "    </tr>\n",
       "    <tr>\n",
       "      <th>182397</th>\n",
       "      <td>23902</td>\n",
       "      <td>35</td>\n",
       "      <td>london</td>\n",
       "      <td>england</td>\n",
       "      <td>united kingdom</td>\n",
       "      <td>18-35</td>\n",
       "      <td>0060168412</td>\n",
       "      <td>7.0</td>\n",
       "      <td>365 Ways to Cook Fish and Shellfish</td>\n",
       "      <td>Charles Pierce</td>\n",
       "      <td>1993.0</td>\n",
       "      <td>Harpercollins</td>\n",
       "      <td>39997</td>\n",
       "    </tr>\n",
       "    <tr>\n",
       "      <th>184256</th>\n",
       "      <td>23902</td>\n",
       "      <td>35</td>\n",
       "      <td>london</td>\n",
       "      <td>england</td>\n",
       "      <td>united kingdom</td>\n",
       "      <td>18-35</td>\n",
       "      <td>2277219517</td>\n",
       "      <td>10.0</td>\n",
       "      <td>372 Le Matin</td>\n",
       "      <td>Philippe Djian</td>\n",
       "      <td>1994.0</td>\n",
       "      <td>Kurtzman Sales Inc</td>\n",
       "      <td>5244</td>\n",
       "    </tr>\n",
       "    <tr>\n",
       "      <th>49075</th>\n",
       "      <td>23902</td>\n",
       "      <td>35</td>\n",
       "      <td>london</td>\n",
       "      <td>england</td>\n",
       "      <td>united kingdom</td>\n",
       "      <td>18-35</td>\n",
       "      <td>0451203895</td>\n",
       "      <td>7.0</td>\n",
       "      <td>4 Blondes</td>\n",
       "      <td>Candace Bushnell</td>\n",
       "      <td>2002.0</td>\n",
       "      <td>Signet Book</td>\n",
       "      <td>3637</td>\n",
       "    </tr>\n",
       "    <tr>\n",
       "      <th>...</th>\n",
       "      <td>...</td>\n",
       "      <td>...</td>\n",
       "      <td>...</td>\n",
       "      <td>...</td>\n",
       "      <td>...</td>\n",
       "      <td>...</td>\n",
       "      <td>...</td>\n",
       "      <td>...</td>\n",
       "      <td>...</td>\n",
       "      <td>...</td>\n",
       "      <td>...</td>\n",
       "      <td>...</td>\n",
       "      <td>...</td>\n",
       "    </tr>\n",
       "    <tr>\n",
       "      <th>183459</th>\n",
       "      <td>23902</td>\n",
       "      <td>35</td>\n",
       "      <td>london</td>\n",
       "      <td>england</td>\n",
       "      <td>united kingdom</td>\n",
       "      <td>18-35</td>\n",
       "      <td>0553261738</td>\n",
       "      <td>8.0</td>\n",
       "      <td>You Can Get There from Here</td>\n",
       "      <td>Shirley MacLaine</td>\n",
       "      <td>1976.0</td>\n",
       "      <td>Bantam Books</td>\n",
       "      <td>39631</td>\n",
       "    </tr>\n",
       "    <tr>\n",
       "      <th>184160</th>\n",
       "      <td>23902</td>\n",
       "      <td>35</td>\n",
       "      <td>london</td>\n",
       "      <td>england</td>\n",
       "      <td>united kingdom</td>\n",
       "      <td>18-35</td>\n",
       "      <td>1843580020</td>\n",
       "      <td>6.0</td>\n",
       "      <td>Your Personal Trainer</td>\n",
       "      <td>Kathy, Dr Fulcher</td>\n",
       "      <td>2002.0</td>\n",
       "      <td>Trafalgar Square</td>\n",
       "      <td>40073</td>\n",
       "    </tr>\n",
       "    <tr>\n",
       "      <th>184013</th>\n",
       "      <td>23902</td>\n",
       "      <td>35</td>\n",
       "      <td>london</td>\n",
       "      <td>england</td>\n",
       "      <td>united kingdom</td>\n",
       "      <td>18-35</td>\n",
       "      <td>0855330902</td>\n",
       "      <td>6.0</td>\n",
       "      <td>Your indoor garden: The comprehensive guide to...</td>\n",
       "      <td>George Seddon</td>\n",
       "      <td>1976.0</td>\n",
       "      <td>Mitchell Beazley</td>\n",
       "      <td>39867</td>\n",
       "    </tr>\n",
       "    <tr>\n",
       "      <th>184287</th>\n",
       "      <td>23902</td>\n",
       "      <td>35</td>\n",
       "      <td>london</td>\n",
       "      <td>england</td>\n",
       "      <td>united kingdom</td>\n",
       "      <td>18-35</td>\n",
       "      <td>8385412565</td>\n",
       "      <td>8.0</td>\n",
       "      <td>Zakopane (DookoÂ±a Polski)</td>\n",
       "      <td>Joanna Markin</td>\n",
       "      <td>1995.0</td>\n",
       "      <td>Pascal</td>\n",
       "      <td>39846</td>\n",
       "    </tr>\n",
       "    <tr>\n",
       "      <th>184011</th>\n",
       "      <td>23902</td>\n",
       "      <td>35</td>\n",
       "      <td>london</td>\n",
       "      <td>england</td>\n",
       "      <td>united kingdom</td>\n",
       "      <td>18-35</td>\n",
       "      <td>0852236492</td>\n",
       "      <td>7.0</td>\n",
       "      <td>Zest: Cosmopolitan's Health and Beauty Handbook</td>\n",
       "      <td>Chrissie Painell</td>\n",
       "      <td>1988.0</td>\n",
       "      <td>Vintage/Ebury (A Division of Random House Group)</td>\n",
       "      <td>40000</td>\n",
       "    </tr>\n",
       "  </tbody>\n",
       "</table>\n",
       "<p>1170 rows × 13 columns</p>\n",
       "</div>"
      ],
      "text/plain": [
       "        userID  Age    city    state         country AgeCategory        ISBN  \\\n",
       "183563   23902   35  london  england  united kingdom       18-35  0600387682   \n",
       "184111   23902   35  london  england  united kingdom       18-35  1565990455   \n",
       "182397   23902   35  london  england  united kingdom       18-35  0060168412   \n",
       "184256   23902   35  london  england  united kingdom       18-35  2277219517   \n",
       "49075    23902   35  london  england  united kingdom       18-35  0451203895   \n",
       "...        ...  ...     ...      ...             ...         ...         ...   \n",
       "183459   23902   35  london  england  united kingdom       18-35  0553261738   \n",
       "184160   23902   35  london  england  united kingdom       18-35  1843580020   \n",
       "184013   23902   35  london  england  united kingdom       18-35  0855330902   \n",
       "184287   23902   35  london  england  united kingdom       18-35  8385412565   \n",
       "184011   23902   35  london  england  united kingdom       18-35  0852236492   \n",
       "\n",
       "        bookRating                                          bookTitle  \\\n",
       "183563         7.0    100 years of the Wimbledon tennis championships   \n",
       "184111         6.0         1st Corinthians (Enduring Word Commentary)   \n",
       "182397         7.0                365 Ways to Cook Fish and Shellfish   \n",
       "184256        10.0                                       372 Le Matin   \n",
       "49075          7.0                                          4 Blondes   \n",
       "...            ...                                                ...   \n",
       "183459         8.0                        You Can Get There from Here   \n",
       "184160         6.0                              Your Personal Trainer   \n",
       "184013         6.0  Your indoor garden: The comprehensive guide to...   \n",
       "184287         8.0                         Zakopane (DookoÂ±a Polski)   \n",
       "184011         7.0    Zest: Cosmopolitan's Health and Beauty Handbook   \n",
       "\n",
       "               bookAuthor  yearOfPublication  \\\n",
       "183563    James Medlycott             1977.0   \n",
       "184111        David Guzik             2001.0   \n",
       "182397     Charles Pierce             1993.0   \n",
       "184256     Philippe Djian             1994.0   \n",
       "49075    Candace Bushnell             2002.0   \n",
       "...                   ...                ...   \n",
       "183459   Shirley MacLaine             1976.0   \n",
       "184160  Kathy, Dr Fulcher             2002.0   \n",
       "184013      George Seddon             1976.0   \n",
       "184287      Joanna Markin             1995.0   \n",
       "184011   Chrissie Painell             1988.0   \n",
       "\n",
       "                                               publisher  bookId  \n",
       "183563                                            Hamlyn   39923  \n",
       "184111                               Enduring Word Media   40072  \n",
       "182397                                     Harpercollins   39997  \n",
       "184256                                Kurtzman Sales Inc    5244  \n",
       "49075                                        Signet Book    3637  \n",
       "...                                                  ...     ...  \n",
       "183459                                      Bantam Books   39631  \n",
       "184160                                  Trafalgar Square   40073  \n",
       "184013                                  Mitchell Beazley   39867  \n",
       "184287                                            Pascal   39846  \n",
       "184011  Vintage/Ebury (A Division of Random House Group)   40000  \n",
       "\n",
       "[1170 rows x 13 columns]"
      ]
     },
     "execution_count": 127,
     "metadata": {},
     "output_type": "execute_result"
    }
   ],
   "source": [
    "df_recommendation[df_recommendation[\"userID\"]==23902]"
   ]
  },
  {
   "cell_type": "markdown",
   "id": "b0bb77f3",
   "metadata": {},
   "source": [
    "The average number of books rated by users is near 6 but 75% of the users have rated only 1 books and the rest have rated at least 3 books. It should be enough for recommending books based on the ratings of other users but it may be too narrow to recommend a large quantity of books. It should be noted that some users have rated more than 1000 books so we have a huge variance. We keep them but it's to be noted to reflect on the validity of the model we are going to do."
   ]
  },
  {
   "cell_type": "code",
   "execution_count": 128,
   "id": "88523b71",
   "metadata": {},
   "outputs": [],
   "source": [
    "def color_func(word=None, font_size=None, position=None,  orientation=None, font_path=None, random_state=None):\n",
    "    h = int(188)\n",
    "    s = int(100.0 * 255 / 255.0)\n",
    "    l = int(100.0 * float(random_state.randint(60, 160)) / 255.0)\n",
    "    return \"hsl({}, {}%, {}%)\".format(h, s, l)"
   ]
  },
  {
   "cell_type": "code",
   "execution_count": 129,
   "id": "9389f6f5",
   "metadata": {},
   "outputs": [
    {
     "data": {
      "image/png": "[encoded data removed]",
      "text/plain": [
       "<Figure size 1000x1000 with 1 Axes>"
      ]
     },
     "metadata": {},
     "output_type": "display_data"
    }
   ],
   "source": [
    "plt.subplots(figsize=(10,10))\n",
    "wc = WordCloud(background_color=\"white\", max_words=100,\n",
    "               stopwords=STOPWORDS, max_font_size=256,\n",
    "               random_state=52, width=500, height=500,color_func=color_func)\n",
    "wc.generate(' '.join(df_recommendation['bookTitle']))\n",
    "plt.imshow(wc, interpolation=\"bilinear\")\n",
    "plt.axis('off')\n",
    "plt.show()"
   ]
  },
  {
   "cell_type": "markdown",
   "id": "426d109f",
   "metadata": {},
   "source": [
    "The word the most present in boks read by users is \"Love\", \"Life\" and \"Novel\"."
   ]
  },
  {
   "cell_type": "markdown",
   "id": "71cc3ad8",
   "metadata": {},
   "source": [
    "## Recommendation system"
   ]
  },
  {
   "cell_type": "markdown",
   "id": "40aefe9f",
   "metadata": {},
   "source": [
    "Now that the dataframe df_recommendation is ready, we can start doing a model for recommend books.\n",
    "First, we export the dataframe to csv to allow working on it from an other notebook designed for it. "
   ]
  },
  {
   "cell_type": "code",
   "execution_count": 130,
   "id": "c648cf68",
   "metadata": {},
   "outputs": [],
   "source": [
    "df_recommendation.to_csv('dataset/final_dataset.csv', sep=';', index=False)"
   ]
  }
 ],
 "metadata": {
  "kernelspec": {
   "display_name": "mlProject",
   "language": "python",
   "name": "mlproject"
  },
  "language_info": {
   "codemirror_mode": {
    "name": "ipython",
    "version": 3
   },
   "file_extension": ".py",
   "mimetype": "text/x-python",
   "name": "python",
   "nbconvert_exporter": "python",
   "pygments_lexer": "ipython3",
   "version": "3.10.8"
  }
 },
 "nbformat": 4,
 "nbformat_minor": 5
}
