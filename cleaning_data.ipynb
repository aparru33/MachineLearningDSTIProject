{
 "cells": [
  {
   "cell_type": "markdown",
   "id": "c601210e",
   "metadata": {},
   "source": [
    "# Data Cleaning"
   ]
  },
  {
   "cell_type": "markdown",
   "id": "97ff8289",
   "metadata": {},
   "source": [
    "The first and important step in our project is to select a dataset to build a book recommendation system. The dataset must be of a reasonable size and include book reviews made by users in the past. Therefore, we chose this dataset [Book-Crossing Dataset](https://www.kaggle.com/datasets/saurabhbagchi/books-dataset) available in [Kaggle](https://www.kaggle.com/).\n",
    "The Book-Crossing Dataset was originally mined by Cai-Nicolas Ziegler in 2004 form [Book-Crossing](https://www.bookcrossing.com/) community. More information about the database could find in this [links](http://www2.informatik.uni-freiburg.de/~cziegler/BX/).\n",
    "The usability score of the database on Kaggle is 10.0, which is the maximum. Other datasets with user ratings could be found in Kaggle, but were not used for this project because they were  voluminous, such as https://www.kaggle.com/datasets/bahramjannesarr/goodreads-book-datasets-10m (1.18 GB), or because the source of the data was not provided, as in https://www.kaggle.com/datasets/ruchi798/bookcrossing-dataset.\n",
    "The Book-Crossing Dataset contains 278 858 anonymized users but with their demographic information, provide 1.149.780 ratings) and about 271.379 books."
   ]
  },
  {
   "cell_type": "markdown",
   "id": "b5609a1d",
   "metadata": {},
   "source": [
    "This notebook focuses on cleaning the database to prepare it for further analysis. In a second notebook, we will focus on Exploratory Data Analysis (EDA) to gain a better understanding of the data"
   ]
  },
  {
   "cell_type": "markdown",
   "id": "8cc68a19",
   "metadata": {},
   "source": [
    "## Setup the environment"
   ]
  },
  {
   "cell_type": "markdown",
   "id": "0b84044e",
   "metadata": {},
   "source": [
    "An environment was created for this project. The python version is 3.10.8 as seen below"
   ]
  },
  {
   "cell_type": "code",
   "execution_count": 73,
   "id": "89a3b7c6",
   "metadata": {},
   "outputs": [
    {
     "name": "stdout",
     "output_type": "stream",
     "text": [
      "%CONDA_DEFAULT_ENV%\n"
     ]
    }
   ],
   "source": [
    "!echo %CONDA_DEFAULT_ENV%"
   ]
  },
  {
   "cell_type": "markdown",
   "id": "88e032eb",
   "metadata": {},
   "source": [
    "In this project, we use `NumPy` and `Pandas` for performing mathematical operations and processing the data."
   ]
  },
  {
   "cell_type": "code",
   "execution_count": 74,
   "outputs": [],
   "source": [
    "import numpy as np # linear algebra\n",
    "import pandas as pd # data processing\n",
    "import matplotlib.pyplot as plt\n",
    "import seaborn as sns\n",
    "from wordcloud import WordCloud,STOPWORDS"
   ],
   "metadata": {
    "collapsed": false,
    "pycharm": {
     "name": "#%%\n"
    }
   }
  },
  {
   "cell_type": "markdown",
   "id": "2a3b6c6e",
   "metadata": {},
   "source": [
    "## Loading and cleaning the data"
   ]
  },
  {
   "cell_type": "code",
   "execution_count": 75,
   "id": "2021fe99",
   "metadata": {},
   "outputs": [],
   "source": [
    "#path and file name\n",
    "files_path=\"./dataset/books_data/\"\n",
    "books_csv=\"books.csv\"\n",
    "users_csv=\"users.csv\"\n",
    "ratings_csv=\"ratings.csv\""
   ]
  },
  {
   "cell_type": "code",
   "execution_count": 76,
   "id": "e1cbe111",
   "metadata": {
    "scrolled": true
   },
   "outputs": [
    {
     "name": "stderr",
     "output_type": "stream",
     "text": [
      "C:\\Users\\BAAMARA\\AppData\\Local\\Temp\\ipykernel_32\\1744898156.py:1: DtypeWarning: Columns (3) have mixed types. Specify dtype option on import or set low_memory=False.\n",
      "  books = pd.read_csv(files_path+books_csv, sep=\";\",on_bad_lines='warn', encoding=\"latin-1\")\n"
     ]
    }
   ],
   "source": [
    "books = pd.read_csv(files_path+books_csv, sep=\";\",on_bad_lines='warn', encoding=\"latin-1\")\n",
    "books.columns = ['ISBN', 'bookTitle', 'bookAuthor', 'yearOfPublication', 'publisher', \n",
    "                 'imageUrlS', 'imageUrlM', 'imageUrlL']"
   ]
  },
  {
   "cell_type": "markdown",
   "id": "23021be1",
   "metadata": {},
   "source": [
    "As we can see, some lines were skipped because they have too many fields. We should see if this data can be cleanned so we can used them. As we doesn't have many rows in error and the files are readable with tools like Notepad++ or Excel, we can do it manually. If it wasn't the case we should have wrote a custom reader to store the line in error.\n",
    "When looking at the file we can see the presence of \"`&amp;`\"  string which can create unexpected columns du to the semicolon. To correct that, we remplace \"`&amp;`\"  by \"&\"\n",
    "By rerunning the read_csv function, we still have some errors:\n",
    "\n",
    "Skipping line 43667: expected 8 fields, saw 10\n",
    "\n",
    "Skipping line 144058: expected 8 fields, saw 9\n",
    "Skipping line 180189: expected 8 fields, saw 9\n",
    "\n",
    "Skipping line 209388: expected 8 fields, saw 9\n",
    "Skipping line 227933: expected 8 fields, saw 10\n",
    "Skipping line 261529: expected 8 fields, saw 9\n",
    "\n",
    "Again this result of title containing both \" \\\" \" and \" ; \". As we have only 6 rows affected, we correct them manually by replacing \" \\\" \" by \" ' \" then \" ; \" by \" , \" if necessary.\n",
    "Rerunning the above cell and check if all lines are loaded:"
   ]
  },
  {
   "cell_type": "code",
   "execution_count": 77,
   "id": "c3b81f6d",
   "metadata": {},
   "outputs": [
    {
     "data": {
      "text/plain": "(271379, 8)"
     },
     "execution_count": 77,
     "metadata": {},
     "output_type": "execute_result"
    }
   ],
   "source": [
    "books.shape"
   ]
  },
  {
   "cell_type": "markdown",
   "id": "ae111fdb",
   "metadata": {},
   "source": [
    "The number of rows and columns in the dataFram is the same than the file, so far so good.\n",
    "We can now start cleaning the data."
   ]
  },
  {
   "cell_type": "markdown",
   "id": "ac9f77b6",
   "metadata": {},
   "source": [
    "## Search of inconsistency in the data"
   ]
  },
  {
   "cell_type": "markdown",
   "id": "1a602f4c",
   "metadata": {},
   "source": [
    "### Cleaning of the books dataset"
   ]
  },
  {
   "cell_type": "code",
   "execution_count": 78,
   "id": "89c86c07",
   "metadata": {
    "scrolled": false
   },
   "outputs": [
    {
     "data": {
      "text/plain": "         ISBN                                          bookTitle  \\\n0  0195153448                                Classical Mythology   \n1  0002005018                                       Clara Callan   \n2  0060973129                               Decision in Normandy   \n3  0374157065  Flu: The Story of the Great Influenza Pandemic...   \n4  0393045218                             The Mummies of Urumchi   \n\n             bookAuthor yearOfPublication                publisher  \\\n0    Mark P. O. Morford              2002  Oxford University Press   \n1  Richard Bruce Wright              2001    HarperFlamingo Canada   \n2          Carlo D'Este              1991          HarperPerennial   \n3      Gina Bari Kolata              1999     Farrar Straus Giroux   \n4       E. J. W. Barber              1999   W. W. Norton & Company   \n\n                                           imageUrlS  \\\n0  http://images.amazon.com/images/P/0195153448.0...   \n1  http://images.amazon.com/images/P/0002005018.0...   \n2  http://images.amazon.com/images/P/0060973129.0...   \n3  http://images.amazon.com/images/P/0374157065.0...   \n4  http://images.amazon.com/images/P/0393045218.0...   \n\n                                           imageUrlM  \\\n0  http://images.amazon.com/images/P/0195153448.0...   \n1  http://images.amazon.com/images/P/0002005018.0...   \n2  http://images.amazon.com/images/P/0060973129.0...   \n3  http://images.amazon.com/images/P/0374157065.0...   \n4  http://images.amazon.com/images/P/0393045218.0...   \n\n                                           imageUrlL  \n0  http://images.amazon.com/images/P/0195153448.0...  \n1  http://images.amazon.com/images/P/0002005018.0...  \n2  http://images.amazon.com/images/P/0060973129.0...  \n3  http://images.amazon.com/images/P/0374157065.0...  \n4  http://images.amazon.com/images/P/0393045218.0...  ",
      "text/html": "<div>\n<style scoped>\n    .dataframe tbody tr th:only-of-type {\n        vertical-align: middle;\n    }\n\n    .dataframe tbody tr th {\n        vertical-align: top;\n    }\n\n    .dataframe thead th {\n        text-align: right;\n    }\n</style>\n<table border=\"1\" class=\"dataframe\">\n  <thead>\n    <tr style=\"text-align: right;\">\n      <th></th>\n      <th>ISBN</th>\n      <th>bookTitle</th>\n      <th>bookAuthor</th>\n      <th>yearOfPublication</th>\n      <th>publisher</th>\n      <th>imageUrlS</th>\n      <th>imageUrlM</th>\n      <th>imageUrlL</th>\n    </tr>\n  </thead>\n  <tbody>\n    <tr>\n      <th>0</th>\n      <td>0195153448</td>\n      <td>Classical Mythology</td>\n      <td>Mark P. O. Morford</td>\n      <td>2002</td>\n      <td>Oxford University Press</td>\n      <td>http://images.amazon.com/images/P/0195153448.0...</td>\n      <td>http://images.amazon.com/images/P/0195153448.0...</td>\n      <td>http://images.amazon.com/images/P/0195153448.0...</td>\n    </tr>\n    <tr>\n      <th>1</th>\n      <td>0002005018</td>\n      <td>Clara Callan</td>\n      <td>Richard Bruce Wright</td>\n      <td>2001</td>\n      <td>HarperFlamingo Canada</td>\n      <td>http://images.amazon.com/images/P/0002005018.0...</td>\n      <td>http://images.amazon.com/images/P/0002005018.0...</td>\n      <td>http://images.amazon.com/images/P/0002005018.0...</td>\n    </tr>\n    <tr>\n      <th>2</th>\n      <td>0060973129</td>\n      <td>Decision in Normandy</td>\n      <td>Carlo D'Este</td>\n      <td>1991</td>\n      <td>HarperPerennial</td>\n      <td>http://images.amazon.com/images/P/0060973129.0...</td>\n      <td>http://images.amazon.com/images/P/0060973129.0...</td>\n      <td>http://images.amazon.com/images/P/0060973129.0...</td>\n    </tr>\n    <tr>\n      <th>3</th>\n      <td>0374157065</td>\n      <td>Flu: The Story of the Great Influenza Pandemic...</td>\n      <td>Gina Bari Kolata</td>\n      <td>1999</td>\n      <td>Farrar Straus Giroux</td>\n      <td>http://images.amazon.com/images/P/0374157065.0...</td>\n      <td>http://images.amazon.com/images/P/0374157065.0...</td>\n      <td>http://images.amazon.com/images/P/0374157065.0...</td>\n    </tr>\n    <tr>\n      <th>4</th>\n      <td>0393045218</td>\n      <td>The Mummies of Urumchi</td>\n      <td>E. J. W. Barber</td>\n      <td>1999</td>\n      <td>W. W. Norton &amp; Company</td>\n      <td>http://images.amazon.com/images/P/0393045218.0...</td>\n      <td>http://images.amazon.com/images/P/0393045218.0...</td>\n      <td>http://images.amazon.com/images/P/0393045218.0...</td>\n    </tr>\n  </tbody>\n</table>\n</div>"
     },
     "execution_count": 78,
     "metadata": {},
     "output_type": "execute_result"
    }
   ],
   "source": [
    "books.head()"
   ]
  },
  {
   "cell_type": "markdown",
   "id": "220bdba0",
   "metadata": {},
   "source": [
    "We observe that the three last columns are URL of image so we can discard them as they don't contain useful data as we don't need to load image only print the title of the book to give recommentation (altough it could be useful for an web application, so in that case we would have kept those columns)"
   ]
  },
  {
   "cell_type": "code",
   "execution_count": 79,
   "id": "f3f9379d",
   "metadata": {},
   "outputs": [
    {
     "data": {
      "text/plain": "         ISBN                                          bookTitle  \\\n0  0195153448                                Classical Mythology   \n1  0002005018                                       Clara Callan   \n2  0060973129                               Decision in Normandy   \n3  0374157065  Flu: The Story of the Great Influenza Pandemic...   \n4  0393045218                             The Mummies of Urumchi   \n\n             bookAuthor yearOfPublication                publisher  \n0    Mark P. O. Morford              2002  Oxford University Press  \n1  Richard Bruce Wright              2001    HarperFlamingo Canada  \n2          Carlo D'Este              1991          HarperPerennial  \n3      Gina Bari Kolata              1999     Farrar Straus Giroux  \n4       E. J. W. Barber              1999   W. W. Norton & Company  ",
      "text/html": "<div>\n<style scoped>\n    .dataframe tbody tr th:only-of-type {\n        vertical-align: middle;\n    }\n\n    .dataframe tbody tr th {\n        vertical-align: top;\n    }\n\n    .dataframe thead th {\n        text-align: right;\n    }\n</style>\n<table border=\"1\" class=\"dataframe\">\n  <thead>\n    <tr style=\"text-align: right;\">\n      <th></th>\n      <th>ISBN</th>\n      <th>bookTitle</th>\n      <th>bookAuthor</th>\n      <th>yearOfPublication</th>\n      <th>publisher</th>\n    </tr>\n  </thead>\n  <tbody>\n    <tr>\n      <th>0</th>\n      <td>0195153448</td>\n      <td>Classical Mythology</td>\n      <td>Mark P. O. Morford</td>\n      <td>2002</td>\n      <td>Oxford University Press</td>\n    </tr>\n    <tr>\n      <th>1</th>\n      <td>0002005018</td>\n      <td>Clara Callan</td>\n      <td>Richard Bruce Wright</td>\n      <td>2001</td>\n      <td>HarperFlamingo Canada</td>\n    </tr>\n    <tr>\n      <th>2</th>\n      <td>0060973129</td>\n      <td>Decision in Normandy</td>\n      <td>Carlo D'Este</td>\n      <td>1991</td>\n      <td>HarperPerennial</td>\n    </tr>\n    <tr>\n      <th>3</th>\n      <td>0374157065</td>\n      <td>Flu: The Story of the Great Influenza Pandemic...</td>\n      <td>Gina Bari Kolata</td>\n      <td>1999</td>\n      <td>Farrar Straus Giroux</td>\n    </tr>\n    <tr>\n      <th>4</th>\n      <td>0393045218</td>\n      <td>The Mummies of Urumchi</td>\n      <td>E. J. W. Barber</td>\n      <td>1999</td>\n      <td>W. W. Norton &amp; Company</td>\n    </tr>\n  </tbody>\n</table>\n</div>"
     },
     "execution_count": 79,
     "metadata": {},
     "output_type": "execute_result"
    }
   ],
   "source": [
    "books=books.drop(['imageUrlS','imageUrlM','imageUrlL'], axis=1)\n",
    "books.head()"
   ]
  },
  {
   "cell_type": "markdown",
   "id": "e885f06f",
   "metadata": {},
   "source": [
    "The dataframe has 5 columns remaining. The ISBN allow to uniquely identify each book.\n",
    "The column yearOfPublication should contain only year and be convertible to integer. We check if it's the case"
   ]
  },
  {
   "cell_type": "code",
   "execution_count": 80,
   "id": "2e04690b",
   "metadata": {},
   "outputs": [
    {
     "data": {
      "text/plain": "array([2002, 2001, 1991, 1999, 2000, 1993, 1996, 1988, 2004, 1998, 1994,\n       2003, 1997, 1983, 1979, 1995, 1982, 1985, 1992, 1986, 1978, 1980,\n       1952, 1987, 1990, 1981, 1989, 1984, 0, 1968, 1961, 1958, 1974,\n       1976, 1971, 1977, 1975, 1965, 1941, 1970, 1962, 1973, 1972, 1960,\n       1966, 1920, 1956, 1959, 1953, 1951, 1942, 1963, 1964, 1969, 1954,\n       1950, 1967, 2005, 1957, 1940, 1937, 1955, 1946, 1936, 1930, 2011,\n       1925, 1948, 1943, 1947, 1945, 1923, 2020, 1939, 1926, 1938, 2030,\n       1911, 1904, 1949, 1932, 1928, 1929, 1927, 1931, 1914, 2050, 1934,\n       1910, 1933, 1902, 1924, 1921, 1900, 2038, 2026, 1944, 1917, 1901,\n       2010, 1908, 1906, 1935, 1806, 2021, '1999', '2002', '2001', '2000',\n       '1996', '1992', '1995', '2004', '2003', '1990', '1994', '1986',\n       '1989', '1981', '1993', '1983', '1982', '1976', '1991', '1977',\n       '1998', '0', '1997', '1974', '1968', '1987', '1984', '1988',\n       '1963', '1956', '1970', '1985', '1978', '1973', '1980', '1979',\n       '1975', '1969', '1961', '1965', '1939', '1958', '1950', '1953',\n       '1966', '1971', '1959', '1972', '1955', '1957', '1945', '1960',\n       '1967', '1932', '1924', '1964', '2012', '1911', '1927', '1948',\n       '1962', '2006', '1952', '1940', '1951', '1931', '1954', '2005',\n       '1930', '1941', '1944', 'DK Publishing Inc', '1943', '1938',\n       '1900', '1942', '1923', '1920', '1933', 'Gallimard', '1909',\n       '1946', '2008', '1378', '2030', '1936', '1947', '2011', '2020',\n       '1919', '1949', '1922', '1897', '2024', '1376', '1926', '2037'],\n      dtype=object)"
     },
     "execution_count": 80,
     "metadata": {},
     "output_type": "execute_result"
    }
   ],
   "source": [
    "books[\"yearOfPublication\"].unique()"
   ]
  },
  {
   "cell_type": "markdown",
   "id": "bc13a42c",
   "metadata": {},
   "source": [
    "We observe that some date are instead publishers. We retrieve this observations:"
   ]
  },
  {
   "cell_type": "code",
   "execution_count": 81,
   "id": "763ebc92",
   "metadata": {},
   "outputs": [
    {
     "data": {
      "text/plain": "              ISBN                                          bookTitle  \\\n209550  078946697X  DK Readers: Creating the X-Men, How It All Beg...   \n220744  2070426769  Peuple du ciel, suivi de 'Les Bergers\\\";Jean-M...   \n221691  0789466953  DK Readers: Creating the X-Men, How Comic Book...   \n\n       bookAuthor  yearOfPublication  \\\n209550       2000  DK Publishing Inc   \n220744       2003          Gallimard   \n221691       2000  DK Publishing Inc   \n\n                                                publisher  \n209550  http://images.amazon.com/images/P/078946697X.0...  \n220744  http://images.amazon.com/images/P/2070426769.0...  \n221691  http://images.amazon.com/images/P/0789466953.0...  ",
      "text/html": "<div>\n<style scoped>\n    .dataframe tbody tr th:only-of-type {\n        vertical-align: middle;\n    }\n\n    .dataframe tbody tr th {\n        vertical-align: top;\n    }\n\n    .dataframe thead th {\n        text-align: right;\n    }\n</style>\n<table border=\"1\" class=\"dataframe\">\n  <thead>\n    <tr style=\"text-align: right;\">\n      <th></th>\n      <th>ISBN</th>\n      <th>bookTitle</th>\n      <th>bookAuthor</th>\n      <th>yearOfPublication</th>\n      <th>publisher</th>\n    </tr>\n  </thead>\n  <tbody>\n    <tr>\n      <th>209550</th>\n      <td>078946697X</td>\n      <td>DK Readers: Creating the X-Men, How It All Beg...</td>\n      <td>2000</td>\n      <td>DK Publishing Inc</td>\n      <td>http://images.amazon.com/images/P/078946697X.0...</td>\n    </tr>\n    <tr>\n      <th>220744</th>\n      <td>2070426769</td>\n      <td>Peuple du ciel, suivi de 'Les Bergers\\\";Jean-M...</td>\n      <td>2003</td>\n      <td>Gallimard</td>\n      <td>http://images.amazon.com/images/P/2070426769.0...</td>\n    </tr>\n    <tr>\n      <th>221691</th>\n      <td>0789466953</td>\n      <td>DK Readers: Creating the X-Men, How Comic Book...</td>\n      <td>2000</td>\n      <td>DK Publishing Inc</td>\n      <td>http://images.amazon.com/images/P/0789466953.0...</td>\n    </tr>\n  </tbody>\n</table>\n</div>"
     },
     "execution_count": 81,
     "metadata": {},
     "output_type": "execute_result"
    }
   ],
   "source": [
    "bad_rows=books[(books[\"yearOfPublication\"]=='DK Publishing Inc') | (books[\"yearOfPublication\"] == 'Gallimard')]\n",
    "bad_rows"
   ]
  },
  {
   "cell_type": "markdown",
   "id": "fe104e94",
   "metadata": {},
   "source": [
    "The book title seems to contain the book author. We clean this rows."
   ]
  },
  {
   "cell_type": "code",
   "execution_count": 82,
   "id": "cb9c1d4b",
   "metadata": {
    "scrolled": false
   },
   "outputs": [
    {
     "name": "stderr",
     "output_type": "stream",
     "text": [
      "C:\\Users\\BAAMARA\\AppData\\Local\\Temp\\ipykernel_32\\1913220620.py:1: SettingWithCopyWarning: \n",
      "A value is trying to be set on a copy of a slice from a DataFrame.\n",
      "Try using .loc[row_indexer,col_indexer] = value instead\n",
      "\n",
      "See the caveats in the documentation: https://pandas.pydata.org/pandas-docs/stable/user_guide/indexing.html#returning-a-view-versus-a-copy\n",
      "  bad_rows[['realBookTitle','realBookAuthor']]=bad_rows.bookTitle.str.split('\\\\\\\\\";',expand=True)\n",
      "C:\\Users\\BAAMARA\\AppData\\Local\\Temp\\ipykernel_32\\1913220620.py:1: SettingWithCopyWarning: \n",
      "A value is trying to be set on a copy of a slice from a DataFrame.\n",
      "Try using .loc[row_indexer,col_indexer] = value instead\n",
      "\n",
      "See the caveats in the documentation: https://pandas.pydata.org/pandas-docs/stable/user_guide/indexing.html#returning-a-view-versus-a-copy\n",
      "  bad_rows[['realBookTitle','realBookAuthor']]=bad_rows.bookTitle.str.split('\\\\\\\\\";',expand=True)\n"
     ]
    },
    {
     "data": {
      "text/plain": "              ISBN                                          bookTitle  \\\n209550  078946697X  DK Readers: Creating the X-Men, How It All Beg...   \n220744  2070426769  Peuple du ciel, suivi de 'Les Bergers\\\";Jean-M...   \n221691  0789466953  DK Readers: Creating the X-Men, How Comic Book...   \n\n       bookAuthor  yearOfPublication  \\\n209550       2000  DK Publishing Inc   \n220744       2003          Gallimard   \n221691       2000  DK Publishing Inc   \n\n                                                publisher  \\\n209550  http://images.amazon.com/images/P/078946697X.0...   \n220744  http://images.amazon.com/images/P/2070426769.0...   \n221691  http://images.amazon.com/images/P/0789466953.0...   \n\n                                            realBookTitle  \\\n209550  DK Readers: Creating the X-Men, How It All Beg...   \n220744              Peuple du ciel, suivi de 'Les Bergers   \n221691  DK Readers: Creating the X-Men, How Comic Book...   \n\n                          realBookAuthor  \n209550               Michael Teitelbaum\"  \n220744  Jean-Marie Gustave Le ClÃ?Â©zio\"  \n221691                    James Buckley\"  ",
      "text/html": "<div>\n<style scoped>\n    .dataframe tbody tr th:only-of-type {\n        vertical-align: middle;\n    }\n\n    .dataframe tbody tr th {\n        vertical-align: top;\n    }\n\n    .dataframe thead th {\n        text-align: right;\n    }\n</style>\n<table border=\"1\" class=\"dataframe\">\n  <thead>\n    <tr style=\"text-align: right;\">\n      <th></th>\n      <th>ISBN</th>\n      <th>bookTitle</th>\n      <th>bookAuthor</th>\n      <th>yearOfPublication</th>\n      <th>publisher</th>\n      <th>realBookTitle</th>\n      <th>realBookAuthor</th>\n    </tr>\n  </thead>\n  <tbody>\n    <tr>\n      <th>209550</th>\n      <td>078946697X</td>\n      <td>DK Readers: Creating the X-Men, How It All Beg...</td>\n      <td>2000</td>\n      <td>DK Publishing Inc</td>\n      <td>http://images.amazon.com/images/P/078946697X.0...</td>\n      <td>DK Readers: Creating the X-Men, How It All Beg...</td>\n      <td>Michael Teitelbaum\"</td>\n    </tr>\n    <tr>\n      <th>220744</th>\n      <td>2070426769</td>\n      <td>Peuple du ciel, suivi de 'Les Bergers\\\";Jean-M...</td>\n      <td>2003</td>\n      <td>Gallimard</td>\n      <td>http://images.amazon.com/images/P/2070426769.0...</td>\n      <td>Peuple du ciel, suivi de 'Les Bergers</td>\n      <td>Jean-Marie Gustave Le ClÃ?Â©zio\"</td>\n    </tr>\n    <tr>\n      <th>221691</th>\n      <td>0789466953</td>\n      <td>DK Readers: Creating the X-Men, How Comic Book...</td>\n      <td>2000</td>\n      <td>DK Publishing Inc</td>\n      <td>http://images.amazon.com/images/P/0789466953.0...</td>\n      <td>DK Readers: Creating the X-Men, How Comic Book...</td>\n      <td>James Buckley\"</td>\n    </tr>\n  </tbody>\n</table>\n</div>"
     },
     "execution_count": 82,
     "metadata": {},
     "output_type": "execute_result"
    }
   ],
   "source": [
    "bad_rows[['realBookTitle','realBookAuthor']]=bad_rows.bookTitle.str.split('\\\\\\\\\";',expand=True)\n",
    "bad_rows"
   ]
  },
  {
   "cell_type": "code",
   "execution_count": 83,
   "outputs": [
    {
     "data": {
      "text/plain": "              ISBN                                          bookTitle  \\\n209550  078946697X  DK Readers: Creating the X-Men, How It All Beg...   \n220744  2070426769  Peuple du ciel, suivi de 'Les Bergers\\\";Jean-M...   \n221691  0789466953  DK Readers: Creating the X-Men, How Comic Book...   \n\n       bookAuthor  yearOfPublication  \\\n209550       2000  DK Publishing Inc   \n220744       2003          Gallimard   \n221691       2000  DK Publishing Inc   \n\n                                                publisher  \\\n209550  http://images.amazon.com/images/P/078946697X.0...   \n220744  http://images.amazon.com/images/P/2070426769.0...   \n221691  http://images.amazon.com/images/P/0789466953.0...   \n\n                                            realBookTitle  \\\n209550  DK Readers: Creating the X-Men, How It All Beg...   \n220744              Peuple du ciel, suivi de 'Les Bergers   \n221691  DK Readers: Creating the X-Men, How Comic Book...   \n\n                          realBookAuthor  \n209550               Michael Teitelbaum\"  \n220744  Jean-Marie Gustave Le ClÃ?Â©zio\"  \n221691                    James Buckley\"  ",
      "text/html": "<div>\n<style scoped>\n    .dataframe tbody tr th:only-of-type {\n        vertical-align: middle;\n    }\n\n    .dataframe tbody tr th {\n        vertical-align: top;\n    }\n\n    .dataframe thead th {\n        text-align: right;\n    }\n</style>\n<table border=\"1\" class=\"dataframe\">\n  <thead>\n    <tr style=\"text-align: right;\">\n      <th></th>\n      <th>ISBN</th>\n      <th>bookTitle</th>\n      <th>bookAuthor</th>\n      <th>yearOfPublication</th>\n      <th>publisher</th>\n      <th>realBookTitle</th>\n      <th>realBookAuthor</th>\n    </tr>\n  </thead>\n  <tbody>\n    <tr>\n      <th>209550</th>\n      <td>078946697X</td>\n      <td>DK Readers: Creating the X-Men, How It All Beg...</td>\n      <td>2000</td>\n      <td>DK Publishing Inc</td>\n      <td>http://images.amazon.com/images/P/078946697X.0...</td>\n      <td>DK Readers: Creating the X-Men, How It All Beg...</td>\n      <td>Michael Teitelbaum\"</td>\n    </tr>\n    <tr>\n      <th>220744</th>\n      <td>2070426769</td>\n      <td>Peuple du ciel, suivi de 'Les Bergers\\\";Jean-M...</td>\n      <td>2003</td>\n      <td>Gallimard</td>\n      <td>http://images.amazon.com/images/P/2070426769.0...</td>\n      <td>Peuple du ciel, suivi de 'Les Bergers</td>\n      <td>Jean-Marie Gustave Le ClÃ?Â©zio\"</td>\n    </tr>\n    <tr>\n      <th>221691</th>\n      <td>0789466953</td>\n      <td>DK Readers: Creating the X-Men, How Comic Book...</td>\n      <td>2000</td>\n      <td>DK Publishing Inc</td>\n      <td>http://images.amazon.com/images/P/0789466953.0...</td>\n      <td>DK Readers: Creating the X-Men, How Comic Book...</td>\n      <td>James Buckley\"</td>\n    </tr>\n  </tbody>\n</table>\n</div>"
     },
     "execution_count": 83,
     "metadata": {},
     "output_type": "execute_result"
    }
   ],
   "source": [
    "bad_rows"
   ],
   "metadata": {
    "collapsed": false,
    "pycharm": {
     "name": "#%%\n"
    }
   }
  },
  {
   "cell_type": "raw",
   "id": "8bb84998",
   "metadata": {},
   "source": [
    "We are now able to correct the bad lines in the dataframe"
   ]
  },
  {
   "cell_type": "code",
   "execution_count": 84,
   "id": "2af7091e",
   "metadata": {
    "scrolled": true
   },
   "outputs": [
    {
     "data": {
      "text/plain": "              ISBN                                          bookTitle  \\\n209550  078946697X  DK Readers: Creating the X-Men, How It All Beg...   \n220744  2070426769              Peuple du ciel, suivi de 'Les Bergers   \n221691  0789466953  DK Readers: Creating the X-Men, How Comic Book...   \n\n                              bookAuthor yearOfPublication          publisher  \n209550               Michael Teitelbaum\"              2000  DK Publishing Inc  \n220744  Jean-Marie Gustave Le ClÃ?Â©zio\"              2003          Gallimard  \n221691                    James Buckley\"              2000  DK Publishing Inc  ",
      "text/html": "<div>\n<style scoped>\n    .dataframe tbody tr th:only-of-type {\n        vertical-align: middle;\n    }\n\n    .dataframe tbody tr th {\n        vertical-align: top;\n    }\n\n    .dataframe thead th {\n        text-align: right;\n    }\n</style>\n<table border=\"1\" class=\"dataframe\">\n  <thead>\n    <tr style=\"text-align: right;\">\n      <th></th>\n      <th>ISBN</th>\n      <th>bookTitle</th>\n      <th>bookAuthor</th>\n      <th>yearOfPublication</th>\n      <th>publisher</th>\n    </tr>\n  </thead>\n  <tbody>\n    <tr>\n      <th>209550</th>\n      <td>078946697X</td>\n      <td>DK Readers: Creating the X-Men, How It All Beg...</td>\n      <td>Michael Teitelbaum\"</td>\n      <td>2000</td>\n      <td>DK Publishing Inc</td>\n    </tr>\n    <tr>\n      <th>220744</th>\n      <td>2070426769</td>\n      <td>Peuple du ciel, suivi de 'Les Bergers</td>\n      <td>Jean-Marie Gustave Le ClÃ?Â©zio\"</td>\n      <td>2003</td>\n      <td>Gallimard</td>\n    </tr>\n    <tr>\n      <th>221691</th>\n      <td>0789466953</td>\n      <td>DK Readers: Creating the X-Men, How Comic Book...</td>\n      <td>James Buckley\"</td>\n      <td>2000</td>\n      <td>DK Publishing Inc</td>\n    </tr>\n  </tbody>\n</table>\n</div>"
     },
     "execution_count": 84,
     "metadata": {},
     "output_type": "execute_result"
    }
   ],
   "source": [
    "lst=[]\n",
    "for i in bad_rows.index:\n",
    "    lst.append(i)\n",
    "    books.loc[i,\"publisher\"]=bad_rows.loc[i,\"yearOfPublication\"]\n",
    "    books.loc[i,\"yearOfPublication\"]=bad_rows.loc[i,\"bookAuthor\"]\n",
    "    books.loc[i,\"bookAuthor\"]=bad_rows.loc[i,\"realBookAuthor\"]\n",
    "    books.loc[i,\"bookTitle\"]=bad_rows.loc[i,\"realBookTitle\"]\n",
    "books.loc[lst]"
   ]
  },
  {
   "cell_type": "code",
   "execution_count": 85,
   "id": "46707876",
   "metadata": {},
   "outputs": [],
   "source": [
    "books[\"bookAuthor\"]=books[\"bookAuthor\"].str.replace('\"',\"'\")"
   ]
  },
  {
   "cell_type": "code",
   "execution_count": 86,
   "id": "62bc4e89",
   "metadata": {
    "scrolled": true
   },
   "outputs": [
    {
     "name": "stderr",
     "output_type": "stream",
     "text": [
      "C:\\Users\\BAAMARA\\AppData\\Local\\Temp\\ipykernel_32\\2171518004.py:1: FutureWarning: The default value of regex will change from True to False in a future version.\n",
      "  books[\"bookAuthor\"]=books[\"bookAuthor\"].str.replace(r'\\\\',\"\")\n"
     ]
    }
   ],
   "source": [
    "books[\"bookAuthor\"]=books[\"bookAuthor\"].str.replace(r'\\\\',\"\")"
   ]
  },
  {
   "cell_type": "markdown",
   "id": "f0c7ce83",
   "metadata": {},
   "source": [
    "Some rows has quote or double quote at the end of bookAuthor or bookTitle that doesn't close another quote. We remove them."
   ]
  },
  {
   "cell_type": "code",
   "execution_count": 87,
   "id": "6a36131c",
   "metadata": {},
   "outputs": [
    {
     "data": {
      "text/plain": "              ISBN                                          bookTitle  \\\n98288   0416652700  The Pooh cook book: inspired by \\Winnie-the-Po...   \n112280  1853114103                                    Lord Have Mercy   \n117995  0786881364  A Simple Program : A Contemporary Translation ...   \n209550  078946697X  DK Readers: Creating the X-Men, How It All Beg...   \n220744  2070426769              Peuple du ciel, suivi de 'Les Bergers   \n221691  0789466953  DK Readers: Creating the X-Men, How Comic Book...   \n223761  1895455243           Finger Food (Company's Coming Pint Size)   \n245727  0961364920  A Timeless Place: Lett's Set a Spell at the Co...   \n\n                              bookAuthor yearOfPublication  \\\n98288                    ;Katie Stewart'              1971   \n112280                            'Ron''              2001   \n117995                            J 'j''              1996   \n209550               Michael Teitelbaum'              2000   \n220744  Jean-Marie Gustave Le ClÃ?Â©zio'              2003   \n221691                    James Buckley'              2000   \n223761                        Jean Pare'              1993   \n245727         Sandra 'Sandy Lynn' Lett'              2001   \n\n                          publisher  \n98288                       Methuen  \n112280             Canterbury Press  \n117995                     Hyperion  \n209550            DK Publishing Inc  \n220744                    Gallimard  \n221691            DK Publishing Inc  \n223761  Company's Coming Publishing  \n245727              Transformations  ",
      "text/html": "<div>\n<style scoped>\n    .dataframe tbody tr th:only-of-type {\n        vertical-align: middle;\n    }\n\n    .dataframe tbody tr th {\n        vertical-align: top;\n    }\n\n    .dataframe thead th {\n        text-align: right;\n    }\n</style>\n<table border=\"1\" class=\"dataframe\">\n  <thead>\n    <tr style=\"text-align: right;\">\n      <th></th>\n      <th>ISBN</th>\n      <th>bookTitle</th>\n      <th>bookAuthor</th>\n      <th>yearOfPublication</th>\n      <th>publisher</th>\n    </tr>\n  </thead>\n  <tbody>\n    <tr>\n      <th>98288</th>\n      <td>0416652700</td>\n      <td>The Pooh cook book: inspired by \\Winnie-the-Po...</td>\n      <td>;Katie Stewart'</td>\n      <td>1971</td>\n      <td>Methuen</td>\n    </tr>\n    <tr>\n      <th>112280</th>\n      <td>1853114103</td>\n      <td>Lord Have Mercy</td>\n      <td>'Ron''</td>\n      <td>2001</td>\n      <td>Canterbury Press</td>\n    </tr>\n    <tr>\n      <th>117995</th>\n      <td>0786881364</td>\n      <td>A Simple Program : A Contemporary Translation ...</td>\n      <td>J 'j''</td>\n      <td>1996</td>\n      <td>Hyperion</td>\n    </tr>\n    <tr>\n      <th>209550</th>\n      <td>078946697X</td>\n      <td>DK Readers: Creating the X-Men, How It All Beg...</td>\n      <td>Michael Teitelbaum'</td>\n      <td>2000</td>\n      <td>DK Publishing Inc</td>\n    </tr>\n    <tr>\n      <th>220744</th>\n      <td>2070426769</td>\n      <td>Peuple du ciel, suivi de 'Les Bergers</td>\n      <td>Jean-Marie Gustave Le ClÃ?Â©zio'</td>\n      <td>2003</td>\n      <td>Gallimard</td>\n    </tr>\n    <tr>\n      <th>221691</th>\n      <td>0789466953</td>\n      <td>DK Readers: Creating the X-Men, How Comic Book...</td>\n      <td>James Buckley'</td>\n      <td>2000</td>\n      <td>DK Publishing Inc</td>\n    </tr>\n    <tr>\n      <th>223761</th>\n      <td>1895455243</td>\n      <td>Finger Food (Company's Coming Pint Size)</td>\n      <td>Jean Pare'</td>\n      <td>1993</td>\n      <td>Company's Coming Publishing</td>\n    </tr>\n    <tr>\n      <th>245727</th>\n      <td>0961364920</td>\n      <td>A Timeless Place: Lett's Set a Spell at the Co...</td>\n      <td>Sandra 'Sandy Lynn' Lett'</td>\n      <td>2001</td>\n      <td>Transformations</td>\n    </tr>\n  </tbody>\n</table>\n</div>"
     },
     "execution_count": 87,
     "metadata": {},
     "output_type": "execute_result"
    }
   ],
   "source": [
    "books[books[\"bookAuthor\"].str.endswith(\"'\",na=False) & books[\"bookAuthor\"].str.count(\"'\")%2==1]"
   ]
  },
  {
   "cell_type": "code",
   "execution_count": 88,
   "id": "7b87763f",
   "metadata": {},
   "outputs": [],
   "source": [
    "condition=books[\"bookAuthor\"].str.endswith(\"'\",na=False) & books[\"bookAuthor\"].str.count(\"'\")%2==1\n",
    "books.loc[condition,\"bookAuthor\"]=books.loc[condition,\"bookAuthor\"].str.rstrip(\"'\")"
   ]
  },
  {
   "cell_type": "code",
   "execution_count": 89,
   "id": "2e311502",
   "metadata": {},
   "outputs": [
    {
     "data": {
      "text/plain": "Empty DataFrame\nColumns: [ISBN, bookTitle, bookAuthor, yearOfPublication, publisher]\nIndex: []",
      "text/html": "<div>\n<style scoped>\n    .dataframe tbody tr th:only-of-type {\n        vertical-align: middle;\n    }\n\n    .dataframe tbody tr th {\n        vertical-align: top;\n    }\n\n    .dataframe thead th {\n        text-align: right;\n    }\n</style>\n<table border=\"1\" class=\"dataframe\">\n  <thead>\n    <tr style=\"text-align: right;\">\n      <th></th>\n      <th>ISBN</th>\n      <th>bookTitle</th>\n      <th>bookAuthor</th>\n      <th>yearOfPublication</th>\n      <th>publisher</th>\n    </tr>\n  </thead>\n  <tbody>\n  </tbody>\n</table>\n</div>"
     },
     "execution_count": 89,
     "metadata": {},
     "output_type": "execute_result"
    }
   ],
   "source": [
    "books[books[\"bookAuthor\"].str.endswith('\"',na=False) & books[\"bookAuthor\"].str.count('\"')%2==1]"
   ]
  },
  {
   "cell_type": "code",
   "execution_count": 90,
   "id": "3d197506",
   "metadata": {},
   "outputs": [
    {
     "data": {
      "text/plain": "9345      The Way You Wear Your Hat: Frank Sinatra and t...\n11311                             All over but the Shoutin'\n18282                                           Dottor Niu'\n24169                                You Gotta Keep Dancin'\n43366                             All over but the Shoutin'\n57506                             All Over but the Shoutin'\n63728     The Way You Wear Your Hat: Frank Sinatra and t...\n70940                                      Love Everlastin'\n92036     Schrodinger's Cat Trilogy : 'The Universe Next...\n103821                                          Everlastin'\n113807    Kevin Myers: From the Irish Times Column 'an I...\n117516        Charles Darwin's 'The Life of Erasmus Darwin'\n120239                                      Cause cÃ?Â©leb'\n133467                                    Like I Was Sayin'\n140451                    Garri Potter i filosofskii kamen'\n155287                                       Freaky Dancin'\n182933                            All Over but the Shoutin'\n193709                                 Frog Went A-Courtin'\n218943                                  California Dreamin'\n226542                                Un tour sur le bolid'\n229685                                          Bon Marche'\n230888    Angels Dance & Angels Die : The Tragic Romance...\n232657                                 Frog Went A-Courtin'\n237664                                   The Art of Mackin'\n251554                                 Frog Went a-Courtin'\nName: bookTitle, dtype: object"
     },
     "execution_count": 90,
     "metadata": {},
     "output_type": "execute_result"
    }
   ],
   "source": [
    "condition=books[\"bookTitle\"].str.endswith(\"'\",na=False) & books[\"bookTitle\"].str.count(\"'\")%2==1\n",
    "books.loc[condition,\"bookTitle\"]"
   ]
  },
  {
   "cell_type": "code",
   "execution_count": 91,
   "id": "74cbc164",
   "metadata": {},
   "outputs": [],
   "source": [
    "books.loc[condition,\"bookTitle\"]=books.loc[condition,\"bookTitle\"].str.rstrip(\"'\")"
   ]
  },
  {
   "cell_type": "code",
   "execution_count": 92,
   "id": "a24adff6",
   "metadata": {},
   "outputs": [
    {
     "data": {
      "text/plain": "9345      The Way You Wear Your Hat: Frank Sinatra and t...\n11311                              All over but the Shoutin\n18282                                            Dottor Niu\n24169                                 You Gotta Keep Dancin\n43366                              All over but the Shoutin\n57506                              All Over but the Shoutin\n63728     The Way You Wear Your Hat: Frank Sinatra and t...\n70940                                       Love Everlastin\n92036     Schrodinger's Cat Trilogy : 'The Universe Next...\n103821                                           Everlastin\n113807    Kevin Myers: From the Irish Times Column 'an I...\n117516         Charles Darwin's 'The Life of Erasmus Darwin\n120239                                       Cause cÃ?Â©leb\n133467                                     Like I Was Sayin\n140451                     Garri Potter i filosofskii kamen\n155287                                        Freaky Dancin\n182933                             All Over but the Shoutin\n193709                                  Frog Went A-Courtin\n218943                                   California Dreamin\n226542                                 Un tour sur le bolid\n229685                                           Bon Marche\n230888    Angels Dance & Angels Die : The Tragic Romance...\n232657                                  Frog Went A-Courtin\n237664                                    The Art of Mackin\n251554                                  Frog Went a-Courtin\nName: bookTitle, dtype: object"
     },
     "execution_count": 92,
     "metadata": {},
     "output_type": "execute_result"
    }
   ],
   "source": [
    "books.loc[condition,\"bookTitle\"]"
   ]
  },
  {
   "cell_type": "code",
   "execution_count": 93,
   "id": "364fa75a",
   "metadata": {},
   "outputs": [],
   "source": [
    "condition=books[\"bookTitle\"].str.endswith('\"',na=False) & books[\"bookTitle\"].str.count('\"')%2==1\n",
    "books.loc[condition,\"bookTitle\"]=books.loc[condition,\"bookTitle\"].str.rstrip('\"')"
   ]
  },
  {
   "cell_type": "code",
   "execution_count": 94,
   "id": "01f88747",
   "metadata": {
    "scrolled": true
   },
   "outputs": [
    {
     "name": "stderr",
     "output_type": "stream",
     "text": [
      "C:\\Users\\BAAMARA\\AppData\\Local\\Temp\\ipykernel_32\\2450684123.py:1: FutureWarning: The default value of regex will change from True to False in a future version.\n",
      "  books[\"bookTitle\"]=books[\"bookTitle\"].str.replace(r'\\\\',\"\")\n"
     ]
    }
   ],
   "source": [
    "books[\"bookTitle\"]=books[\"bookTitle\"].str.replace(r'\\\\',\"\")"
   ]
  },
  {
   "cell_type": "markdown",
   "id": "f8f0e35e",
   "metadata": {},
   "source": [
    "We now remove the possible double double quote and double simple quote at the end of the titles:"
   ]
  },
  {
   "cell_type": "code",
   "execution_count": 95,
   "id": "670bc0d1",
   "metadata": {},
   "outputs": [],
   "source": [
    "books[\"bookTitle\"]=books[\"bookTitle\"].str.rstrip('\"\"')\n",
    "books[\"bookTitle\"]=books[\"bookTitle\"].str.rstrip(\"''\")"
   ]
  },
  {
   "cell_type": "markdown",
   "id": "94952f20",
   "metadata": {},
   "source": [
    "We transform the year in integer to better handle them"
   ]
  },
  {
   "cell_type": "code",
   "execution_count": 96,
   "id": "1f8111f3",
   "metadata": {},
   "outputs": [],
   "source": [
    "books.yearOfPublication=books.yearOfPublication.astype(\"int\")"
   ]
  },
  {
   "cell_type": "code",
   "execution_count": 97,
   "id": "938ea389",
   "metadata": {
    "scrolled": true
   },
   "outputs": [
    {
     "name": "stdout",
     "output_type": "stream",
     "text": [
      "[0, 1376, 1378, 1806, 1897, 1900, 1901, 1902, 1904, 1906, 1908, 1909, 1910, 1911, 1914, 1917, 1919, 1920, 1921, 1922, 1923, 1924, 1925, 1926, 1927, 1928, 1929, 1930, 1931, 1932, 1933, 1934, 1935, 1936, 1937, 1938, 1939, 1940, 1941, 1942, 1943, 1944, 1945, 1946, 1947, 1948, 1949, 1950, 1951, 1952, 1953, 1954, 1955, 1956, 1957, 1958, 1959, 1960, 1961, 1962, 1963, 1964, 1965, 1966, 1967, 1968, 1969, 1970, 1971, 1972, 1973, 1974, 1975, 1976, 1977, 1978, 1979, 1980, 1981, 1982, 1983, 1984, 1985, 1986, 1987, 1988, 1989, 1990, 1991, 1992, 1993, 1994, 1995, 1996, 1997, 1998, 1999, 2000, 2001, 2002, 2003, 2004, 2005, 2006, 2008, 2010, 2011, 2012, 2020, 2021, 2024, 2026, 2030, 2037, 2038, 2050]\n"
     ]
    }
   ],
   "source": [
    "print(sorted(books.yearOfPublication.unique()))"
   ]
  },
  {
   "cell_type": "markdown",
   "id": "c7ae4bb4",
   "metadata": {},
   "source": [
    "We observe a discontinuity in the year of publication after 2008. Also the dataset was made in summer 2004 so all books after 2005 are probably placeholder or data error. We replace the year of publication of this books with the mean after setting the value at nan so this rows doesn't affect the statistics of our data. The books of 2005 have good probability to be accurate as a planned publication to one year is common so we don't modify them but this can be discuss."
   ]
  },
  {
   "cell_type": "code",
   "execution_count": 98,
   "id": "3bf2a936",
   "metadata": {},
   "outputs": [],
   "source": [
    "books.loc[(books.yearOfPublication==0)|(books.yearOfPublication>2005) ,'yearOfPublication' ] = np.nan\n",
    "books.yearOfPublication = books.yearOfPublication.fillna(round(books.yearOfPublication.mean()))"
   ]
  },
  {
   "cell_type": "markdown",
   "id": "dfaeb5ef",
   "metadata": {},
   "source": [
    "We check the presence of null value in the dataFrame"
   ]
  },
  {
   "cell_type": "code",
   "execution_count": 99,
   "id": "320c5745",
   "metadata": {},
   "outputs": [
    {
     "data": {
      "text/plain": "Empty DataFrame\nColumns: [ISBN, bookTitle, bookAuthor, yearOfPublication, publisher]\nIndex: []",
      "text/html": "<div>\n<style scoped>\n    .dataframe tbody tr th:only-of-type {\n        vertical-align: middle;\n    }\n\n    .dataframe tbody tr th {\n        vertical-align: top;\n    }\n\n    .dataframe thead th {\n        text-align: right;\n    }\n</style>\n<table border=\"1\" class=\"dataframe\">\n  <thead>\n    <tr style=\"text-align: right;\">\n      <th></th>\n      <th>ISBN</th>\n      <th>bookTitle</th>\n      <th>bookAuthor</th>\n      <th>yearOfPublication</th>\n      <th>publisher</th>\n    </tr>\n  </thead>\n  <tbody>\n  </tbody>\n</table>\n</div>"
     },
     "execution_count": 99,
     "metadata": {},
     "output_type": "execute_result"
    }
   ],
   "source": [
    "books[books.yearOfPublication.isna()]"
   ]
  },
  {
   "cell_type": "code",
   "execution_count": 100,
   "id": "1ab1287b",
   "metadata": {},
   "outputs": [
    {
     "data": {
      "text/plain": "Empty DataFrame\nColumns: [ISBN, bookTitle, bookAuthor, yearOfPublication, publisher]\nIndex: []",
      "text/html": "<div>\n<style scoped>\n    .dataframe tbody tr th:only-of-type {\n        vertical-align: middle;\n    }\n\n    .dataframe tbody tr th {\n        vertical-align: top;\n    }\n\n    .dataframe thead th {\n        text-align: right;\n    }\n</style>\n<table border=\"1\" class=\"dataframe\">\n  <thead>\n    <tr style=\"text-align: right;\">\n      <th></th>\n      <th>ISBN</th>\n      <th>bookTitle</th>\n      <th>bookAuthor</th>\n      <th>yearOfPublication</th>\n      <th>publisher</th>\n    </tr>\n  </thead>\n  <tbody>\n  </tbody>\n</table>\n</div>"
     },
     "execution_count": 100,
     "metadata": {},
     "output_type": "execute_result"
    }
   ],
   "source": [
    "books[books.bookTitle.isna()]"
   ]
  },
  {
   "cell_type": "code",
   "execution_count": 101,
   "id": "a84d4f76",
   "metadata": {},
   "outputs": [
    {
     "data": {
      "text/plain": "              ISBN                                          bookTitle  \\\n187700  9627982032  The Credit Suisse Guide to Managing Your Perso...   \n\n       bookAuthor  yearOfPublication                       publisher  \n187700        NaN             1995.0  Edinburgh Financial Publishing  ",
      "text/html": "<div>\n<style scoped>\n    .dataframe tbody tr th:only-of-type {\n        vertical-align: middle;\n    }\n\n    .dataframe tbody tr th {\n        vertical-align: top;\n    }\n\n    .dataframe thead th {\n        text-align: right;\n    }\n</style>\n<table border=\"1\" class=\"dataframe\">\n  <thead>\n    <tr style=\"text-align: right;\">\n      <th></th>\n      <th>ISBN</th>\n      <th>bookTitle</th>\n      <th>bookAuthor</th>\n      <th>yearOfPublication</th>\n      <th>publisher</th>\n    </tr>\n  </thead>\n  <tbody>\n    <tr>\n      <th>187700</th>\n      <td>9627982032</td>\n      <td>The Credit Suisse Guide to Managing Your Perso...</td>\n      <td>NaN</td>\n      <td>1995.0</td>\n      <td>Edinburgh Financial Publishing</td>\n    </tr>\n  </tbody>\n</table>\n</div>"
     },
     "execution_count": 101,
     "metadata": {},
     "output_type": "execute_result"
    }
   ],
   "source": [
    "books[books.bookAuthor.isna()]"
   ]
  },
  {
   "cell_type": "markdown",
   "id": "4fe298c5",
   "metadata": {},
   "source": [
    "Based oon the book title and the publisher, the author of the book seems to be Sophie Pyott, Larissa Anne Downe or both as the data are not the same on google books and goodread also the ISBN is not the same and for the same ISBN the bookAuthor is really NaN. In doubt we choose to not update this row. "
   ]
  },
  {
   "cell_type": "code",
   "execution_count": 102,
   "id": "4e582c44",
   "metadata": {},
   "outputs": [
    {
     "data": {
      "text/plain": "              ISBN        bookTitle       bookAuthor  yearOfPublication  \\\n128896  193169656X      Tyrant Moon  Elaine Corvidae             2002.0   \n129043  1931696993  Finders Keepers  Linnea Sinclair             2001.0   \n\n       publisher  \n128896       NaN  \n129043       NaN  ",
      "text/html": "<div>\n<style scoped>\n    .dataframe tbody tr th:only-of-type {\n        vertical-align: middle;\n    }\n\n    .dataframe tbody tr th {\n        vertical-align: top;\n    }\n\n    .dataframe thead th {\n        text-align: right;\n    }\n</style>\n<table border=\"1\" class=\"dataframe\">\n  <thead>\n    <tr style=\"text-align: right;\">\n      <th></th>\n      <th>ISBN</th>\n      <th>bookTitle</th>\n      <th>bookAuthor</th>\n      <th>yearOfPublication</th>\n      <th>publisher</th>\n    </tr>\n  </thead>\n  <tbody>\n    <tr>\n      <th>128896</th>\n      <td>193169656X</td>\n      <td>Tyrant Moon</td>\n      <td>Elaine Corvidae</td>\n      <td>2002.0</td>\n      <td>NaN</td>\n    </tr>\n    <tr>\n      <th>129043</th>\n      <td>1931696993</td>\n      <td>Finders Keepers</td>\n      <td>Linnea Sinclair</td>\n      <td>2001.0</td>\n      <td>NaN</td>\n    </tr>\n  </tbody>\n</table>\n</div>"
     },
     "execution_count": 102,
     "metadata": {},
     "output_type": "execute_result"
    }
   ],
   "source": [
    "books[books.publisher.isna()]"
   ]
  },
  {
   "cell_type": "markdown",
   "id": "fa682008",
   "metadata": {},
   "source": [
    "The publisher can be find by searching the ISBN on online database (isbnsearch.org, amazon.com or google books) and filter by the year of publication. We find that this two books were publisher by\n",
    "Novelbooks Incorporated. We update this two rows with the found value."
   ]
  },
  {
   "cell_type": "code",
   "execution_count": 103,
   "id": "38e67456",
   "metadata": {},
   "outputs": [],
   "source": [
    "books.loc[books.ISBN=='193169656X','publisher']='Novelbooks Incorporated'\n",
    "books.loc[books.ISBN=='1931696993','publisher']='Novelbooks Incorporated'"
   ]
  },
  {
   "cell_type": "code",
   "execution_count": 104,
   "id": "fb79802b",
   "metadata": {
    "scrolled": true
   },
   "outputs": [
    {
     "data": {
      "text/plain": "Empty DataFrame\nColumns: [ISBN, bookTitle, bookAuthor, yearOfPublication, publisher]\nIndex: []",
      "text/html": "<div>\n<style scoped>\n    .dataframe tbody tr th:only-of-type {\n        vertical-align: middle;\n    }\n\n    .dataframe tbody tr th {\n        vertical-align: top;\n    }\n\n    .dataframe thead th {\n        text-align: right;\n    }\n</style>\n<table border=\"1\" class=\"dataframe\">\n  <thead>\n    <tr style=\"text-align: right;\">\n      <th></th>\n      <th>ISBN</th>\n      <th>bookTitle</th>\n      <th>bookAuthor</th>\n      <th>yearOfPublication</th>\n      <th>publisher</th>\n    </tr>\n  </thead>\n  <tbody>\n  </tbody>\n</table>\n</div>"
     },
     "execution_count": 104,
     "metadata": {},
     "output_type": "execute_result"
    }
   ],
   "source": [
    "books[books.ISBN.isna()]"
   ]
  },
  {
   "cell_type": "code",
   "execution_count": 105,
   "id": "2b852eba",
   "metadata": {},
   "outputs": [
    {
     "data": {
      "text/plain": "'Richard Bruce Wright'"
     },
     "execution_count": 105,
     "metadata": {},
     "output_type": "execute_result"
    }
   ],
   "source": [
    "books.iloc[1,2]"
   ]
  },
  {
   "cell_type": "markdown",
   "id": "fabea24b",
   "metadata": {},
   "source": [
    "Only the columns `bookAuthor` and `publisher` have very few null value. We decide to keep them as the information in these rows can still be useful. We always could delete them later."
   ]
  },
  {
   "cell_type": "markdown",
   "id": "8b66c44e",
   "metadata": {},
   "source": [
    "#### Booking Id"
   ]
  },
  {
   "cell_type": "markdown",
   "id": "036dc425",
   "metadata": {},
   "source": [
    "We finally add a column `bookID` to assign an unique id to a book based on the book title and the book author since each separate edition of a book will have different ISBN."
   ]
  },
  {
   "cell_type": "markdown",
   "id": "72bcdc9a",
   "metadata": {},
   "source": [
    "We can see bellow that each `ISBN` value is unique in dataset but the book title are not."
   ]
  },
  {
   "cell_type": "code",
   "execution_count": 106,
   "id": "a2f7d6b2",
   "metadata": {
    "pycharm": {
     "name": "#%%\n"
    }
   },
   "outputs": [
    {
     "data": {
      "text/plain": "Empty DataFrame\nColumns: [ISBN, bookTitle, bookAuthor, yearOfPublication, publisher]\nIndex: []",
      "text/html": "<div>\n<style scoped>\n    .dataframe tbody tr th:only-of-type {\n        vertical-align: middle;\n    }\n\n    .dataframe tbody tr th {\n        vertical-align: top;\n    }\n\n    .dataframe thead th {\n        text-align: right;\n    }\n</style>\n<table border=\"1\" class=\"dataframe\">\n  <thead>\n    <tr style=\"text-align: right;\">\n      <th></th>\n      <th>ISBN</th>\n      <th>bookTitle</th>\n      <th>bookAuthor</th>\n      <th>yearOfPublication</th>\n      <th>publisher</th>\n    </tr>\n  </thead>\n  <tbody>\n  </tbody>\n</table>\n</div>"
     },
     "execution_count": 106,
     "metadata": {},
     "output_type": "execute_result"
    }
   ],
   "source": [
    "books[books.ISBN.duplicated(keep=False)]"
   ]
  },
  {
   "cell_type": "code",
   "execution_count": 107,
   "id": "b816f502",
   "metadata": {
    "pycharm": {
     "name": "#%%\n"
    }
   },
   "outputs": [
    {
     "data": {
      "text/plain": "              ISBN                                          bookTitle  \\\n267818  0140236465      Wuthering Heights According to Spike Milligan   \n44915   0718137876      Wuthering Heights According to Spike Milligan   \n75640   1565920465                          !%@ (A Nutshell handbook)   \n156349  1565920317                          !%@ (A Nutshell handbook)   \n140624  0792276833  'A Hell of a Place to Lose a Cow': An American...   \n...            ...                                                ...   \n193468  0316089702  dot.bomb: My Days and Nights at an Internet Go...   \n193447  0316507490  dot.bomb: My Days and Nights at an Internet Go...   \n164122  158621182X  dot.bomb: My Days and Nights at an Internet Go...   \n185474  3492218091              Ã?Â?berleben in der WÃ?Â¼ste Danakil.   \n197396  3492233376              Ã?Â?berleben in der WÃ?Â¼ste Danakil.   \n\n                bookAuthor  yearOfPublication                publisher  \n267818      Spike Milligan             1995.0        Penguin Books Ltd  \n44915       Spike Milligan             1994.0           Michael Joseph  \n75640        Donnalyn Frey             1994.0                 O'Reilly  \n156349       Donnalyn Frey             1993.0                 O'Reilly  \n140624         Tim Brookes             2000.0      National Geographic  \n...                    ...                ...                      ...  \n193468        J. David Kuo             2002.0           Back Bay Books  \n193447        J. David Kuo             2001.0            Little, Brown  \n164122        J. David Kuo             2001.0  Time Warner Audio Major  \n185474  RÃ?Â¼diger Nehberg             1994.0                    Piper  \n197396  RÃ?Â¼diger Nehberg             2001.0                    Piper  \n\n[49142 rows x 5 columns]",
      "text/html": "<div>\n<style scoped>\n    .dataframe tbody tr th:only-of-type {\n        vertical-align: middle;\n    }\n\n    .dataframe tbody tr th {\n        vertical-align: top;\n    }\n\n    .dataframe thead th {\n        text-align: right;\n    }\n</style>\n<table border=\"1\" class=\"dataframe\">\n  <thead>\n    <tr style=\"text-align: right;\">\n      <th></th>\n      <th>ISBN</th>\n      <th>bookTitle</th>\n      <th>bookAuthor</th>\n      <th>yearOfPublication</th>\n      <th>publisher</th>\n    </tr>\n  </thead>\n  <tbody>\n    <tr>\n      <th>267818</th>\n      <td>0140236465</td>\n      <td>Wuthering Heights According to Spike Milligan</td>\n      <td>Spike Milligan</td>\n      <td>1995.0</td>\n      <td>Penguin Books Ltd</td>\n    </tr>\n    <tr>\n      <th>44915</th>\n      <td>0718137876</td>\n      <td>Wuthering Heights According to Spike Milligan</td>\n      <td>Spike Milligan</td>\n      <td>1994.0</td>\n      <td>Michael Joseph</td>\n    </tr>\n    <tr>\n      <th>75640</th>\n      <td>1565920465</td>\n      <td>!%@ (A Nutshell handbook)</td>\n      <td>Donnalyn Frey</td>\n      <td>1994.0</td>\n      <td>O'Reilly</td>\n    </tr>\n    <tr>\n      <th>156349</th>\n      <td>1565920317</td>\n      <td>!%@ (A Nutshell handbook)</td>\n      <td>Donnalyn Frey</td>\n      <td>1993.0</td>\n      <td>O'Reilly</td>\n    </tr>\n    <tr>\n      <th>140624</th>\n      <td>0792276833</td>\n      <td>'A Hell of a Place to Lose a Cow': An American...</td>\n      <td>Tim Brookes</td>\n      <td>2000.0</td>\n      <td>National Geographic</td>\n    </tr>\n    <tr>\n      <th>...</th>\n      <td>...</td>\n      <td>...</td>\n      <td>...</td>\n      <td>...</td>\n      <td>...</td>\n    </tr>\n    <tr>\n      <th>193468</th>\n      <td>0316089702</td>\n      <td>dot.bomb: My Days and Nights at an Internet Go...</td>\n      <td>J. David Kuo</td>\n      <td>2002.0</td>\n      <td>Back Bay Books</td>\n    </tr>\n    <tr>\n      <th>193447</th>\n      <td>0316507490</td>\n      <td>dot.bomb: My Days and Nights at an Internet Go...</td>\n      <td>J. David Kuo</td>\n      <td>2001.0</td>\n      <td>Little, Brown</td>\n    </tr>\n    <tr>\n      <th>164122</th>\n      <td>158621182X</td>\n      <td>dot.bomb: My Days and Nights at an Internet Go...</td>\n      <td>J. David Kuo</td>\n      <td>2001.0</td>\n      <td>Time Warner Audio Major</td>\n    </tr>\n    <tr>\n      <th>185474</th>\n      <td>3492218091</td>\n      <td>Ã?Â?berleben in der WÃ?Â¼ste Danakil.</td>\n      <td>RÃ?Â¼diger Nehberg</td>\n      <td>1994.0</td>\n      <td>Piper</td>\n    </tr>\n    <tr>\n      <th>197396</th>\n      <td>3492233376</td>\n      <td>Ã?Â?berleben in der WÃ?Â¼ste Danakil.</td>\n      <td>RÃ?Â¼diger Nehberg</td>\n      <td>2001.0</td>\n      <td>Piper</td>\n    </tr>\n  </tbody>\n</table>\n<p>49142 rows × 5 columns</p>\n</div>"
     },
     "execution_count": 107,
     "metadata": {},
     "output_type": "execute_result"
    }
   ],
   "source": [
    "books[books.bookTitle.duplicated(keep=False)].sort_values('bookTitle')"
   ]
  },
  {
   "cell_type": "code",
   "execution_count": 108,
   "id": "fa253468",
   "metadata": {},
   "outputs": [
    {
     "data": {
      "text/plain": "Empty DataFrame\nColumns: [ISBN, bookTitle, bookAuthor, yearOfPublication, publisher, bookId]\nIndex: []",
      "text/html": "<div>\n<style scoped>\n    .dataframe tbody tr th:only-of-type {\n        vertical-align: middle;\n    }\n\n    .dataframe tbody tr th {\n        vertical-align: top;\n    }\n\n    .dataframe thead th {\n        text-align: right;\n    }\n</style>\n<table border=\"1\" class=\"dataframe\">\n  <thead>\n    <tr style=\"text-align: right;\">\n      <th></th>\n      <th>ISBN</th>\n      <th>bookTitle</th>\n      <th>bookAuthor</th>\n      <th>yearOfPublication</th>\n      <th>publisher</th>\n      <th>bookId</th>\n    </tr>\n  </thead>\n  <tbody>\n  </tbody>\n</table>\n</div>"
     },
     "execution_count": 108,
     "metadata": {},
     "output_type": "execute_result"
    }
   ],
   "source": [
    "books[\"bookId\"]=-1\n",
    "dict_book_id={}\n",
    "book_id=[0]\n",
    "def inc():\n",
    "    book_id[0]+=1\n",
    "    return book_id[0]\n",
    "def add_id_book(df,i):\n",
    "    c=(str(df.iloc[i,1]).casefold(),str(df.iloc[i,2]).casefold())\n",
    "    prev=dict_book_id.get(c,-2)\n",
    "    if prev==-2:\n",
    "        df.iloc[i,5]=inc()\n",
    "        dict_book_id[c]=book_id[0]\n",
    "    else:\n",
    "        df.iloc[i,5]=prev  \n",
    "[add_id_book(books,i) for i in range(books.shape[0])]\n",
    "books.loc[books.bookId==-1].sort_values(\"bookTitle\")"
   ]
  },
  {
   "cell_type": "code",
   "execution_count": 109,
   "id": "191393e8",
   "metadata": {},
   "outputs": [
    {
     "data": {
      "text/plain": "         ISBN                                          bookTitle  \\\n0  0195153448                                Classical Mythology   \n1  0002005018                                       Clara Callan   \n2  0060973129                               Decision in Normandy   \n3  0374157065  Flu: The Story of the Great Influenza Pandemic...   \n4  0393045218                             The Mummies of Urumchi   \n\n             bookAuthor  yearOfPublication                publisher  bookId  \n0    Mark P. O. Morford             2002.0  Oxford University Press       1  \n1  Richard Bruce Wright             2001.0    HarperFlamingo Canada       2  \n2          Carlo D'Este             1991.0          HarperPerennial       3  \n3      Gina Bari Kolata             1999.0     Farrar Straus Giroux       4  \n4       E. J. W. Barber             1999.0   W. W. Norton & Company       5  ",
      "text/html": "<div>\n<style scoped>\n    .dataframe tbody tr th:only-of-type {\n        vertical-align: middle;\n    }\n\n    .dataframe tbody tr th {\n        vertical-align: top;\n    }\n\n    .dataframe thead th {\n        text-align: right;\n    }\n</style>\n<table border=\"1\" class=\"dataframe\">\n  <thead>\n    <tr style=\"text-align: right;\">\n      <th></th>\n      <th>ISBN</th>\n      <th>bookTitle</th>\n      <th>bookAuthor</th>\n      <th>yearOfPublication</th>\n      <th>publisher</th>\n      <th>bookId</th>\n    </tr>\n  </thead>\n  <tbody>\n    <tr>\n      <th>0</th>\n      <td>0195153448</td>\n      <td>Classical Mythology</td>\n      <td>Mark P. O. Morford</td>\n      <td>2002.0</td>\n      <td>Oxford University Press</td>\n      <td>1</td>\n    </tr>\n    <tr>\n      <th>1</th>\n      <td>0002005018</td>\n      <td>Clara Callan</td>\n      <td>Richard Bruce Wright</td>\n      <td>2001.0</td>\n      <td>HarperFlamingo Canada</td>\n      <td>2</td>\n    </tr>\n    <tr>\n      <th>2</th>\n      <td>0060973129</td>\n      <td>Decision in Normandy</td>\n      <td>Carlo D'Este</td>\n      <td>1991.0</td>\n      <td>HarperPerennial</td>\n      <td>3</td>\n    </tr>\n    <tr>\n      <th>3</th>\n      <td>0374157065</td>\n      <td>Flu: The Story of the Great Influenza Pandemic...</td>\n      <td>Gina Bari Kolata</td>\n      <td>1999.0</td>\n      <td>Farrar Straus Giroux</td>\n      <td>4</td>\n    </tr>\n    <tr>\n      <th>4</th>\n      <td>0393045218</td>\n      <td>The Mummies of Urumchi</td>\n      <td>E. J. W. Barber</td>\n      <td>1999.0</td>\n      <td>W. W. Norton &amp; Company</td>\n      <td>5</td>\n    </tr>\n  </tbody>\n</table>\n</div>"
     },
     "execution_count": 109,
     "metadata": {},
     "output_type": "execute_result"
    }
   ],
   "source": [
    "books.head()"
   ]
  },
  {
   "cell_type": "markdown",
   "id": "e9fd224b",
   "metadata": {},
   "source": [
    "We will need the cleaned book dataset for later so we export it in the csv format."
   ]
  },
  {
   "cell_type": "code",
   "execution_count": 110,
   "id": "406ac693",
   "metadata": {},
   "outputs": [],
   "source": [
    "books.to_csv('dataset/cleaned_books.csv',sep=';',index=False)"
   ]
  },
  {
   "cell_type": "markdown",
   "id": "0201c2a1",
   "metadata": {},
   "source": [
    "### Cleaning of the users dataset"
   ]
  },
  {
   "cell_type": "code",
   "execution_count": 111,
   "id": "d1776560",
   "metadata": {},
   "outputs": [],
   "source": [
    "users = pd.read_csv(files_path+users_csv, sep=';', on_bad_lines='warn', encoding=\"latin-1\",\n",
    "                   dtype={'Age':'Int32'})\n",
    "users.columns = ['userID', 'Location', 'Age']"
   ]
  },
  {
   "cell_type": "code",
   "execution_count": 112,
   "id": "9249734f",
   "metadata": {},
   "outputs": [
    {
     "data": {
      "text/plain": "1255"
     },
     "execution_count": 112,
     "metadata": {},
     "output_type": "execute_result"
    }
   ],
   "source": [
    "users[ (users.Age>99) | (users.Age<5) ].count()[0] \n",
    "#118 is the age of the oldest person nowadays, 5 is the regular age where children learn to read"
   ]
  },
  {
   "cell_type": "markdown",
   "id": "fdff6a8e",
   "metadata": {},
   "source": [
    "They are 960 users which have incoherent or irrelevant age. We update this values with nan value"
   ]
  },
  {
   "cell_type": "code",
   "execution_count": 113,
   "id": "6d9dbee4",
   "metadata": {},
   "outputs": [],
   "source": [
    "users.loc[ (users.Age>99) | (users.Age<5), 'Age'] = np.nan"
   ]
  },
  {
   "cell_type": "markdown",
   "id": "fc6c6eaa",
   "metadata": {},
   "source": [
    "We update the nan age value with the average age."
   ]
  },
  {
   "cell_type": "code",
   "execution_count": 114,
   "id": "4a7eef3a",
   "metadata": {},
   "outputs": [],
   "source": [
    "users.Age = users.Age.fillna(round(users.Age.mean()))"
   ]
  },
  {
   "cell_type": "code",
   "execution_count": 115,
   "id": "f6621483",
   "metadata": {},
   "outputs": [
    {
     "data": {
      "text/plain": "userID       int64\nLocation    object\nAge          Int32\ndtype: object"
     },
     "execution_count": 115,
     "metadata": {},
     "output_type": "execute_result"
    }
   ],
   "source": [
    "users.dtypes"
   ]
  },
  {
   "cell_type": "markdown",
   "id": "9a76a6f6",
   "metadata": {},
   "source": [
    "The column types are good so we change nothing."
   ]
  },
  {
   "cell_type": "code",
   "execution_count": 116,
   "id": "3085d6c4",
   "metadata": {},
   "outputs": [
    {
     "data": {
      "text/plain": "        userID                         Location  Age\n267        268          århus, \\n/a\\\", denmark\"   35\n1102      1103  kuala lumpur, \\n/a\\\", malaysia\"   35\n1272      1273       valladolid, \\n/a\\\", spain\"   27\n1305      1306                 lisbon, \\n/a\\\",\"   41\n1694      1695  london, \\n/a\\\", united kingdom\"   69\n...        ...                              ...  ...\n277747  277748           rimini, \\n/a\\\", italy\"   35\n277859  277860        barcelona, \\n/a\\\", spain\"   25\n278137  278138           oviedo, \\n/a\\\", spain\"   49\n278342  278343           växjö, \\n/a\\\", sweden\"   35\n278498  278499    brno, \\n/a\\\", czech republic\"   35\n\n[681 rows x 3 columns]",
      "text/html": "<div>\n<style scoped>\n    .dataframe tbody tr th:only-of-type {\n        vertical-align: middle;\n    }\n\n    .dataframe tbody tr th {\n        vertical-align: top;\n    }\n\n    .dataframe thead th {\n        text-align: right;\n    }\n</style>\n<table border=\"1\" class=\"dataframe\">\n  <thead>\n    <tr style=\"text-align: right;\">\n      <th></th>\n      <th>userID</th>\n      <th>Location</th>\n      <th>Age</th>\n    </tr>\n  </thead>\n  <tbody>\n    <tr>\n      <th>267</th>\n      <td>268</td>\n      <td>århus, \\n/a\\\", denmark\"</td>\n      <td>35</td>\n    </tr>\n    <tr>\n      <th>1102</th>\n      <td>1103</td>\n      <td>kuala lumpur, \\n/a\\\", malaysia\"</td>\n      <td>35</td>\n    </tr>\n    <tr>\n      <th>1272</th>\n      <td>1273</td>\n      <td>valladolid, \\n/a\\\", spain\"</td>\n      <td>27</td>\n    </tr>\n    <tr>\n      <th>1305</th>\n      <td>1306</td>\n      <td>lisbon, \\n/a\\\",\"</td>\n      <td>41</td>\n    </tr>\n    <tr>\n      <th>1694</th>\n      <td>1695</td>\n      <td>london, \\n/a\\\", united kingdom\"</td>\n      <td>69</td>\n    </tr>\n    <tr>\n      <th>...</th>\n      <td>...</td>\n      <td>...</td>\n      <td>...</td>\n    </tr>\n    <tr>\n      <th>277747</th>\n      <td>277748</td>\n      <td>rimini, \\n/a\\\", italy\"</td>\n      <td>35</td>\n    </tr>\n    <tr>\n      <th>277859</th>\n      <td>277860</td>\n      <td>barcelona, \\n/a\\\", spain\"</td>\n      <td>25</td>\n    </tr>\n    <tr>\n      <th>278137</th>\n      <td>278138</td>\n      <td>oviedo, \\n/a\\\", spain\"</td>\n      <td>49</td>\n    </tr>\n    <tr>\n      <th>278342</th>\n      <td>278343</td>\n      <td>växjö, \\n/a\\\", sweden\"</td>\n      <td>35</td>\n    </tr>\n    <tr>\n      <th>278498</th>\n      <td>278499</td>\n      <td>brno, \\n/a\\\", czech republic\"</td>\n      <td>35</td>\n    </tr>\n  </tbody>\n</table>\n<p>681 rows × 3 columns</p>\n</div>"
     },
     "execution_count": 116,
     "metadata": {},
     "output_type": "execute_result"
    }
   ],
   "source": [
    "users[users.Location.str.contains('\"')]"
   ]
  },
  {
   "cell_type": "markdown",
   "id": "47dd1a55",
   "metadata": {},
   "source": [
    "We can do the same operation done for books"
   ]
  },
  {
   "cell_type": "code",
   "execution_count": 117,
   "id": "be33c416",
   "metadata": {},
   "outputs": [
    {
     "name": "stderr",
     "output_type": "stream",
     "text": [
      "C:\\Users\\BAAMARA\\AppData\\Local\\Temp\\ipykernel_32\\363032854.py:2: FutureWarning: The default value of regex will change from True to False in a future version.\n",
      "  users[\"Location\"]=users[\"Location\"].str.replace(r'\\\\',\"\")\n"
     ]
    }
   ],
   "source": [
    "users[\"Location\"]=users[\"Location\"].str.replace('\"',\"'\")\n",
    "users[\"Location\"]=users[\"Location\"].str.replace(r'\\\\',\"\")"
   ]
  },
  {
   "cell_type": "code",
   "execution_count": 118,
   "id": "1ad195e9",
   "metadata": {},
   "outputs": [],
   "source": [
    "users[\"Location\"]=users[\"Location\"].str.replace(\"n/a'\",\"n/a\")\n",
    "users[\"Location\"]=users[\"Location\"].str.replace(\"'n/a\",\"n/a\")"
   ]
  },
  {
   "cell_type": "code",
   "execution_count": 119,
   "id": "600da588",
   "metadata": {},
   "outputs": [],
   "source": [
    "condition=users[\"Location\"].str.endswith(\"'\",na=False) & users[\"Location\"].str.count(\"'\")%2==1\n",
    "users.loc[condition,\"Location\"]=users.loc[condition,\"Location\"].str.rstrip(\"'\")"
   ]
  },
  {
   "cell_type": "code",
   "execution_count": 120,
   "id": "9ced6dec",
   "metadata": {},
   "outputs": [
    {
     "data": {
      "text/plain": "        userID                                       Location  Age\n244250  244251            alexandria'., 'alexandria'., egypt'   44\n80169    80170                   athens, ano liosia', greece'   16\n10276    10277                      düsseldorf, na', germany'   35\n158161  158162                         holbæk, n/j', denmark'   35\n119745  119746                          kartoum, n/s', sudan'   28\n69341    69342                         kocaeli, na'., turkey'   35\n197600  197601                      ljubljana, na', slovenia'   35\n72128    72129                     lleida, catalunya', spain'   21\n72592    72593  lujan de cuyo, mendoza/argentina', argentina'   25\n252668  252669               manchester, na', united kingdom'   35\n243467  243468           santa maria da feira, na', portugal'   35\n11976    11977                      sesimbra, n/s', portugal'   37\n219010  219011                            tehran, a/n', iran'   19\n92529    92530                            tehran, g/d', iran'   19\n87233    87234                            tehran, i/t', iran'   15\n234724  234725                            tehran, n/'a, iran'   23",
      "text/html": "<div>\n<style scoped>\n    .dataframe tbody tr th:only-of-type {\n        vertical-align: middle;\n    }\n\n    .dataframe tbody tr th {\n        vertical-align: top;\n    }\n\n    .dataframe thead th {\n        text-align: right;\n    }\n</style>\n<table border=\"1\" class=\"dataframe\">\n  <thead>\n    <tr style=\"text-align: right;\">\n      <th></th>\n      <th>userID</th>\n      <th>Location</th>\n      <th>Age</th>\n    </tr>\n  </thead>\n  <tbody>\n    <tr>\n      <th>244250</th>\n      <td>244251</td>\n      <td>alexandria'., 'alexandria'., egypt'</td>\n      <td>44</td>\n    </tr>\n    <tr>\n      <th>80169</th>\n      <td>80170</td>\n      <td>athens, ano liosia', greece'</td>\n      <td>16</td>\n    </tr>\n    <tr>\n      <th>10276</th>\n      <td>10277</td>\n      <td>düsseldorf, na', germany'</td>\n      <td>35</td>\n    </tr>\n    <tr>\n      <th>158161</th>\n      <td>158162</td>\n      <td>holbæk, n/j', denmark'</td>\n      <td>35</td>\n    </tr>\n    <tr>\n      <th>119745</th>\n      <td>119746</td>\n      <td>kartoum, n/s', sudan'</td>\n      <td>28</td>\n    </tr>\n    <tr>\n      <th>69341</th>\n      <td>69342</td>\n      <td>kocaeli, na'., turkey'</td>\n      <td>35</td>\n    </tr>\n    <tr>\n      <th>197600</th>\n      <td>197601</td>\n      <td>ljubljana, na', slovenia'</td>\n      <td>35</td>\n    </tr>\n    <tr>\n      <th>72128</th>\n      <td>72129</td>\n      <td>lleida, catalunya', spain'</td>\n      <td>21</td>\n    </tr>\n    <tr>\n      <th>72592</th>\n      <td>72593</td>\n      <td>lujan de cuyo, mendoza/argentina', argentina'</td>\n      <td>25</td>\n    </tr>\n    <tr>\n      <th>252668</th>\n      <td>252669</td>\n      <td>manchester, na', united kingdom'</td>\n      <td>35</td>\n    </tr>\n    <tr>\n      <th>243467</th>\n      <td>243468</td>\n      <td>santa maria da feira, na', portugal'</td>\n      <td>35</td>\n    </tr>\n    <tr>\n      <th>11976</th>\n      <td>11977</td>\n      <td>sesimbra, n/s', portugal'</td>\n      <td>37</td>\n    </tr>\n    <tr>\n      <th>219010</th>\n      <td>219011</td>\n      <td>tehran, a/n', iran'</td>\n      <td>19</td>\n    </tr>\n    <tr>\n      <th>92529</th>\n      <td>92530</td>\n      <td>tehran, g/d', iran'</td>\n      <td>19</td>\n    </tr>\n    <tr>\n      <th>87233</th>\n      <td>87234</td>\n      <td>tehran, i/t', iran'</td>\n      <td>15</td>\n    </tr>\n    <tr>\n      <th>234724</th>\n      <td>234725</td>\n      <td>tehran, n/'a, iran'</td>\n      <td>23</td>\n    </tr>\n  </tbody>\n</table>\n</div>"
     },
     "execution_count": 120,
     "metadata": {},
     "output_type": "execute_result"
    }
   ],
   "source": [
    "users[users.Location.str.contains(\"'\")].sort_values(by=\"Location\")"
   ]
  },
  {
   "cell_type": "markdown",
   "id": "ec477e97",
   "metadata": {},
   "source": [
    "We observe we can remove all the remaining quote in the column Location as all are irrelevant."
   ]
  },
  {
   "cell_type": "code",
   "execution_count": 121,
   "id": "cf49c9da",
   "metadata": {},
   "outputs": [],
   "source": [
    "users[\"Location\"]=users[\"Location\"].str.replace(\"'\",\"\")"
   ]
  },
  {
   "cell_type": "code",
   "execution_count": 122,
   "id": "5b3dc583",
   "metadata": {},
   "outputs": [
    {
     "data": {
      "text/plain": "Empty DataFrame\nColumns: [userID, Location, Age]\nIndex: []",
      "text/html": "<div>\n<style scoped>\n    .dataframe tbody tr th:only-of-type {\n        vertical-align: middle;\n    }\n\n    .dataframe tbody tr th {\n        vertical-align: top;\n    }\n\n    .dataframe thead th {\n        text-align: right;\n    }\n</style>\n<table border=\"1\" class=\"dataframe\">\n  <thead>\n    <tr style=\"text-align: right;\">\n      <th></th>\n      <th>userID</th>\n      <th>Location</th>\n      <th>Age</th>\n    </tr>\n  </thead>\n  <tbody>\n  </tbody>\n</table>\n</div>"
     },
     "execution_count": 122,
     "metadata": {},
     "output_type": "execute_result"
    }
   ],
   "source": [
    "users[users.Location.str.contains(\"'\")]"
   ]
  },
  {
   "cell_type": "markdown",
   "id": "1d24418f",
   "metadata": {},
   "source": [
    "Now that the bad characters are cleaned, we can divide the column Location in 3 new columns 'city', state and country."
   ]
  },
  {
   "cell_type": "code",
   "execution_count": 123,
   "id": "406edfda",
   "metadata": {},
   "outputs": [
    {
     "data": {
      "text/plain": "        userID                                           Location  Age\n435        436            ivanhoe, melbourne, victoria, australia   53\n814        815       davis bay, sechelt, british columbia, canada   43\n840        841                   saint charles, mo, missouri, usa   24\n956        957            santiago, santiago,metropolitana, chile   35\n1459      1460                mansoura, dakahlia, mansoura, egypt   34\n...        ...                                                ...  ...\n277717  277718          colorado springs, co 80901, colorado, usa   62\n277753  277754                           north bend,, oregon, usa   60\n278028  278029  mansfield, nottinghamshire, england, united ki...   31\n278214  278215                   nelson, motueka, nz, new zealand   28\n278808  278809          norfolk, england, england, united kingdom   49\n\n[1508 rows x 3 columns]",
      "text/html": "<div>\n<style scoped>\n    .dataframe tbody tr th:only-of-type {\n        vertical-align: middle;\n    }\n\n    .dataframe tbody tr th {\n        vertical-align: top;\n    }\n\n    .dataframe thead th {\n        text-align: right;\n    }\n</style>\n<table border=\"1\" class=\"dataframe\">\n  <thead>\n    <tr style=\"text-align: right;\">\n      <th></th>\n      <th>userID</th>\n      <th>Location</th>\n      <th>Age</th>\n    </tr>\n  </thead>\n  <tbody>\n    <tr>\n      <th>435</th>\n      <td>436</td>\n      <td>ivanhoe, melbourne, victoria, australia</td>\n      <td>53</td>\n    </tr>\n    <tr>\n      <th>814</th>\n      <td>815</td>\n      <td>davis bay, sechelt, british columbia, canada</td>\n      <td>43</td>\n    </tr>\n    <tr>\n      <th>840</th>\n      <td>841</td>\n      <td>saint charles, mo, missouri, usa</td>\n      <td>24</td>\n    </tr>\n    <tr>\n      <th>956</th>\n      <td>957</td>\n      <td>santiago, santiago,metropolitana, chile</td>\n      <td>35</td>\n    </tr>\n    <tr>\n      <th>1459</th>\n      <td>1460</td>\n      <td>mansoura, dakahlia, mansoura, egypt</td>\n      <td>34</td>\n    </tr>\n    <tr>\n      <th>...</th>\n      <td>...</td>\n      <td>...</td>\n      <td>...</td>\n    </tr>\n    <tr>\n      <th>277717</th>\n      <td>277718</td>\n      <td>colorado springs, co 80901, colorado, usa</td>\n      <td>62</td>\n    </tr>\n    <tr>\n      <th>277753</th>\n      <td>277754</td>\n      <td>north bend,, oregon, usa</td>\n      <td>60</td>\n    </tr>\n    <tr>\n      <th>278028</th>\n      <td>278029</td>\n      <td>mansfield, nottinghamshire, england, united ki...</td>\n      <td>31</td>\n    </tr>\n    <tr>\n      <th>278214</th>\n      <td>278215</td>\n      <td>nelson, motueka, nz, new zealand</td>\n      <td>28</td>\n    </tr>\n    <tr>\n      <th>278808</th>\n      <td>278809</td>\n      <td>norfolk, england, england, united kingdom</td>\n      <td>49</td>\n    </tr>\n  </tbody>\n</table>\n<p>1508 rows × 3 columns</p>\n</div>"
     },
     "execution_count": 123,
     "metadata": {},
     "output_type": "execute_result"
    }
   ],
   "source": [
    "users.loc[users[\"Location\"].str.count(\",\")>2]"
   ]
  },
  {
   "cell_type": "markdown",
   "id": "3175cd72",
   "metadata": {},
   "source": [
    "1508 rows have incorrect location. The error is the city part. A regular split cant' be done if we dont what loose information, particularly the country."
   ]
  },
  {
   "cell_type": "code",
   "execution_count": 124,
   "id": "e01c654a",
   "metadata": {},
   "outputs": [],
   "source": [
    "users[\"city\"]=users.apply(lambda row: row[\"Location\"].split(',')[0],axis=1)\n",
    "users[\"state\"]=users.apply(lambda row: \n",
    "                           row[\"Location\"][row[\"Location\"].find(','):row[\"Location\"].rfind(',')],axis=1)\n",
    "users[\"country\"]=users.apply(lambda row: row[\"Location\"].split(',')[-1],axis=1)"
   ]
  },
  {
   "cell_type": "code",
   "execution_count": 125,
   "id": "0f6d9892",
   "metadata": {},
   "outputs": [
    {
     "data": {
      "text/plain": "        userID                                           Location  Age  \\\n435        436            ivanhoe, melbourne, victoria, australia   53   \n814        815       davis bay, sechelt, british columbia, canada   43   \n840        841                   saint charles, mo, missouri, usa   24   \n956        957            santiago, santiago,metropolitana, chile   35   \n1459      1460                mansoura, dakahlia, mansoura, egypt   34   \n...        ...                                                ...  ...   \n277717  277718          colorado springs, co 80901, colorado, usa   62   \n277753  277754                           north bend,, oregon, usa   60   \n278028  278029  mansfield, nottinghamshire, england, united ki...   31   \n278214  278215                   nelson, motueka, nz, new zealand   28   \n278808  278809          norfolk, england, england, united kingdom   49   \n\n                    city                      state         country  \n435              ivanhoe        melbourne, victoria       australia  \n814            davis bay  sechelt, british columbia          canada  \n840        saint charles               mo, missouri             usa  \n956             santiago     santiago,metropolitana           chile  \n1459            mansoura         dakahlia, mansoura           egypt  \n...                  ...                        ...             ...  \n277717  colorado springs         co 80901, colorado             usa  \n277753        north bend                   , oregon             usa  \n278028         mansfield   nottinghamshire, england  united kingdom  \n278214            nelson                motueka, nz     new zealand  \n278808           norfolk           england, england  united kingdom  \n\n[1506 rows x 6 columns]",
      "text/html": "<div>\n<style scoped>\n    .dataframe tbody tr th:only-of-type {\n        vertical-align: middle;\n    }\n\n    .dataframe tbody tr th {\n        vertical-align: top;\n    }\n\n    .dataframe thead th {\n        text-align: right;\n    }\n</style>\n<table border=\"1\" class=\"dataframe\">\n  <thead>\n    <tr style=\"text-align: right;\">\n      <th></th>\n      <th>userID</th>\n      <th>Location</th>\n      <th>Age</th>\n      <th>city</th>\n      <th>state</th>\n      <th>country</th>\n    </tr>\n  </thead>\n  <tbody>\n    <tr>\n      <th>435</th>\n      <td>436</td>\n      <td>ivanhoe, melbourne, victoria, australia</td>\n      <td>53</td>\n      <td>ivanhoe</td>\n      <td>melbourne, victoria</td>\n      <td>australia</td>\n    </tr>\n    <tr>\n      <th>814</th>\n      <td>815</td>\n      <td>davis bay, sechelt, british columbia, canada</td>\n      <td>43</td>\n      <td>davis bay</td>\n      <td>sechelt, british columbia</td>\n      <td>canada</td>\n    </tr>\n    <tr>\n      <th>840</th>\n      <td>841</td>\n      <td>saint charles, mo, missouri, usa</td>\n      <td>24</td>\n      <td>saint charles</td>\n      <td>mo, missouri</td>\n      <td>usa</td>\n    </tr>\n    <tr>\n      <th>956</th>\n      <td>957</td>\n      <td>santiago, santiago,metropolitana, chile</td>\n      <td>35</td>\n      <td>santiago</td>\n      <td>santiago,metropolitana</td>\n      <td>chile</td>\n    </tr>\n    <tr>\n      <th>1459</th>\n      <td>1460</td>\n      <td>mansoura, dakahlia, mansoura, egypt</td>\n      <td>34</td>\n      <td>mansoura</td>\n      <td>dakahlia, mansoura</td>\n      <td>egypt</td>\n    </tr>\n    <tr>\n      <th>...</th>\n      <td>...</td>\n      <td>...</td>\n      <td>...</td>\n      <td>...</td>\n      <td>...</td>\n      <td>...</td>\n    </tr>\n    <tr>\n      <th>277717</th>\n      <td>277718</td>\n      <td>colorado springs, co 80901, colorado, usa</td>\n      <td>62</td>\n      <td>colorado springs</td>\n      <td>co 80901, colorado</td>\n      <td>usa</td>\n    </tr>\n    <tr>\n      <th>277753</th>\n      <td>277754</td>\n      <td>north bend,, oregon, usa</td>\n      <td>60</td>\n      <td>north bend</td>\n      <td>, oregon</td>\n      <td>usa</td>\n    </tr>\n    <tr>\n      <th>278028</th>\n      <td>278029</td>\n      <td>mansfield, nottinghamshire, england, united ki...</td>\n      <td>31</td>\n      <td>mansfield</td>\n      <td>nottinghamshire, england</td>\n      <td>united kingdom</td>\n    </tr>\n    <tr>\n      <th>278214</th>\n      <td>278215</td>\n      <td>nelson, motueka, nz, new zealand</td>\n      <td>28</td>\n      <td>nelson</td>\n      <td>motueka, nz</td>\n      <td>new zealand</td>\n    </tr>\n    <tr>\n      <th>278808</th>\n      <td>278809</td>\n      <td>norfolk, england, england, united kingdom</td>\n      <td>49</td>\n      <td>norfolk</td>\n      <td>england, england</td>\n      <td>united kingdom</td>\n    </tr>\n  </tbody>\n</table>\n<p>1506 rows × 6 columns</p>\n</div>"
     },
     "execution_count": 125,
     "metadata": {},
     "output_type": "execute_result"
    }
   ],
   "source": [
    "users[\"state\"]=users[\"state\"].str.removeprefix(\", \")\n",
    "users[\"state\"]=users[\"state\"].str.removeprefix(\",\")\n",
    "users[\"state\"]=users[\"state\"].str.removeprefix(\" \")\n",
    "users[\"city\"]=users[\"city\"].str.strip(\" \")\n",
    "users[\"country\"]=users[\"country\"].str.strip(\" \")\n",
    "users.loc[users[\"state\"].str.contains(\",\")]"
   ]
  },
  {
   "cell_type": "markdown",
   "id": "9661d683",
   "metadata": {},
   "source": [
    "The state column is ambigus as some countries have specific mapping so the above output is acceptable"
   ]
  },
  {
   "cell_type": "code",
   "execution_count": 126,
   "id": "3c0da6bd",
   "metadata": {},
   "outputs": [
    {
     "data": {
      "text/plain": "   userID  Age         city            state         country\n0       1   35          nyc         new york             usa\n1       2   18     stockton       california             usa\n2       3   35       moscow  yukon territory          russia\n3       4   17        porto         v.n.gaia        portugal\n4       5   35  farnborough            hants  united kingdom",
      "text/html": "<div>\n<style scoped>\n    .dataframe tbody tr th:only-of-type {\n        vertical-align: middle;\n    }\n\n    .dataframe tbody tr th {\n        vertical-align: top;\n    }\n\n    .dataframe thead th {\n        text-align: right;\n    }\n</style>\n<table border=\"1\" class=\"dataframe\">\n  <thead>\n    <tr style=\"text-align: right;\">\n      <th></th>\n      <th>userID</th>\n      <th>Age</th>\n      <th>city</th>\n      <th>state</th>\n      <th>country</th>\n    </tr>\n  </thead>\n  <tbody>\n    <tr>\n      <th>0</th>\n      <td>1</td>\n      <td>35</td>\n      <td>nyc</td>\n      <td>new york</td>\n      <td>usa</td>\n    </tr>\n    <tr>\n      <th>1</th>\n      <td>2</td>\n      <td>18</td>\n      <td>stockton</td>\n      <td>california</td>\n      <td>usa</td>\n    </tr>\n    <tr>\n      <th>2</th>\n      <td>3</td>\n      <td>35</td>\n      <td>moscow</td>\n      <td>yukon territory</td>\n      <td>russia</td>\n    </tr>\n    <tr>\n      <th>3</th>\n      <td>4</td>\n      <td>17</td>\n      <td>porto</td>\n      <td>v.n.gaia</td>\n      <td>portugal</td>\n    </tr>\n    <tr>\n      <th>4</th>\n      <td>5</td>\n      <td>35</td>\n      <td>farnborough</td>\n      <td>hants</td>\n      <td>united kingdom</td>\n    </tr>\n  </tbody>\n</table>\n</div>"
     },
     "execution_count": 126,
     "metadata": {},
     "output_type": "execute_result"
    }
   ],
   "source": [
    "users=users.drop(\"Location\", axis=1)\n",
    "users.head()"
   ]
  },
  {
   "cell_type": "code",
   "execution_count": 127,
   "id": "b72a041e",
   "metadata": {},
   "outputs": [],
   "source": [
    "condition=users.state.str.startswith(',')\n",
    "users.loc[condition,\"state\"]=users.loc[condition,\"state\"].str.lstrip(',')\n",
    "condition=users.state.str.startswith(' ')\n",
    "users.loc[condition,\"state\"]=users.loc[condition,\"state\"].str.lstrip()"
   ]
  },
  {
   "cell_type": "code",
   "execution_count": 128,
   "id": "76b61fdb",
   "metadata": {},
   "outputs": [
    {
     "data": {
      "text/plain": "Empty DataFrame\nColumns: [userID, Age, city, state, country]\nIndex: []",
      "text/html": "<div>\n<style scoped>\n    .dataframe tbody tr th:only-of-type {\n        vertical-align: middle;\n    }\n\n    .dataframe tbody tr th {\n        vertical-align: top;\n    }\n\n    .dataframe thead th {\n        text-align: right;\n    }\n</style>\n<table border=\"1\" class=\"dataframe\">\n  <thead>\n    <tr style=\"text-align: right;\">\n      <th></th>\n      <th>userID</th>\n      <th>Age</th>\n      <th>city</th>\n      <th>state</th>\n      <th>country</th>\n    </tr>\n  </thead>\n  <tbody>\n  </tbody>\n</table>\n</div>"
     },
     "execution_count": 128,
     "metadata": {},
     "output_type": "execute_result"
    }
   ],
   "source": [
    "condition=users.state.str.startswith(' ')\n",
    "users[condition]"
   ]
  },
  {
   "cell_type": "markdown",
   "id": "fef7cab7",
   "metadata": {},
   "source": [
    "The users datafram is now clean, we apply the same process to the ratings dataset"
   ]
  },
  {
   "cell_type": "code",
   "execution_count": 129,
   "id": "bdc7c4a9",
   "metadata": {},
   "outputs": [],
   "source": [
    "users.to_csv('dataset/cleaned_users.csv',sep=';',index=False)"
   ]
  },
  {
   "cell_type": "markdown",
   "id": "afdd1132",
   "metadata": {},
   "source": [
    "### Cleaning the ratings dataset"
   ]
  },
  {
   "cell_type": "code",
   "execution_count": 130,
   "id": "e54897c3",
   "metadata": {},
   "outputs": [],
   "source": [
    "ratings = pd.read_csv(files_path+ratings_csv, sep=';',  on_bad_lines='warn', encoding=\"latin-1\")\n",
    "ratings.columns = ['userID', 'ISBN', 'bookRating']"
   ]
  },
  {
   "cell_type": "code",
   "execution_count": 131,
   "id": "40b572f5",
   "metadata": {},
   "outputs": [
    {
     "data": {
      "text/plain": "   userID        ISBN  bookRating\n0  276725  034545104X           0\n1  276726  0155061224           5\n2  276727  0446520802           0\n3  276729  052165615X           3\n4  276729  0521795028           6",
      "text/html": "<div>\n<style scoped>\n    .dataframe tbody tr th:only-of-type {\n        vertical-align: middle;\n    }\n\n    .dataframe tbody tr th {\n        vertical-align: top;\n    }\n\n    .dataframe thead th {\n        text-align: right;\n    }\n</style>\n<table border=\"1\" class=\"dataframe\">\n  <thead>\n    <tr style=\"text-align: right;\">\n      <th></th>\n      <th>userID</th>\n      <th>ISBN</th>\n      <th>bookRating</th>\n    </tr>\n  </thead>\n  <tbody>\n    <tr>\n      <th>0</th>\n      <td>276725</td>\n      <td>034545104X</td>\n      <td>0</td>\n    </tr>\n    <tr>\n      <th>1</th>\n      <td>276726</td>\n      <td>0155061224</td>\n      <td>5</td>\n    </tr>\n    <tr>\n      <th>2</th>\n      <td>276727</td>\n      <td>0446520802</td>\n      <td>0</td>\n    </tr>\n    <tr>\n      <th>3</th>\n      <td>276729</td>\n      <td>052165615X</td>\n      <td>3</td>\n    </tr>\n    <tr>\n      <th>4</th>\n      <td>276729</td>\n      <td>0521795028</td>\n      <td>6</td>\n    </tr>\n  </tbody>\n</table>\n</div>"
     },
     "execution_count": 131,
     "metadata": {},
     "output_type": "execute_result"
    }
   ],
   "source": [
    "ratings.head()"
   ]
  },
  {
   "cell_type": "code",
   "execution_count": 132,
   "id": "54cb5036",
   "metadata": {},
   "outputs": [
    {
     "data": {
      "text/plain": "array([ 0,  5,  3,  6,  8,  7, 10,  9,  4,  1,  2], dtype=int64)"
     },
     "execution_count": 132,
     "metadata": {},
     "output_type": "execute_result"
    }
   ],
   "source": [
    "ratings.bookRating.unique()"
   ]
  },
  {
   "cell_type": "markdown",
   "id": "4467b1cd",
   "metadata": {},
   "source": [
    "The bookRating column has value between 0 and 10 as expected so nothing to do with this column"
   ]
  },
  {
   "cell_type": "code",
   "execution_count": 133,
   "id": "98de70a1",
   "metadata": {},
   "outputs": [
    {
     "name": "stdout",
     "output_type": "stream",
     "text": [
      "all good for userID\n",
      "all good for ISBN\n",
      "all good for bookRating\n"
     ]
    },
    {
     "data": {
      "text/plain": "[None, None, None]"
     },
     "execution_count": 133,
     "metadata": {},
     "output_type": "execute_result"
    }
   ],
   "source": [
    "[print(\"userID as na value\") if ratings[ratings[x].isna()].shape[0]!=0 else print(f\"all good for {x}\")  for x in ratings.columns] "
   ]
  },
  {
   "cell_type": "markdown",
   "id": "e29d01c4",
   "metadata": {},
   "source": [
    "None of the columns have na value"
   ]
  },
  {
   "cell_type": "code",
   "execution_count": 134,
   "id": "ef4b41c7",
   "metadata": {},
   "outputs": [
    {
     "data": {
      "text/plain": "userID         int64\nISBN          object\nbookRating     int64\ndtype: object"
     },
     "execution_count": 134,
     "metadata": {},
     "output_type": "execute_result"
    }
   ],
   "source": [
    "ratings.dtypes"
   ]
  },
  {
   "cell_type": "markdown",
   "id": "fa41d244",
   "metadata": {},
   "source": [
    "All userID are integers so they aren't format problem for this feature"
   ]
  },
  {
   "cell_type": "code",
   "execution_count": 135,
   "id": "9a22887a",
   "metadata": {},
   "outputs": [
    {
     "data": {
      "text/plain": "         userID            ISBN  bookRating\n21687      4377    \\0210000010\"           8\n45327     11676  \\0432534220\\\"\"           6\n45328     11676  \\2842053052\\\"\"           7\n183260    39821  \\0432534220\\\"\"           6\n210091    48821  \\8804501367\\\"\"           0\n531936   128375  \\2842053052\\\"\"           0\n663235   160867    \\0094749809\"           7\n824820   199138  \\0432534220\\\"\"           8\n877347   212647  \\8804520159\\\"\"           7\n941677   227945  \\9170010242\\\"\"          10\n1134130  272392    \\0679751521\"           8\n1145174  275414  \\8887517452\\\"\"          10\n1145175  275414  \\8888809228\\\"\"           5\n1148549  276331    \\0432534220\"           9",
      "text/html": "<div>\n<style scoped>\n    .dataframe tbody tr th:only-of-type {\n        vertical-align: middle;\n    }\n\n    .dataframe tbody tr th {\n        vertical-align: top;\n    }\n\n    .dataframe thead th {\n        text-align: right;\n    }\n</style>\n<table border=\"1\" class=\"dataframe\">\n  <thead>\n    <tr style=\"text-align: right;\">\n      <th></th>\n      <th>userID</th>\n      <th>ISBN</th>\n      <th>bookRating</th>\n    </tr>\n  </thead>\n  <tbody>\n    <tr>\n      <th>21687</th>\n      <td>4377</td>\n      <td>\\0210000010\"</td>\n      <td>8</td>\n    </tr>\n    <tr>\n      <th>45327</th>\n      <td>11676</td>\n      <td>\\0432534220\\\"\"</td>\n      <td>6</td>\n    </tr>\n    <tr>\n      <th>45328</th>\n      <td>11676</td>\n      <td>\\2842053052\\\"\"</td>\n      <td>7</td>\n    </tr>\n    <tr>\n      <th>183260</th>\n      <td>39821</td>\n      <td>\\0432534220\\\"\"</td>\n      <td>6</td>\n    </tr>\n    <tr>\n      <th>210091</th>\n      <td>48821</td>\n      <td>\\8804501367\\\"\"</td>\n      <td>0</td>\n    </tr>\n    <tr>\n      <th>531936</th>\n      <td>128375</td>\n      <td>\\2842053052\\\"\"</td>\n      <td>0</td>\n    </tr>\n    <tr>\n      <th>663235</th>\n      <td>160867</td>\n      <td>\\0094749809\"</td>\n      <td>7</td>\n    </tr>\n    <tr>\n      <th>824820</th>\n      <td>199138</td>\n      <td>\\0432534220\\\"\"</td>\n      <td>8</td>\n    </tr>\n    <tr>\n      <th>877347</th>\n      <td>212647</td>\n      <td>\\8804520159\\\"\"</td>\n      <td>7</td>\n    </tr>\n    <tr>\n      <th>941677</th>\n      <td>227945</td>\n      <td>\\9170010242\\\"\"</td>\n      <td>10</td>\n    </tr>\n    <tr>\n      <th>1134130</th>\n      <td>272392</td>\n      <td>\\0679751521\"</td>\n      <td>8</td>\n    </tr>\n    <tr>\n      <th>1145174</th>\n      <td>275414</td>\n      <td>\\8887517452\\\"\"</td>\n      <td>10</td>\n    </tr>\n    <tr>\n      <th>1145175</th>\n      <td>275414</td>\n      <td>\\8888809228\\\"\"</td>\n      <td>5</td>\n    </tr>\n    <tr>\n      <th>1148549</th>\n      <td>276331</td>\n      <td>\\0432534220\"</td>\n      <td>9</td>\n    </tr>\n  </tbody>\n</table>\n</div>"
     },
     "execution_count": 135,
     "metadata": {},
     "output_type": "execute_result"
    }
   ],
   "source": [
    "condition=(ratings[\"ISBN\"].str.contains('\"') ) | (ratings[\"ISBN\"].str.contains(r'\\\\') ) \n",
    "bad_isbn=ratings.loc[condition]\n",
    "bad_isbn"
   ]
  },
  {
   "cell_type": "markdown",
   "id": "b3926ace",
   "metadata": {},
   "source": [
    "As for the previous dataset, we observe error of quoting on some observation. They still represente accurate data hence we choose to clean them in order to keep them."
   ]
  },
  {
   "cell_type": "code",
   "execution_count": 136,
   "id": "8ea03701",
   "metadata": {},
   "outputs": [
    {
     "name": "stderr",
     "output_type": "stream",
     "text": [
      "C:\\Users\\BAAMARA\\AppData\\Local\\Temp\\ipykernel_32\\366634450.py:1: SettingWithCopyWarning: \n",
      "A value is trying to be set on a copy of a slice from a DataFrame.\n",
      "Try using .loc[row_indexer,col_indexer] = value instead\n",
      "\n",
      "See the caveats in the documentation: https://pandas.pydata.org/pandas-docs/stable/user_guide/indexing.html#returning-a-view-versus-a-copy\n",
      "  bad_isbn[\"ISBN\"]=bad_isbn[\"ISBN\"].str.replace('\"',\"\")\n",
      "C:\\Users\\BAAMARA\\AppData\\Local\\Temp\\ipykernel_32\\366634450.py:2: SettingWithCopyWarning: \n",
      "A value is trying to be set on a copy of a slice from a DataFrame.\n",
      "Try using .loc[row_indexer,col_indexer] = value instead\n",
      "\n",
      "See the caveats in the documentation: https://pandas.pydata.org/pandas-docs/stable/user_guide/indexing.html#returning-a-view-versus-a-copy\n",
      "  bad_isbn[\"ISBN\"]=bad_isbn[\"ISBN\"].str.replace('\\\\',\"\",regex=True)\n"
     ]
    },
    {
     "data": {
      "text/plain": "         userID        ISBN  bookRating\n21687      4377  0210000010           8\n45327     11676  0432534220           6\n45328     11676  2842053052           7\n183260    39821  0432534220           6\n210091    48821  8804501367           0\n531936   128375  2842053052           0\n663235   160867  0094749809           7\n824820   199138  0432534220           8\n877347   212647  8804520159           7\n941677   227945  9170010242          10\n1134130  272392  0679751521           8\n1145174  275414  8887517452          10\n1145175  275414  8888809228           5\n1148549  276331  0432534220           9",
      "text/html": "<div>\n<style scoped>\n    .dataframe tbody tr th:only-of-type {\n        vertical-align: middle;\n    }\n\n    .dataframe tbody tr th {\n        vertical-align: top;\n    }\n\n    .dataframe thead th {\n        text-align: right;\n    }\n</style>\n<table border=\"1\" class=\"dataframe\">\n  <thead>\n    <tr style=\"text-align: right;\">\n      <th></th>\n      <th>userID</th>\n      <th>ISBN</th>\n      <th>bookRating</th>\n    </tr>\n  </thead>\n  <tbody>\n    <tr>\n      <th>21687</th>\n      <td>4377</td>\n      <td>0210000010</td>\n      <td>8</td>\n    </tr>\n    <tr>\n      <th>45327</th>\n      <td>11676</td>\n      <td>0432534220</td>\n      <td>6</td>\n    </tr>\n    <tr>\n      <th>45328</th>\n      <td>11676</td>\n      <td>2842053052</td>\n      <td>7</td>\n    </tr>\n    <tr>\n      <th>183260</th>\n      <td>39821</td>\n      <td>0432534220</td>\n      <td>6</td>\n    </tr>\n    <tr>\n      <th>210091</th>\n      <td>48821</td>\n      <td>8804501367</td>\n      <td>0</td>\n    </tr>\n    <tr>\n      <th>531936</th>\n      <td>128375</td>\n      <td>2842053052</td>\n      <td>0</td>\n    </tr>\n    <tr>\n      <th>663235</th>\n      <td>160867</td>\n      <td>0094749809</td>\n      <td>7</td>\n    </tr>\n    <tr>\n      <th>824820</th>\n      <td>199138</td>\n      <td>0432534220</td>\n      <td>8</td>\n    </tr>\n    <tr>\n      <th>877347</th>\n      <td>212647</td>\n      <td>8804520159</td>\n      <td>7</td>\n    </tr>\n    <tr>\n      <th>941677</th>\n      <td>227945</td>\n      <td>9170010242</td>\n      <td>10</td>\n    </tr>\n    <tr>\n      <th>1134130</th>\n      <td>272392</td>\n      <td>0679751521</td>\n      <td>8</td>\n    </tr>\n    <tr>\n      <th>1145174</th>\n      <td>275414</td>\n      <td>8887517452</td>\n      <td>10</td>\n    </tr>\n    <tr>\n      <th>1145175</th>\n      <td>275414</td>\n      <td>8888809228</td>\n      <td>5</td>\n    </tr>\n    <tr>\n      <th>1148549</th>\n      <td>276331</td>\n      <td>0432534220</td>\n      <td>9</td>\n    </tr>\n  </tbody>\n</table>\n</div>"
     },
     "execution_count": 136,
     "metadata": {},
     "output_type": "execute_result"
    }
   ],
   "source": [
    "bad_isbn[\"ISBN\"]=bad_isbn[\"ISBN\"].str.replace('\"',\"\")\n",
    "bad_isbn[\"ISBN\"]=bad_isbn[\"ISBN\"].str.replace('\\\\',\"\",regex=True)\n",
    "bad_isbn"
   ]
  },
  {
   "cell_type": "code",
   "execution_count": 137,
   "id": "c9cb26b1",
   "metadata": {},
   "outputs": [],
   "source": [
    "ratings.update(bad_isbn)"
   ]
  },
  {
   "cell_type": "code",
   "execution_count": 138,
   "id": "81289c90",
   "metadata": {},
   "outputs": [
    {
     "data": {
      "text/plain": "Empty DataFrame\nColumns: [userID, ISBN, bookRating]\nIndex: []",
      "text/html": "<div>\n<style scoped>\n    .dataframe tbody tr th:only-of-type {\n        vertical-align: middle;\n    }\n\n    .dataframe tbody tr th {\n        vertical-align: top;\n    }\n\n    .dataframe thead th {\n        text-align: right;\n    }\n</style>\n<table border=\"1\" class=\"dataframe\">\n  <thead>\n    <tr style=\"text-align: right;\">\n      <th></th>\n      <th>userID</th>\n      <th>ISBN</th>\n      <th>bookRating</th>\n    </tr>\n  </thead>\n  <tbody>\n  </tbody>\n</table>\n</div>"
     },
     "execution_count": 138,
     "metadata": {},
     "output_type": "execute_result"
    }
   ],
   "source": [
    "condition=(ratings[\"ISBN\"].str.contains('\"') ) | (ratings[\"ISBN\"].str.contains(r'\\\\') ) \n",
    "ratings[condition]"
   ]
  },
  {
   "cell_type": "markdown",
   "id": "5dd41692",
   "metadata": {},
   "source": [
    "We convert the `userID` and `bookRating` columns to integer type."
   ]
  },
  {
   "cell_type": "code",
   "execution_count": 139,
   "id": "105f6c23",
   "metadata": {
    "pycharm": {
     "name": "#%%\n"
    }
   },
   "outputs": [],
   "source": [
    "ratings['userID'] = ratings['userID'].astype(int)\n",
    "ratings['bookRating'] = ratings['bookRating'].astype(int)"
   ]
  },
  {
   "cell_type": "code",
   "execution_count": 140,
   "id": "b41a4a21",
   "metadata": {},
   "outputs": [],
   "source": [
    "ratings.to_csv('dataset/cleaned_ratings.csv',sep=';',index=False)"
   ]
  },
  {
   "cell_type": "markdown",
   "id": "b39622b2",
   "metadata": {},
   "source": [
    "Now that we have cleaned all the data, we can proceed to merge the three dataframes into a single dataframe."
   ]
  },
  {
   "cell_type": "markdown",
   "id": "12d01343",
   "metadata": {},
   "source": [
    "### Merged DataFrame EDA"
   ]
  },
  {
   "cell_type": "markdown",
   "id": "880c41f6",
   "metadata": {},
   "source": [
    "We merge the three dataframes by using `userID` and `ISBN` as key and taking only the ratings different of 0. This also remove books that haven't been read by users."
   ]
  },
  {
   "cell_type": "code",
   "execution_count": 141,
   "id": "b785fe58",
   "metadata": {},
   "outputs": [
    {
     "data": {
      "text/plain": "(383853, 12)"
     },
     "execution_count": 141,
     "metadata": {},
     "output_type": "execute_result"
    }
   ],
   "source": [
    "df_recommendation = pd.merge(users, ratings[ratings.bookRating != 0], on='userID')\n",
    "df_recommendation = pd.merge(df_recommendation, books, on='ISBN')\n",
    "df_recommendation.shape"
   ]
  },
  {
   "cell_type": "code",
   "execution_count": 142,
   "id": "f53836b3",
   "metadata": {},
   "outputs": [],
   "source": [
    "df_recommendation.sort_values(by=[\"userID\",\"bookTitle\",\"bookRating\"],inplace=True)"
   ]
  },
  {
   "cell_type": "markdown",
   "id": "4135a8f6",
   "metadata": {},
   "source": [
    " We also remove duplicate entries for the subset \"userID\" and \"bookTitle\". We keep the lowest rating."
   ]
  },
  {
   "cell_type": "code",
   "execution_count": 143,
   "id": "a36e5957",
   "metadata": {},
   "outputs": [],
   "source": [
    "df_recommendation.drop_duplicates(subset=[\"userID\",\"bookTitle\"], inplace=True)"
   ]
  },
  {
   "cell_type": "markdown",
   "id": "40aefe9f",
   "metadata": {},
   "source": [
    "Now that the dataframe df_recommendation is ready, we can start doing a model for Exploratory Data Analysis and build a books recommend sytem.\n",
    "We export the dataframe to csv to allow working on it from an other notebook ."
   ]
  },
  {
   "cell_type": "code",
   "execution_count": 144,
   "id": "c648cf68",
   "metadata": {},
   "outputs": [],
   "source": [
    "df_recommendation.to_csv('dataset/final_dataset.csv', sep=';', index=False)"
   ]
  },
  {
   "cell_type": "code",
   "execution_count": 144,
   "outputs": [],
   "source": [],
   "metadata": {
    "collapsed": false,
    "pycharm": {
     "name": "#%%\n"
    }
   }
  }
 ],
 "metadata": {
  "kernelspec": {
   "display_name": "Python 3 (ipykernel)",
   "language": "python",
   "name": "python3"
  },
  "language_info": {
   "codemirror_mode": {
    "name": "ipython",
    "version": 3
   },
   "file_extension": ".py",
   "mimetype": "text/x-python",
   "name": "python",
   "nbconvert_exporter": "python",
   "pygments_lexer": "ipython3",
   "version": "3.10.8"
  }
 },
 "nbformat": 4,
 "nbformat_minor": 5
}